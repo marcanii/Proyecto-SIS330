{
 "cells": [
  {
   "cell_type": "markdown",
   "metadata": {},
   "source": [
    "# Yolov8\n",
    "\n",
    "En este notebook se entrena un modelo Yolov8 para la segmentación de objetos en imágenes soda, cuadernos y ruedas."
   ]
  },
  {
   "cell_type": "code",
   "execution_count": 1,
   "metadata": {},
   "outputs": [],
   "source": [
    "from ultralytics import YOLO\n",
    "import torch\n",
    "\n",
    "# Carga el modelo\n",
    "model = YOLO('yolov8s-seg')\n",
    "# Configura el tamaño de las imágenes\n",
    "imgsz = (480, 864)\n",
    "# Configura el tamaño del lote\n",
    "batch = 16\n",
    "# Configura el optimizador\n",
    "optim = torch.optim.AdamW(model.parameters(), lr=0.0001)"
   ]
  },
  {
   "cell_type": "markdown",
   "metadata": {},
   "source": [
    "### Entrenando\n",
    "\n",
    "Para entrenar el modelo se debe ejecutar el siguiente comando:"
   ]
  },
  {
   "cell_type": "code",
   "execution_count": 2,
   "metadata": {},
   "outputs": [
    {
     "name": "stdout",
     "output_type": "stream",
     "text": [
      "New https://pypi.org/project/ultralytics/8.2.10 available  Update with 'pip install -U ultralytics'\n",
      "Ultralytics YOLOv8.2.8  Python-3.11.9 torch-2.3.0 CUDA:0 (NVIDIA GeForce RTX 3060, 12288MiB)\n",
      "\u001b[34m\u001b[1mengine\\trainer: \u001b[0mtask=segment, mode=train, model=yolov8s-seg.pt, data=customdata.yaml, epochs=60, time=None, patience=100, batch=16, imgsz=(480, 864), save=True, save_period=-1, cache=False, device=cuda, workers=8, project=None, name=train5, exist_ok=False, pretrained=True, optimizer=auto, verbose=True, seed=0, deterministic=True, single_cls=False, rect=False, cos_lr=False, close_mosaic=10, resume=False, amp=True, fraction=1.0, profile=False, freeze=None, multi_scale=False, overlap_mask=True, mask_ratio=4, dropout=0.0, val=True, split=val, save_json=False, save_hybrid=False, conf=None, iou=0.7, max_det=300, half=False, dnn=False, plots=True, source=None, vid_stride=1, stream_buffer=False, visualize=False, augment=False, agnostic_nms=False, classes=None, retina_masks=False, embed=None, show=False, save_frames=False, save_txt=False, save_conf=False, save_crop=False, show_labels=True, show_conf=True, show_boxes=True, line_width=None, format=torchscript, keras=False, optimize=False, int8=False, dynamic=False, simplify=False, opset=None, workspace=4, nms=False, lr0=0.01, lrf=0.01, momentum=0.937, weight_decay=0.0005, warmup_epochs=3.0, warmup_momentum=0.8, warmup_bias_lr=0.1, box=7.5, cls=0.5, dfl=1.5, pose=12.0, kobj=1.0, label_smoothing=0.0, nbs=64, hsv_h=0.015, hsv_s=0.7, hsv_v=0.4, degrees=0.0, translate=0.1, scale=0.5, shear=0.0, perspective=0.0, flipud=0.0, fliplr=0.5, bgr=0.0, mosaic=1.0, mixup=0.0, copy_paste=0.0, auto_augment=randaugment, erasing=0.4, crop_fraction=1.0, cfg=None, tracker=botsort.yaml, save_dir=runs\\segment\\train5\n",
      "Overriding model.yaml nc=80 with nc=2\n",
      "\n",
      "                   from  n    params  module                                       arguments                     \n",
      "  0                  -1  1       928  ultralytics.nn.modules.conv.Conv             [3, 32, 3, 2]                 \n",
      "  1                  -1  1     18560  ultralytics.nn.modules.conv.Conv             [32, 64, 3, 2]                \n",
      "  2                  -1  1     29056  ultralytics.nn.modules.block.C2f             [64, 64, 1, True]             \n",
      "  3                  -1  1     73984  ultralytics.nn.modules.conv.Conv             [64, 128, 3, 2]               \n",
      "  4                  -1  2    197632  ultralytics.nn.modules.block.C2f             [128, 128, 2, True]           \n",
      "  5                  -1  1    295424  ultralytics.nn.modules.conv.Conv             [128, 256, 3, 2]              \n",
      "  6                  -1  2    788480  ultralytics.nn.modules.block.C2f             [256, 256, 2, True]           \n",
      "  7                  -1  1   1180672  ultralytics.nn.modules.conv.Conv             [256, 512, 3, 2]              \n",
      "  8                  -1  1   1838080  ultralytics.nn.modules.block.C2f             [512, 512, 1, True]           \n",
      "  9                  -1  1    656896  ultralytics.nn.modules.block.SPPF            [512, 512, 5]                 \n",
      " 10                  -1  1         0  torch.nn.modules.upsampling.Upsample         [None, 2, 'nearest']          \n",
      " 11             [-1, 6]  1         0  ultralytics.nn.modules.conv.Concat           [1]                           \n",
      " 12                  -1  1    591360  ultralytics.nn.modules.block.C2f             [768, 256, 1]                 \n",
      " 13                  -1  1         0  torch.nn.modules.upsampling.Upsample         [None, 2, 'nearest']          \n",
      " 14             [-1, 4]  1         0  ultralytics.nn.modules.conv.Concat           [1]                           \n",
      " 15                  -1  1    148224  ultralytics.nn.modules.block.C2f             [384, 128, 1]                 \n",
      " 16                  -1  1    147712  ultralytics.nn.modules.conv.Conv             [128, 128, 3, 2]              \n",
      " 17            [-1, 12]  1         0  ultralytics.nn.modules.conv.Concat           [1]                           \n",
      " 18                  -1  1    493056  ultralytics.nn.modules.block.C2f             [384, 256, 1]                 \n",
      " 19                  -1  1    590336  ultralytics.nn.modules.conv.Conv             [256, 256, 3, 2]              \n",
      " 20             [-1, 9]  1         0  ultralytics.nn.modules.conv.Concat           [1]                           \n",
      " 21                  -1  1   1969152  ultralytics.nn.modules.block.C2f             [768, 512, 1]                 \n",
      " 22        [15, 18, 21]  1   2771318  ultralytics.nn.modules.head.Segment          [2, 32, 128, [128, 256, 512]] \n",
      "YOLOv8s-seg summary: 261 layers, 11790870 parameters, 11790854 gradients\n",
      "\n",
      "Transferred 411/417 items from pretrained weights\n",
      "Freezing layer 'model.22.dfl.conv.weight'\n",
      "\u001b[34m\u001b[1mAMP: \u001b[0mrunning Automatic Mixed Precision (AMP) checks with YOLOv8n...\n"
     ]
    },
    {
     "name": "stderr",
     "output_type": "stream",
     "text": [
      "c:\\Users\\israe\\anaconda3\\envs\\cuda_user\\Lib\\site-packages\\torch\\nn\\modules\\conv.py:456: UserWarning: Plan failed with a cudnnException: CUDNN_BACKEND_EXECUTION_PLAN_DESCRIPTOR: cudnnFinalize Descriptor Failed cudnn_status: CUDNN_STATUS_NOT_SUPPORTED (Triggered internally at C:\\cb\\pytorch_1000000000000\\work\\aten\\src\\ATen\\native\\cudnn\\Conv_v8.cpp:919.)\n",
      "  return F.conv2d(input, weight, bias, self.stride,\n"
     ]
    },
    {
     "name": "stdout",
     "output_type": "stream",
     "text": [
      "\u001b[34m\u001b[1mAMP: \u001b[0mchecks passed \n",
      "WARNING  updating to 'imgsz=864'. 'train' and 'val' imgsz must be an integer, while 'predict' and 'export' imgsz may be a [h, w] list or an integer, i.e. 'yolo export imgsz=640,480' or 'yolo export imgsz=640'\n"
     ]
    },
    {
     "name": "stderr",
     "output_type": "stream",
     "text": [
      "\u001b[34m\u001b[1mtrain: \u001b[0mScanning F:\\Proyecto-SIS330\\dataset\\Proyecto-SIS330.v4i.yolov8\\train\\labels.cache... 3996 images, 0 backgrounds, 0 corrupt: 100%|██████████| 3996/3996 [00:00<?, ?it/s]\n",
      "\u001b[34m\u001b[1mval: \u001b[0mScanning F:\\Proyecto-SIS330\\dataset\\Proyecto-SIS330.v4i.yolov8\\valid\\labels.cache... 250 images, 0 backgrounds, 0 corrupt: 100%|██████████| 250/250 [00:00<?, ?it/s]\n"
     ]
    },
    {
     "name": "stdout",
     "output_type": "stream",
     "text": [
      "Plotting labels to runs\\segment\\train5\\labels.jpg... \n",
      "\u001b[34m\u001b[1moptimizer:\u001b[0m 'optimizer=auto' found, ignoring 'lr0=0.01' and 'momentum=0.937' and determining best 'optimizer', 'lr0' and 'momentum' automatically... \n",
      "\u001b[34m\u001b[1moptimizer:\u001b[0m AdamW(lr=0.001667, momentum=0.9) with parameter groups 66 weight(decay=0.0), 77 weight(decay=0.0005), 76 bias(decay=0.0)\n",
      "Image sizes 864 train, 864 val\n",
      "Using 8 dataloader workers\n",
      "Logging results to \u001b[1mruns\\segment\\train5\u001b[0m\n",
      "Starting training for 60 epochs...\n",
      "\n",
      "      Epoch    GPU_mem   box_loss   seg_loss   cls_loss   dfl_loss  Instances       Size\n"
     ]
    },
    {
     "name": "stderr",
     "output_type": "stream",
     "text": [
      "  0%|          | 0/250 [00:00<?, ?it/s]c:\\Users\\israe\\anaconda3\\envs\\cuda_user\\Lib\\site-packages\\torch\\autograd\\graph.py:744: UserWarning: Plan failed with a cudnnException: CUDNN_BACKEND_EXECUTION_PLAN_DESCRIPTOR: cudnnFinalize Descriptor Failed cudnn_status: CUDNN_STATUS_NOT_SUPPORTED (Triggered internally at C:\\cb\\pytorch_1000000000000\\work\\aten\\src\\ATen\\native\\cudnn\\Conv_v8.cpp:919.)\n",
      "  return Variable._execution_engine.run_backward(  # Calls into the C++ engine to run the backward pass\n",
      "       1/60      8.89G     0.6849      1.331     0.9202      1.191         84        864: 100%|██████████| 250/250 [02:05<00:00,  1.99it/s]\n",
      "                 Class     Images  Instances      Box(P          R      mAP50  mAP50-95)     Mask(P          R      mAP50  mAP50-95): 100%|██████████| 8/8 [00:02<00:00,  2.97it/s]"
     ]
    },
    {
     "name": "stdout",
     "output_type": "stream",
     "text": [
      "                   all        250        559      0.847      0.859      0.847      0.618      0.849      0.861      0.851      0.655\n"
     ]
    },
    {
     "name": "stderr",
     "output_type": "stream",
     "text": [
      "\n"
     ]
    },
    {
     "name": "stdout",
     "output_type": "stream",
     "text": [
      "\n",
      "      Epoch    GPU_mem   box_loss   seg_loss   cls_loss   dfl_loss  Instances       Size\n"
     ]
    },
    {
     "name": "stderr",
     "output_type": "stream",
     "text": [
      "       2/60      8.47G     0.6131          1     0.6555      1.134         61        864: 100%|██████████| 250/250 [02:15<00:00,  1.84it/s]\n",
      "                 Class     Images  Instances      Box(P          R      mAP50  mAP50-95)     Mask(P          R      mAP50  mAP50-95): 100%|██████████| 8/8 [00:02<00:00,  2.67it/s]"
     ]
    },
    {
     "name": "stdout",
     "output_type": "stream",
     "text": [
      "                   all        250        559      0.871      0.835       0.86      0.664      0.867      0.831      0.858      0.687\n"
     ]
    },
    {
     "name": "stderr",
     "output_type": "stream",
     "text": [
      "\n"
     ]
    },
    {
     "name": "stdout",
     "output_type": "stream",
     "text": [
      "\n",
      "      Epoch    GPU_mem   box_loss   seg_loss   cls_loss   dfl_loss  Instances       Size\n"
     ]
    },
    {
     "name": "stderr",
     "output_type": "stream",
     "text": [
      "       3/60      8.51G     0.5913     0.9774     0.6154      1.112         82        864: 100%|██████████| 250/250 [02:20<00:00,  1.77it/s]\n",
      "                 Class     Images  Instances      Box(P          R      mAP50  mAP50-95)     Mask(P          R      mAP50  mAP50-95): 100%|██████████| 8/8 [00:03<00:00,  2.64it/s]"
     ]
    },
    {
     "name": "stdout",
     "output_type": "stream",
     "text": [
      "                   all        250        559      0.968      0.878      0.892      0.693       0.97       0.88      0.894      0.757\n"
     ]
    },
    {
     "name": "stderr",
     "output_type": "stream",
     "text": [
      "\n"
     ]
    },
    {
     "name": "stdout",
     "output_type": "stream",
     "text": [
      "\n",
      "      Epoch    GPU_mem   box_loss   seg_loss   cls_loss   dfl_loss  Instances       Size\n"
     ]
    },
    {
     "name": "stderr",
     "output_type": "stream",
     "text": [
      "       4/60       8.5G     0.5659     0.9563     0.5931      1.096         77        864: 100%|██████████| 250/250 [02:08<00:00,  1.95it/s]\n",
      "                 Class     Images  Instances      Box(P          R      mAP50  mAP50-95)     Mask(P          R      mAP50  mAP50-95): 100%|██████████| 8/8 [00:02<00:00,  3.27it/s]"
     ]
    },
    {
     "name": "stdout",
     "output_type": "stream",
     "text": [
      "                   all        250        559      0.935      0.873      0.889      0.733      0.933      0.871       0.88      0.761\n"
     ]
    },
    {
     "name": "stderr",
     "output_type": "stream",
     "text": [
      "\n"
     ]
    },
    {
     "name": "stdout",
     "output_type": "stream",
     "text": [
      "\n",
      "      Epoch    GPU_mem   box_loss   seg_loss   cls_loss   dfl_loss  Instances       Size\n"
     ]
    },
    {
     "name": "stderr",
     "output_type": "stream",
     "text": [
      "       5/60      8.46G     0.5315     0.8702     0.5425      1.069         67        864: 100%|██████████| 250/250 [02:21<00:00,  1.77it/s]\n",
      "                 Class     Images  Instances      Box(P          R      mAP50  mAP50-95)     Mask(P          R      mAP50  mAP50-95): 100%|██████████| 8/8 [00:03<00:00,  2.58it/s]"
     ]
    },
    {
     "name": "stdout",
     "output_type": "stream",
     "text": [
      "                   all        250        559      0.927       0.85      0.888       0.71      0.897       0.88       0.89       0.75\n"
     ]
    },
    {
     "name": "stderr",
     "output_type": "stream",
     "text": [
      "\n"
     ]
    },
    {
     "name": "stdout",
     "output_type": "stream",
     "text": [
      "\n",
      "      Epoch    GPU_mem   box_loss   seg_loss   cls_loss   dfl_loss  Instances       Size\n"
     ]
    },
    {
     "name": "stderr",
     "output_type": "stream",
     "text": [
      "       6/60      8.45G     0.5039     0.8133     0.5065       1.05         85        864: 100%|██████████| 250/250 [02:24<00:00,  1.73it/s]\n",
      "                 Class     Images  Instances      Box(P          R      mAP50  mAP50-95)     Mask(P          R      mAP50  mAP50-95): 100%|██████████| 8/8 [00:03<00:00,  2.64it/s]"
     ]
    },
    {
     "name": "stdout",
     "output_type": "stream",
     "text": [
      "                   all        250        559       0.94      0.864      0.895      0.747      0.939      0.862      0.893      0.781\n"
     ]
    },
    {
     "name": "stderr",
     "output_type": "stream",
     "text": [
      "\n"
     ]
    },
    {
     "name": "stdout",
     "output_type": "stream",
     "text": [
      "\n",
      "      Epoch    GPU_mem   box_loss   seg_loss   cls_loss   dfl_loss  Instances       Size\n"
     ]
    },
    {
     "name": "stderr",
     "output_type": "stream",
     "text": [
      "       7/60      8.45G     0.4729      0.768     0.4771      1.036         91        864: 100%|██████████| 250/250 [02:24<00:00,  1.73it/s]\n",
      "                 Class     Images  Instances      Box(P          R      mAP50  mAP50-95)     Mask(P          R      mAP50  mAP50-95): 100%|██████████| 8/8 [00:03<00:00,  2.62it/s]"
     ]
    },
    {
     "name": "stdout",
     "output_type": "stream",
     "text": [
      "                   all        250        559      0.952      0.877      0.893      0.775      0.952      0.874      0.893      0.811\n"
     ]
    },
    {
     "name": "stderr",
     "output_type": "stream",
     "text": [
      "\n"
     ]
    },
    {
     "name": "stdout",
     "output_type": "stream",
     "text": [
      "\n",
      "      Epoch    GPU_mem   box_loss   seg_loss   cls_loss   dfl_loss  Instances       Size\n"
     ]
    },
    {
     "name": "stderr",
     "output_type": "stream",
     "text": [
      "       8/60      8.57G     0.4667     0.7646     0.4729      1.028         90        864: 100%|██████████| 250/250 [02:25<00:00,  1.71it/s]\n",
      "                 Class     Images  Instances      Box(P          R      mAP50  mAP50-95)     Mask(P          R      mAP50  mAP50-95): 100%|██████████| 8/8 [00:03<00:00,  2.62it/s]"
     ]
    },
    {
     "name": "stdout",
     "output_type": "stream",
     "text": [
      "                   all        250        559      0.952      0.872        0.9      0.773       0.95       0.87      0.896      0.798\n"
     ]
    },
    {
     "name": "stderr",
     "output_type": "stream",
     "text": [
      "\n"
     ]
    },
    {
     "name": "stdout",
     "output_type": "stream",
     "text": [
      "\n",
      "      Epoch    GPU_mem   box_loss   seg_loss   cls_loss   dfl_loss  Instances       Size\n"
     ]
    },
    {
     "name": "stderr",
     "output_type": "stream",
     "text": [
      "       9/60      8.47G     0.4536     0.7038     0.4472       1.02         78        864: 100%|██████████| 250/250 [02:22<00:00,  1.76it/s]\n",
      "                 Class     Images  Instances      Box(P          R      mAP50  mAP50-95)     Mask(P          R      mAP50  mAP50-95): 100%|██████████| 8/8 [00:02<00:00,  2.73it/s]"
     ]
    },
    {
     "name": "stdout",
     "output_type": "stream",
     "text": [
      "                   all        250        559      0.942      0.877      0.898      0.763      0.942      0.877      0.897      0.814\n"
     ]
    },
    {
     "name": "stderr",
     "output_type": "stream",
     "text": [
      "\n"
     ]
    },
    {
     "name": "stdout",
     "output_type": "stream",
     "text": [
      "\n",
      "      Epoch    GPU_mem   box_loss   seg_loss   cls_loss   dfl_loss  Instances       Size\n"
     ]
    },
    {
     "name": "stderr",
     "output_type": "stream",
     "text": [
      "      10/60      8.59G      0.437     0.6954     0.4305       1.01         83        864: 100%|██████████| 250/250 [02:19<00:00,  1.79it/s]\n",
      "                 Class     Images  Instances      Box(P          R      mAP50  mAP50-95)     Mask(P          R      mAP50  mAP50-95): 100%|██████████| 8/8 [00:03<00:00,  2.57it/s]"
     ]
    },
    {
     "name": "stdout",
     "output_type": "stream",
     "text": [
      "                   all        250        559      0.947      0.881      0.888       0.75      0.947       0.88      0.888      0.801\n"
     ]
    },
    {
     "name": "stderr",
     "output_type": "stream",
     "text": [
      "\n"
     ]
    },
    {
     "name": "stdout",
     "output_type": "stream",
     "text": [
      "\n",
      "      Epoch    GPU_mem   box_loss   seg_loss   cls_loss   dfl_loss  Instances       Size\n"
     ]
    },
    {
     "name": "stderr",
     "output_type": "stream",
     "text": [
      "      11/60      8.46G     0.4267      0.684     0.4193     0.9965         91        864: 100%|██████████| 250/250 [02:24<00:00,  1.73it/s]\n",
      "                 Class     Images  Instances      Box(P          R      mAP50  mAP50-95)     Mask(P          R      mAP50  mAP50-95): 100%|██████████| 8/8 [00:03<00:00,  2.59it/s]"
     ]
    },
    {
     "name": "stdout",
     "output_type": "stream",
     "text": [
      "                   all        250        559       0.98      0.882      0.905      0.797       0.98      0.882      0.904      0.841\n"
     ]
    },
    {
     "name": "stderr",
     "output_type": "stream",
     "text": [
      "\n"
     ]
    },
    {
     "name": "stdout",
     "output_type": "stream",
     "text": [
      "\n",
      "      Epoch    GPU_mem   box_loss   seg_loss   cls_loss   dfl_loss  Instances       Size\n"
     ]
    },
    {
     "name": "stderr",
     "output_type": "stream",
     "text": [
      "      12/60      9.07G     0.4158     0.6283     0.4055     0.9959         88        864: 100%|██████████| 250/250 [02:26<00:00,  1.71it/s]\n",
      "                 Class     Images  Instances      Box(P          R      mAP50  mAP50-95)     Mask(P          R      mAP50  mAP50-95): 100%|██████████| 8/8 [00:03<00:00,  2.57it/s]"
     ]
    },
    {
     "name": "stdout",
     "output_type": "stream",
     "text": [
      "                   all        250        559      0.972      0.882      0.916       0.81      0.972      0.887      0.915       0.85\n"
     ]
    },
    {
     "name": "stderr",
     "output_type": "stream",
     "text": [
      "\n"
     ]
    },
    {
     "name": "stdout",
     "output_type": "stream",
     "text": [
      "\n",
      "      Epoch    GPU_mem   box_loss   seg_loss   cls_loss   dfl_loss  Instances       Size\n"
     ]
    },
    {
     "name": "stderr",
     "output_type": "stream",
     "text": [
      "      13/60      8.49G     0.4102     0.6228     0.3976     0.9879         87        864: 100%|██████████| 250/250 [02:27<00:00,  1.69it/s]\n",
      "                 Class     Images  Instances      Box(P          R      mAP50  mAP50-95)     Mask(P          R      mAP50  mAP50-95): 100%|██████████| 8/8 [00:03<00:00,  2.63it/s]"
     ]
    },
    {
     "name": "stdout",
     "output_type": "stream",
     "text": [
      "                   all        250        559      0.971      0.888       0.92      0.808      0.971      0.888      0.918      0.849\n"
     ]
    },
    {
     "name": "stderr",
     "output_type": "stream",
     "text": [
      "\n"
     ]
    },
    {
     "name": "stdout",
     "output_type": "stream",
     "text": [
      "\n",
      "      Epoch    GPU_mem   box_loss   seg_loss   cls_loss   dfl_loss  Instances       Size\n"
     ]
    },
    {
     "name": "stderr",
     "output_type": "stream",
     "text": [
      "      14/60      8.63G     0.4005     0.6301     0.3904     0.9869         80        864: 100%|██████████| 250/250 [02:22<00:00,  1.76it/s]\n",
      "                 Class     Images  Instances      Box(P          R      mAP50  mAP50-95)     Mask(P          R      mAP50  mAP50-95): 100%|██████████| 8/8 [00:02<00:00,  2.68it/s]"
     ]
    },
    {
     "name": "stdout",
     "output_type": "stream",
     "text": [
      "                   all        250        559      0.962        0.9      0.916      0.812      0.961      0.896      0.915      0.847\n"
     ]
    },
    {
     "name": "stderr",
     "output_type": "stream",
     "text": [
      "\n"
     ]
    },
    {
     "name": "stdout",
     "output_type": "stream",
     "text": [
      "\n",
      "      Epoch    GPU_mem   box_loss   seg_loss   cls_loss   dfl_loss  Instances       Size\n"
     ]
    },
    {
     "name": "stderr",
     "output_type": "stream",
     "text": [
      "      15/60      8.41G     0.4056     0.6286     0.3952     0.9884         82        864: 100%|██████████| 250/250 [02:10<00:00,  1.91it/s]\n",
      "                 Class     Images  Instances      Box(P          R      mAP50  mAP50-95)     Mask(P          R      mAP50  mAP50-95): 100%|██████████| 8/8 [00:02<00:00,  3.26it/s]"
     ]
    },
    {
     "name": "stdout",
     "output_type": "stream",
     "text": [
      "                   all        250        559      0.936      0.874      0.906      0.795      0.936      0.873      0.906      0.835\n"
     ]
    },
    {
     "name": "stderr",
     "output_type": "stream",
     "text": [
      "\n"
     ]
    },
    {
     "name": "stdout",
     "output_type": "stream",
     "text": [
      "\n",
      "      Epoch    GPU_mem   box_loss   seg_loss   cls_loss   dfl_loss  Instances       Size\n"
     ]
    },
    {
     "name": "stderr",
     "output_type": "stream",
     "text": [
      "      16/60      8.47G     0.3879     0.5896     0.3791     0.9768         75        864: 100%|██████████| 250/250 [02:17<00:00,  1.82it/s]\n",
      "                 Class     Images  Instances      Box(P          R      mAP50  mAP50-95)     Mask(P          R      mAP50  mAP50-95): 100%|██████████| 8/8 [00:02<00:00,  2.69it/s]"
     ]
    },
    {
     "name": "stdout",
     "output_type": "stream",
     "text": [
      "                   all        250        559       0.95      0.888      0.908      0.802      0.962      0.883      0.907      0.838\n"
     ]
    },
    {
     "name": "stderr",
     "output_type": "stream",
     "text": [
      "\n"
     ]
    },
    {
     "name": "stdout",
     "output_type": "stream",
     "text": [
      "\n",
      "      Epoch    GPU_mem   box_loss   seg_loss   cls_loss   dfl_loss  Instances       Size\n"
     ]
    },
    {
     "name": "stderr",
     "output_type": "stream",
     "text": [
      "      17/60       8.5G      0.391     0.6049     0.3727     0.9764         80        864: 100%|██████████| 250/250 [02:22<00:00,  1.75it/s]\n",
      "                 Class     Images  Instances      Box(P          R      mAP50  mAP50-95)     Mask(P          R      mAP50  mAP50-95): 100%|██████████| 8/8 [00:03<00:00,  2.65it/s]"
     ]
    },
    {
     "name": "stdout",
     "output_type": "stream",
     "text": [
      "                   all        250        559      0.956       0.89      0.915      0.824      0.958      0.891      0.915      0.846\n"
     ]
    },
    {
     "name": "stderr",
     "output_type": "stream",
     "text": [
      "\n"
     ]
    },
    {
     "name": "stdout",
     "output_type": "stream",
     "text": [
      "\n",
      "      Epoch    GPU_mem   box_loss   seg_loss   cls_loss   dfl_loss  Instances       Size\n"
     ]
    },
    {
     "name": "stderr",
     "output_type": "stream",
     "text": [
      "      18/60      8.49G      0.375     0.5782     0.3621     0.9693         91        864: 100%|██████████| 250/250 [02:23<00:00,  1.74it/s]\n",
      "                 Class     Images  Instances      Box(P          R      mAP50  mAP50-95)     Mask(P          R      mAP50  mAP50-95): 100%|██████████| 8/8 [00:03<00:00,  2.64it/s]"
     ]
    },
    {
     "name": "stdout",
     "output_type": "stream",
     "text": [
      "                   all        250        559       0.97      0.896      0.913      0.828       0.97      0.896       0.91      0.863\n"
     ]
    },
    {
     "name": "stderr",
     "output_type": "stream",
     "text": [
      "\n"
     ]
    },
    {
     "name": "stdout",
     "output_type": "stream",
     "text": [
      "\n",
      "      Epoch    GPU_mem   box_loss   seg_loss   cls_loss   dfl_loss  Instances       Size\n"
     ]
    },
    {
     "name": "stderr",
     "output_type": "stream",
     "text": [
      "      19/60      8.52G     0.3635     0.5543     0.3478     0.9615         88        864: 100%|██████████| 250/250 [02:24<00:00,  1.73it/s]\n",
      "                 Class     Images  Instances      Box(P          R      mAP50  mAP50-95)     Mask(P          R      mAP50  mAP50-95): 100%|██████████| 8/8 [00:02<00:00,  2.68it/s]"
     ]
    },
    {
     "name": "stdout",
     "output_type": "stream",
     "text": [
      "                   all        250        559      0.963      0.895      0.915      0.826      0.965      0.897      0.915       0.85\n"
     ]
    },
    {
     "name": "stderr",
     "output_type": "stream",
     "text": [
      "\n"
     ]
    },
    {
     "name": "stdout",
     "output_type": "stream",
     "text": [
      "\n",
      "      Epoch    GPU_mem   box_loss   seg_loss   cls_loss   dfl_loss  Instances       Size\n"
     ]
    },
    {
     "name": "stderr",
     "output_type": "stream",
     "text": [
      "      20/60      8.52G     0.3684     0.5557     0.3492     0.9628         88        864: 100%|██████████| 250/250 [02:24<00:00,  1.73it/s]\n",
      "                 Class     Images  Instances      Box(P          R      mAP50  mAP50-95)     Mask(P          R      mAP50  mAP50-95): 100%|██████████| 8/8 [00:03<00:00,  2.66it/s]"
     ]
    },
    {
     "name": "stdout",
     "output_type": "stream",
     "text": [
      "                   all        250        559      0.969      0.888      0.913      0.825      0.967      0.891      0.913      0.856\n"
     ]
    },
    {
     "name": "stderr",
     "output_type": "stream",
     "text": [
      "\n"
     ]
    },
    {
     "name": "stdout",
     "output_type": "stream",
     "text": [
      "\n",
      "      Epoch    GPU_mem   box_loss   seg_loss   cls_loss   dfl_loss  Instances       Size\n"
     ]
    },
    {
     "name": "stderr",
     "output_type": "stream",
     "text": [
      "      21/60      8.46G     0.3584     0.5381     0.3383     0.9553         88        864: 100%|██████████| 250/250 [02:24<00:00,  1.73it/s]\n",
      "                 Class     Images  Instances      Box(P          R      mAP50  mAP50-95)     Mask(P          R      mAP50  mAP50-95): 100%|██████████| 8/8 [00:03<00:00,  2.65it/s]"
     ]
    },
    {
     "name": "stdout",
     "output_type": "stream",
     "text": [
      "                   all        250        559       0.98      0.894      0.925      0.847      0.979      0.891      0.925      0.873\n"
     ]
    },
    {
     "name": "stderr",
     "output_type": "stream",
     "text": [
      "\n"
     ]
    },
    {
     "name": "stdout",
     "output_type": "stream",
     "text": [
      "\n",
      "      Epoch    GPU_mem   box_loss   seg_loss   cls_loss   dfl_loss  Instances       Size\n"
     ]
    },
    {
     "name": "stderr",
     "output_type": "stream",
     "text": [
      "      22/60      8.51G     0.3569     0.5214     0.3298     0.9577         86        864: 100%|██████████| 250/250 [02:22<00:00,  1.76it/s]\n",
      "                 Class     Images  Instances      Box(P          R      mAP50  mAP50-95)     Mask(P          R      mAP50  mAP50-95): 100%|██████████| 8/8 [00:02<00:00,  2.72it/s]"
     ]
    },
    {
     "name": "stdout",
     "output_type": "stream",
     "text": [
      "                   all        250        559      0.969      0.895      0.916      0.836      0.974      0.891      0.914       0.87\n"
     ]
    },
    {
     "name": "stderr",
     "output_type": "stream",
     "text": [
      "\n"
     ]
    },
    {
     "name": "stdout",
     "output_type": "stream",
     "text": [
      "\n",
      "      Epoch    GPU_mem   box_loss   seg_loss   cls_loss   dfl_loss  Instances       Size\n"
     ]
    },
    {
     "name": "stderr",
     "output_type": "stream",
     "text": [
      "      23/60      8.98G     0.3594     0.5261     0.3328       0.96         91        864: 100%|██████████| 250/250 [02:19<00:00,  1.79it/s]\n",
      "                 Class     Images  Instances      Box(P          R      mAP50  mAP50-95)     Mask(P          R      mAP50  mAP50-95): 100%|██████████| 8/8 [00:02<00:00,  2.72it/s]"
     ]
    },
    {
     "name": "stdout",
     "output_type": "stream",
     "text": [
      "                   all        250        559      0.971      0.895      0.924      0.838      0.977       0.89      0.924      0.865\n"
     ]
    },
    {
     "name": "stderr",
     "output_type": "stream",
     "text": [
      "\n"
     ]
    },
    {
     "name": "stdout",
     "output_type": "stream",
     "text": [
      "\n",
      "      Epoch    GPU_mem   box_loss   seg_loss   cls_loss   dfl_loss  Instances       Size\n"
     ]
    },
    {
     "name": "stderr",
     "output_type": "stream",
     "text": [
      "      24/60      8.53G     0.3524     0.5145     0.3309     0.9546         93        864: 100%|██████████| 250/250 [02:19<00:00,  1.79it/s]\n",
      "                 Class     Images  Instances      Box(P          R      mAP50  mAP50-95)     Mask(P          R      mAP50  mAP50-95): 100%|██████████| 8/8 [00:03<00:00,  2.59it/s]"
     ]
    },
    {
     "name": "stdout",
     "output_type": "stream",
     "text": [
      "                   all        250        559      0.963      0.894      0.924      0.848      0.953      0.902       0.92      0.869\n"
     ]
    },
    {
     "name": "stderr",
     "output_type": "stream",
     "text": [
      "\n"
     ]
    },
    {
     "name": "stdout",
     "output_type": "stream",
     "text": [
      "\n",
      "      Epoch    GPU_mem   box_loss   seg_loss   cls_loss   dfl_loss  Instances       Size\n"
     ]
    },
    {
     "name": "stderr",
     "output_type": "stream",
     "text": [
      "      25/60      8.97G     0.3434      0.507     0.3193     0.9482         93        864: 100%|██████████| 250/250 [02:24<00:00,  1.73it/s]\n",
      "                 Class     Images  Instances      Box(P          R      mAP50  mAP50-95)     Mask(P          R      mAP50  mAP50-95): 100%|██████████| 8/8 [00:02<00:00,  2.68it/s]"
     ]
    },
    {
     "name": "stdout",
     "output_type": "stream",
     "text": [
      "                   all        250        559      0.976        0.9      0.924      0.847      0.974      0.898      0.921      0.872\n"
     ]
    },
    {
     "name": "stderr",
     "output_type": "stream",
     "text": [
      "\n"
     ]
    },
    {
     "name": "stdout",
     "output_type": "stream",
     "text": [
      "\n",
      "      Epoch    GPU_mem   box_loss   seg_loss   cls_loss   dfl_loss  Instances       Size\n"
     ]
    },
    {
     "name": "stderr",
     "output_type": "stream",
     "text": [
      "      26/60      8.52G     0.3364     0.4995     0.3103     0.9482         90        864: 100%|██████████| 250/250 [02:24<00:00,  1.73it/s]\n",
      "                 Class     Images  Instances      Box(P          R      mAP50  mAP50-95)     Mask(P          R      mAP50  mAP50-95): 100%|██████████| 8/8 [00:03<00:00,  2.64it/s]"
     ]
    },
    {
     "name": "stdout",
     "output_type": "stream",
     "text": [
      "                   all        250        559      0.976       0.89      0.927      0.853      0.977      0.895      0.925      0.879\n"
     ]
    },
    {
     "name": "stderr",
     "output_type": "stream",
     "text": [
      "\n"
     ]
    },
    {
     "name": "stdout",
     "output_type": "stream",
     "text": [
      "\n",
      "      Epoch    GPU_mem   box_loss   seg_loss   cls_loss   dfl_loss  Instances       Size\n"
     ]
    },
    {
     "name": "stderr",
     "output_type": "stream",
     "text": [
      "      27/60      8.97G     0.3389     0.4928     0.3108      0.947         84        864: 100%|██████████| 250/250 [02:24<00:00,  1.73it/s]\n",
      "                 Class     Images  Instances      Box(P          R      mAP50  mAP50-95)     Mask(P          R      mAP50  mAP50-95): 100%|██████████| 8/8 [00:03<00:00,  2.66it/s]"
     ]
    },
    {
     "name": "stdout",
     "output_type": "stream",
     "text": [
      "                   all        250        559      0.951      0.889      0.917      0.836      0.953      0.892      0.914       0.87\n"
     ]
    },
    {
     "name": "stderr",
     "output_type": "stream",
     "text": [
      "\n"
     ]
    },
    {
     "name": "stdout",
     "output_type": "stream",
     "text": [
      "\n",
      "      Epoch    GPU_mem   box_loss   seg_loss   cls_loss   dfl_loss  Instances       Size\n"
     ]
    },
    {
     "name": "stderr",
     "output_type": "stream",
     "text": [
      "      28/60      8.46G     0.3362     0.4997     0.3098     0.9415         74        864: 100%|██████████| 250/250 [02:22<00:00,  1.76it/s]\n",
      "                 Class     Images  Instances      Box(P          R      mAP50  mAP50-95)     Mask(P          R      mAP50  mAP50-95): 100%|██████████| 8/8 [00:02<00:00,  2.68it/s]"
     ]
    },
    {
     "name": "stdout",
     "output_type": "stream",
     "text": [
      "                   all        250        559      0.971      0.879       0.92      0.834      0.969      0.877      0.915      0.859\n"
     ]
    },
    {
     "name": "stderr",
     "output_type": "stream",
     "text": [
      "\n"
     ]
    },
    {
     "name": "stdout",
     "output_type": "stream",
     "text": [
      "\n",
      "      Epoch    GPU_mem   box_loss   seg_loss   cls_loss   dfl_loss  Instances       Size\n"
     ]
    },
    {
     "name": "stderr",
     "output_type": "stream",
     "text": [
      "      29/60      8.46G     0.3288     0.4662     0.3027     0.9414         79        864: 100%|██████████| 250/250 [02:24<00:00,  1.73it/s]\n",
      "                 Class     Images  Instances      Box(P          R      mAP50  mAP50-95)     Mask(P          R      mAP50  mAP50-95): 100%|██████████| 8/8 [00:03<00:00,  2.61it/s]"
     ]
    },
    {
     "name": "stdout",
     "output_type": "stream",
     "text": [
      "                   all        250        559      0.958      0.902      0.924      0.851      0.956        0.9      0.922      0.876\n"
     ]
    },
    {
     "name": "stderr",
     "output_type": "stream",
     "text": [
      "\n"
     ]
    },
    {
     "name": "stdout",
     "output_type": "stream",
     "text": [
      "\n",
      "      Epoch    GPU_mem   box_loss   seg_loss   cls_loss   dfl_loss  Instances       Size\n"
     ]
    },
    {
     "name": "stderr",
     "output_type": "stream",
     "text": [
      "      30/60      8.55G     0.3332     0.4762      0.311      0.943         75        864: 100%|██████████| 250/250 [02:24<00:00,  1.73it/s]\n",
      "                 Class     Images  Instances      Box(P          R      mAP50  mAP50-95)     Mask(P          R      mAP50  mAP50-95): 100%|██████████| 8/8 [00:03<00:00,  2.61it/s]"
     ]
    },
    {
     "name": "stdout",
     "output_type": "stream",
     "text": [
      "                   all        250        559      0.961      0.902      0.934      0.866      0.958      0.904      0.929      0.885\n"
     ]
    },
    {
     "name": "stderr",
     "output_type": "stream",
     "text": [
      "\n"
     ]
    },
    {
     "name": "stdout",
     "output_type": "stream",
     "text": [
      "\n",
      "      Epoch    GPU_mem   box_loss   seg_loss   cls_loss   dfl_loss  Instances       Size\n"
     ]
    },
    {
     "name": "stderr",
     "output_type": "stream",
     "text": [
      "      31/60      8.38G     0.3275     0.4524      0.294     0.9375         93        864: 100%|██████████| 250/250 [02:24<00:00,  1.74it/s]\n",
      "                 Class     Images  Instances      Box(P          R      mAP50  mAP50-95)     Mask(P          R      mAP50  mAP50-95): 100%|██████████| 8/8 [00:03<00:00,  2.63it/s]"
     ]
    },
    {
     "name": "stdout",
     "output_type": "stream",
     "text": [
      "                   all        250        559      0.968      0.891      0.932       0.86      0.969      0.895       0.93      0.885\n"
     ]
    },
    {
     "name": "stderr",
     "output_type": "stream",
     "text": [
      "\n"
     ]
    },
    {
     "name": "stdout",
     "output_type": "stream",
     "text": [
      "\n",
      "      Epoch    GPU_mem   box_loss   seg_loss   cls_loss   dfl_loss  Instances       Size\n"
     ]
    },
    {
     "name": "stderr",
     "output_type": "stream",
     "text": [
      "      32/60      8.48G     0.3252     0.4638     0.2912     0.9376         95        864: 100%|██████████| 250/250 [02:24<00:00,  1.73it/s]\n",
      "                 Class     Images  Instances      Box(P          R      mAP50  mAP50-95)     Mask(P          R      mAP50  mAP50-95): 100%|██████████| 8/8 [00:03<00:00,  2.63it/s]"
     ]
    },
    {
     "name": "stdout",
     "output_type": "stream",
     "text": [
      "                   all        250        559      0.966      0.893      0.932      0.864       0.97      0.896      0.932      0.885\n"
     ]
    },
    {
     "name": "stderr",
     "output_type": "stream",
     "text": [
      "\n"
     ]
    },
    {
     "name": "stdout",
     "output_type": "stream",
     "text": [
      "\n",
      "      Epoch    GPU_mem   box_loss   seg_loss   cls_loss   dfl_loss  Instances       Size\n"
     ]
    },
    {
     "name": "stderr",
     "output_type": "stream",
     "text": [
      "      33/60      8.52G       0.32     0.4548     0.2944     0.9351         67        864: 100%|██████████| 250/250 [02:24<00:00,  1.73it/s]\n",
      "                 Class     Images  Instances      Box(P          R      mAP50  mAP50-95)     Mask(P          R      mAP50  mAP50-95): 100%|██████████| 8/8 [00:03<00:00,  2.66it/s]"
     ]
    },
    {
     "name": "stdout",
     "output_type": "stream",
     "text": [
      "                   all        250        559      0.956      0.905      0.929      0.867       0.96      0.899      0.928      0.888\n"
     ]
    },
    {
     "name": "stderr",
     "output_type": "stream",
     "text": [
      "\n"
     ]
    },
    {
     "name": "stdout",
     "output_type": "stream",
     "text": [
      "\n",
      "      Epoch    GPU_mem   box_loss   seg_loss   cls_loss   dfl_loss  Instances       Size\n"
     ]
    },
    {
     "name": "stderr",
     "output_type": "stream",
     "text": [
      "      34/60      8.56G     0.3119      0.444     0.2832     0.9302         78        864: 100%|██████████| 250/250 [02:24<00:00,  1.74it/s]\n",
      "                 Class     Images  Instances      Box(P          R      mAP50  mAP50-95)     Mask(P          R      mAP50  mAP50-95): 100%|██████████| 8/8 [00:03<00:00,  2.65it/s]"
     ]
    },
    {
     "name": "stdout",
     "output_type": "stream",
     "text": [
      "                   all        250        559      0.967      0.904      0.929      0.863      0.968      0.903      0.924      0.883\n"
     ]
    },
    {
     "name": "stderr",
     "output_type": "stream",
     "text": [
      "\n"
     ]
    },
    {
     "name": "stdout",
     "output_type": "stream",
     "text": [
      "\n",
      "      Epoch    GPU_mem   box_loss   seg_loss   cls_loss   dfl_loss  Instances       Size\n"
     ]
    },
    {
     "name": "stderr",
     "output_type": "stream",
     "text": [
      "      35/60      8.51G     0.3098     0.4275     0.2741     0.9258         76        864: 100%|██████████| 250/250 [02:16<00:00,  1.83it/s]\n",
      "                 Class     Images  Instances      Box(P          R      mAP50  mAP50-95)     Mask(P          R      mAP50  mAP50-95): 100%|██████████| 8/8 [00:03<00:00,  2.63it/s]"
     ]
    },
    {
     "name": "stdout",
     "output_type": "stream",
     "text": [
      "                   all        250        559      0.965      0.905      0.931      0.866      0.965      0.905      0.928      0.884\n"
     ]
    },
    {
     "name": "stderr",
     "output_type": "stream",
     "text": [
      "\n"
     ]
    },
    {
     "name": "stdout",
     "output_type": "stream",
     "text": [
      "\n",
      "      Epoch    GPU_mem   box_loss   seg_loss   cls_loss   dfl_loss  Instances       Size\n"
     ]
    },
    {
     "name": "stderr",
     "output_type": "stream",
     "text": [
      "      36/60      8.41G     0.3098     0.4327     0.2761     0.9261         79        864: 100%|██████████| 250/250 [02:24<00:00,  1.73it/s]\n",
      "                 Class     Images  Instances      Box(P          R      mAP50  mAP50-95)     Mask(P          R      mAP50  mAP50-95): 100%|██████████| 8/8 [00:03<00:00,  2.66it/s]"
     ]
    },
    {
     "name": "stdout",
     "output_type": "stream",
     "text": [
      "                   all        250        559      0.975      0.889      0.926      0.872      0.975      0.889      0.925      0.884\n"
     ]
    },
    {
     "name": "stderr",
     "output_type": "stream",
     "text": [
      "\n"
     ]
    },
    {
     "name": "stdout",
     "output_type": "stream",
     "text": [
      "\n",
      "      Epoch    GPU_mem   box_loss   seg_loss   cls_loss   dfl_loss  Instances       Size\n"
     ]
    },
    {
     "name": "stderr",
     "output_type": "stream",
     "text": [
      "      37/60      8.47G     0.3049     0.4274     0.2667     0.9234         83        864: 100%|██████████| 250/250 [02:23<00:00,  1.74it/s]\n",
      "                 Class     Images  Instances      Box(P          R      mAP50  mAP50-95)     Mask(P          R      mAP50  mAP50-95): 100%|██████████| 8/8 [00:03<00:00,  2.54it/s]"
     ]
    },
    {
     "name": "stdout",
     "output_type": "stream",
     "text": [
      "                   all        250        559      0.983      0.902      0.931      0.875      0.982        0.9      0.931      0.892\n"
     ]
    },
    {
     "name": "stderr",
     "output_type": "stream",
     "text": [
      "\n"
     ]
    },
    {
     "name": "stdout",
     "output_type": "stream",
     "text": [
      "\n",
      "      Epoch    GPU_mem   box_loss   seg_loss   cls_loss   dfl_loss  Instances       Size\n"
     ]
    },
    {
     "name": "stderr",
     "output_type": "stream",
     "text": [
      "      38/60      8.45G     0.3056     0.4234     0.2694     0.9265         86        864: 100%|██████████| 250/250 [02:22<00:00,  1.75it/s]\n",
      "                 Class     Images  Instances      Box(P          R      mAP50  mAP50-95)     Mask(P          R      mAP50  mAP50-95): 100%|██████████| 8/8 [00:03<00:00,  2.61it/s]"
     ]
    },
    {
     "name": "stdout",
     "output_type": "stream",
     "text": [
      "                   all        250        559      0.974        0.9      0.932      0.878      0.972      0.898      0.932      0.895\n"
     ]
    },
    {
     "name": "stderr",
     "output_type": "stream",
     "text": [
      "\n"
     ]
    },
    {
     "name": "stdout",
     "output_type": "stream",
     "text": [
      "\n",
      "      Epoch    GPU_mem   box_loss   seg_loss   cls_loss   dfl_loss  Instances       Size\n"
     ]
    },
    {
     "name": "stderr",
     "output_type": "stream",
     "text": [
      "      39/60      8.47G     0.3036     0.4203     0.2669     0.9224         79        864: 100%|██████████| 250/250 [02:23<00:00,  1.74it/s]\n",
      "                 Class     Images  Instances      Box(P          R      mAP50  mAP50-95)     Mask(P          R      mAP50  mAP50-95): 100%|██████████| 8/8 [00:03<00:00,  2.64it/s]"
     ]
    },
    {
     "name": "stdout",
     "output_type": "stream",
     "text": [
      "                   all        250        559      0.976      0.895      0.935      0.885      0.973      0.903      0.934      0.901\n"
     ]
    },
    {
     "name": "stderr",
     "output_type": "stream",
     "text": [
      "\n"
     ]
    },
    {
     "name": "stdout",
     "output_type": "stream",
     "text": [
      "\n",
      "      Epoch    GPU_mem   box_loss   seg_loss   cls_loss   dfl_loss  Instances       Size\n"
     ]
    },
    {
     "name": "stderr",
     "output_type": "stream",
     "text": [
      "      40/60      8.49G     0.2982     0.4127     0.2594     0.9202        102        864: 100%|██████████| 250/250 [02:19<00:00,  1.79it/s]\n",
      "                 Class     Images  Instances      Box(P          R      mAP50  mAP50-95)     Mask(P          R      mAP50  mAP50-95): 100%|██████████| 8/8 [00:02<00:00,  3.27it/s]"
     ]
    },
    {
     "name": "stdout",
     "output_type": "stream",
     "text": [
      "                   all        250        559       0.98      0.896      0.939      0.881      0.983      0.893      0.938      0.897\n"
     ]
    },
    {
     "name": "stderr",
     "output_type": "stream",
     "text": [
      "\n"
     ]
    },
    {
     "name": "stdout",
     "output_type": "stream",
     "text": [
      "\n",
      "      Epoch    GPU_mem   box_loss   seg_loss   cls_loss   dfl_loss  Instances       Size\n"
     ]
    },
    {
     "name": "stderr",
     "output_type": "stream",
     "text": [
      "      41/60      8.38G     0.2971     0.4106     0.2555     0.9176         98        864: 100%|██████████| 250/250 [02:13<00:00,  1.87it/s]\n",
      "                 Class     Images  Instances      Box(P          R      mAP50  mAP50-95)     Mask(P          R      mAP50  mAP50-95): 100%|██████████| 8/8 [00:02<00:00,  3.00it/s]"
     ]
    },
    {
     "name": "stdout",
     "output_type": "stream",
     "text": [
      "                   all        250        559      0.972      0.884      0.936      0.886      0.972      0.884      0.935      0.893\n"
     ]
    },
    {
     "name": "stderr",
     "output_type": "stream",
     "text": [
      "\n"
     ]
    },
    {
     "name": "stdout",
     "output_type": "stream",
     "text": [
      "\n",
      "      Epoch    GPU_mem   box_loss   seg_loss   cls_loss   dfl_loss  Instances       Size\n"
     ]
    },
    {
     "name": "stderr",
     "output_type": "stream",
     "text": [
      "      42/60      8.56G     0.2905     0.3991     0.2543     0.9174         75        864: 100%|██████████| 250/250 [02:10<00:00,  1.92it/s]\n",
      "                 Class     Images  Instances      Box(P          R      mAP50  mAP50-95)     Mask(P          R      mAP50  mAP50-95): 100%|██████████| 8/8 [00:02<00:00,  2.86it/s]"
     ]
    },
    {
     "name": "stdout",
     "output_type": "stream",
     "text": [
      "                   all        250        559      0.972      0.891      0.932      0.882      0.962      0.896      0.932      0.894\n"
     ]
    },
    {
     "name": "stderr",
     "output_type": "stream",
     "text": [
      "\n"
     ]
    },
    {
     "name": "stdout",
     "output_type": "stream",
     "text": [
      "\n",
      "      Epoch    GPU_mem   box_loss   seg_loss   cls_loss   dfl_loss  Instances       Size\n"
     ]
    },
    {
     "name": "stderr",
     "output_type": "stream",
     "text": [
      "      43/60      8.45G     0.2899     0.4034     0.2494      0.916         66        864: 100%|██████████| 250/250 [02:00<00:00,  2.08it/s]\n",
      "                 Class     Images  Instances      Box(P          R      mAP50  mAP50-95)     Mask(P          R      mAP50  mAP50-95): 100%|██████████| 8/8 [00:02<00:00,  2.94it/s]"
     ]
    },
    {
     "name": "stdout",
     "output_type": "stream",
     "text": [
      "                   all        250        559      0.978      0.896      0.934       0.88      0.976      0.894      0.933      0.892\n"
     ]
    },
    {
     "name": "stderr",
     "output_type": "stream",
     "text": [
      "\n"
     ]
    },
    {
     "name": "stdout",
     "output_type": "stream",
     "text": [
      "\n",
      "      Epoch    GPU_mem   box_loss   seg_loss   cls_loss   dfl_loss  Instances       Size\n"
     ]
    },
    {
     "name": "stderr",
     "output_type": "stream",
     "text": [
      "      44/60      8.53G     0.2856     0.4037     0.2479     0.9156         93        864: 100%|██████████| 250/250 [01:58<00:00,  2.11it/s]\n",
      "                 Class     Images  Instances      Box(P          R      mAP50  mAP50-95)     Mask(P          R      mAP50  mAP50-95): 100%|██████████| 8/8 [00:02<00:00,  3.12it/s]"
     ]
    },
    {
     "name": "stdout",
     "output_type": "stream",
     "text": [
      "                   all        250        559      0.973      0.902      0.931      0.882      0.973      0.902       0.93      0.896\n"
     ]
    },
    {
     "name": "stderr",
     "output_type": "stream",
     "text": [
      "\n"
     ]
    },
    {
     "name": "stdout",
     "output_type": "stream",
     "text": [
      "\n",
      "      Epoch    GPU_mem   box_loss   seg_loss   cls_loss   dfl_loss  Instances       Size\n"
     ]
    },
    {
     "name": "stderr",
     "output_type": "stream",
     "text": [
      "      45/60      8.44G     0.2837     0.3934     0.2445     0.9118         83        864: 100%|██████████| 250/250 [01:58<00:00,  2.11it/s]\n",
      "                 Class     Images  Instances      Box(P          R      mAP50  mAP50-95)     Mask(P          R      mAP50  mAP50-95): 100%|██████████| 8/8 [00:02<00:00,  3.18it/s]"
     ]
    },
    {
     "name": "stdout",
     "output_type": "stream",
     "text": [
      "                   all        250        559      0.981      0.905      0.938      0.889      0.976      0.905      0.937      0.899\n"
     ]
    },
    {
     "name": "stderr",
     "output_type": "stream",
     "text": [
      "\n"
     ]
    },
    {
     "name": "stdout",
     "output_type": "stream",
     "text": [
      "\n",
      "      Epoch    GPU_mem   box_loss   seg_loss   cls_loss   dfl_loss  Instances       Size\n"
     ]
    },
    {
     "name": "stderr",
     "output_type": "stream",
     "text": [
      "      46/60      8.47G     0.2802     0.3747       0.24     0.9094         79        864: 100%|██████████| 250/250 [01:58<00:00,  2.11it/s]\n",
      "                 Class     Images  Instances      Box(P          R      mAP50  mAP50-95)     Mask(P          R      mAP50  mAP50-95): 100%|██████████| 8/8 [00:02<00:00,  3.32it/s]"
     ]
    },
    {
     "name": "stdout",
     "output_type": "stream",
     "text": [
      "                   all        250        559      0.977      0.908      0.935      0.887      0.977      0.908      0.934      0.897\n"
     ]
    },
    {
     "name": "stderr",
     "output_type": "stream",
     "text": [
      "\n"
     ]
    },
    {
     "name": "stdout",
     "output_type": "stream",
     "text": [
      "\n",
      "      Epoch    GPU_mem   box_loss   seg_loss   cls_loss   dfl_loss  Instances       Size\n"
     ]
    },
    {
     "name": "stderr",
     "output_type": "stream",
     "text": [
      "      47/60      8.46G     0.2793      0.369     0.2422     0.9129         87        864: 100%|██████████| 250/250 [01:58<00:00,  2.10it/s]\n",
      "                 Class     Images  Instances      Box(P          R      mAP50  mAP50-95)     Mask(P          R      mAP50  mAP50-95): 100%|██████████| 8/8 [00:02<00:00,  3.32it/s]"
     ]
    },
    {
     "name": "stdout",
     "output_type": "stream",
     "text": [
      "                   all        250        559      0.965      0.905      0.937      0.891      0.969      0.909      0.936      0.902\n"
     ]
    },
    {
     "name": "stderr",
     "output_type": "stream",
     "text": [
      "\n"
     ]
    },
    {
     "name": "stdout",
     "output_type": "stream",
     "text": [
      "\n",
      "      Epoch    GPU_mem   box_loss   seg_loss   cls_loss   dfl_loss  Instances       Size\n"
     ]
    },
    {
     "name": "stderr",
     "output_type": "stream",
     "text": [
      "      48/60      8.48G     0.2778      0.373     0.2365     0.9087         93        864: 100%|██████████| 250/250 [01:58<00:00,  2.11it/s]\n",
      "                 Class     Images  Instances      Box(P          R      mAP50  mAP50-95)     Mask(P          R      mAP50  mAP50-95): 100%|██████████| 8/8 [00:02<00:00,  3.18it/s]"
     ]
    },
    {
     "name": "stdout",
     "output_type": "stream",
     "text": [
      "                   all        250        559       0.97      0.905      0.939      0.889       0.97      0.905      0.939      0.901\n"
     ]
    },
    {
     "name": "stderr",
     "output_type": "stream",
     "text": [
      "\n"
     ]
    },
    {
     "name": "stdout",
     "output_type": "stream",
     "text": [
      "\n",
      "      Epoch    GPU_mem   box_loss   seg_loss   cls_loss   dfl_loss  Instances       Size\n"
     ]
    },
    {
     "name": "stderr",
     "output_type": "stream",
     "text": [
      "      49/60      8.98G     0.2712     0.3577     0.2292     0.9051         68        864: 100%|██████████| 250/250 [01:58<00:00,  2.12it/s]\n",
      "                 Class     Images  Instances      Box(P          R      mAP50  mAP50-95)     Mask(P          R      mAP50  mAP50-95): 100%|██████████| 8/8 [00:02<00:00,  3.21it/s]"
     ]
    },
    {
     "name": "stdout",
     "output_type": "stream",
     "text": [
      "                   all        250        559      0.977      0.897      0.935      0.889      0.977      0.897      0.935        0.9\n"
     ]
    },
    {
     "name": "stderr",
     "output_type": "stream",
     "text": [
      "\n"
     ]
    },
    {
     "name": "stdout",
     "output_type": "stream",
     "text": [
      "\n",
      "      Epoch    GPU_mem   box_loss   seg_loss   cls_loss   dfl_loss  Instances       Size\n"
     ]
    },
    {
     "name": "stderr",
     "output_type": "stream",
     "text": [
      "      50/60      8.49G     0.2719     0.3702     0.2299     0.9073         90        864: 100%|██████████| 250/250 [01:57<00:00,  2.13it/s]\n",
      "                 Class     Images  Instances      Box(P          R      mAP50  mAP50-95)     Mask(P          R      mAP50  mAP50-95): 100%|██████████| 8/8 [00:02<00:00,  3.30it/s]"
     ]
    },
    {
     "name": "stdout",
     "output_type": "stream",
     "text": [
      "                   all        250        559       0.97      0.898      0.939      0.889      0.956      0.912      0.939      0.897\n"
     ]
    },
    {
     "name": "stderr",
     "output_type": "stream",
     "text": [
      "\n"
     ]
    },
    {
     "name": "stdout",
     "output_type": "stream",
     "text": [
      "Closing dataloader mosaic\n",
      "\n",
      "      Epoch    GPU_mem   box_loss   seg_loss   cls_loss   dfl_loss  Instances       Size\n"
     ]
    },
    {
     "name": "stderr",
     "output_type": "stream",
     "text": [
      "      51/60      8.08G     0.2431     0.3053     0.2631     0.9126         24        864: 100%|██████████| 250/250 [01:54<00:00,  2.19it/s]\n",
      "                 Class     Images  Instances      Box(P          R      mAP50  mAP50-95)     Mask(P          R      mAP50  mAP50-95): 100%|██████████| 8/8 [00:02<00:00,  3.15it/s]"
     ]
    },
    {
     "name": "stdout",
     "output_type": "stream",
     "text": [
      "                   all        250        559      0.977      0.897      0.941      0.902      0.977      0.897      0.942      0.909\n"
     ]
    },
    {
     "name": "stderr",
     "output_type": "stream",
     "text": [
      "\n"
     ]
    },
    {
     "name": "stdout",
     "output_type": "stream",
     "text": [
      "\n",
      "      Epoch    GPU_mem   box_loss   seg_loss   cls_loss   dfl_loss  Instances       Size\n"
     ]
    },
    {
     "name": "stderr",
     "output_type": "stream",
     "text": [
      "      52/60      8.07G     0.2257      0.277     0.2214     0.9014         27        864: 100%|██████████| 250/250 [02:06<00:00,  1.98it/s]\n",
      "                 Class     Images  Instances      Box(P          R      mAP50  mAP50-95)     Mask(P          R      mAP50  mAP50-95): 100%|██████████| 8/8 [00:02<00:00,  3.17it/s]"
     ]
    },
    {
     "name": "stdout",
     "output_type": "stream",
     "text": [
      "                   all        250        559      0.972      0.907      0.944      0.904      0.972      0.905      0.943      0.911\n"
     ]
    },
    {
     "name": "stderr",
     "output_type": "stream",
     "text": [
      "\n"
     ]
    },
    {
     "name": "stdout",
     "output_type": "stream",
     "text": [
      "\n",
      "      Epoch    GPU_mem   box_loss   seg_loss   cls_loss   dfl_loss  Instances       Size\n"
     ]
    },
    {
     "name": "stderr",
     "output_type": "stream",
     "text": [
      "      53/60      8.06G     0.2202     0.2679     0.2146     0.9008         26        864: 100%|██████████| 250/250 [01:55<00:00,  2.16it/s]\n",
      "                 Class     Images  Instances      Box(P          R      mAP50  mAP50-95)     Mask(P          R      mAP50  mAP50-95): 100%|██████████| 8/8 [00:02<00:00,  3.24it/s]"
     ]
    },
    {
     "name": "stdout",
     "output_type": "stream",
     "text": [
      "                   all        250        559      0.971       0.91      0.941      0.902      0.969      0.909      0.942      0.909\n"
     ]
    },
    {
     "name": "stderr",
     "output_type": "stream",
     "text": [
      "\n"
     ]
    },
    {
     "name": "stdout",
     "output_type": "stream",
     "text": [
      "\n",
      "      Epoch    GPU_mem   box_loss   seg_loss   cls_loss   dfl_loss  Instances       Size\n"
     ]
    },
    {
     "name": "stderr",
     "output_type": "stream",
     "text": [
      "      54/60      8.07G     0.2127     0.2638     0.2068     0.8975         28        864: 100%|██████████| 250/250 [01:55<00:00,  2.17it/s]\n",
      "                 Class     Images  Instances      Box(P          R      mAP50  mAP50-95)     Mask(P          R      mAP50  mAP50-95): 100%|██████████| 8/8 [00:02<00:00,  3.24it/s]"
     ]
    },
    {
     "name": "stdout",
     "output_type": "stream",
     "text": [
      "                   all        250        559      0.972      0.912       0.94      0.903      0.976       0.91      0.942      0.907\n"
     ]
    },
    {
     "name": "stderr",
     "output_type": "stream",
     "text": [
      "\n"
     ]
    },
    {
     "name": "stdout",
     "output_type": "stream",
     "text": [
      "\n",
      "      Epoch    GPU_mem   box_loss   seg_loss   cls_loss   dfl_loss  Instances       Size\n"
     ]
    },
    {
     "name": "stderr",
     "output_type": "stream",
     "text": [
      "      55/60      8.64G     0.2095     0.2555     0.2007     0.8947         27        864: 100%|██████████| 250/250 [01:54<00:00,  2.18it/s]\n",
      "                 Class     Images  Instances      Box(P          R      mAP50  mAP50-95)     Mask(P          R      mAP50  mAP50-95): 100%|██████████| 8/8 [00:02<00:00,  3.20it/s]"
     ]
    },
    {
     "name": "stdout",
     "output_type": "stream",
     "text": [
      "                   all        250        559       0.98      0.903      0.943      0.906       0.98      0.903      0.943      0.909\n"
     ]
    },
    {
     "name": "stderr",
     "output_type": "stream",
     "text": [
      "\n"
     ]
    },
    {
     "name": "stdout",
     "output_type": "stream",
     "text": [
      "\n",
      "      Epoch    GPU_mem   box_loss   seg_loss   cls_loss   dfl_loss  Instances       Size\n"
     ]
    },
    {
     "name": "stderr",
     "output_type": "stream",
     "text": [
      "      56/60      8.65G     0.2012     0.2496     0.1929     0.8861         28        864: 100%|██████████| 250/250 [01:53<00:00,  2.20it/s]\n",
      "                 Class     Images  Instances      Box(P          R      mAP50  mAP50-95)     Mask(P          R      mAP50  mAP50-95): 100%|██████████| 8/8 [00:02<00:00,  3.25it/s]"
     ]
    },
    {
     "name": "stdout",
     "output_type": "stream",
     "text": [
      "                   all        250        559      0.984      0.905      0.943      0.911      0.984      0.905      0.944      0.912\n"
     ]
    },
    {
     "name": "stderr",
     "output_type": "stream",
     "text": [
      "\n"
     ]
    },
    {
     "name": "stdout",
     "output_type": "stream",
     "text": [
      "\n",
      "      Epoch    GPU_mem   box_loss   seg_loss   cls_loss   dfl_loss  Instances       Size\n"
     ]
    },
    {
     "name": "stderr",
     "output_type": "stream",
     "text": [
      "      57/60      8.04G      0.194     0.2493     0.1893     0.8854         27        864: 100%|██████████| 250/250 [01:57<00:00,  2.13it/s]\n",
      "                 Class     Images  Instances      Box(P          R      mAP50  mAP50-95)     Mask(P          R      mAP50  mAP50-95): 100%|██████████| 8/8 [00:02<00:00,  3.07it/s]"
     ]
    },
    {
     "name": "stdout",
     "output_type": "stream",
     "text": [
      "                   all        250        559       0.97      0.914      0.944      0.912      0.973      0.911      0.945      0.912\n"
     ]
    },
    {
     "name": "stderr",
     "output_type": "stream",
     "text": [
      "\n"
     ]
    },
    {
     "name": "stdout",
     "output_type": "stream",
     "text": [
      "\n",
      "      Epoch    GPU_mem   box_loss   seg_loss   cls_loss   dfl_loss  Instances       Size\n"
     ]
    },
    {
     "name": "stderr",
     "output_type": "stream",
     "text": [
      "      58/60      8.05G     0.1866     0.2464     0.1786     0.8732         28        864: 100%|██████████| 250/250 [02:02<00:00,  2.05it/s]\n",
      "                 Class     Images  Instances      Box(P          R      mAP50  mAP50-95)     Mask(P          R      mAP50  mAP50-95): 100%|██████████| 8/8 [00:02<00:00,  3.15it/s]"
     ]
    },
    {
     "name": "stdout",
     "output_type": "stream",
     "text": [
      "                   all        250        559      0.983      0.899      0.945      0.916      0.983      0.899      0.946      0.914\n"
     ]
    },
    {
     "name": "stderr",
     "output_type": "stream",
     "text": [
      "\n"
     ]
    },
    {
     "name": "stdout",
     "output_type": "stream",
     "text": [
      "\n",
      "      Epoch    GPU_mem   box_loss   seg_loss   cls_loss   dfl_loss  Instances       Size\n"
     ]
    },
    {
     "name": "stderr",
     "output_type": "stream",
     "text": [
      "      59/60      8.06G     0.1842     0.2378     0.1764     0.8771         24        864: 100%|██████████| 250/250 [02:06<00:00,  1.98it/s]\n",
      "                 Class     Images  Instances      Box(P          R      mAP50  mAP50-95)     Mask(P          R      mAP50  mAP50-95): 100%|██████████| 8/8 [00:03<00:00,  2.65it/s]"
     ]
    },
    {
     "name": "stdout",
     "output_type": "stream",
     "text": [
      "                   all        250        559      0.982      0.904      0.944      0.914      0.982      0.904      0.944      0.914\n"
     ]
    },
    {
     "name": "stderr",
     "output_type": "stream",
     "text": [
      "\n"
     ]
    },
    {
     "name": "stdout",
     "output_type": "stream",
     "text": [
      "\n",
      "      Epoch    GPU_mem   box_loss   seg_loss   cls_loss   dfl_loss  Instances       Size\n"
     ]
    },
    {
     "name": "stderr",
     "output_type": "stream",
     "text": [
      "      60/60       8.1G     0.1781     0.2376     0.1733     0.8732         25        864: 100%|██████████| 250/250 [02:01<00:00,  2.05it/s]\n",
      "                 Class     Images  Instances      Box(P          R      mAP50  mAP50-95)     Mask(P          R      mAP50  mAP50-95): 100%|██████████| 8/8 [00:02<00:00,  3.10it/s]"
     ]
    },
    {
     "name": "stdout",
     "output_type": "stream",
     "text": [
      "                   all        250        559      0.979      0.905      0.945      0.916      0.979      0.905      0.946      0.915\n"
     ]
    },
    {
     "name": "stderr",
     "output_type": "stream",
     "text": [
      "\n"
     ]
    },
    {
     "name": "stdout",
     "output_type": "stream",
     "text": [
      "\n",
      "60 epochs completed in 2.307 hours.\n",
      "Optimizer stripped from runs\\segment\\train5\\weights\\last.pt, 23.9MB\n",
      "Optimizer stripped from runs\\segment\\train5\\weights\\best.pt, 23.9MB\n",
      "\n",
      "Validating runs\\segment\\train5\\weights\\best.pt...\n",
      "Ultralytics YOLOv8.2.8  Python-3.11.9 torch-2.3.0 CUDA:0 (NVIDIA GeForce RTX 3060, 12288MiB)\n",
      "YOLOv8s-seg summary (fused): 195 layers, 11780374 parameters, 0 gradients\n"
     ]
    },
    {
     "name": "stderr",
     "output_type": "stream",
     "text": [
      "                 Class     Images  Instances      Box(P          R      mAP50  mAP50-95)     Mask(P          R      mAP50  mAP50-95): 100%|██████████| 8/8 [00:03<00:00,  2.52it/s]\n"
     ]
    },
    {
     "name": "stdout",
     "output_type": "stream",
     "text": [
      "                   all        250        559      0.979      0.905      0.945      0.916      0.979      0.905      0.946      0.915\n",
      "                camino        250        261      0.979      0.962      0.977      0.959      0.979      0.962      0.977      0.962\n",
      "             obstaculo        250        298      0.978      0.849      0.913      0.874      0.978      0.849      0.915      0.868\n",
      "Speed: 0.2ms preprocess, 4.7ms inference, 0.0ms loss, 1.1ms postprocess per image\n",
      "Results saved to \u001b[1mruns\\segment\\train5\u001b[0m\n"
     ]
    }
   ],
   "source": [
    "results = model.train(data='customdata.yaml', epochs=60, imgsz=imgsz, batch=batch, device=\"cuda\")"
   ]
  },
  {
   "cell_type": "markdown",
   "metadata": {},
   "source": [
    "### Visualizamos las perdidas\n",
    "\n"
   ]
  },
  {
   "cell_type": "code",
   "execution_count": 4,
   "metadata": {},
   "outputs": [],
   "source": [
    "import pandas as pd\n",
    "import matplotlib.pyplot as plt\n",
    "\n",
    "def plot_losses(csv_file):\n",
    "    df = pd.read_csv(csv_file)\n",
    "    df.columns = df.columns.str.strip()\n",
    "    epochs = df['epoch']\n",
    "    train_box_loss = df['train/box_loss']\n",
    "    train_seg_loss = df['train/seg_loss']\n",
    "    val_box_loss = df['val/box_loss']\n",
    "    val_seg_loss = df['val/seg_loss']\n",
    "\n",
    "    plt.figure(figsize=(10, 6))\n",
    "    plt.plot(epochs, train_box_loss, label='train/box_loss', color='blue')\n",
    "    plt.plot(epochs, train_seg_loss, label='train/seg_loss', color='green')\n",
    "    plt.plot(epochs, val_box_loss, label='val/box_loss', color='red')\n",
    "    plt.plot(epochs, val_seg_loss, label='val/seg_loss', color='orange')\n",
    "\n",
    "    plt.title('Losses vs Epochs')\n",
    "    plt.xlabel('Epochs')\n",
    "    plt.ylabel('Loss')\n",
    "\n",
    "    plt.legend()\n",
    "    plt.grid(True)\n",
    "    plt.savefig(\"F:\\Proyecto-SIS330\\source\\Yolo\")\n",
    "    plt.show()"
   ]
  },
  {
   "cell_type": "code",
   "execution_count": 5,
   "metadata": {},
   "outputs": [
    {
     "data": {
      "text/plain": [
       "<Figure size 1000x600 with 1 Axes>"
      ]
     },
     "metadata": {},
     "output_type": "display_data"
    }
   ],
   "source": [
    "plot_losses(\"final_results.csv\")"
   ]
  },
  {
   "cell_type": "markdown",
   "metadata": {},
   "source": [
    "### Matriz de confusión\n",
    "\n"
   ]
  },
  {
   "cell_type": "code",
   "execution_count": null,
   "metadata": {},
   "outputs": [],
   "source": []
  },
  {
   "cell_type": "markdown",
   "metadata": {},
   "source": [
    "### Labels\n",
    "\n",
    "Las etiquetas de los objetos son:"
   ]
  },
  {
   "cell_type": "code",
   "execution_count": 11,
   "metadata": {},
   "outputs": [
    {
     "data": {
      "text/plain": [
       "<Figure size 1200x1000 with 1 Axes>"
      ]
     },
     "metadata": {},
     "output_type": "display_data"
    }
   ],
   "source": [
    "import matplotlib.image as mpimg\n",
    "ruta_imagen = './runs/segment/train3/labels.jpg'\n",
    "imagen = mpimg.imread(ruta_imagen)\n",
    "plt.figure(figsize=(12, 10))\n",
    "plt.imshow(imagen)\n",
    "plt.axis('off')\n",
    "plt.savefig(\"F:\\Proyecto-SIS330\\source\\Yolo\")\n",
    "plt.show()"
   ]
  },
  {
   "cell_type": "markdown",
   "metadata": {},
   "source": [
    "### Precision\n",
    "\n",
    "La precision del modelo:"
   ]
  },
  {
   "cell_type": "code",
   "execution_count": 12,
   "metadata": {},
   "outputs": [],
   "source": [
    "def modelPrecision(csv_file):\n",
    "    df = pd.read_csv(csv_file)\n",
    "    df.columns = df.columns.str.strip()\n",
    "    epochs = df['epoch']\n",
    "    precision = df['metrics/precision(B)']\n",
    "\n",
    "    plt.figure(figsize=(10, 6))\n",
    "    plt.plot(epochs, precision, label='precisión', color='orange')\n",
    "\n",
    "    plt.title('Precisión vs Epochs')\n",
    "    plt.xlabel('Epochs')\n",
    "    plt.ylabel('Precisión')\n",
    "\n",
    "    plt.legend()\n",
    "    plt.grid(True)\n",
    "    plt.savefig(\"F:\\Proyecto-SIS330\\source\\Yolo\")\n",
    "    plt.show()"
   ]
  },
  {
   "cell_type": "code",
   "execution_count": 13,
   "metadata": {},
   "outputs": [
    {
     "data": {
      "text/plain": [
       "<Figure size 1000x600 with 1 Axes>"
      ]
     },
     "metadata": {},
     "output_type": "display_data"
    }
   ],
   "source": [
    "modelPrecision(\"final_results.csv\")"
   ]
  },
  {
   "cell_type": "markdown",
   "metadata": {},
   "source": [
    "### Predecimos\n",
    "\n",
    "Predecimos con el siguiente comando:"
   ]
  },
  {
   "cell_type": "code",
   "execution_count": 3,
   "metadata": {},
   "outputs": [],
   "source": [
    "from ultralytics import YOLO\n",
    "\n",
    "model = YOLO('./runs/segment/train5/weights/best.pt')\n",
    "#result = model.predict(source='1', show=True) # predict and save\n",
    "#print(result)"
   ]
  },
  {
   "cell_type": "code",
   "execution_count": 4,
   "metadata": {},
   "outputs": [
    {
     "name": "stdout",
     "output_type": "stream",
     "text": [
      "\n",
      "1/1: 0... Success  (inf frames of shape 640x360 at 30.00 FPS)\n",
      "\n",
      "\n",
      "WARNING  inference results will accumulate in RAM unless `stream=True` is passed, causing potential out-of-memory\n",
      "errors for large sources or long-running streams and videos. See https://docs.ultralytics.com/modes/predict/ for help.\n",
      "\n",
      "Example:\n",
      "    results = model(source=..., stream=True)  # generator of Results objects\n",
      "    for r in results:\n",
      "        boxes = r.boxes  # Boxes object for bbox outputs\n",
      "        masks = r.masks  # Masks object for segment masks outputs\n",
      "        probs = r.probs  # Class probabilities for classification outputs\n",
      "\n",
      "0: 512x864 2 caminos, 1 obstaculo, 801.9ms\n",
      "0: 512x864 1 camino, 1 obstaculo, 14.5ms\n",
      "0: 512x864 1 camino, 3 obstaculos, 9.5ms\n",
      "0: 512x864 1 camino, 3 obstaculos, 10.5ms\n",
      "0: 512x864 1 camino, 1 obstaculo, 13.5ms\n",
      "0: 512x864 1 camino, 1 obstaculo, 15.0ms\n",
      "0: 512x864 1 camino, 2 obstaculos, 9.5ms\n",
      "0: 512x864 1 camino, 2 obstaculos, 10.5ms\n",
      "0: 512x864 1 camino, 2 obstaculos, 9.2ms\n",
      "0: 512x864 1 camino, 2 obstaculos, 11.1ms\n",
      "0: 512x864 1 camino, 2 obstaculos, 11.1ms\n",
      "0: 512x864 1 camino, 1 obstaculo, 9.5ms\n",
      "0: 512x864 1 camino, 9.0ms\n",
      "0: 512x864 1 camino, 3 obstaculos, 10.5ms\n",
      "0: 512x864 1 camino, 2 obstaculos, 8.5ms\n",
      "0: 512x864 1 camino, 1 obstaculo, 10.5ms\n",
      "0: 512x864 1 camino, 2 obstaculos, 8.5ms\n",
      "0: 512x864 1 camino, 2 obstaculos, 8.5ms\n",
      "0: 512x864 1 camino, 2 obstaculos, 12.5ms\n",
      "0: 512x864 1 camino, 2 obstaculos, 10.0ms\n",
      "0: 512x864 1 camino, 1 obstaculo, 9.3ms\n",
      "0: 512x864 1 camino, 1 obstaculo, 8.5ms\n",
      "0: 512x864 1 camino, 1 obstaculo, 11.5ms\n",
      "0: 512x864 1 camino, 2 obstaculos, 8.5ms\n",
      "0: 512x864 1 camino, 1 obstaculo, 9.1ms\n",
      "0: 512x864 1 camino, 1 obstaculo, 8.0ms\n",
      "0: 512x864 1 camino, 1 obstaculo, 8.0ms\n",
      "0: 512x864 1 camino, 1 obstaculo, 9.5ms\n",
      "0: 512x864 1 camino, 1 obstaculo, 8.0ms\n",
      "0: 512x864 1 camino, 1 obstaculo, 8.5ms\n",
      "0: 512x864 1 camino, 1 obstaculo, 9.1ms\n",
      "0: 512x864 1 camino, 1 obstaculo, 8.0ms\n",
      "0: 512x864 1 camino, 1 obstaculo, 9.5ms\n",
      "0: 512x864 1 camino, 1 obstaculo, 8.7ms\n",
      "0: 512x864 2 caminos, 1 obstaculo, 8.0ms\n",
      "0: 512x864 1 camino, 1 obstaculo, 9.5ms\n",
      "0: 512x864 2 caminos, 1 obstaculo, 10.5ms\n",
      "0: 512x864 2 caminos, 1 obstaculo, 12.0ms\n",
      "0: 512x864 2 caminos, 1 obstaculo, 15.0ms\n",
      "0: 512x864 2 caminos, 1 obstaculo, 10.8ms\n",
      "0: 512x864 2 caminos, 1 obstaculo, 10.5ms\n",
      "0: 512x864 2 caminos, 1 obstaculo, 10.2ms\n",
      "0: 512x864 1 camino, 1 obstaculo, 11.5ms\n",
      "0: 512x864 1 camino, 1 obstaculo, 10.5ms\n",
      "0: 512x864 1 camino, 1 obstaculo, 10.5ms\n",
      "0: 512x864 1 camino, 1 obstaculo, 11.1ms\n",
      "0: 512x864 1 camino, 1 obstaculo, 11.0ms\n",
      "0: 512x864 1 camino, 1 obstaculo, 10.0ms\n",
      "0: 512x864 1 camino, 1 obstaculo, 11.5ms\n",
      "0: 512x864 1 camino, 1 obstaculo, 11.3ms\n",
      "0: 512x864 1 obstaculo, 12.0ms\n",
      "0: 512x864 1 camino, 1 obstaculo, 11.0ms\n",
      "0: 512x864 1 camino, 1 obstaculo, 12.1ms\n",
      "0: 512x864 1 camino, 1 obstaculo, 10.1ms\n",
      "0: 512x864 1 camino, 1 obstaculo, 12.0ms\n",
      "0: 512x864 1 camino, 1 obstaculo, 11.5ms\n",
      "0: 512x864 1 camino, 1 obstaculo, 11.0ms\n",
      "0: 512x864 1 camino, 1 obstaculo, 11.5ms\n",
      "0: 512x864 1 camino, 1 obstaculo, 11.0ms\n",
      "0: 512x864 1 camino, 1 obstaculo, 11.1ms\n",
      "0: 512x864 1 camino, 1 obstaculo, 12.7ms\n",
      "0: 512x864 1 camino, 1 obstaculo, 11.5ms\n",
      "0: 512x864 1 camino, 1 obstaculo, 11.5ms\n",
      "0: 512x864 1 camino, 1 obstaculo, 11.0ms\n",
      "0: 512x864 1 camino, 1 obstaculo, 13.1ms\n",
      "0: 512x864 1 camino, 1 obstaculo, 14.0ms\n",
      "0: 512x864 1 camino, 1 obstaculo, 14.1ms\n",
      "0: 512x864 1 camino, 1 obstaculo, 13.3ms\n",
      "0: 512x864 1 obstaculo, 13.5ms\n",
      "0: 512x864 1 obstaculo, 13.0ms\n",
      "0: 512x864 1 obstaculo, 13.0ms\n",
      "0: 512x864 1 obstaculo, 13.5ms\n",
      "0: 512x864 1 obstaculo, 12.5ms\n",
      "0: 512x864 1 obstaculo, 13.5ms\n",
      "0: 512x864 1 obstaculo, 11.3ms\n",
      "0: 512x864 1 obstaculo, 12.1ms\n",
      "0: 512x864 1 obstaculo, 10.8ms\n",
      "0: 512x864 1 obstaculo, 12.1ms\n",
      "0: 512x864 1 obstaculo, 11.5ms\n",
      "0: 512x864 1 obstaculo, 12.1ms\n",
      "0: 512x864 1 obstaculo, 11.1ms\n",
      "0: 512x864 1 obstaculo, 10.5ms\n",
      "0: 512x864 1 obstaculo, 12.6ms\n",
      "0: 512x864 1 obstaculo, 13.9ms\n",
      "0: 512x864 1 obstaculo, 12.5ms\n",
      "0: 512x864 1 obstaculo, 10.5ms\n",
      "0: 512x864 1 obstaculo, 18.1ms\n",
      "0: 512x864 1 obstaculo, 16.0ms\n",
      "0: 512x864 1 obstaculo, 15.2ms\n",
      "0: 512x864 1 obstaculo, 13.0ms\n",
      "0: 512x864 1 obstaculo, 11.5ms\n",
      "0: 512x864 1 obstaculo, 11.1ms\n",
      "0: 512x864 1 obstaculo, 10.5ms\n",
      "0: 512x864 1 obstaculo, 12.6ms\n",
      "0: 512x864 1 obstaculo, 9.5ms\n",
      "0: 512x864 1 obstaculo, 9.5ms\n",
      "0: 512x864 1 obstaculo, 10.0ms\n",
      "0: 512x864 1 obstaculo, 9.5ms\n",
      "0: 512x864 1 obstaculo, 9.0ms\n",
      "0: 512x864 1 obstaculo, 9.5ms\n",
      "0: 512x864 1 obstaculo, 10.1ms\n",
      "0: 512x864 1 obstaculo, 13.0ms\n",
      "0: 512x864 1 obstaculo, 10.5ms\n",
      "0: 512x864 1 obstaculo, 9.6ms\n",
      "0: 512x864 1 obstaculo, 9.0ms\n",
      "0: 512x864 1 obstaculo, 9.5ms\n",
      "0: 512x864 1 obstaculo, 8.5ms\n",
      "0: 512x864 1 obstaculo, 9.5ms\n",
      "0: 512x864 1 obstaculo, 9.5ms\n",
      "0: 512x864 1 camino, 1 obstaculo, 9.1ms\n",
      "0: 512x864 1 obstaculo, 9.5ms\n",
      "0: 512x864 1 obstaculo, 9.5ms\n",
      "0: 512x864 1 camino, 1 obstaculo, 10.5ms\n",
      "0: 512x864 1 camino, 1 obstaculo, 9.1ms\n",
      "0: 512x864 1 camino, 1 obstaculo, 9.5ms\n",
      "0: 512x864 1 obstaculo, 9.5ms\n",
      "0: 512x864 1 obstaculo, 9.5ms\n",
      "0: 512x864 1 obstaculo, 9.8ms\n",
      "0: 512x864 1 obstaculo, 11.5ms\n",
      "0: 512x864 1 obstaculo, 10.0ms\n",
      "0: 512x864 1 obstaculo, 9.4ms\n",
      "0: 512x864 1 camino, 1 obstaculo, 8.5ms\n",
      "0: 512x864 1 camino, 1 obstaculo, 10.0ms\n",
      "0: 512x864 1 camino, 1 obstaculo, 9.1ms\n",
      "0: 512x864 1 camino, 1 obstaculo, 9.5ms\n",
      "0: 512x864 1 camino, 1 obstaculo, 9.0ms\n",
      "0: 512x864 1 camino, 1 obstaculo, 9.0ms\n",
      "0: 512x864 1 camino, 1 obstaculo, 10.5ms\n",
      "0: 512x864 1 camino, 1 obstaculo, 9.5ms\n",
      "0: 512x864 2 caminos, 1 obstaculo, 11.5ms\n",
      "0: 512x864 1 camino, 1 obstaculo, 11.7ms\n",
      "0: 512x864 1 camino, 1 obstaculo, 11.0ms\n",
      "0: 512x864 1 camino, 1 obstaculo, 13.6ms\n",
      "0: 512x864 1 camino, 1 obstaculo, 11.1ms\n",
      "0: 512x864 2 caminos, 1 obstaculo, 11.1ms\n",
      "0: 512x864 2 caminos, 1 obstaculo, 12.0ms\n",
      "0: 512x864 1 obstaculo, 11.0ms\n",
      "0: 512x864 1 obstaculo, 15.0ms\n",
      "0: 512x864 1 camino, 1 obstaculo, 11.2ms\n",
      "0: 512x864 1 camino, 1 obstaculo, 12.0ms\n",
      "0: 512x864 1 camino, 10.5ms\n",
      "0: 512x864 1 camino, 1 obstaculo, 11.5ms\n",
      "0: 512x864 1 camino, 11.9ms\n",
      "0: 512x864 1 camino, 12.5ms\n",
      "0: 512x864 1 camino, 12.0ms\n",
      "0: 512x864 1 camino, 12.1ms\n",
      "0: 512x864 1 camino, 12.5ms\n",
      "0: 512x864 1 camino, 13.5ms\n",
      "0: 512x864 1 camino, 12.1ms\n",
      "0: 512x864 1 camino, 2 obstaculos, 12.0ms\n",
      "0: 512x864 1 camino, 2 obstaculos, 12.5ms\n",
      "0: 512x864 1 camino, 1 obstaculo, 11.5ms\n",
      "0: 512x864 1 camino, 2 obstaculos, 11.5ms\n",
      "0: 512x864 1 camino, 2 obstaculos, 13.0ms\n",
      "0: 512x864 1 camino, 1 obstaculo, 11.0ms\n",
      "0: 512x864 1 camino, 1 obstaculo, 10.5ms\n",
      "0: 512x864 1 camino, 1 obstaculo, 10.0ms\n",
      "0: 512x864 1 camino, 9.5ms\n",
      "0: 512x864 1 camino, 11.4ms\n",
      "0: 512x864 1 camino, 9.0ms\n",
      "0: 512x864 1 camino, 2 obstaculos, 9.6ms\n",
      "0: 512x864 1 camino, 1 obstaculo, 11.2ms\n",
      "0: 512x864 1 camino, 1 obstaculo, 9.5ms\n",
      "0: 512x864 1 camino, 2 obstaculos, 11.1ms\n",
      "0: 512x864 1 camino, 1 obstaculo, 9.5ms\n",
      "0: 512x864 1 camino, 1 obstaculo, 11.0ms\n",
      "0: 512x864 1 camino, 1 obstaculo, 10.0ms\n",
      "0: 512x864 1 camino, 1 obstaculo, 11.0ms\n",
      "0: 512x864 1 camino, 1 obstaculo, 9.5ms\n",
      "0: 512x864 1 camino, 1 obstaculo, 10.5ms\n",
      "0: 512x864 1 camino, 1 obstaculo, 9.0ms\n",
      "0: 512x864 1 camino, 1 obstaculo, 9.7ms\n",
      "0: 512x864 1 camino, 1 obstaculo, 11.5ms\n",
      "0: 512x864 1 camino, 1 obstaculo, 9.2ms\n",
      "0: 512x864 1 camino, 1 obstaculo, 12.0ms\n",
      "0: 512x864 1 camino, 1 obstaculo, 13.2ms\n",
      "0: 512x864 1 camino, 1 obstaculo, 9.5ms\n",
      "0: 512x864 1 camino, 1 obstaculo, 14.0ms\n",
      "0: 512x864 1 camino, 1 obstaculo, 10.0ms\n",
      "0: 512x864 2 caminos, 1 obstaculo, 11.1ms\n",
      "0: 512x864 1 camino, 1 obstaculo, 9.5ms\n",
      "0: 512x864 1 camino, 1 obstaculo, 10.0ms\n",
      "0: 512x864 1 camino, 1 obstaculo, 10.5ms\n",
      "0: 512x864 1 camino, 1 obstaculo, 12.2ms\n",
      "0: 512x864 2 caminos, 1 obstaculo, 10.5ms\n",
      "0: 512x864 1 camino, 1 obstaculo, 20.1ms\n",
      "0: 512x864 1 camino, 1 obstaculo, 12.3ms\n",
      "0: 512x864 1 camino, 1 obstaculo, 10.0ms\n",
      "0: 512x864 1 camino, 1 obstaculo, 9.5ms\n",
      "0: 512x864 1 camino, 1 obstaculo, 11.6ms\n",
      "0: 512x864 1 camino, 1 obstaculo, 10.5ms\n",
      "0: 512x864 1 camino, 1 obstaculo, 11.0ms\n",
      "0: 512x864 1 camino, 1 obstaculo, 10.1ms\n",
      "0: 512x864 1 camino, 1 obstaculo, 10.0ms\n",
      "0: 512x864 1 camino, 1 obstaculo, 11.0ms\n",
      "0: 512x864 2 caminos, 1 obstaculo, 11.5ms\n",
      "0: 512x864 1 camino, 1 obstaculo, 12.0ms\n",
      "0: 512x864 1 camino, 1 obstaculo, 10.5ms\n",
      "0: 512x864 1 camino, 1 obstaculo, 10.0ms\n",
      "0: 512x864 1 camino, 1 obstaculo, 11.0ms\n",
      "0: 512x864 1 camino, 1 obstaculo, 10.5ms\n",
      "0: 512x864 1 camino, 1 obstaculo, 11.5ms\n",
      "0: 512x864 1 camino, 1 obstaculo, 10.5ms\n",
      "0: 512x864 1 camino, 1 obstaculo, 11.5ms\n",
      "0: 512x864 1 camino, 1 obstaculo, 12.5ms\n",
      "0: 512x864 1 camino, 1 obstaculo, 13.0ms\n",
      "0: 512x864 1 camino, 1 obstaculo, 12.5ms\n",
      "0: 512x864 1 camino, 1 obstaculo, 13.0ms\n",
      "0: 512x864 1 camino, 1 obstaculo, 12.0ms\n",
      "0: 512x864 1 camino, 1 obstaculo, 13.0ms\n",
      "0: 512x864 1 camino, 1 obstaculo, 9.5ms\n",
      "0: 512x864 1 camino, 1 obstaculo, 14.3ms\n",
      "0: 512x864 1 camino, 1 obstaculo, 9.5ms\n",
      "0: 512x864 1 camino, 1 obstaculo, 10.5ms\n",
      "0: 512x864 1 camino, 1 obstaculo, 10.5ms\n",
      "0: 512x864 1 camino, 1 obstaculo, 9.1ms\n",
      "0: 512x864 1 camino, 1 obstaculo, 10.0ms\n",
      "0: 512x864 1 camino, 1 obstaculo, 9.5ms\n",
      "0: 512x864 1 camino, 1 obstaculo, 10.5ms\n",
      "0: 512x864 1 camino, 1 obstaculo, 10.1ms\n",
      "0: 512x864 1 camino, 1 obstaculo, 10.0ms\n",
      "0: 512x864 1 camino, 1 obstaculo, 9.0ms\n",
      "0: 512x864 1 camino, 1 obstaculo, 9.5ms\n",
      "0: 512x864 1 camino, 1 obstaculo, 9.1ms\n",
      "0: 512x864 1 camino, 1 obstaculo, 10.5ms\n",
      "0: 512x864 1 camino, 1 obstaculo, 9.5ms\n",
      "0: 512x864 1 camino, 1 obstaculo, 9.5ms\n",
      "0: 512x864 1 camino, 1 obstaculo, 10.5ms\n",
      "0: 512x864 1 camino, 1 obstaculo, 11.1ms\n",
      "0: 512x864 1 camino, 1 obstaculo, 9.5ms\n",
      "0: 512x864 1 camino, 1 obstaculo, 8.5ms\n",
      "0: 512x864 1 camino, 1 obstaculo, 11.0ms\n",
      "0: 512x864 1 camino, 1 obstaculo, 10.5ms\n",
      "0: 512x864 1 camino, 1 obstaculo, 10.0ms\n",
      "0: 512x864 1 camino, 1 obstaculo, 9.5ms\n",
      "0: 512x864 1 camino, 1 obstaculo, 10.6ms\n",
      "0: 512x864 1 camino, 1 obstaculo, 10.5ms\n",
      "0: 512x864 1 camino, 1 obstaculo, 10.2ms\n",
      "0: 512x864 1 camino, 1 obstaculo, 9.5ms\n",
      "0: 512x864 1 camino, 1 obstaculo, 9.1ms\n",
      "0: 512x864 2 caminos, 1 obstaculo, 10.9ms\n",
      "0: 512x864 1 camino, 1 obstaculo, 9.5ms\n",
      "0: 512x864 1 camino, 1 obstaculo, 11.5ms\n",
      "0: 512x864 1 camino, 1 obstaculo, 10.2ms\n",
      "0: 512x864 1 camino, 1 obstaculo, 10.5ms\n",
      "0: 512x864 1 camino, 1 obstaculo, 9.5ms\n",
      "0: 512x864 1 camino, 1 obstaculo, 10.5ms\n",
      "0: 512x864 1 camino, 1 obstaculo, 10.5ms\n",
      "0: 512x864 1 camino, 1 obstaculo, 15.0ms\n",
      "0: 512x864 1 camino, 1 obstaculo, 13.5ms\n",
      "0: 512x864 1 camino, 1 obstaculo, 13.5ms\n",
      "0: 512x864 1 camino, 1 obstaculo, 12.5ms\n",
      "0: 512x864 1 camino, 1 obstaculo, 13.5ms\n",
      "0: 512x864 1 camino, 1 obstaculo, 12.5ms\n",
      "0: 512x864 1 camino, 1 obstaculo, 12.5ms\n",
      "0: 512x864 1 camino, 1 obstaculo, 14.1ms\n",
      "0: 512x864 1 camino, 1 obstaculo, 12.2ms\n",
      "0: 512x864 1 camino, 1 obstaculo, 13.5ms\n",
      "0: 512x864 1 camino, 1 obstaculo, 12.5ms\n",
      "0: 512x864 1 camino, 1 obstaculo, 11.5ms\n",
      "0: 512x864 1 camino, 1 obstaculo, 10.5ms\n",
      "0: 512x864 1 camino, 1 obstaculo, 11.5ms\n",
      "0: 512x864 1 camino, 1 obstaculo, 11.5ms\n",
      "0: 512x864 1 camino, 1 obstaculo, 10.0ms\n",
      "0: 512x864 1 camino, 1 obstaculo, 11.0ms\n",
      "0: 512x864 1 camino, 1 obstaculo, 11.3ms\n",
      "0: 512x864 1 camino, 1 obstaculo, 10.0ms\n",
      "0: 512x864 1 camino, 1 obstaculo, 11.5ms\n",
      "0: 512x864 1 camino, 1 obstaculo, 10.5ms\n",
      "0: 512x864 1 camino, 1 obstaculo, 12.5ms\n",
      "0: 512x864 1 camino, 1 obstaculo, 11.2ms\n",
      "0: 512x864 1 camino, 1 obstaculo, 10.0ms\n",
      "0: 512x864 1 camino, 1 obstaculo, 10.5ms\n",
      "0: 512x864 1 camino, 1 obstaculo, 12.5ms\n",
      "0: 512x864 1 camino, 1 obstaculo, 10.5ms\n",
      "0: 512x864 1 camino, 1 obstaculo, 11.5ms\n",
      "0: 512x864 1 camino, 1 obstaculo, 10.0ms\n",
      "0: 512x864 1 camino, 1 obstaculo, 10.5ms\n",
      "0: 512x864 1 camino, 1 obstaculo, 10.5ms\n",
      "0: 512x864 1 camino, 1 obstaculo, 10.1ms\n",
      "0: 512x864 1 camino, 1 obstaculo, 10.1ms\n",
      "0: 512x864 1 camino, 1 obstaculo, 11.5ms\n",
      "0: 512x864 1 camino, 1 obstaculo, 10.1ms\n",
      "0: 512x864 1 camino, 1 obstaculo, 11.1ms\n",
      "0: 512x864 1 camino, 1 obstaculo, 11.6ms\n",
      "0: 512x864 1 camino, 1 obstaculo, 16.9ms\n",
      "0: 512x864 1 camino, 1 obstaculo, 7.9ms\n",
      "0: 512x864 1 camino, 1 obstaculo, 11.1ms\n",
      "0: 512x864 1 camino, 1 obstaculo, 11.4ms\n",
      "0: 512x864 1 camino, 1 obstaculo, 12.5ms\n",
      "0: 512x864 1 camino, 1 obstaculo, 12.1ms\n",
      "0: 512x864 1 camino, 1 obstaculo, 8.3ms\n",
      "0: 512x864 1 camino, 1 obstaculo, 11.3ms\n",
      "0: 512x864 1 camino, 1 obstaculo, 12.0ms\n",
      "0: 512x864 1 camino, 1 obstaculo, 11.0ms\n",
      "0: 512x864 1 camino, 1 obstaculo, 11.3ms\n",
      "0: 512x864 1 camino, 1 obstaculo, 12.0ms\n",
      "0: 512x864 1 camino, 1 obstaculo, 14.6ms\n",
      "0: 512x864 1 camino, 1 obstaculo, 12.5ms\n",
      "0: 512x864 1 camino, 1 obstaculo, 14.2ms\n",
      "0: 512x864 1 camino, 1 obstaculo, 12.8ms\n",
      "0: 512x864 1 camino, 1 obstaculo, 13.5ms\n",
      "0: 512x864 1 camino, 1 obstaculo, 14.0ms\n",
      "0: 512x864 1 camino, 1 obstaculo, 13.3ms\n",
      "0: 512x864 1 camino, 1 obstaculo, 16.4ms\n",
      "0: 512x864 1 camino, 1 obstaculo, 16.2ms\n",
      "0: 512x864 1 camino, 1 obstaculo, 12.6ms\n",
      "0: 512x864 1 camino, 1 obstaculo, 13.1ms\n",
      "0: 512x864 1 camino, 1 obstaculo, 14.7ms\n",
      "0: 512x864 1 camino, 1 obstaculo, 11.6ms\n",
      "0: 512x864 1 camino, 1 obstaculo, 15.6ms\n",
      "0: 512x864 1 camino, 1 obstaculo, 15.3ms\n",
      "0: 512x864 1 camino, 1 obstaculo, 13.7ms\n",
      "0: 512x864 1 camino, 1 obstaculo, 13.2ms\n",
      "0: 512x864 1 camino, 1 obstaculo, 11.8ms\n",
      "0: 512x864 1 camino, 1 obstaculo, 13.8ms\n",
      "0: 512x864 1 camino, 1 obstaculo, 11.5ms\n",
      "0: 512x864 1 camino, 1 obstaculo, 13.5ms\n",
      "0: 512x864 1 camino, 1 obstaculo, 13.2ms\n",
      "0: 512x864 1 camino, 1 obstaculo, 15.4ms\n",
      "0: 512x864 1 camino, 1 obstaculo, 11.9ms\n",
      "0: 512x864 1 camino, 1 obstaculo, 11.5ms\n",
      "0: 512x864 1 camino, 1 obstaculo, 13.6ms\n",
      "0: 512x864 1 camino, 1 obstaculo, 11.1ms\n",
      "0: 512x864 1 camino, 1 obstaculo, 12.0ms\n",
      "0: 512x864 1 camino, 1 obstaculo, 10.1ms\n",
      "0: 512x864 1 camino, 1 obstaculo, 11.2ms\n",
      "0: 512x864 1 camino, 1 obstaculo, 10.7ms\n",
      "0: 512x864 1 camino, 1 obstaculo, 12.0ms\n",
      "0: 512x864 1 camino, 1 obstaculo, 10.6ms\n",
      "0: 512x864 1 camino, 1 obstaculo, 12.1ms\n",
      "0: 512x864 1 camino, 1 obstaculo, 12.5ms\n",
      "0: 512x864 1 camino, 1 obstaculo, 7.2ms\n",
      "0: 512x864 1 camino, 1 obstaculo, 12.5ms\n",
      "0: 512x864 1 camino, 1 obstaculo, 12.4ms\n",
      "0: 512x864 1 camino, 1 obstaculo, 11.5ms\n",
      "0: 512x864 1 camino, 1 obstaculo, 11.3ms\n",
      "0: 512x864 1 camino, 1 obstaculo, 14.8ms\n",
      "0: 512x864 1 camino, 1 obstaculo, 6.9ms\n",
      "0: 512x864 1 camino, 1 obstaculo, 10.9ms\n",
      "0: 512x864 1 camino, 1 obstaculo, 13.4ms\n",
      "0: 512x864 1 camino, 1 obstaculo, 11.5ms\n",
      "0: 512x864 1 camino, 2 obstaculos, 15.7ms\n",
      "0: 512x864 1 camino, 1 obstaculo, 6.9ms\n",
      "0: 512x864 1 camino, 1 obstaculo, 12.4ms\n",
      "0: 512x864 1 camino, 1 obstaculo, 13.7ms\n",
      "0: 512x864 1 camino, 1 obstaculo, 13.1ms\n",
      "0: 512x864 1 camino, 1 obstaculo, 11.0ms\n",
      "0: 512x864 1 camino, 1 obstaculo, 14.1ms\n",
      "0: 512x864 1 camino, 1 obstaculo, 14.1ms\n",
      "0: 512x864 1 camino, 1 obstaculo, 12.7ms\n",
      "0: 512x864 1 camino, 1 obstaculo, 10.7ms\n",
      "0: 512x864 1 camino, 1 obstaculo, 11.8ms\n",
      "0: 512x864 1 camino, 1 obstaculo, 10.8ms\n",
      "0: 512x864 1 camino, 1 obstaculo, 10.7ms\n",
      "0: 512x864 1 camino, 1 obstaculo, 12.0ms\n",
      "0: 512x864 1 camino, 1 obstaculo, 11.3ms\n",
      "0: 512x864 1 camino, 1 obstaculo, 11.5ms\n",
      "0: 512x864 1 camino, 1 obstaculo, 12.5ms\n",
      "0: 512x864 1 camino, 1 obstaculo, 17.3ms\n",
      "0: 512x864 1 camino, 1 obstaculo, 12.3ms\n",
      "0: 512x864 1 camino, 1 obstaculo, 13.7ms\n",
      "0: 512x864 1 camino, 1 obstaculo, 12.5ms\n",
      "0: 512x864 1 camino, 1 obstaculo, 11.7ms\n",
      "0: 512x864 1 camino, 1 obstaculo, 14.0ms\n",
      "0: 512x864 1 camino, 1 obstaculo, 15.8ms\n",
      "0: 512x864 1 camino, 2 obstaculos, 12.9ms\n",
      "0: 512x864 1 camino, 2 obstaculos, 12.9ms\n",
      "0: 512x864 1 camino, 1 obstaculo, 12.1ms\n",
      "0: 512x864 1 camino, 1 obstaculo, 12.7ms\n",
      "0: 512x864 1 camino, 1 obstaculo, 12.3ms\n",
      "0: 512x864 1 camino, 1 obstaculo, 7.8ms\n",
      "0: 512x864 1 camino, 1 obstaculo, 13.7ms\n",
      "0: 512x864 1 camino, 1 obstaculo, 12.1ms\n",
      "0: 512x864 1 camino, 1 obstaculo, 10.9ms\n",
      "0: 512x864 1 camino, 1 obstaculo, 11.0ms\n",
      "0: 512x864 1 camino, 1 obstaculo, 9.6ms\n",
      "0: 512x864 1 camino, 1 obstaculo, 10.1ms\n",
      "0: 512x864 1 camino, 1 obstaculo, 12.9ms\n",
      "0: 512x864 1 camino, 1 obstaculo, 9.6ms\n",
      "0: 512x864 1 camino, 1 obstaculo, 10.1ms\n",
      "0: 512x864 1 camino, 1 obstaculo, 10.1ms\n",
      "0: 512x864 1 camino, 1 obstaculo, 9.9ms\n",
      "0: 512x864 1 camino, 1 obstaculo, 10.8ms\n",
      "0: 512x864 1 camino, 1 obstaculo, 11.7ms\n",
      "0: 512x864 1 camino, 1 obstaculo, 9.6ms\n",
      "0: 512x864 1 camino, 1 obstaculo, 10.3ms\n",
      "0: 512x864 1 camino, 1 obstaculo, 9.2ms\n",
      "0: 512x864 1 camino, 1 obstaculo, 9.4ms\n",
      "0: 512x864 1 camino, 1 obstaculo, 10.3ms\n",
      "0: 512x864 1 camino, 1 obstaculo, 8.4ms\n",
      "0: 512x864 1 camino, 1 obstaculo, 9.5ms\n",
      "0: 512x864 1 camino, 1 obstaculo, 11.7ms\n",
      "0: 512x864 1 camino, 1 obstaculo, 10.7ms\n",
      "0: 512x864 1 camino, 1 obstaculo, 10.0ms\n",
      "0: 512x864 1 camino, 1 obstaculo, 13.7ms\n",
      "0: 512x864 1 camino, 1 obstaculo, 6.0ms\n",
      "0: 512x864 1 camino, 1 obstaculo, 10.7ms\n",
      "0: 512x864 1 camino, 1 obstaculo, 5.5ms\n",
      "0: 512x864 1 camino, 1 obstaculo, 10.1ms\n",
      "0: 512x864 1 camino, 1 obstaculo, 11.8ms\n",
      "0: 512x864 1 camino, 1 obstaculo, 10.6ms\n",
      "0: 512x864 1 camino, 1 obstaculo, 10.1ms\n",
      "0: 512x864 1 camino, 1 obstaculo, 9.6ms\n",
      "0: 512x864 1 camino, 1 obstaculo, 9.2ms\n",
      "0: 512x864 1 camino, 1 obstaculo, 13.6ms\n",
      "0: 512x864 1 camino, 1 obstaculo, 11.4ms\n",
      "0: 512x864 1 camino, 1 obstaculo, 9.5ms\n",
      "0: 512x864 1 camino, 1 obstaculo, 15.5ms\n",
      "0: 512x864 1 camino, 1 obstaculo, 11.7ms\n",
      "0: 512x864 1 camino, 1 obstaculo, 14.0ms\n",
      "0: 512x864 1 camino, 1 obstaculo, 12.2ms\n",
      "0: 512x864 1 camino, 1 obstaculo, 12.8ms\n",
      "0: 512x864 1 camino, 1 obstaculo, 12.9ms\n",
      "0: 512x864 1 camino, 12.5ms\n",
      "0: 512x864 1 camino, 1 obstaculo, 11.7ms\n",
      "0: 512x864 1 camino, 2 obstaculos, 12.8ms\n",
      "0: 512x864 1 camino, 2 obstaculos, 11.6ms\n",
      "0: 512x864 1 camino, 2 obstaculos, 16.2ms\n",
      "0: 512x864 1 camino, 2 obstaculos, 11.7ms\n",
      "0: 512x864 1 camino, 2 obstaculos, 13.7ms\n",
      "0: 512x864 1 camino, 2 obstaculos, 13.0ms\n",
      "0: 512x864 1 camino, 2 obstaculos, 8.2ms\n",
      "0: 512x864 1 camino, 2 obstaculos, 13.5ms\n",
      "0: 512x864 1 camino, 2 obstaculos, 12.5ms\n",
      "0: 512x864 1 camino, 1 obstaculo, 12.7ms\n",
      "0: 512x864 1 camino, 2 obstaculos, 10.5ms\n",
      "0: 512x864 1 camino, 1 obstaculo, 5.9ms\n",
      "0: 512x864 1 camino, 1 obstaculo, 15.8ms\n",
      "0: 512x864 1 camino, 2 obstaculos, 11.5ms\n",
      "0: 512x864 1 camino, 1 obstaculo, 12.3ms\n",
      "0: 512x864 1 camino, 2 obstaculos, 7.3ms\n",
      "0: 512x864 1 camino, 1 obstaculo, 7.1ms\n",
      "0: 512x864 1 camino, 1 obstaculo, 8.7ms\n",
      "0: 512x864 1 camino, 1 obstaculo, 9.0ms\n",
      "0: 512x864 1 camino, 1 obstaculo, 9.9ms\n",
      "0: 512x864 1 camino, 2 obstaculos, 13.6ms\n",
      "0: 512x864 1 camino, 6.1ms\n",
      "0: 512x864 1 camino, 8.7ms\n",
      "0: 512x864 1 camino, 7.4ms\n",
      "0: 512x864 1 camino, 11.3ms\n",
      "0: 512x864 1 camino, 1 obstaculo, 9.5ms\n",
      "0: 512x864 1 camino, 1 obstaculo, 8.7ms\n",
      "0: 512x864 1 camino, 1 obstaculo, 13.7ms\n",
      "0: 512x864 1 camino, 7.1ms\n",
      "0: 512x864 1 camino, 1 obstaculo, 9.9ms\n",
      "0: 512x864 1 camino, 10.7ms\n",
      "0: 512x864 1 camino, 8.9ms\n",
      "0: 512x864 1 camino, 9.7ms\n",
      "0: 512x864 1 camino, 8.8ms\n",
      "0: 512x864 1 camino, 11.2ms\n",
      "0: 512x864 1 camino, 9.1ms\n",
      "0: 512x864 1 camino, 5.1ms\n",
      "0: 512x864 1 camino, 10.3ms\n",
      "0: 512x864 1 camino, 7.3ms\n",
      "0: 512x864 1 camino, 10.9ms\n",
      "0: 512x864 1 camino, 4.0ms\n",
      "0: 512x864 1 camino, 10.4ms\n",
      "0: 512x864 1 camino, 11.0ms\n",
      "0: 512x864 1 camino, 9.5ms\n",
      "0: 512x864 1 camino, 4.9ms\n",
      "0: 512x864 1 camino, 12.1ms\n",
      "0: 512x864 1 camino, 8.1ms\n",
      "0: 512x864 1 camino, 8.5ms\n",
      "0: 512x864 1 camino, 10.3ms\n",
      "0: 512x864 1 camino, 11.9ms\n",
      "0: 512x864 1 camino, 11.0ms\n",
      "0: 512x864 1 camino, 4.6ms\n",
      "0: 512x864 1 camino, 9.5ms\n",
      "0: 512x864 1 camino, 8.4ms\n",
      "0: 512x864 1 camino, 12.5ms\n",
      "0: 512x864 1 camino, 9.5ms\n",
      "0: 512x864 1 camino, 4.2ms\n",
      "0: 512x864 1 camino, 11.1ms\n",
      "0: 512x864 1 camino, 12.0ms\n",
      "0: 512x864 1 camino, 10.1ms\n",
      "0: 512x864 1 camino, 9.5ms\n",
      "0: 512x864 1 camino, 9.2ms\n",
      "0: 512x864 1 camino, 8.8ms\n",
      "0: 512x864 1 camino, 10.7ms\n",
      "0: 512x864 1 camino, 8.7ms\n",
      "0: 512x864 1 camino, 6.4ms\n",
      "0: 512x864 1 camino, 11.8ms\n",
      "0: 512x864 1 camino, 11.3ms\n",
      "0: 512x864 1 camino, 7.3ms\n",
      "0: 512x864 1 camino, 9.5ms\n",
      "0: 512x864 1 camino, 4.1ms\n",
      "0: 512x864 1 camino, 8.0ms\n",
      "0: 512x864 1 camino, 11.8ms\n",
      "0: 512x864 1 camino, 4.2ms\n",
      "0: 512x864 1 camino, 8.0ms\n",
      "0: 512x864 1 camino, 9.0ms\n",
      "0: 512x864 1 camino, 11.1ms\n",
      "0: 512x864 1 camino, 8.0ms\n",
      "0: 512x864 1 camino, 1 obstaculo, 13.2ms\n",
      "0: 512x864 1 camino, 8.6ms\n",
      "0: 512x864 1 camino, 9.2ms\n",
      "0: 512x864 1 camino, 8.8ms\n",
      "0: 512x864 1 camino, 1 obstaculo, 13.0ms\n",
      "0: 512x864 1 camino, 1 obstaculo, 4.3ms\n",
      "0: 512x864 1 camino, 1 obstaculo, 10.0ms\n",
      "0: 512x864 1 camino, 7.2ms\n",
      "0: 512x864 1 camino, 10.3ms\n",
      "0: 512x864 1 camino, 6.3ms\n",
      "0: 512x864 1 camino, 7.6ms\n",
      "0: 512x864 1 camino, 5.2ms\n",
      "0: 512x864 1 camino, 1 obstaculo, 11.5ms\n",
      "0: 512x864 1 camino, 9.6ms\n",
      "0: 512x864 1 camino, 8.1ms\n",
      "0: 512x864 1 camino, 1 obstaculo, 8.7ms\n",
      "0: 512x864 1 camino, 1 obstaculo, 6.0ms\n",
      "0: 512x864 1 camino, 1 obstaculo, 8.0ms\n",
      "0: 512x864 1 camino, 1 obstaculo, 8.3ms\n",
      "0: 512x864 1 camino, 1 obstaculo, 7.5ms\n",
      "0: 512x864 1 camino, 10.1ms\n",
      "0: 512x864 1 camino, 11.2ms\n",
      "0: 512x864 1 camino, 9.7ms\n",
      "0: 512x864 1 camino, 1 obstaculo, 4.6ms\n",
      "0: 512x864 1 camino, 16.0ms\n",
      "0: 512x864 1 camino, 1 obstaculo, 12.7ms\n",
      "0: 512x864 1 camino, 1 obstaculo, 14.2ms\n",
      "0: 512x864 1 camino, 1 obstaculo, 12.6ms\n",
      "0: 512x864 1 camino, 1 obstaculo, 14.3ms\n",
      "0: 512x864 1 camino, 1 obstaculo, 12.5ms\n",
      "0: 512x864 1 camino, 1 obstaculo, 12.5ms\n",
      "0: 512x864 1 camino, 16.2ms\n",
      "0: 512x864 1 camino, 15.4ms\n",
      "0: 512x864 1 camino, 2 obstaculos, 11.5ms\n",
      "0: 512x864 1 camino, 2 obstaculos, 14.0ms\n",
      "0: 512x864 1 camino, 1 obstaculo, 12.8ms\n",
      "0: 512x864 1 camino, 1 obstaculo, 13.7ms\n",
      "0: 512x864 1 camino, 1 obstaculo, 12.2ms\n",
      "0: 512x864 1 camino, 1 obstaculo, 12.7ms\n",
      "0: 512x864 1 camino, 1 obstaculo, 12.9ms\n",
      "0: 512x864 1 camino, 1 obstaculo, 12.4ms\n",
      "0: 512x864 1 camino, 2 obstaculos, 10.5ms\n",
      "0: 512x864 1 camino, 1 obstaculo, 7.3ms\n",
      "0: 512x864 1 camino, 2 obstaculos, 15.1ms\n",
      "0: 512x864 1 camino, 2 obstaculos, 5.0ms\n",
      "0: 512x864 1 camino, 2 obstaculos, 9.8ms\n",
      "0: 512x864 1 camino, 3 obstaculos, 6.9ms\n",
      "0: 512x864 1 camino, 2 obstaculos, 9.5ms\n",
      "0: 512x864 1 camino, 2 obstaculos, 12.0ms\n",
      "0: 512x864 1 camino, 2 obstaculos, 9.7ms\n",
      "0: 512x864 1 camino, 2 obstaculos, 10.2ms\n",
      "0: 512x864 1 camino, 2 obstaculos, 7.4ms\n",
      "0: 512x864 1 camino, 2 obstaculos, 8.7ms\n",
      "0: 512x864 1 camino, 2 obstaculos, 8.7ms\n",
      "0: 512x864 1 camino, 2 obstaculos, 12.4ms\n",
      "0: 512x864 1 camino, 2 obstaculos, 8.2ms\n",
      "0: 512x864 1 camino, 2 obstaculos, 10.2ms\n",
      "0: 512x864 1 camino, 2 obstaculos, 11.1ms\n",
      "0: 512x864 1 camino, 2 obstaculos, 9.2ms\n",
      "0: 512x864 1 camino, 2 obstaculos, 12.9ms\n",
      "0: 512x864 1 camino, 2 obstaculos, 9.1ms\n",
      "0: 512x864 1 camino, 2 obstaculos, 12.6ms\n",
      "0: 512x864 1 camino, 1 obstaculo, 9.9ms\n",
      "0: 512x864 1 camino, 2 obstaculos, 10.9ms\n",
      "0: 512x864 1 camino, 2 obstaculos, 10.1ms\n",
      "0: 512x864 1 camino, 2 obstaculos, 12.1ms\n",
      "0: 512x864 1 camino, 2 obstaculos, 9.3ms\n",
      "0: 512x864 1 camino, 2 obstaculos, 12.5ms\n",
      "0: 512x864 1 camino, 2 obstaculos, 9.9ms\n",
      "0: 512x864 1 camino, 2 obstaculos, 10.6ms\n",
      "0: 512x864 1 camino, 2 obstaculos, 13.5ms\n",
      "0: 512x864 1 camino, 2 obstaculos, 10.3ms\n",
      "0: 512x864 1 camino, 2 obstaculos, 10.1ms\n",
      "0: 512x864 1 camino, 2 obstaculos, 10.0ms\n",
      "0: 512x864 1 camino, 2 obstaculos, 5.7ms\n",
      "0: 512x864 1 camino, 2 obstaculos, 8.5ms\n",
      "0: 512x864 1 camino, 2 obstaculos, 8.5ms\n",
      "0: 512x864 1 camino, 3 obstaculos, 9.5ms\n",
      "0: 512x864 1 camino, 3 obstaculos, 5.5ms\n",
      "0: 512x864 1 camino, 2 obstaculos, 9.1ms\n",
      "0: 512x864 1 camino, 1 obstaculo, 8.9ms\n",
      "0: 512x864 1 camino, 1 obstaculo, 15.0ms\n",
      "0: 512x864 1 camino, 1 obstaculo, 15.0ms\n",
      "0: 512x864 1 camino, 1 obstaculo, 12.4ms\n",
      "0: 512x864 1 camino, 1 obstaculo, 10.3ms\n",
      "0: 512x864 1 camino, 1 obstaculo, 13.7ms\n",
      "0: 512x864 1 camino, 1 obstaculo, 4.2ms\n",
      "0: 512x864 1 camino, 1 obstaculo, 10.3ms\n",
      "0: 512x864 1 camino, 1 obstaculo, 5.9ms\n",
      "0: 512x864 1 camino, 1 obstaculo, 12.0ms\n",
      "0: 512x864 1 camino, 1 obstaculo, 9.7ms\n",
      "0: 512x864 1 camino, 1 obstaculo, 12.5ms\n",
      "0: 512x864 1 camino, 1 obstaculo, 9.1ms\n",
      "0: 512x864 1 camino, 1 obstaculo, 10.0ms\n",
      "0: 512x864 1 camino, 1 obstaculo, 7.4ms\n",
      "0: 512x864 1 camino, 1 obstaculo, 10.1ms\n",
      "0: 512x864 1 camino, 1 obstaculo, 10.9ms\n",
      "0: 512x864 1 camino, 1 obstaculo, 11.0ms\n",
      "0: 512x864 1 camino, 1 obstaculo, 5.8ms\n",
      "0: 512x864 1 camino, 1 obstaculo, 13.7ms\n",
      "0: 512x864 1 camino, 1 obstaculo, 13.4ms\n",
      "0: 512x864 1 camino, 1 obstaculo, 10.7ms\n",
      "0: 512x864 1 camino, 1 obstaculo, 10.7ms\n",
      "0: 512x864 1 camino, 1 obstaculo, 10.1ms\n",
      "0: 512x864 1 camino, 1 obstaculo, 11.1ms\n",
      "0: 512x864 1 camino, 1 obstaculo, 10.8ms\n",
      "0: 512x864 1 camino, 1 obstaculo, 12.5ms\n",
      "0: 512x864 2 caminos, 1 obstaculo, 10.8ms\n",
      "0: 512x864 2 caminos, 1 obstaculo, 12.0ms\n",
      "0: 512x864 2 caminos, 1 obstaculo, 11.1ms\n",
      "0: 512x864 1 camino, 1 obstaculo, 11.5ms\n",
      "0: 512x864 1 camino, 1 obstaculo, 13.4ms\n",
      "0: 512x864 1 camino, 1 obstaculo, 11.0ms\n",
      "0: 512x864 1 camino, 1 obstaculo, 10.3ms\n",
      "0: 512x864 1 camino, 1 obstaculo, 8.5ms\n",
      "0: 512x864 2 caminos, 1 obstaculo, 9.9ms\n",
      "0: 512x864 1 camino, 1 obstaculo, 10.1ms\n",
      "0: 512x864 1 camino, 1 obstaculo, 6.0ms\n",
      "0: 512x864 1 camino, 1 obstaculo, 11.8ms\n",
      "0: 512x864 2 caminos, 1 obstaculo, 5.6ms\n",
      "0: 512x864 1 camino, 1 obstaculo, 9.0ms\n",
      "0: 512x864 1 camino, 1 obstaculo, 10.2ms\n",
      "0: 512x864 1 camino, 1 obstaculo, 9.1ms\n",
      "0: 512x864 1 camino, 1 obstaculo, 4.1ms\n",
      "0: 512x864 1 camino, 1 obstaculo, 8.1ms\n",
      "0: 512x864 1 camino, 1 obstaculo, 10.1ms\n",
      "0: 512x864 1 camino, 2 obstaculos, 9.9ms\n",
      "0: 512x864 1 camino, 1 obstaculo, 8.3ms\n",
      "0: 512x864 1 camino, 1 obstaculo, 9.0ms\n",
      "0: 512x864 1 camino, 1 obstaculo, 8.5ms\n",
      "0: 512x864 1 camino, 1 obstaculo, 4.8ms\n",
      "0: 512x864 1 camino, 2 obstaculos, 10.1ms\n",
      "0: 512x864 1 camino, 2 obstaculos, 9.5ms\n",
      "0: 512x864 1 camino, 2 obstaculos, 15.9ms\n",
      "0: 512x864 1 camino, 2 obstaculos, 8.6ms\n",
      "0: 512x864 1 camino, 2 obstaculos, 12.1ms\n",
      "0: 512x864 1 camino, 2 obstaculos, 9.1ms\n",
      "0: 512x864 1 camino, 2 obstaculos, 9.4ms\n",
      "0: 512x864 1 camino, 2 obstaculos, 9.6ms\n",
      "0: 512x864 1 camino, 2 obstaculos, 8.4ms\n",
      "0: 512x864 1 camino, 2 obstaculos, 6.3ms\n",
      "0: 512x864 1 camino, 2 obstaculos, 5.8ms\n",
      "0: 512x864 1 camino, 2 obstaculos, 8.5ms\n",
      "0: 512x864 1 camino, 2 obstaculos, 7.4ms\n",
      "0: 512x864 1 camino, 2 obstaculos, 4.0ms\n",
      "0: 512x864 1 camino, 2 obstaculos, 9.5ms\n",
      "0: 512x864 1 camino, 2 obstaculos, 9.9ms\n",
      "0: 512x864 1 camino, 1 obstaculo, 9.1ms\n",
      "0: 512x864 1 camino, 1 obstaculo, 6.4ms\n",
      "0: 512x864 1 camino, 1 obstaculo, 9.7ms\n",
      "0: 512x864 1 camino, 1 obstaculo, 7.8ms\n",
      "0: 512x864 1 camino, 1 obstaculo, 12.2ms\n",
      "0: 512x864 1 camino, 1 obstaculo, 8.9ms\n",
      "0: 512x864 1 camino, 2 obstaculos, 11.3ms\n",
      "0: 512x864 1 camino, 1 obstaculo, 4.5ms\n",
      "0: 512x864 1 camino, 1 obstaculo, 9.8ms\n",
      "0: 512x864 1 camino, 1 obstaculo, 10.0ms\n",
      "0: 512x864 1 camino, 1 obstaculo, 8.5ms\n",
      "0: 512x864 1 camino, 2 obstaculos, 5.6ms\n",
      "0: 512x864 1 camino, 1 obstaculo, 12.8ms\n",
      "0: 512x864 1 camino, 1 obstaculo, 8.7ms\n",
      "0: 512x864 1 camino, 1 obstaculo, 5.2ms\n",
      "0: 512x864 1 camino, 1 obstaculo, 9.7ms\n",
      "0: 512x864 1 camino, 1 obstaculo, 8.9ms\n",
      "0: 512x864 1 camino, 1 obstaculo, 8.7ms\n",
      "0: 512x864 1 camino, 1 obstaculo, 6.2ms\n",
      "0: 512x864 1 camino, 1 obstaculo, 8.8ms\n",
      "0: 512x864 1 camino, 1 obstaculo, 5.8ms\n",
      "0: 512x864 1 camino, 1 obstaculo, 11.0ms\n",
      "0: 512x864 1 camino, 1 obstaculo, 8.7ms\n",
      "0: 512x864 1 camino, 1 obstaculo, 6.5ms\n",
      "0: 512x864 1 camino, 2 obstaculos, 12.3ms\n",
      "0: 512x864 1 camino, 1 obstaculo, 7.9ms\n",
      "0: 512x864 1 camino, 1 obstaculo, 8.8ms\n",
      "0: 512x864 1 camino, 2 obstaculos, 8.9ms\n",
      "0: 512x864 1 camino, 1 obstaculo, 9.4ms\n",
      "0: 512x864 1 camino, 1 obstaculo, 9.5ms\n",
      "0: 512x864 1 camino, 2 obstaculos, 5.2ms\n",
      "0: 512x864 1 camino, 2 obstaculos, 8.6ms\n",
      "0: 512x864 1 camino, 1 obstaculo, 5.7ms\n",
      "0: 512x864 1 camino, 2 obstaculos, 12.8ms\n",
      "0: 512x864 1 camino, 2 obstaculos, 9.1ms\n",
      "0: 512x864 1 camino, 2 obstaculos, 11.2ms\n",
      "0: 512x864 1 camino, 1 obstaculo, 4.2ms\n",
      "0: 512x864 1 camino, 2 obstaculos, 8.9ms\n",
      "0: 512x864 1 camino, 1 obstaculo, 8.0ms\n",
      "0: 512x864 1 camino, 1 obstaculo, 9.7ms\n",
      "0: 512x864 1 camino, 2 obstaculos, 8.3ms\n",
      "0: 512x864 1 camino, 2 obstaculos, 9.1ms\n",
      "0: 512x864 1 camino, 2 obstaculos, 10.1ms\n",
      "0: 512x864 1 camino, 2 obstaculos, 11.7ms\n",
      "0: 512x864 1 camino, 1 obstaculo, 15.7ms\n",
      "0: 512x864 1 camino, 1 obstaculo, 5.5ms\n",
      "0: 512x864 1 camino, 1 obstaculo, 5.2ms\n",
      "0: 512x864 1 camino, 2 obstaculos, 8.2ms\n",
      "0: 512x864 1 camino, 2 obstaculos, 8.4ms\n",
      "0: 512x864 1 camino, 1 obstaculo, 6.2ms\n",
      "0: 512x864 1 camino, 1 obstaculo, 8.2ms\n",
      "0: 512x864 1 camino, 1 obstaculo, 8.1ms\n",
      "0: 512x864 1 camino, 1 obstaculo, 5.8ms\n",
      "0: 512x864 1 camino, 2 obstaculos, 9.5ms\n",
      "0: 512x864 1 camino, 2 obstaculos, 4.7ms\n",
      "0: 512x864 1 camino, 2 obstaculos, 9.6ms\n",
      "0: 512x864 1 camino, 1 obstaculo, 9.2ms\n",
      "0: 512x864 1 camino, 1 obstaculo, 9.3ms\n",
      "0: 512x864 1 camino, 2 obstaculos, 9.5ms\n",
      "0: 512x864 1 camino, 2 obstaculos, 8.3ms\n",
      "0: 512x864 1 camino, 2 obstaculos, 9.5ms\n",
      "0: 512x864 1 camino, 2 obstaculos, 11.6ms\n",
      "0: 512x864 1 camino, 1 obstaculo, 4.4ms\n",
      "0: 512x864 1 camino, 2 obstaculos, 13.0ms\n",
      "0: 512x864 1 camino, 2 obstaculos, 7.8ms\n",
      "0: 512x864 1 camino, 2 obstaculos, 9.8ms\n",
      "0: 512x864 1 camino, 1 obstaculo, 12.0ms\n",
      "0: 512x864 1 camino, 1 obstaculo, 8.9ms\n",
      "0: 512x864 1 camino, 1 obstaculo, 9.8ms\n",
      "0: 512x864 1 camino, 1 obstaculo, 9.8ms\n",
      "0: 512x864 1 camino, 1 obstaculo, 10.6ms\n",
      "WARNING  Waiting for stream 0\n",
      "0: 512x864 1 camino, 2 obstaculos, 10.0ms\n",
      "0: 512x864 1 camino, 2 obstaculos, 3.6ms\n",
      "0: 512x864 1 camino, 2 obstaculos, 9.6ms\n",
      "0: 512x864 1 camino, 2 obstaculos, 18.2ms\n",
      "0: 512x864 1 camino, 2 obstaculos, 8.0ms\n",
      "0: 512x864 1 camino, 2 obstaculos, 12.5ms\n",
      "0: 512x864 1 camino, 2 obstaculos, 9.6ms\n",
      "0: 512x864 1 camino, 2 obstaculos, 11.8ms\n",
      "0: 512x864 1 camino, 2 obstaculos, 9.4ms\n",
      "0: 512x864 1 camino, 2 obstaculos, 10.2ms\n",
      "0: 512x864 1 camino, 2 obstaculos, 10.2ms\n",
      "0: 512x864 1 camino, 2 obstaculos, 11.3ms\n",
      "0: 512x864 1 camino, 2 obstaculos, 4.2ms\n",
      "0: 512x864 1 camino, 1 obstaculo, 12.9ms\n",
      "0: 512x864 1 camino, 1 obstaculo, 10.8ms\n",
      "0: 512x864 1 camino, 1 obstaculo, 13.5ms\n",
      "0: 512x864 1 camino, 2 obstaculos, 11.5ms\n",
      "0: 512x864 1 camino, 2 obstaculos, 10.6ms\n",
      "0: 512x864 1 camino, 2 obstaculos, 10.1ms\n",
      "0: 512x864 1 camino, 1 obstaculo, 9.3ms\n",
      "0: 512x864 1 camino, 1 obstaculo, 8.5ms\n",
      "0: 512x864 1 camino, 2 obstaculos, 12.4ms\n",
      "0: 512x864 1 camino, 1 obstaculo, 13.3ms\n",
      "0: 512x864 1 camino, 1 obstaculo, 9.4ms\n",
      "0: 512x864 2 caminos, 1 obstaculo, 14.2ms\n",
      "0: 512x864 2 caminos, 1 obstaculo, 9.7ms\n",
      "0: 512x864 2 caminos, 1 obstaculo, 10.4ms\n",
      "0: 512x864 1 camino, 1 obstaculo, 13.0ms\n",
      "0: 512x864 1 camino, 1 obstaculo, 11.9ms\n",
      "0: 512x864 1 camino, 1 obstaculo, 16.2ms\n",
      "0: 512x864 1 camino, 1 obstaculo, 11.8ms\n",
      "0: 512x864 1 camino, 1 obstaculo, 17.3ms\n",
      "0: 512x864 1 camino, 1 obstaculo, 13.1ms\n",
      "0: 512x864 1 camino, 1 obstaculo, 12.2ms\n",
      "0: 512x864 1 camino, 1 obstaculo, 8.3ms\n",
      "0: 512x864 1 camino, 1 obstaculo, 14.7ms\n",
      "0: 512x864 1 camino, 1 obstaculo, 12.1ms\n",
      "0: 512x864 1 camino, 1 obstaculo, 16.0ms\n",
      "0: 512x864 1 camino, 1 obstaculo, 12.8ms\n",
      "0: 512x864 1 camino, 1 obstaculo, 13.5ms\n",
      "0: 512x864 1 camino, 1 obstaculo, 9.0ms\n",
      "0: 512x864 1 camino, 1 obstaculo, 9.8ms\n",
      "0: 512x864 1 camino, 1 obstaculo, 7.3ms\n",
      "0: 512x864 1 camino, 1 obstaculo, 8.7ms\n",
      "0: 512x864 1 camino, 1 obstaculo, 9.3ms\n",
      "0: 512x864 1 camino, 1 obstaculo, 9.7ms\n",
      "0: 512x864 1 obstaculo, 7.6ms\n",
      "0: 512x864 1 camino, 1 obstaculo, 8.6ms\n",
      "0: 512x864 1 obstaculo, 9.7ms\n",
      "0: 512x864 1 obstaculo, 11.4ms\n",
      "0: 512x864 1 obstaculo, 6.1ms\n",
      "0: 512x864 1 obstaculo, 11.6ms\n",
      "0: 512x864 1 obstaculo, 14.1ms\n",
      "0: 512x864 1 obstaculo, 6.7ms\n",
      "0: 512x864 1 obstaculo, 5.1ms\n",
      "0: 512x864 1 obstaculo, 12.8ms\n",
      "0: 512x864 1 obstaculo, 9.5ms\n",
      "0: 512x864 1 camino, 1 obstaculo, 10.6ms\n",
      "0: 512x864 1 obstaculo, 9.0ms\n",
      "0: 512x864 1 camino, 1 obstaculo, 8.5ms\n",
      "0: 512x864 1 camino, 1 obstaculo, 7.4ms\n",
      "0: 512x864 1 camino, 1 obstaculo, 5.9ms\n",
      "0: 512x864 1 camino, 1 obstaculo, 9.9ms\n",
      "0: 512x864 1 camino, 6.7ms\n",
      "0: 512x864 1 camino, 6.7ms\n",
      "0: 512x864 1 camino, 12.0ms\n",
      "0: 512x864 1 camino, 10.9ms\n",
      "0: 512x864 1 camino, 6.0ms\n",
      "0: 512x864 1 camino, 1 obstaculo, 12.7ms\n",
      "0: 512x864 1 camino, 1 obstaculo, 11.5ms\n",
      "0: 512x864 1 camino, 1 obstaculo, 6.9ms\n",
      "0: 512x864 1 camino, 1 obstaculo, 10.3ms\n",
      "0: 512x864 1 camino, 11.0ms\n",
      "0: 512x864 1 camino, 8.6ms\n",
      "0: 512x864 1 camino, 4.6ms\n",
      "0: 512x864 1 camino, 5.7ms\n",
      "0: 512x864 1 camino, 1 obstaculo, 8.9ms\n",
      "0: 512x864 1 camino, 1 obstaculo, 9.2ms\n",
      "0: 512x864 1 camino, 1 obstaculo, 10.8ms\n",
      "0: 512x864 1 camino, 1 obstaculo, 8.3ms\n",
      "0: 512x864 1 camino, 1 obstaculo, 10.0ms\n",
      "0: 512x864 1 camino, 1 obstaculo, 15.1ms\n",
      "0: 512x864 1 camino, 1 obstaculo, 9.5ms\n",
      "0: 512x864 1 camino, 1 obstaculo, 10.8ms\n",
      "0: 512x864 1 camino, 1 obstaculo, 8.7ms\n",
      "0: 512x864 1 camino, 1 obstaculo, 8.7ms\n",
      "0: 512x864 1 camino, 1 obstaculo, 10.3ms\n",
      "0: 512x864 1 camino, 1 obstaculo, 12.0ms\n",
      "0: 512x864 1 obstaculo, 8.7ms\n",
      "0: 512x864 1 camino, 1 obstaculo, 8.3ms\n",
      "0: 512x864 1 camino, 1 obstaculo, 8.3ms\n",
      "0: 512x864 1 camino, 1 obstaculo, 6.8ms\n",
      "0: 512x864 1 camino, 1 obstaculo, 10.6ms\n",
      "0: 512x864 1 camino, 1 obstaculo, 11.8ms\n",
      "0: 512x864 1 obstaculo, 7.1ms\n",
      "0: 512x864 1 obstaculo, 12.1ms\n",
      "0: 512x864 1 obstaculo, 9.8ms\n",
      "0: 512x864 1 obstaculo, 11.6ms\n",
      "0: 512x864 1 obstaculo, 5.7ms\n",
      "0: 512x864 1 obstaculo, 8.6ms\n",
      "0: 512x864 1 obstaculo, 9.1ms\n",
      "0: 512x864 1 obstaculo, 11.0ms\n",
      "0: 512x864 1 obstaculo, 8.6ms\n",
      "0: 512x864 1 obstaculo, 11.5ms\n",
      "0: 512x864 1 obstaculo, 9.7ms\n",
      "0: 512x864 1 obstaculo, 5.7ms\n",
      "0: 512x864 1 obstaculo, 9.4ms\n",
      "0: 512x864 1 obstaculo, 4.7ms\n",
      "0: 512x864 1 obstaculo, 10.3ms\n",
      "0: 512x864 1 obstaculo, 12.3ms\n",
      "0: 512x864 1 obstaculo, 10.2ms\n",
      "0: 512x864 1 camino, 1 obstaculo, 4.3ms\n",
      "0: 512x864 1 obstaculo, 8.3ms\n",
      "0: 512x864 1 obstaculo, 6.9ms\n",
      "0: 512x864 1 obstaculo, 10.0ms\n",
      "0: 512x864 1 obstaculo, 11.1ms\n",
      "0: 512x864 1 obstaculo, 7.0ms\n",
      "0: 512x864 1 obstaculo, 12.2ms\n",
      "0: 512x864 1 obstaculo, 9.3ms\n",
      "0: 512x864 1 camino, 1 obstaculo, 7.7ms\n",
      "0: 512x864 1 camino, 1 obstaculo, 8.2ms\n",
      "0: 512x864 1 camino, 1 obstaculo, 7.9ms\n",
      "0: 512x864 1 camino, 1 obstaculo, 7.3ms\n",
      "0: 512x864 1 camino, 2 obstaculos, 11.8ms\n",
      "0: 512x864 1 camino, 1 obstaculo, 10.6ms\n",
      "0: 512x864 1 camino, 1 obstaculo, 10.9ms\n",
      "0: 512x864 1 camino, 1 obstaculo, 13.2ms\n",
      "0: 512x864 1 camino, 1 obstaculo, 13.2ms\n",
      "0: 512x864 1 camino, 11.6ms\n",
      "0: 512x864 1 camino, 1 obstaculo, 12.1ms\n",
      "0: 512x864 1 camino, 10.9ms\n",
      "0: 512x864 1 camino, 1 obstaculo, 10.4ms\n",
      "0: 512x864 1 camino, 14.7ms\n",
      "0: 512x864 1 camino, 9.5ms\n",
      "0: 512x864 1 camino, 15.0ms\n",
      "0: 512x864 1 camino, 12.6ms\n",
      "0: 512x864 1 camino, 13.9ms\n",
      "0: 512x864 1 camino, 9.7ms\n",
      "0: 512x864 1 camino, 13.7ms\n",
      "0: 512x864 1 camino, 13.3ms\n",
      "0: 512x864 1 camino, 2 obstaculos, 12.5ms\n",
      "0: 512x864 1 camino, 2 obstaculos, 13.7ms\n",
      "0: 512x864 1 camino, 10.3ms\n",
      "0: 512x864 1 camino, 13.3ms\n",
      "0: 512x864 1 camino, 9.0ms\n",
      "0: 512x864 1 camino, 10.6ms\n",
      "0: 512x864 1 obstaculo, 11.6ms\n",
      "0: 512x864 1 obstaculo, 9.5ms\n",
      "0: 512x864 1 camino, 1 obstaculo, 9.7ms\n",
      "0: 512x864 1 camino, 1 obstaculo, 9.9ms\n",
      "0: 512x864 2 caminos, 1 obstaculo, 10.7ms\n",
      "0: 512x864 1 camino, 1 obstaculo, 12.4ms\n",
      "0: 512x864 1 camino, 1 obstaculo, 9.9ms\n",
      "0: 512x864 1 obstaculo, 8.3ms\n",
      "0: 512x864 1 obstaculo, 10.8ms\n",
      "0: 512x864 1 camino, 1 obstaculo, 10.7ms\n",
      "0: 512x864 1 camino, 1 obstaculo, 14.2ms\n",
      "0: 512x864 1 obstaculo, 11.1ms\n",
      "0: 512x864 1 camino, 1 obstaculo, 11.0ms\n",
      "0: 512x864 1 camino, 1 obstaculo, 12.4ms\n",
      "0: 512x864 1 camino, 1 obstaculo, 10.9ms\n",
      "0: 512x864 1 camino, 1 obstaculo, 10.8ms\n",
      "0: 512x864 2 obstaculos, 9.2ms\n",
      "0: 512x864 1 camino, 1 obstaculo, 13.1ms\n",
      "0: 512x864 1 camino, 7.7ms\n",
      "0: 512x864 1 camino, 10.2ms\n",
      "0: 512x864 1 camino, 6.3ms\n",
      "0: 512x864 1 camino, 1 obstaculo, 12.1ms\n",
      "0: 512x864 1 camino, 10.8ms\n",
      "0: 512x864 1 camino, 12.9ms\n",
      "0: 512x864 1 camino, 12.6ms\n",
      "0: 512x864 1 camino, 11.4ms\n",
      "0: 512x864 1 camino, 13.5ms\n",
      "0: 512x864 1 camino, 11.3ms\n",
      "0: 512x864 1 camino, 9.5ms\n",
      "0: 512x864 1 camino, 9.9ms\n",
      "0: 512x864 1 camino, 10.8ms\n",
      "0: 512x864 1 camino, 10.5ms\n",
      "0: 512x864 1 camino, 4.2ms\n",
      "0: 512x864 1 camino, 11.6ms\n",
      "0: 512x864 1 camino, 11.7ms\n",
      "0: 512x864 1 camino, 10.2ms\n",
      "0: 512x864 1 obstaculo, 10.6ms\n",
      "0: 512x864 1 camino, 4.0ms\n",
      "0: 512x864 1 obstaculo, 10.2ms\n",
      "0: 512x864 1 obstaculo, 12.1ms\n",
      "0: 512x864 1 camino, 1 obstaculo, 5.5ms\n",
      "0: 512x864 1 camino, 14.5ms\n",
      "0: 512x864 1 camino, 16.1ms\n",
      "0: 512x864 1 camino, 1 obstaculo, 10.0ms\n",
      "0: 512x864 1 camino, 1 obstaculo, 10.0ms\n",
      "0: 512x864 1 camino, 1 obstaculo, 9.8ms\n",
      "0: 512x864 1 camino, 1 obstaculo, 9.3ms\n",
      "0: 512x864 1 camino, 1 obstaculo, 9.6ms\n",
      "0: 512x864 1 camino, 1 obstaculo, 10.6ms\n",
      "0: 512x864 1 camino, 1 obstaculo, 4.3ms\n",
      "0: 512x864 1 camino, 1 obstaculo, 11.5ms\n",
      "0: 512x864 1 camino, 1 obstaculo, 11.6ms\n",
      "0: 512x864 1 camino, 1 obstaculo, 11.2ms\n",
      "0: 512x864 1 camino, 1 obstaculo, 12.2ms\n",
      "0: 512x864 1 camino, 1 obstaculo, 11.5ms\n",
      "0: 512x864 1 camino, 1 obstaculo, 10.3ms\n",
      "0: 512x864 1 camino, 1 obstaculo, 14.2ms\n",
      "0: 512x864 1 camino, 2 obstaculos, 10.6ms\n",
      "0: 512x864 1 camino, 1 obstaculo, 11.4ms\n",
      "0: 512x864 1 camino, 1 obstaculo, 6.9ms\n",
      "0: 512x864 1 camino, 1 obstaculo, 9.3ms\n",
      "0: 512x864 1 camino, 1 obstaculo, 12.9ms\n",
      "0: 512x864 1 camino, 1 obstaculo, 14.1ms\n",
      "0: 512x864 1 camino, 1 obstaculo, 7.7ms\n",
      "0: 512x864 1 camino, 1 obstaculo, 10.8ms\n",
      "0: 512x864 1 camino, 1 obstaculo, 7.3ms\n",
      "0: 512x864 2 caminos, 1 obstaculo, 5.7ms\n",
      "0: 512x864 1 camino, 1 obstaculo, 9.0ms\n",
      "0: 512x864 1 camino, 1 obstaculo, 10.6ms\n",
      "0: 512x864 1 camino, 1 obstaculo, 10.8ms\n",
      "0: 512x864 1 camino, 1 obstaculo, 15.2ms\n",
      "0: 512x864 1 camino, 1 obstaculo, 5.8ms\n",
      "0: 512x864 1 camino, 1 obstaculo, 8.8ms\n",
      "0: 512x864 1 camino, 1 obstaculo, 9.9ms\n",
      "0: 512x864 1 camino, 1 obstaculo, 9.8ms\n",
      "0: 512x864 1 camino, 1 obstaculo, 12.2ms\n",
      "0: 512x864 1 camino, 1 obstaculo, 10.1ms\n",
      "0: 512x864 1 camino, 1 obstaculo, 16.1ms\n",
      "0: 512x864 1 camino, 1 obstaculo, 13.3ms\n",
      "0: 512x864 1 camino, 1 obstaculo, 5.1ms\n",
      "0: 512x864 1 camino, 1 obstaculo, 10.3ms\n",
      "0: 512x864 1 camino, 1 obstaculo, 6.2ms\n",
      "0: 512x864 1 camino, 1 obstaculo, 12.1ms\n",
      "0: 512x864 1 camino, 1 obstaculo, 7.2ms\n",
      "0: 512x864 1 camino, 1 obstaculo, 11.5ms\n",
      "0: 512x864 1 camino, 1 obstaculo, 8.1ms\n",
      "0: 512x864 1 camino, 1 obstaculo, 11.4ms\n",
      "0: 512x864 1 camino, 1 obstaculo, 11.7ms\n",
      "0: 512x864 1 camino, 1 obstaculo, 10.5ms\n",
      "0: 512x864 1 camino, 1 obstaculo, 12.4ms\n",
      "0: 512x864 1 camino, 1 obstaculo, 10.0ms\n",
      "0: 512x864 1 camino, 1 obstaculo, 11.3ms\n",
      "0: 512x864 1 camino, 1 obstaculo, 7.6ms\n",
      "0: 512x864 1 camino, 1 obstaculo, 10.5ms\n",
      "0: 512x864 1 camino, 1 obstaculo, 14.2ms\n",
      "0: 512x864 1 camino, 1 obstaculo, 12.9ms\n",
      "0: 512x864 1 camino, 1 obstaculo, 12.6ms\n",
      "0: 512x864 1 camino, 1 obstaculo, 11.0ms\n",
      "0: 512x864 1 camino, 1 obstaculo, 10.2ms\n",
      "0: 512x864 1 camino, 1 obstaculo, 13.5ms\n",
      "0: 512x864 1 camino, 1 obstaculo, 12.0ms\n",
      "0: 512x864 1 camino, 1 obstaculo, 12.0ms\n",
      "0: 512x864 1 camino, 1 obstaculo, 13.1ms\n",
      "0: 512x864 1 camino, 1 obstaculo, 11.5ms\n",
      "0: 512x864 1 camino, 1 obstaculo, 11.5ms\n",
      "0: 512x864 1 camino, 1 obstaculo, 11.5ms\n",
      "0: 512x864 1 camino, 1 obstaculo, 12.5ms\n",
      "0: 512x864 1 camino, 1 obstaculo, 12.5ms\n",
      "0: 512x864 1 camino, 1 obstaculo, 12.5ms\n",
      "0: 512x864 1 camino, 1 obstaculo, 11.1ms\n",
      "0: 512x864 1 camino, 1 obstaculo, 11.0ms\n",
      "0: 512x864 1 camino, 1 obstaculo, 11.3ms\n",
      "0: 512x864 1 camino, 1 obstaculo, 10.4ms\n",
      "0: 512x864 1 camino, 1 obstaculo, 10.5ms\n",
      "0: 512x864 1 camino, 1 obstaculo, 12.5ms\n",
      "0: 512x864 1 camino, 1 obstaculo, 14.0ms\n",
      "0: 512x864 1 camino, 1 obstaculo, 11.5ms\n",
      "0: 512x864 1 camino, 1 obstaculo, 10.6ms\n",
      "0: 512x864 1 camino, 1 obstaculo, 11.5ms\n",
      "0: 512x864 1 camino, 1 obstaculo, 10.5ms\n",
      "0: 512x864 1 camino, 1 obstaculo, 10.2ms\n",
      "0: 512x864 1 camino, 1 obstaculo, 11.3ms\n",
      "0: 512x864 1 camino, 1 obstaculo, 10.1ms\n",
      "0: 512x864 1 camino, 1 obstaculo, 10.5ms\n",
      "0: 512x864 1 camino, 1 obstaculo, 10.5ms\n",
      "0: 512x864 1 camino, 1 obstaculo, 11.0ms\n",
      "0: 512x864 1 camino, 1 obstaculo, 12.0ms\n",
      "0: 512x864 1 camino, 1 obstaculo, 12.0ms\n",
      "0: 512x864 1 camino, 1 obstaculo, 12.2ms\n",
      "0: 512x864 1 camino, 1 obstaculo, 10.4ms\n",
      "0: 512x864 1 camino, 1 obstaculo, 11.3ms\n",
      "0: 512x864 1 camino, 1 obstaculo, 11.5ms\n",
      "0: 512x864 1 camino, 1 obstaculo, 10.5ms\n",
      "0: 512x864 1 camino, 1 obstaculo, 10.1ms\n",
      "0: 512x864 1 camino, 1 obstaculo, 11.5ms\n",
      "0: 512x864 1 camino, 1 obstaculo, 11.8ms\n",
      "0: 512x864 1 camino, 1 obstaculo, 10.5ms\n",
      "0: 512x864 1 camino, 1 obstaculo, 11.2ms\n",
      "0: 512x864 1 camino, 1 obstaculo, 10.5ms\n",
      "0: 512x864 1 camino, 1 obstaculo, 11.5ms\n",
      "0: 512x864 1 camino, 1 obstaculo, 11.5ms\n",
      "0: 512x864 1 camino, 1 obstaculo, 12.0ms\n",
      "0: 512x864 1 camino, 2 obstaculos, 10.5ms\n",
      "0: 512x864 1 camino, 1 obstaculo, 10.5ms\n",
      "0: 512x864 1 camino, 1 obstaculo, 10.5ms\n",
      "0: 512x864 1 camino, 2 obstaculos, 11.1ms\n",
      "0: 512x864 1 camino, 1 obstaculo, 10.5ms\n",
      "0: 512x864 1 camino, 1 obstaculo, 10.5ms\n",
      "0: 512x864 1 camino, 1 obstaculo, 11.2ms\n",
      "0: 512x864 1 camino, 1 obstaculo, 11.5ms\n",
      "0: 512x864 1 camino, 1 obstaculo, 12.5ms\n",
      "0: 512x864 1 camino, 1 obstaculo, 12.5ms\n",
      "0: 512x864 1 camino, 1 obstaculo, 18.0ms\n",
      "0: 512x864 1 camino, 1 obstaculo, 12.5ms\n",
      "0: 512x864 1 camino, 1 obstaculo, 13.5ms\n",
      "0: 512x864 1 camino, 1 obstaculo, 12.5ms\n",
      "0: 512x864 1 camino, 1 obstaculo, 13.2ms\n",
      "0: 512x864 1 camino, 1 obstaculo, 14.0ms\n",
      "0: 512x864 1 camino, 1 obstaculo, 12.2ms\n",
      "0: 512x864 1 camino, 1 obstaculo, 12.0ms\n",
      "0: 512x864 1 camino, 2 obstaculos, 12.1ms\n",
      "0: 512x864 1 camino, 2 obstaculos, 12.6ms\n",
      "0: 512x864 1 camino, 2 obstaculos, 13.0ms\n",
      "0: 512x864 1 camino, 1 obstaculo, 13.0ms\n",
      "0: 512x864 1 camino, 1 obstaculo, 12.0ms\n",
      "0: 512x864 1 camino, 2 obstaculos, 9.5ms\n",
      "0: 512x864 1 camino, 2 obstaculos, 8.5ms\n",
      "0: 512x864 1 camino, 2 obstaculos, 10.0ms\n",
      "0: 512x864 1 camino, 2 obstaculos, 8.5ms\n",
      "0: 512x864 1 camino, 1 obstaculo, 9.0ms\n",
      "0: 512x864 1 camino, 1 obstaculo, 10.5ms\n",
      "0: 512x864 1 camino, 2 obstaculos, 9.5ms\n",
      "0: 512x864 1 camino, 2 obstaculos, 9.5ms\n",
      "0: 512x864 1 camino, 1 obstaculo, 9.1ms\n",
      "0: 512x864 1 camino, 2 obstaculos, 9.2ms\n",
      "0: 512x864 1 camino, 2 obstaculos, 9.9ms\n",
      "0: 512x864 1 camino, 1 obstaculo, 9.5ms\n",
      "0: 512x864 1 camino, 2 obstaculos, 10.0ms\n",
      "0: 512x864 1 camino, 1 obstaculo, 9.8ms\n",
      "0: 512x864 1 camino, 1 obstaculo, 9.9ms\n",
      "0: 512x864 1 camino, 1 obstaculo, 10.1ms\n",
      "0: 512x864 1 camino, 1 obstaculo, 9.1ms\n",
      "0: 512x864 1 camino, 2 obstaculos, 13.7ms\n",
      "0: 512x864 1 camino, 2 obstaculos, 9.5ms\n",
      "0: 512x864 1 camino, 2 obstaculos, 9.5ms\n",
      "0: 512x864 1 camino, 1 obstaculo, 10.1ms\n",
      "0: 512x864 1 camino, 1 obstaculo, 10.5ms\n",
      "0: 512x864 1 camino, 1 obstaculo, 9.5ms\n",
      "0: 512x864 1 camino, 2 obstaculos, 8.5ms\n",
      "0: 512x864 1 camino, 1 obstaculo, 9.0ms\n",
      "0: 512x864 1 camino, 1 obstaculo, 9.5ms\n",
      "0: 512x864 1 camino, 1 obstaculo, 11.5ms\n",
      "0: 512x864 1 camino, 1 obstaculo, 9.1ms\n",
      "0: 512x864 1 camino, 1 obstaculo, 10.5ms\n",
      "0: 512x864 1 camino, 2 obstaculos, 11.0ms\n",
      "0: 512x864 1 camino, 1 obstaculo, 8.5ms\n",
      "0: 512x864 1 camino, 1 obstaculo, 9.5ms\n",
      "0: 512x864 1 camino, 1 obstaculo, 10.0ms\n",
      "0: 512x864 1 camino, 1 obstaculo, 9.1ms\n",
      "0: 512x864 1 camino, 1 obstaculo, 10.5ms\n",
      "0: 512x864 1 camino, 2 obstaculos, 9.5ms\n",
      "0: 512x864 1 camino, 1 obstaculo, 9.5ms\n",
      "0: 512x864 1 camino, 2 obstaculos, 10.5ms\n",
      "0: 512x864 1 camino, 2 obstaculos, 9.2ms\n",
      "0: 512x864 1 camino, 1 obstaculo, 9.5ms\n",
      "0: 512x864 1 camino, 1 obstaculo, 9.5ms\n",
      "0: 512x864 1 camino, 1 obstaculo, 11.5ms\n",
      "0: 512x864 1 camino, 1 obstaculo, 14.0ms\n",
      "0: 512x864 1 camino, 1 obstaculo, 9.5ms\n",
      "0: 512x864 1 camino, 1 obstaculo, 10.2ms\n",
      "0: 512x864 1 camino, 1 obstaculo, 10.0ms\n",
      "0: 512x864 1 camino, 1 obstaculo, 10.5ms\n",
      "0: 512x864 1 camino, 1 obstaculo, 9.5ms\n",
      "0: 512x864 1 camino, 2 obstaculos, 9.5ms\n",
      "0: 512x864 1 camino, 2 obstaculos, 17.0ms\n",
      "0: 512x864 1 camino, 1 obstaculo, 9.5ms\n",
      "0: 512x864 1 camino, 1 obstaculo, 10.5ms\n",
      "0: 512x864 1 camino, 3 obstaculos, 10.2ms\n",
      "0: 512x864 1 camino, 2 obstaculos, 10.1ms\n",
      "0: 512x864 1 camino, 1 obstaculo, 9.9ms\n",
      "0: 512x864 1 camino, 1 obstaculo, 8.5ms\n",
      "0: 512x864 1 camino, 1 obstaculo, 9.1ms\n",
      "0: 512x864 1 camino, 2 obstaculos, 8.5ms\n",
      "0: 512x864 1 camino, 1 obstaculo, 11.5ms\n",
      "0: 512x864 1 camino, 2 obstaculos, 12.0ms\n",
      "0: 512x864 1 camino, 1 obstaculo, 8.7ms\n",
      "0: 512x864 1 camino, 1 obstaculo, 9.1ms\n",
      "0: 512x864 1 camino, 3 obstaculos, 8.1ms\n",
      "0: 512x864 1 camino, 2 obstaculos, 9.5ms\n",
      "0: 512x864 1 camino, 3 obstaculos, 9.0ms\n",
      "0: 512x864 1 camino, 3 obstaculos, 9.5ms\n",
      "0: 512x864 1 camino, 2 obstaculos, 9.1ms\n",
      "0: 512x864 1 camino, 2 obstaculos, 8.6ms\n",
      "0: 512x864 1 camino, 3 obstaculos, 9.0ms\n",
      "0: 512x864 1 camino, 1 obstaculo, 10.5ms\n",
      "0: 512x864 1 camino, 2 obstaculos, 9.1ms\n",
      "0: 512x864 1 camino, 2 obstaculos, 9.1ms\n",
      "0: 512x864 1 camino, 2 obstaculos, 9.0ms\n",
      "0: 512x864 1 camino, 3 obstaculos, 8.1ms\n",
      "0: 512x864 1 camino, 3 obstaculos, 9.5ms\n",
      "0: 512x864 1 camino, 2 obstaculos, 12.5ms\n",
      "0: 512x864 1 camino, 4 obstaculos, 9.5ms\n",
      "0: 512x864 1 camino, 2 obstaculos, 9.1ms\n",
      "0: 512x864 1 camino, 1 obstaculo, 9.3ms\n",
      "0: 512x864 1 camino, 3 obstaculos, 8.0ms\n",
      "0: 512x864 1 camino, 1 obstaculo, 9.5ms\n",
      "0: 512x864 1 camino, 3 obstaculos, 11.5ms\n",
      "0: 512x864 1 camino, 3 obstaculos, 8.5ms\n",
      "0: 512x864 1 camino, 3 obstaculos, 10.0ms\n",
      "0: 512x864 1 camino, 3 obstaculos, 9.1ms\n",
      "0: 512x864 1 camino, 2 obstaculos, 8.5ms\n",
      "0: 512x864 1 camino, 2 obstaculos, 9.5ms\n",
      "0: 512x864 1 camino, 1 obstaculo, 9.1ms\n",
      "0: 512x864 1 camino, 1 obstaculo, 9.5ms\n",
      "0: 512x864 1 camino, 1 obstaculo, 9.0ms\n",
      "0: 512x864 1 camino, 1 obstaculo, 13.0ms\n",
      "0: 512x864 1 camino, 2 obstaculos, 9.5ms\n",
      "0: 512x864 1 camino, 1 obstaculo, 8.5ms\n",
      "0: 512x864 1 camino, 1 obstaculo, 8.5ms\n",
      "0: 512x864 1 camino, 1 obstaculo, 8.5ms\n",
      "0: 512x864 1 camino, 1 obstaculo, 14.5ms\n",
      "0: 512x864 1 camino, 1 obstaculo, 7.5ms\n",
      "0: 512x864 1 camino, 1 obstaculo, 8.5ms\n",
      "0: 512x864 1 camino, 1 obstaculo, 9.5ms\n",
      "0: 512x864 1 camino, 2 obstaculos, 8.0ms\n",
      "0: 512x864 1 camino, 1 obstaculo, 10.0ms\n",
      "0: 512x864 1 camino, 1 obstaculo, 8.5ms\n",
      "0: 512x864 1 camino, 1 obstaculo, 8.5ms\n",
      "0: 512x864 1 camino, 1 obstaculo, 12.5ms\n",
      "0: 512x864 1 camino, 1 obstaculo, 8.5ms\n",
      "0: 512x864 1 camino, 1 obstaculo, 14.0ms\n",
      "0: 512x864 1 camino, 1 obstaculo, 9.0ms\n",
      "0: 512x864 1 camino, 1 obstaculo, 9.1ms\n",
      "0: 512x864 1 camino, 1 obstaculo, 8.0ms\n",
      "0: 512x864 1 camino, 2 obstaculos, 8.5ms\n",
      "0: 512x864 1 camino, 1 obstaculo, 9.6ms\n",
      "0: 512x864 1 camino, 1 obstaculo, 9.0ms\n",
      "0: 512x864 1 camino, 2 obstaculos, 9.0ms\n",
      "0: 512x864 1 camino, 1 obstaculo, 10.5ms\n",
      "0: 512x864 2 caminos, 1 obstaculo, 9.5ms\n",
      "0: 512x864 1 camino, 1 obstaculo, 8.5ms\n",
      "0: 512x864 1 camino, 1 obstaculo, 9.3ms\n",
      "0: 512x864 1 camino, 1 obstaculo, 8.5ms\n",
      "0: 512x864 1 camino, 1 obstaculo, 9.5ms\n",
      "0: 512x864 1 camino, 1 obstaculo, 10.0ms\n",
      "0: 512x864 1 camino, 2 obstaculos, 8.1ms\n",
      "0: 512x864 1 camino, 1 obstaculo, 8.5ms\n",
      "0: 512x864 1 camino, 1 obstaculo, 9.5ms\n",
      "0: 512x864 1 camino, 3 obstaculos, 8.0ms\n",
      "0: 512x864 1 camino, 3 obstaculos, 9.0ms\n",
      "0: 512x864 1 camino, 1 obstaculo, 9.0ms\n",
      "0: 512x864 1 camino, 3 obstaculos, 9.5ms\n",
      "0: 512x864 1 camino, 1 obstaculo, 10.5ms\n",
      "0: 512x864 2 caminos, 1 obstaculo, 11.2ms\n",
      "0: 512x864 1 camino, 1 obstaculo, 11.2ms\n",
      "0: 512x864 2 caminos, 1 obstaculo, 13.1ms\n",
      "0: 512x864 2 caminos, 1 obstaculo, 12.1ms\n",
      "0: 512x864 1 camino, 1 obstaculo, 11.5ms\n",
      "0: 512x864 1 camino, 1 obstaculo, 14.0ms\n",
      "0: 512x864 1 camino, 1 obstaculo, 12.1ms\n",
      "0: 512x864 1 camino, 1 obstaculo, 13.1ms\n",
      "0: 512x864 1 camino, 2 obstaculos, 17.6ms\n",
      "0: 512x864 1 camino, 2 obstaculos, 12.1ms\n",
      "0: 512x864 1 camino, 2 obstaculos, 13.5ms\n",
      "0: 512x864 1 camino, 1 obstaculo, 12.5ms\n",
      "0: 512x864 1 camino, 1 obstaculo, 12.5ms\n",
      "0: 512x864 1 camino, 1 obstaculo, 13.2ms\n",
      "0: 512x864 1 camino, 2 obstaculos, 13.0ms\n",
      "0: 512x864 2 caminos, 1 obstaculo, 12.0ms\n",
      "0: 512x864 2 caminos, 1 obstaculo, 13.8ms\n",
      "0: 512x864 3 caminos, 1 obstaculo, 13.0ms\n",
      "0: 512x864 2 caminos, 1 obstaculo, 13.1ms\n",
      "0: 512x864 2 caminos, 1 obstaculo, 9.0ms\n",
      "0: 512x864 3 caminos, 1 obstaculo, 9.1ms\n",
      "0: 512x864 3 caminos, 1 obstaculo, 10.6ms\n",
      "0: 512x864 2 caminos, 1 obstaculo, 9.1ms\n",
      "0: 512x864 2 caminos, 1 obstaculo, 9.0ms\n",
      "0: 512x864 2 caminos, 1 obstaculo, 9.5ms\n",
      "0: 512x864 3 caminos, 1 obstaculo, 9.5ms\n",
      "0: 512x864 3 caminos, 1 obstaculo, 9.5ms\n",
      "0: 512x864 1 camino, 1 obstaculo, 9.5ms\n",
      "0: 512x864 3 caminos, 1 obstaculo, 9.0ms\n",
      "0: 512x864 2 caminos, 1 obstaculo, 9.5ms\n",
      "0: 512x864 2 caminos, 1 obstaculo, 9.5ms\n",
      "0: 512x864 2 caminos, 1 obstaculo, 9.5ms\n",
      "0: 512x864 1 camino, 1 obstaculo, 13.5ms\n",
      "0: 512x864 3 caminos, 2 obstaculos, 9.0ms\n",
      "0: 512x864 3 caminos, 2 obstaculos, 10.1ms\n",
      "0: 512x864 2 caminos, 2 obstaculos, 9.5ms\n",
      "0: 512x864 3 caminos, 2 obstaculos, 10.0ms\n",
      "0: 512x864 2 caminos, 3 obstaculos, 10.1ms\n",
      "0: 512x864 2 caminos, 3 obstaculos, 10.5ms\n",
      "0: 512x864 3 caminos, 2 obstaculos, 8.5ms\n",
      "0: 512x864 3 caminos, 2 obstaculos, 10.0ms\n",
      "0: 512x864 2 caminos, 2 obstaculos, 8.0ms\n",
      "0: 512x864 2 caminos, 1 obstaculo, 8.5ms\n",
      "0: 512x864 1 camino, 1 obstaculo, 8.5ms\n",
      "0: 512x864 1 camino, 1 obstaculo, 9.0ms\n",
      "0: 512x864 1 camino, 1 obstaculo, 8.5ms\n",
      "0: 512x864 2 caminos, 1 obstaculo, 8.5ms\n",
      "0: 512x864 1 camino, 1 obstaculo, 12.0ms\n",
      "0: 512x864 1 camino, 1 obstaculo, 8.0ms\n",
      "0: 512x864 2 caminos, 1 obstaculo, 9.1ms\n",
      "0: 512x864 3 caminos, 1 obstaculo, 8.0ms\n",
      "0: 512x864 2 caminos, 1 obstaculo, 13.4ms\n",
      "0: 512x864 2 caminos, 1 obstaculo, 10.1ms\n",
      "0: 512x864 1 camino, 1 obstaculo, 8.1ms\n",
      "0: 512x864 1 camino, 1 obstaculo, 8.5ms\n",
      "0: 512x864 1 camino, 1 obstaculo, 8.1ms\n",
      "0: 512x864 1 camino, 1 obstaculo, 9.0ms\n",
      "0: 512x864 3 caminos, 1 obstaculo, 9.0ms\n",
      "0: 512x864 2 caminos, 1 obstaculo, 8.5ms\n",
      "0: 512x864 2 caminos, 1 obstaculo, 9.0ms\n",
      "0: 512x864 2 caminos, 1 obstaculo, 8.0ms\n",
      "0: 512x864 2 caminos, 1 obstaculo, 8.5ms\n",
      "0: 512x864 2 caminos, 1 obstaculo, 11.5ms\n",
      "0: 512x864 2 caminos, 1 obstaculo, 8.0ms\n",
      "0: 512x864 2 caminos, 1 obstaculo, 9.1ms\n",
      "0: 512x864 2 caminos, 1 obstaculo, 9.0ms\n",
      "0: 512x864 2 caminos, 1 obstaculo, 12.7ms\n",
      "0: 512x864 2 caminos, 1 obstaculo, 8.5ms\n",
      "0: 512x864 2 caminos, 1 obstaculo, 8.5ms\n",
      "0: 512x864 2 caminos, 1 obstaculo, 8.8ms\n",
      "0: 512x864 2 caminos, 1 obstaculo, 8.5ms\n",
      "0: 512x864 3 caminos, 1 obstaculo, 10.0ms\n",
      "0: 512x864 1 camino, 1 obstaculo, 8.5ms\n",
      "0: 512x864 2 caminos, 1 obstaculo, 8.6ms\n",
      "0: 512x864 1 camino, 1 obstaculo, 8.0ms\n",
      "0: 512x864 1 camino, 1 obstaculo, 9.0ms\n",
      "0: 512x864 1 camino, 1 obstaculo, 8.5ms\n",
      "0: 512x864 1 camino, 1 obstaculo, 9.1ms\n",
      "0: 512x864 1 camino, 1 obstaculo, 9.5ms\n",
      "0: 512x864 1 camino, 1 obstaculo, 8.5ms\n",
      "0: 512x864 1 camino, 1 obstaculo, 13.5ms\n",
      "0: 512x864 1 camino, 1 obstaculo, 11.5ms\n",
      "0: 512x864 1 camino, 1 obstaculo, 11.5ms\n",
      "0: 512x864 1 camino, 1 obstaculo, 8.5ms\n",
      "0: 512x864 1 camino, 1 obstaculo, 13.0ms\n",
      "0: 512x864 1 camino, 1 obstaculo, 8.7ms\n",
      "0: 512x864 1 camino, 1 obstaculo, 9.5ms\n",
      "0: 512x864 1 camino, 1 obstaculo, 9.0ms\n",
      "0: 512x864 1 camino, 1 obstaculo, 8.5ms\n",
      "0: 512x864 1 camino, 1 obstaculo, 8.0ms\n",
      "0: 512x864 1 camino, 1 obstaculo, 9.0ms\n",
      "0: 512x864 1 camino, 1 obstaculo, 9.5ms\n",
      "0: 512x864 1 camino, 1 obstaculo, 8.5ms\n",
      "0: 512x864 1 camino, 1 obstaculo, 8.5ms\n",
      "0: 512x864 1 camino, 1 obstaculo, 9.5ms\n",
      "0: 512x864 1 camino, 1 obstaculo, 9.0ms\n",
      "0: 512x864 1 camino, 1 obstaculo, 8.5ms\n",
      "0: 512x864 1 camino, 1 obstaculo, 8.5ms\n",
      "0: 512x864 1 camino, 1 obstaculo, 10.5ms\n",
      "0: 512x864 1 camino, 2 obstaculos, 8.1ms\n",
      "0: 512x864 1 camino, 2 obstaculos, 9.5ms\n",
      "0: 512x864 1 camino, 2 obstaculos, 8.5ms\n",
      "0: 512x864 1 camino, 2 obstaculos, 8.5ms\n",
      "0: 512x864 1 camino, 2 obstaculos, 8.1ms\n",
      "0: 512x864 1 camino, 2 obstaculos, 10.0ms\n",
      "0: 512x864 1 camino, 2 obstaculos, 11.5ms\n",
      "0: 512x864 1 camino, 1 obstaculo, 10.5ms\n",
      "0: 512x864 1 camino, 2 obstaculos, 11.5ms\n",
      "0: 512x864 1 camino, 1 obstaculo, 10.0ms\n",
      "0: 512x864 1 camino, 2 obstaculos, 11.1ms\n",
      "0: 512x864 1 camino, 1 obstaculo, 11.0ms\n",
      "0: 512x864 1 camino, 1 obstaculo, 13.0ms\n",
      "0: 512x864 2 caminos, 1 obstaculo, 11.5ms\n",
      "0: 512x864 1 camino, 1 obstaculo, 11.1ms\n",
      "0: 512x864 1 camino, 1 obstaculo, 11.6ms\n",
      "0: 512x864 1 camino, 1 obstaculo, 16.6ms\n",
      "0: 512x864 1 camino, 1 obstaculo, 13.3ms\n",
      "0: 512x864 1 camino, 1 obstaculo, 13.0ms\n",
      "0: 512x864 1 camino, 1 obstaculo, 12.1ms\n",
      "0: 512x864 1 camino, 1 obstaculo, 12.6ms\n",
      "0: 512x864 1 camino, 1 obstaculo, 12.6ms\n",
      "0: 512x864 1 camino, 1 obstaculo, 10.5ms\n",
      "0: 512x864 1 camino, 2 obstaculos, 11.0ms\n",
      "0: 512x864 1 camino, 3 obstaculos, 10.4ms\n",
      "0: 512x864 1 camino, 1 obstaculo, 11.0ms\n",
      "0: 512x864 1 camino, 3 obstaculos, 10.6ms\n",
      "0: 512x864 1 camino, 2 obstaculos, 10.5ms\n",
      "0: 512x864 1 camino, 1 obstaculo, 11.5ms\n",
      "0: 512x864 1 camino, 1 obstaculo, 13.0ms\n",
      "0: 512x864 1 camino, 3 obstaculos, 9.5ms\n",
      "0: 512x864 1 camino, 2 obstaculos, 10.0ms\n",
      "0: 512x864 1 camino, 3 obstaculos, 10.5ms\n",
      "0: 512x864 1 camino, 2 obstaculos, 10.5ms\n",
      "0: 512x864 1 camino, 2 obstaculos, 11.5ms\n",
      "0: 512x864 1 camino, 2 obstaculos, 10.5ms\n",
      "0: 512x864 1 camino, 1 obstaculo, 11.8ms\n",
      "0: 512x864 1 camino, 1 obstaculo, 10.1ms\n",
      "0: 512x864 1 camino, 1 obstaculo, 10.5ms\n",
      "0: 512x864 1 camino, 1 obstaculo, 11.5ms\n",
      "0: 512x864 1 camino, 2 obstaculos, 10.0ms\n",
      "0: 512x864 1 camino, 1 obstaculo, 9.5ms\n",
      "0: 512x864 1 camino, 13.0ms\n",
      "0: 512x864 1 camino, 12.0ms\n",
      "0: 512x864 1 camino, 2 obstaculos, 11.5ms\n",
      "0: 512x864 1 camino, 2 obstaculos, 15.5ms\n",
      "0: 512x864 1 camino, 1 obstaculo, 13.0ms\n",
      "0: 512x864 1 camino, 1 obstaculo, 11.5ms\n",
      "0: 512x864 1 camino, 1 obstaculo, 11.0ms\n",
      "0: 512x864 1 camino, 1 obstaculo, 11.5ms\n",
      "0: 512x864 1 camino, 1 obstaculo, 10.2ms\n",
      "0: 512x864 1 camino, 1 obstaculo, 11.2ms\n",
      "0: 512x864 1 camino, 1 obstaculo, 10.5ms\n",
      "0: 512x864 1 camino, 1 obstaculo, 11.2ms\n",
      "0: 512x864 1 camino, 1 obstaculo, 10.3ms\n",
      "0: 512x864 1 camino, 1 obstaculo, 10.5ms\n",
      "0: 512x864 1 camino, 1 obstaculo, 10.3ms\n",
      "0: 512x864 1 camino, 1 obstaculo, 9.5ms\n",
      "0: 512x864 1 camino, 1 obstaculo, 11.3ms\n",
      "0: 512x864 1 camino, 1 obstaculo, 11.4ms\n",
      "0: 512x864 1 camino, 1 obstaculo, 13.5ms\n",
      "0: 512x864 1 camino, 1 obstaculo, 14.5ms\n",
      "0: 512x864 1 camino, 1 obstaculo, 9.0ms\n",
      "0: 512x864 1 camino, 1 obstaculo, 9.5ms\n",
      "0: 512x864 1 camino, 1 obstaculo, 9.0ms\n",
      "0: 512x864 1 camino, 1 obstaculo, 8.0ms\n",
      "0: 512x864 1 camino, 1 obstaculo, 9.5ms\n",
      "0: 512x864 1 camino, 1 obstaculo, 8.1ms\n",
      "0: 512x864 1 camino, 1 obstaculo, 9.0ms\n",
      "0: 512x864 1 camino, 1 obstaculo, 9.0ms\n",
      "0: 512x864 1 camino, 1 obstaculo, 9.0ms\n",
      "0: 512x864 1 camino, 1 obstaculo, 11.5ms\n",
      "0: 512x864 1 camino, 1 obstaculo, 9.0ms\n",
      "0: 512x864 1 camino, 1 obstaculo, 12.0ms\n",
      "0: 512x864 1 camino, 1 obstaculo, 8.5ms\n",
      "0: 512x864 1 camino, 1 obstaculo, 10.0ms\n",
      "0: 512x864 1 camino, 1 obstaculo, 9.5ms\n",
      "0: 512x864 1 camino, 2 obstaculos, 11.5ms\n",
      "0: 512x864 1 camino, 1 obstaculo, 8.5ms\n",
      "0: 512x864 1 camino, 1 obstaculo, 11.5ms\n",
      "0: 512x864 1 camino, 2 obstaculos, 13.5ms\n",
      "0: 512x864 1 camino, 1 obstaculo, 8.5ms\n",
      "0: 512x864 1 camino, 1 obstaculo, 11.5ms\n",
      "0: 512x864 1 camino, 1 obstaculo, 8.5ms\n",
      "0: 512x864 1 camino, 1 obstaculo, 11.1ms\n",
      "0: 512x864 2 caminos, 1 obstaculo, 9.0ms\n",
      "0: 512x864 2 caminos, 1 obstaculo, 9.5ms\n",
      "0: 512x864 1 camino, 1 obstaculo, 9.1ms\n",
      "0: 512x864 1 camino, 1 obstaculo, 9.0ms\n",
      "0: 512x864 1 camino, 1 obstaculo, 9.0ms\n",
      "0: 512x864 1 camino, 1 obstaculo, 8.5ms\n",
      "0: 512x864 1 camino, 2 obstaculos, 10.1ms\n",
      "0: 512x864 1 camino, 1 obstaculo, 12.0ms\n",
      "0: 512x864 1 camino, 1 obstaculo, 11.1ms\n",
      "0: 512x864 1 camino, 1 obstaculo, 8.5ms\n",
      "0: 512x864 1 camino, 1 obstaculo, 8.5ms\n",
      "0: 512x864 1 camino, 1 obstaculo, 9.1ms\n",
      "0: 512x864 1 camino, 1 obstaculo, 10.1ms\n",
      "0: 512x864 1 camino, 1 obstaculo, 8.1ms\n",
      "0: 512x864 1 camino, 1 obstaculo, 9.0ms\n",
      "0: 512x864 1 camino, 1 obstaculo, 8.5ms\n",
      "0: 512x864 1 camino, 1 obstaculo, 9.0ms\n",
      "0: 512x864 1 camino, 1 obstaculo, 11.0ms\n",
      "0: 512x864 1 camino, 1 obstaculo, 9.0ms\n",
      "0: 512x864 1 camino, 1 obstaculo, 9.0ms\n",
      "0: 512x864 1 camino, 1 obstaculo, 10.5ms\n",
      "0: 512x864 1 camino, 1 obstaculo, 8.5ms\n",
      "0: 512x864 1 camino, 1 obstaculo, 10.5ms\n",
      "0: 512x864 1 camino, 1 obstaculo, 11.7ms\n",
      "0: 512x864 1 camino, 1 obstaculo, 13.5ms\n",
      "0: 512x864 1 camino, 1 obstaculo, 4.1ms\n",
      "0: 512x864 1 camino, 1 obstaculo, 9.5ms\n",
      "0: 512x864 1 camino, 1 obstaculo, 10.8ms\n",
      "0: 512x864 1 camino, 1 obstaculo, 7.9ms\n",
      "0: 512x864 1 camino, 1 obstaculo, 9.0ms\n",
      "0: 512x864 1 camino, 1 obstaculo, 14.8ms\n",
      "0: 512x864 2 caminos, 1 obstaculo, 9.1ms\n",
      "0: 512x864 1 camino, 1 obstaculo, 9.2ms\n",
      "0: 512x864 1 camino, 1 obstaculo, 8.6ms\n",
      "0: 512x864 1 camino, 1 obstaculo, 9.9ms\n",
      "0: 512x864 1 camino, 1 obstaculo, 8.2ms\n",
      "0: 512x864 1 camino, 1 obstaculo, 12.2ms\n",
      "0: 512x864 1 camino, 1 obstaculo, 9.1ms\n",
      "0: 512x864 1 camino, 1 obstaculo, 11.5ms\n",
      "0: 512x864 1 camino, 1 obstaculo, 6.5ms\n",
      "0: 512x864 1 camino, 1 obstaculo, 10.3ms\n",
      "0: 512x864 1 camino, 1 obstaculo, 4.4ms\n",
      "0: 512x864 1 camino, 1 obstaculo, 9.9ms\n",
      "0: 512x864 1 camino, 1 obstaculo, 8.3ms\n",
      "0: 512x864 1 camino, 1 obstaculo, 8.8ms\n",
      "0: 512x864 2 caminos, 1 obstaculo, 10.9ms\n",
      "0: 512x864 1 camino, 1 obstaculo, 9.0ms\n",
      "0: 512x864 1 camino, 1 obstaculo, 7.0ms\n",
      "0: 512x864 1 camino, 1 obstaculo, 10.3ms\n",
      "0: 512x864 1 camino, 1 obstaculo, 7.0ms\n",
      "0: 512x864 1 camino, 1 obstaculo, 10.7ms\n",
      "0: 512x864 1 camino, 1 obstaculo, 9.5ms\n",
      "0: 512x864 1 camino, 1 obstaculo, 9.9ms\n",
      "0: 512x864 1 camino, 1 obstaculo, 8.9ms\n",
      "0: 512x864 1 camino, 1 obstaculo, 9.1ms\n",
      "0: 512x864 1 camino, 1 obstaculo, 10.6ms\n",
      "0: 512x864 1 camino, 1 obstaculo, 5.6ms\n",
      "0: 512x864 1 camino, 1 obstaculo, 8.6ms\n",
      "0: 512x864 1 camino, 1 obstaculo, 13.8ms\n",
      "0: 512x864 1 camino, 1 obstaculo, 12.2ms\n",
      "0: 512x864 1 camino, 1 obstaculo, 11.3ms\n",
      "0: 512x864 1 camino, 1 obstaculo, 11.9ms\n",
      "0: 512x864 1 camino, 1 obstaculo, 12.4ms\n",
      "0: 512x864 1 camino, 1 obstaculo, 10.7ms\n",
      "0: 512x864 1 camino, 1 obstaculo, 9.9ms\n",
      "0: 512x864 1 camino, 1 obstaculo, 10.6ms\n",
      "0: 512x864 1 camino, 1 obstaculo, 16.2ms\n",
      "0: 512x864 1 camino, 1 obstaculo, 5.7ms\n",
      "0: 512x864 1 camino, 1 obstaculo, 5.8ms\n",
      "0: 512x864 1 camino, 1 obstaculo, 10.9ms\n",
      "0: 512x864 1 camino, 1 obstaculo, 10.4ms\n",
      "0: 512x864 1 camino, 1 obstaculo, 12.8ms\n",
      "0: 512x864 1 camino, 1 obstaculo, 10.2ms\n",
      "0: 512x864 1 camino, 1 obstaculo, 11.6ms\n",
      "0: 512x864 1 camino, 1 obstaculo, 11.2ms\n",
      "0: 512x864 1 camino, 1 obstaculo, 10.3ms\n",
      "0: 512x864 1 camino, 1 obstaculo, 11.1ms\n",
      "0: 512x864 1 camino, 1 obstaculo, 9.9ms\n",
      "0: 512x864 1 camino, 1 obstaculo, 5.3ms\n",
      "0: 512x864 1 camino, 1 obstaculo, 11.0ms\n",
      "0: 512x864 1 camino, 1 obstaculo, 11.6ms\n",
      "0: 512x864 1 camino, 1 obstaculo, 12.7ms\n",
      "0: 512x864 1 camino, 1 obstaculo, 12.1ms\n",
      "0: 512x864 1 camino, 1 obstaculo, 10.8ms\n",
      "0: 512x864 1 camino, 1 obstaculo, 11.4ms\n",
      "0: 512x864 1 camino, 1 obstaculo, 11.8ms\n",
      "0: 512x864 1 camino, 1 obstaculo, 11.2ms\n",
      "0: 512x864 1 camino, 1 obstaculo, 12.2ms\n",
      "0: 512x864 1 camino, 1 obstaculo, 13.6ms\n",
      "0: 512x864 1 camino, 1 obstaculo, 12.7ms\n",
      "0: 512x864 1 camino, 1 obstaculo, 13.8ms\n",
      "0: 512x864 1 camino, 1 obstaculo, 15.2ms\n",
      "0: 512x864 1 camino, 1 obstaculo, 15.1ms\n",
      "0: 512x864 1 camino, 1 obstaculo, 15.3ms\n",
      "0: 512x864 1 camino, 1 obstaculo, 12.7ms\n",
      "0: 512x864 1 camino, 1 obstaculo, 14.3ms\n",
      "0: 512x864 1 camino, 1 obstaculo, 11.4ms\n",
      "0: 512x864 1 camino, 1 obstaculo, 13.2ms\n",
      "0: 512x864 1 camino, 1 obstaculo, 10.2ms\n",
      "0: 512x864 1 camino, 1 obstaculo, 11.6ms\n",
      "0: 512x864 1 camino, 1 obstaculo, 9.9ms\n",
      "0: 512x864 1 camino, 1 obstaculo, 14.3ms\n",
      "0: 512x864 1 camino, 1 obstaculo, 10.8ms\n",
      "0: 512x864 1 camino, 1 obstaculo, 16.4ms\n",
      "0: 512x864 1 camino, 1 obstaculo, 15.1ms\n",
      "0: 512x864 2 caminos, 1 obstaculo, 12.2ms\n",
      "0: 512x864 1 camino, 1 obstaculo, 11.5ms\n",
      "0: 512x864 1 camino, 1 obstaculo, 11.1ms\n",
      "0: 512x864 1 camino, 1 obstaculo, 10.6ms\n",
      "0: 512x864 1 camino, 1 obstaculo, 9.9ms\n",
      "0: 512x864 1 camino, 1 obstaculo, 11.1ms\n",
      "0: 512x864 1 camino, 1 obstaculo, 13.0ms\n",
      "0: 512x864 1 camino, 1 obstaculo, 10.9ms\n",
      "0: 512x864 1 camino, 1 obstaculo, 13.9ms\n",
      "0: 512x864 1 camino, 1 obstaculo, 12.8ms\n",
      "0: 512x864 1 camino, 1 obstaculo, 11.6ms\n",
      "0: 512x864 1 camino, 1 obstaculo, 13.3ms\n",
      "0: 512x864 1 camino, 1 obstaculo, 11.1ms\n",
      "0: 512x864 1 camino, 1 obstaculo, 13.6ms\n",
      "0: 512x864 1 camino, 2 obstaculos, 10.0ms\n",
      "0: 512x864 1 camino, 2 obstaculos, 12.7ms\n",
      "0: 512x864 1 camino, 2 obstaculos, 6.7ms\n",
      "0: 512x864 1 camino, 1 obstaculo, 10.0ms\n",
      "0: 512x864 1 camino, 10.7ms\n",
      "0: 512x864 1 camino, 1 obstaculo, 6.8ms\n",
      "0: 512x864 1 camino, 10.1ms\n",
      "0: 512x864 1 camino, 1 obstaculo, 3.7ms\n",
      "0: 512x864 1 camino, 11.1ms\n",
      "0: 512x864 1 camino, 10.8ms\n",
      "0: 512x864 1 camino, 13.5ms\n",
      "0: 512x864 1 camino, 12.2ms\n",
      "0: 512x864 1 camino, 8.6ms\n",
      "0: 512x864 1 camino, 1 obstaculo, 13.7ms\n",
      "0: 512x864 1 camino, 1 obstaculo, 11.9ms\n",
      "0: 512x864 1 camino, 1 obstaculo, 13.4ms\n",
      "0: 512x864 1 camino, 1 obstaculo, 4.7ms\n",
      "0: 512x864 1 camino, 1 obstaculo, 9.4ms\n",
      "0: 512x864 1 camino, 6.3ms\n",
      "0: 512x864 1 camino, 1 obstaculo, 11.0ms\n",
      "0: 512x864 1 camino, 1 obstaculo, 11.7ms\n",
      "0: 512x864 1 camino, 1 obstaculo, 10.7ms\n",
      "0: 512x864 1 camino, 1 obstaculo, 11.2ms\n",
      "0: 512x864 1 camino, 1 obstaculo, 4.2ms\n",
      "0: 512x864 1 camino, 2 obstaculos, 10.4ms\n",
      "0: 512x864 1 camino, 2 obstaculos, 11.0ms\n",
      "0: 512x864 1 camino, 1 obstaculo, 15.8ms\n",
      "0: 512x864 1 camino, 1 obstaculo, 16.7ms\n",
      "0: 512x864 2 caminos, 1 obstaculo, 6.9ms\n",
      "0: 512x864 1 camino, 1 obstaculo, 11.3ms\n",
      "0: 512x864 1 camino, 1 obstaculo, 10.2ms\n",
      "0: 512x864 1 camino, 11.0ms\n",
      "0: 512x864 1 camino, 1 obstaculo, 14.0ms\n",
      "0: 512x864 1 camino, 13.4ms\n",
      "0: 512x864 1 camino, 6.7ms\n",
      "0: 512x864 1 camino, 1 obstaculo, 11.4ms\n",
      "0: 512x864 1 camino, 1 obstaculo, 8.5ms\n",
      "0: 512x864 1 camino, 2 obstaculos, 12.3ms\n",
      "0: 512x864 1 obstaculo, 11.6ms\n",
      "0: 512x864 1 camino, 1 obstaculo, 4.1ms\n",
      "0: 512x864 1 camino, 2 obstaculos, 14.8ms\n",
      "0: 512x864 1 camino, 2 obstaculos, 10.0ms\n",
      "0: 512x864 1 camino, 1 obstaculo, 12.8ms\n",
      "0: 512x864 1 camino, 2 obstaculos, 4.2ms\n",
      "0: 512x864 1 camino, 1 obstaculo, 6.3ms\n",
      "0: 512x864 1 camino, 2 obstaculos, 9.4ms\n",
      "0: 512x864 1 camino, 2 obstaculos, 11.0ms\n",
      "0: 512x864 1 camino, 2 obstaculos, 4.1ms\n",
      "0: 512x864 1 camino, 2 obstaculos, 12.7ms\n",
      "0: 512x864 1 camino, 2 obstaculos, 6.0ms\n",
      "0: 512x864 1 camino, 2 obstaculos, 9.9ms\n",
      "0: 512x864 1 camino, 1 obstaculo, 9.9ms\n",
      "0: 512x864 1 camino, 2 obstaculos, 9.9ms\n",
      "0: 512x864 1 camino, 3 obstaculos, 12.6ms\n",
      "0: 512x864 1 camino, 3 obstaculos, 12.3ms\n",
      "0: 512x864 1 camino, 3 obstaculos, 12.1ms\n",
      "0: 512x864 1 camino, 1 obstaculo, 17.1ms\n",
      "0: 512x864 1 camino, 1 obstaculo, 12.5ms\n",
      "0: 512x864 1 camino, 1 obstaculo, 11.5ms\n",
      "0: 512x864 1 camino, 1 obstaculo, 6.2ms\n",
      "0: 512x864 1 camino, 1 obstaculo, 11.9ms\n",
      "0: 512x864 1 camino, 1 obstaculo, 6.9ms\n",
      "0: 512x864 1 camino, 1 obstaculo, 13.8ms\n",
      "0: 512x864 1 camino, 1 obstaculo, 10.4ms\n",
      "0: 512x864 1 camino, 2 obstaculos, 13.8ms\n",
      "0: 512x864 1 camino, 2 obstaculos, 10.6ms\n",
      "0: 512x864 1 camino, 2 obstaculos, 6.9ms\n",
      "0: 512x864 1 camino, 1 obstaculo, 14.3ms\n",
      "0: 512x864 1 camino, 1 obstaculo, 7.0ms\n",
      "0: 512x864 1 camino, 1 obstaculo, 11.4ms\n",
      "0: 512x864 1 camino, 1 obstaculo, 11.6ms\n",
      "0: 512x864 1 camino, 1 obstaculo, 10.2ms\n",
      "0: 512x864 1 camino, 1 obstaculo, 7.5ms\n",
      "0: 512x864 1 camino, 1 obstaculo, 11.2ms\n",
      "0: 512x864 1 camino, 1 obstaculo, 9.5ms\n",
      "0: 512x864 1 camino, 1 obstaculo, 12.2ms\n",
      "0: 512x864 1 camino, 2 obstaculos, 9.3ms\n",
      "0: 512x864 1 camino, 1 obstaculo, 8.3ms\n",
      "0: 512x864 1 camino, 2 obstaculos, 6.2ms\n",
      "0: 512x864 1 camino, 2 obstaculos, 6.2ms\n",
      "0: 512x864 1 camino, 3 obstaculos, 11.0ms\n",
      "0: 512x864 1 camino, 1 obstaculo, 11.2ms\n",
      "0: 512x864 1 camino, 1 obstaculo, 5.3ms\n",
      "0: 512x864 1 camino, 1 obstaculo, 9.5ms\n",
      "0: 512x864 1 camino, 1 obstaculo, 9.2ms\n",
      "0: 512x864 1 camino, 1 obstaculo, 8.5ms\n",
      "0: 512x864 1 camino, 1 obstaculo, 8.6ms\n",
      "0: 512x864 1 camino, 1 obstaculo, 8.2ms\n",
      "0: 512x864 1 camino, 1 obstaculo, 4.8ms\n",
      "0: 512x864 1 camino, 1 obstaculo, 15.0ms\n",
      "0: 512x864 1 camino, 1 obstaculo, 4.1ms\n",
      "0: 512x864 1 camino, 1 obstaculo, 9.5ms\n",
      "0: 512x864 1 camino, 1 obstaculo, 11.2ms\n",
      "0: 512x864 1 camino, 1 obstaculo, 9.1ms\n",
      "0: 512x864 1 camino, 1 obstaculo, 11.3ms\n",
      "0: 512x864 1 camino, 2 obstaculos, 8.8ms\n",
      "0: 512x864 1 camino, 1 obstaculo, 7.1ms\n",
      "0: 512x864 1 camino, 1 obstaculo, 8.9ms\n",
      "0: 512x864 1 camino, 1 obstaculo, 9.8ms\n",
      "0: 512x864 1 camino, 1 obstaculo, 9.4ms\n",
      "0: 512x864 1 camino, 1 obstaculo, 7.3ms\n",
      "0: 512x864 1 camino, 1 obstaculo, 9.0ms\n",
      "0: 512x864 1 camino, 1 obstaculo, 9.4ms\n",
      "0: 512x864 1 camino, 1 obstaculo, 14.2ms\n",
      "0: 512x864 1 camino, 1 obstaculo, 8.6ms\n",
      "0: 512x864 1 camino, 1 obstaculo, 8.9ms\n",
      "0: 512x864 1 camino, 1 obstaculo, 9.6ms\n",
      "0: 512x864 1 camino, 1 obstaculo, 11.7ms\n",
      "0: 512x864 1 camino, 1 obstaculo, 9.7ms\n",
      "0: 512x864 1 camino, 1 obstaculo, 2.7ms\n",
      "0: 512x864 1 camino, 1 obstaculo, 10.2ms\n",
      "0: 512x864 1 camino, 1 obstaculo, 12.1ms\n",
      "0: 512x864 1 camino, 1 obstaculo, 9.5ms\n",
      "0: 512x864 1 camino, 2 obstaculos, 6.8ms\n",
      "0: 512x864 1 camino, 1 obstaculo, 10.3ms\n",
      "0: 512x864 1 camino, 1 obstaculo, 11.9ms\n",
      "0: 512x864 1 camino, 1 obstaculo, 8.5ms\n",
      "0: 512x864 1 camino, 1 obstaculo, 6.1ms\n",
      "0: 512x864 1 camino, 1 obstaculo, 8.5ms\n",
      "0: 512x864 1 camino, 1 obstaculo, 7.2ms\n",
      "0: 512x864 1 camino, 1 obstaculo, 11.1ms\n",
      "0: 512x864 1 camino, 2 obstaculos, 4.3ms\n",
      "0: 512x864 1 camino, 1 obstaculo, 9.5ms\n",
      "0: 512x864 1 camino, 1 obstaculo, 8.4ms\n",
      "0: 512x864 1 camino, 1 obstaculo, 9.5ms\n",
      "0: 512x864 1 camino, 2 obstaculos, 8.7ms\n",
      "0: 512x864 1 camino, 1 obstaculo, 9.3ms\n",
      "0: 512x864 1 camino, 1 obstaculo, 7.1ms\n",
      "0: 512x864 1 camino, 1 obstaculo, 6.9ms\n",
      "0: 512x864 1 camino, 1 obstaculo, 8.5ms\n",
      "0: 512x864 1 camino, 1 obstaculo, 12.0ms\n",
      "0: 512x864 1 camino, 1 obstaculo, 11.9ms\n",
      "0: 512x864 1 camino, 1 obstaculo, 10.2ms\n",
      "0: 512x864 1 camino, 1 obstaculo, 8.7ms\n",
      "0: 512x864 1 camino, 1 obstaculo, 9.2ms\n",
      "0: 512x864 1 camino, 1 obstaculo, 11.3ms\n",
      "0: 512x864 1 camino, 1 obstaculo, 10.3ms\n",
      "0: 512x864 1 camino, 1 obstaculo, 12.0ms\n",
      "0: 512x864 1 camino, 1 obstaculo, 7.3ms\n",
      "0: 512x864 1 camino, 1 obstaculo, 9.1ms\n",
      "0: 512x864 1 camino, 1 obstaculo, 9.0ms\n",
      "0: 512x864 1 camino, 1 obstaculo, 8.7ms\n",
      "0: 512x864 1 camino, 1 obstaculo, 8.0ms\n",
      "0: 512x864 1 camino, 1 obstaculo, 10.2ms\n",
      "0: 512x864 1 camino, 1 obstaculo, 8.5ms\n",
      "0: 512x864 1 camino, 1 obstaculo, 5.1ms\n",
      "0: 512x864 1 camino, 1 obstaculo, 8.7ms\n",
      "0: 512x864 1 camino, 1 obstaculo, 9.0ms\n",
      "0: 512x864 1 camino, 1 obstaculo, 12.8ms\n",
      "0: 512x864 1 camino, 1 obstaculo, 6.7ms\n",
      "0: 512x864 1 camino, 1 obstaculo, 5.1ms\n",
      "0: 512x864 1 camino, 1 obstaculo, 8.3ms\n",
      "0: 512x864 1 camino, 1 obstaculo, 7.7ms\n",
      "0: 512x864 1 camino, 1 obstaculo, 10.7ms\n",
      "0: 512x864 1 camino, 2 obstaculos, 10.8ms\n",
      "0: 512x864 1 camino, 1 obstaculo, 11.8ms\n",
      "0: 512x864 1 camino, 1 obstaculo, 9.7ms\n",
      "0: 512x864 1 camino, 1 obstaculo, 9.2ms\n",
      "0: 512x864 1 camino, 2 obstaculos, 11.8ms\n",
      "0: 512x864 1 camino, 2 obstaculos, 9.6ms\n",
      "0: 512x864 1 camino, 1 obstaculo, 15.1ms\n",
      "0: 512x864 1 camino, 2 obstaculos, 10.3ms\n",
      "0: 512x864 1 camino, 2 obstaculos, 9.5ms\n",
      "0: 512x864 1 camino, 2 obstaculos, 9.0ms\n",
      "0: 512x864 1 camino, 1 obstaculo, 9.5ms\n",
      "0: 512x864 1 camino, 3 obstaculos, 10.8ms\n",
      "0: 512x864 1 camino, 2 obstaculos, 10.4ms\n",
      "0: 512x864 1 camino, 2 obstaculos, 8.8ms\n",
      "0: 512x864 1 camino, 2 obstaculos, 9.2ms\n",
      "0: 512x864 1 camino, 3 obstaculos, 12.3ms\n",
      "0: 512x864 1 camino, 2 obstaculos, 5.4ms\n",
      "0: 512x864 1 camino, 2 obstaculos, 10.9ms\n",
      "0: 512x864 1 camino, 1 obstaculo, 6.8ms\n",
      "0: 512x864 1 camino, 1 obstaculo, 9.5ms\n",
      "0: 512x864 1 camino, 2 obstaculos, 5.6ms\n",
      "0: 512x864 1 camino, 9.6ms\n",
      "0: 512x864 1 camino, 2 obstaculos, 6.7ms\n",
      "0: 512x864 1 camino, 1 obstaculo, 9.8ms\n",
      "0: 512x864 1 camino, 1 obstaculo, 9.7ms\n",
      "0: 512x864 1 camino, 7.6ms\n",
      "0: 512x864 1 camino, 1 obstaculo, 12.7ms\n",
      "0: 512x864 1 camino, 1 obstaculo, 12.3ms\n",
      "0: 512x864 1 camino, 1 obstaculo, 5.4ms\n",
      "0: 512x864 1 camino, 2 obstaculos, 9.1ms\n",
      "0: 512x864 1 camino, 1 obstaculo, 8.8ms\n",
      "0: 512x864 1 camino, 1 obstaculo, 6.4ms\n",
      "0: 512x864 1 camino, 12.2ms\n",
      "0: 512x864 1 camino, 9.7ms\n",
      "0: 512x864 1 camino, 1 obstaculo, 7.3ms\n",
      "0: 512x864 1 camino, 9.7ms\n",
      "0: 512x864 1 camino, 1 obstaculo, 10.5ms\n",
      "0: 512x864 1 camino, 1 obstaculo, 10.8ms\n",
      "0: 512x864 1 camino, 1 obstaculo, 7.5ms\n",
      "0: 512x864 1 camino, 2 obstaculos, 12.7ms\n",
      "0: 512x864 1 camino, 1 obstaculo, 9.9ms\n",
      "0: 512x864 1 camino, 1 obstaculo, 8.9ms\n",
      "0: 512x864 1 camino, 2 obstaculos, 4.5ms\n",
      "0: 512x864 1 camino, 1 obstaculo, 10.6ms\n",
      "0: 512x864 1 camino, 3 obstaculos, 11.3ms\n",
      "0: 512x864 1 camino, 1 obstaculo, 6.8ms\n",
      "0: 512x864 1 camino, 1 obstaculo, 14.3ms\n",
      "0: 512x864 1 camino, 1 obstaculo, 8.6ms\n",
      "0: 512x864 1 camino, 1 obstaculo, 12.0ms\n",
      "0: 512x864 1 camino, 1 obstaculo, 11.7ms\n",
      "0: 512x864 1 camino, 1 obstaculo, 13.4ms\n",
      "0: 512x864 1 camino, 1 obstaculo, 12.9ms\n",
      "0: 512x864 1 camino, 1 obstaculo, 15.9ms\n",
      "0: 512x864 1 camino, 1 obstaculo, 11.7ms\n",
      "0: 512x864 1 camino, 1 obstaculo, 13.1ms\n",
      "0: 512x864 1 camino, 1 obstaculo, 15.2ms\n",
      "0: 512x864 1 camino, 1 obstaculo, 12.3ms\n",
      "0: 512x864 1 camino, 1 obstaculo, 13.0ms\n",
      "0: 512x864 1 camino, 1 obstaculo, 12.9ms\n",
      "0: 512x864 1 camino, 1 obstaculo, 14.5ms\n",
      "0: 512x864 1 camino, 1 obstaculo, 13.3ms\n",
      "0: 512x864 1 camino, 2 obstaculos, 13.7ms\n",
      "0: 512x864 1 camino, 1 obstaculo, 14.2ms\n",
      "0: 512x864 1 camino, 1 obstaculo, 13.5ms\n",
      "0: 512x864 1 camino, 1 obstaculo, 14.3ms\n",
      "0: 512x864 1 camino, 1 obstaculo, 11.0ms\n",
      "0: 512x864 1 camino, 1 obstaculo, 11.1ms\n",
      "0: 512x864 1 camino, 1 obstaculo, 14.3ms\n",
      "0: 512x864 1 camino, 1 obstaculo, 12.3ms\n",
      "0: 512x864 1 camino, 1 obstaculo, 15.6ms\n",
      "0: 512x864 1 camino, 1 obstaculo, 16.7ms\n",
      "0: 512x864 1 camino, 1 obstaculo, 14.7ms\n",
      "0: 512x864 1 camino, 1 obstaculo, 14.7ms\n",
      "0: 512x864 1 camino, 1 obstaculo, 15.6ms\n",
      "0: 512x864 1 camino, 1 obstaculo, 17.4ms\n",
      "0: 512x864 1 camino, 1 obstaculo, 11.0ms\n",
      "0: 512x864 1 camino, 1 obstaculo, 14.0ms\n",
      "0: 512x864 1 camino, 1 obstaculo, 8.9ms\n",
      "0: 512x864 1 camino, 1 obstaculo, 10.4ms\n",
      "0: 512x864 1 camino, 1 obstaculo, 8.8ms\n",
      "0: 512x864 1 camino, 1 obstaculo, 9.5ms\n",
      "0: 512x864 1 camino, 1 obstaculo, 9.9ms\n",
      "0: 512x864 1 camino, 1 obstaculo, 7.5ms\n",
      "0: 512x864 1 camino, 1 obstaculo, 10.0ms\n",
      "0: 512x864 1 camino, 1 obstaculo, 7.9ms\n",
      "0: 512x864 1 camino, 1 obstaculo, 9.4ms\n",
      "0: 512x864 1 camino, 1 obstaculo, 11.2ms\n",
      "0: 512x864 1 camino, 1 obstaculo, 9.4ms\n",
      "0: 512x864 1 camino, 1 obstaculo, 10.7ms\n",
      "0: 512x864 1 camino, 1 obstaculo, 9.8ms\n",
      "0: 512x864 1 camino, 1 obstaculo, 13.6ms\n",
      "0: 512x864 1 camino, 1 obstaculo, 12.7ms\n",
      "0: 512x864 1 camino, 1 obstaculo, 11.7ms\n",
      "0: 512x864 1 camino, 1 obstaculo, 10.4ms\n",
      "0: 512x864 1 camino, 1 obstaculo, 8.8ms\n",
      "0: 512x864 1 camino, 1 obstaculo, 10.3ms\n",
      "0: 512x864 1 camino, 1 obstaculo, 10.0ms\n",
      "0: 512x864 1 camino, 1 obstaculo, 9.8ms\n",
      "0: 512x864 1 camino, 9.1ms\n",
      "0: 512x864 1 camino, 1 obstaculo, 12.3ms\n",
      "0: 512x864 1 camino, 1 obstaculo, 11.2ms\n",
      "0: 512x864 1 camino, 1 obstaculo, 8.0ms\n",
      "0: 512x864 1 camino, 1 obstaculo, 10.1ms\n",
      "0: 512x864 1 camino, 1 obstaculo, 9.7ms\n",
      "0: 512x864 1 camino, 9.9ms\n",
      "0: 512x864 1 camino, 9.4ms\n",
      "0: 512x864 1 camino, 3 obstaculos, 8.3ms\n",
      "0: 512x864 1 camino, 1 obstaculo, 11.5ms\n",
      "0: 512x864 1 camino, 1 obstaculo, 7.7ms\n",
      "0: 512x864 1 camino, 1 obstaculo, 9.5ms\n",
      "0: 512x864 1 camino, 1 obstaculo, 10.0ms\n",
      "0: 512x864 1 camino, 1 obstaculo, 12.5ms\n",
      "0: 512x864 2 caminos, 1 obstaculo, 11.5ms\n",
      "0: 512x864 1 camino, 1 obstaculo, 10.2ms\n",
      "0: 512x864 1 camino, 1 obstaculo, 8.3ms\n",
      "0: 512x864 1 camino, 1 obstaculo, 5.4ms\n",
      "0: 512x864 1 camino, 1 obstaculo, 11.0ms\n",
      "0: 512x864 1 camino, 1 obstaculo, 9.5ms\n",
      "0: 512x864 1 camino, 1 obstaculo, 9.5ms\n",
      "0: 512x864 1 camino, 1 obstaculo, 7.1ms\n",
      "0: 512x864 1 camino, 1 obstaculo, 5.3ms\n",
      "0: 512x864 1 camino, 1 obstaculo, 5.2ms\n",
      "0: 512x864 1 camino, 1 obstaculo, 10.1ms\n",
      "0: 512x864 1 camino, 1 obstaculo, 11.3ms\n",
      "0: 512x864 1 camino, 1 obstaculo, 10.0ms\n",
      "0: 512x864 1 camino, 1 obstaculo, 7.9ms\n",
      "0: 512x864 1 camino, 1 obstaculo, 11.7ms\n",
      "0: 512x864 1 camino, 1 obstaculo, 7.4ms\n",
      "0: 512x864 1 camino, 1 obstaculo, 10.9ms\n",
      "0: 512x864 1 camino, 1 obstaculo, 4.3ms\n",
      "0: 512x864 1 camino, 1 obstaculo, 11.2ms\n",
      "0: 512x864 1 camino, 1 obstaculo, 11.6ms\n",
      "0: 512x864 1 camino, 1 obstaculo, 10.7ms\n",
      "0: 512x864 1 camino, 1 obstaculo, 10.1ms\n",
      "0: 512x864 1 camino, 1 obstaculo, 8.3ms\n",
      "0: 512x864 1 camino, 1 obstaculo, 4.0ms\n",
      "0: 512x864 1 camino, 1 obstaculo, 9.4ms\n",
      "0: 512x864 1 camino, 1 obstaculo, 10.1ms\n",
      "0: 512x864 1 camino, 1 obstaculo, 8.5ms\n",
      "0: 512x864 1 camino, 1 obstaculo, 9.5ms\n",
      "0: 512x864 1 camino, 1 obstaculo, 5.2ms\n",
      "0: 512x864 1 camino, 1 obstaculo, 9.0ms\n",
      "0: 512x864 1 camino, 1 obstaculo, 6.7ms\n",
      "0: 512x864 1 camino, 1 obstaculo, 9.7ms\n",
      "0: 512x864 1 camino, 1 obstaculo, 11.2ms\n",
      "0: 512x864 1 camino, 1 obstaculo, 10.3ms\n",
      "0: 512x864 1 camino, 1 obstaculo, 11.5ms\n",
      "0: 512x864 1 camino, 1 obstaculo, 9.0ms\n",
      "0: 512x864 1 camino, 1 obstaculo, 12.0ms\n",
      "0: 512x864 1 camino, 1 obstaculo, 10.2ms\n",
      "0: 512x864 1 camino, 1 obstaculo, 10.3ms\n",
      "0: 512x864 1 camino, 1 obstaculo, 10.1ms\n",
      "0: 512x864 1 camino, 1 obstaculo, 8.9ms\n",
      "0: 512x864 1 camino, 1 obstaculo, 9.5ms\n",
      "0: 512x864 1 camino, 1 obstaculo, 7.3ms\n",
      "0: 512x864 1 camino, 1 obstaculo, 9.2ms\n",
      "0: 512x864 1 camino, 1 obstaculo, 8.8ms\n",
      "0: 512x864 1 camino, 1 obstaculo, 11.2ms\n",
      "0: 512x864 1 camino, 1 obstaculo, 6.6ms\n",
      "0: 512x864 1 camino, 1 obstaculo, 9.0ms\n",
      "0: 512x864 1 camino, 1 obstaculo, 9.3ms\n",
      "0: 512x864 1 camino, 1 obstaculo, 9.3ms\n",
      "0: 512x864 1 camino, 1 obstaculo, 4.5ms\n",
      "0: 512x864 1 camino, 1 obstaculo, 8.9ms\n",
      "0: 512x864 1 camino, 1 obstaculo, 8.9ms\n",
      "0: 512x864 1 camino, 1 obstaculo, 8.5ms\n",
      "0: 512x864 1 camino, 1 obstaculo, 12.6ms\n",
      "0: 512x864 1 camino, 9.6ms\n",
      "0: 512x864 1 camino, 1 obstaculo, 4.0ms\n",
      "0: 512x864 1 camino, 1 obstaculo, 11.7ms\n",
      "0: 512x864 1 camino, 10.3ms\n",
      "0: 512x864 1 camino, 11.2ms\n",
      "0: 512x864 1 camino, 2 obstaculos, 9.2ms\n",
      "0: 512x864 1 camino, 2 obstaculos, 10.7ms\n",
      "0: 512x864 1 camino, 2 obstaculos, 12.2ms\n",
      "0: 512x864 1 camino, 2 obstaculos, 11.2ms\n",
      "0: 512x864 1 camino, 1 obstaculo, 6.2ms\n",
      "0: 512x864 1 camino, 2 obstaculos, 4.3ms\n",
      "0: 512x864 1 camino, 2 obstaculos, 11.0ms\n",
      "0: 512x864 1 camino, 1 obstaculo, 5.6ms\n",
      "0: 512x864 1 camino, 2 obstaculos, 9.5ms\n",
      "0: 512x864 1 camino, 3 obstaculos, 9.4ms\n",
      "0: 512x864 1 camino, 1 obstaculo, 11.8ms\n",
      "0: 512x864 1 camino, 1 obstaculo, 7.4ms\n",
      "0: 512x864 1 camino, 1 obstaculo, 6.6ms\n",
      "0: 512x864 1 camino, 1 obstaculo, 10.0ms\n",
      "0: 512x864 1 camino, 1 obstaculo, 3.5ms\n",
      "0: 512x864 1 camino, 1 obstaculo, 9.9ms\n",
      "0: 512x864 1 camino, 1 obstaculo, 8.5ms\n",
      "0: 512x864 1 camino, 2 obstaculos, 9.1ms\n",
      "0: 512x864 1 camino, 1 obstaculo, 8.7ms\n",
      "0: 512x864 1 camino, 1 obstaculo, 8.2ms\n",
      "0: 512x864 1 camino, 1 obstaculo, 11.8ms\n",
      "0: 512x864 1 camino, 1 obstaculo, 11.8ms\n",
      "0: 512x864 1 camino, 1 obstaculo, 11.7ms\n",
      "0: 512x864 1 camino, 1 obstaculo, 11.0ms\n",
      "0: 512x864 1 camino, 1 obstaculo, 11.8ms\n",
      "0: 512x864 1 camino, 1 obstaculo, 13.5ms\n",
      "0: 512x864 1 camino, 1 obstaculo, 5.6ms\n",
      "0: 512x864 1 camino, 1 obstaculo, 11.2ms\n",
      "0: 512x864 1 camino, 1 obstaculo, 10.9ms\n",
      "0: 512x864 1 camino, 1 obstaculo, 11.4ms\n",
      "0: 512x864 1 camino, 1 obstaculo, 13.2ms\n",
      "0: 512x864 1 camino, 1 obstaculo, 11.5ms\n",
      "0: 512x864 1 camino, 1 obstaculo, 12.2ms\n",
      "0: 512x864 1 camino, 1 obstaculo, 13.6ms\n",
      "0: 512x864 1 camino, 1 obstaculo, 14.5ms\n",
      "0: 512x864 1 camino, 1 obstaculo, 10.7ms\n",
      "0: 512x864 1 camino, 1 obstaculo, 13.8ms\n",
      "0: 512x864 1 camino, 1 obstaculo, 9.1ms\n",
      "0: 512x864 1 camino, 1 obstaculo, 13.6ms\n",
      "0: 512x864 1 camino, 1 obstaculo, 9.0ms\n",
      "0: 512x864 1 camino, 1 obstaculo, 14.2ms\n",
      "0: 512x864 1 camino, 1 obstaculo, 12.4ms\n",
      "0: 512x864 1 camino, 1 obstaculo, 12.4ms\n",
      "0: 512x864 1 camino, 1 obstaculo, 12.0ms\n",
      "0: 512x864 1 camino, 1 obstaculo, 12.3ms\n",
      "0: 512x864 1 camino, 1 obstaculo, 13.1ms\n",
      "0: 512x864 1 camino, 1 obstaculo, 15.6ms\n",
      "0: 512x864 1 camino, 1 obstaculo, 13.6ms\n",
      "0: 512x864 1 camino, 1 obstaculo, 21.9ms\n",
      "0: 512x864 1 camino, 1 obstaculo, 11.5ms\n",
      "0: 512x864 1 camino, 1 obstaculo, 13.9ms\n",
      "0: 512x864 1 camino, 1 obstaculo, 15.7ms\n",
      "0: 512x864 1 camino, 1 obstaculo, 14.1ms\n",
      "0: 512x864 1 camino, 1 obstaculo, 11.9ms\n",
      "0: 512x864 1 camino, 1 obstaculo, 13.5ms\n",
      "0: 512x864 1 camino, 15.1ms\n",
      "0: 512x864 1 camino, 13.8ms\n",
      "0: 512x864 1 camino, 2 obstaculos, 10.9ms\n",
      "0: 512x864 1 camino, 14.0ms\n",
      "0: 512x864 1 camino, 16.3ms\n",
      "0: 512x864 1 camino, 1 obstaculo, 12.2ms\n",
      "0: 512x864 1 camino, 1 obstaculo, 13.7ms\n",
      "0: 512x864 1 camino, 13.0ms\n",
      "0: 512x864 1 camino, 14.0ms\n",
      "0: 512x864 1 camino, 13.0ms\n",
      "0: 512x864 1 camino, 1 obstaculo, 14.4ms\n",
      "0: 512x864 1 camino, 1 obstaculo, 16.4ms\n",
      "0: 512x864 1 camino, 1 obstaculo, 9.9ms\n",
      "0: 512x864 1 camino, 1 obstaculo, 12.3ms\n",
      "0: 512x864 1 camino, 1 obstaculo, 10.3ms\n",
      "0: 512x864 1 camino, 1 obstaculo, 10.8ms\n",
      "0: 512x864 1 camino, 1 obstaculo, 9.1ms\n",
      "0: 512x864 1 camino, 1 obstaculo, 4.5ms\n",
      "0: 512x864 1 camino, 1 obstaculo, 9.6ms\n",
      "0: 512x864 1 camino, 1 obstaculo, 4.3ms\n",
      "0: 512x864 1 camino, 1 obstaculo, 10.6ms\n",
      "0: 512x864 1 camino, 1 obstaculo, 9.1ms\n",
      "0: 512x864 1 camino, 1 obstaculo, 9.5ms\n",
      "0: 512x864 1 camino, 1 obstaculo, 6.7ms\n",
      "0: 512x864 1 camino, 1 obstaculo, 10.9ms\n",
      "0: 512x864 1 camino, 8.4ms\n",
      "0: 512x864 1 camino, 1 obstaculo, 10.1ms\n",
      "0: 512x864 1 camino, 1 obstaculo, 12.5ms\n",
      "0: 512x864 1 camino, 2 obstaculos, 9.7ms\n",
      "0: 512x864 1 camino, 1 obstaculo, 5.6ms\n",
      "0: 512x864 1 camino, 1 obstaculo, 9.0ms\n",
      "0: 512x864 1 camino, 2 obstaculos, 4.2ms\n",
      "0: 512x864 1 camino, 2 obstaculos, 9.5ms\n",
      "0: 512x864 1 camino, 2 obstaculos, 8.7ms\n",
      "0: 512x864 1 camino, 1 obstaculo, 13.7ms\n",
      "0: 512x864 1 camino, 1 obstaculo, 9.5ms\n",
      "0: 512x864 1 camino, 1 obstaculo, 12.1ms\n",
      "0: 512x864 1 camino, 1 obstaculo, 10.8ms\n",
      "0: 512x864 1 camino, 1 obstaculo, 13.7ms\n",
      "0: 512x864 1 camino, 1 obstaculo, 10.0ms\n",
      "0: 512x864 1 camino, 1 obstaculo, 10.7ms\n",
      "0: 512x864 1 camino, 1 obstaculo, 8.1ms\n",
      "0: 512x864 1 camino, 1 obstaculo, 10.2ms\n",
      "0: 512x864 1 camino, 1 obstaculo, 7.9ms\n",
      "0: 512x864 1 camino, 1 obstaculo, 10.2ms\n",
      "0: 512x864 1 camino, 1 obstaculo, 12.7ms\n",
      "0: 512x864 1 camino, 1 obstaculo, 10.7ms\n",
      "0: 512x864 1 camino, 2 obstaculos, 5.7ms\n",
      "0: 512x864 1 camino, 2 obstaculos, 9.1ms\n",
      "0: 512x864 1 camino, 1 obstaculo, 13.3ms\n",
      "0: 512x864 1 camino, 2 obstaculos, 11.1ms\n",
      "0: 512x864 1 camino, 2 obstaculos, 11.9ms\n",
      "0: 512x864 1 camino, 1 obstaculo, 10.7ms\n",
      "0: 512x864 1 camino, 1 obstaculo, 11.4ms\n",
      "0: 512x864 1 camino, 1 obstaculo, 11.1ms\n",
      "0: 512x864 1 camino, 14.6ms\n",
      "0: 512x864 1 camino, 14.0ms\n",
      "0: 512x864 1 camino, 14.7ms\n",
      "0: 512x864 1 camino, 12.9ms\n",
      "0: 512x864 1 camino, 11.2ms\n",
      "0: 512x864 1 camino, 11.6ms\n",
      "0: 512x864 1 camino, 11.0ms\n",
      "0: 512x864 1 camino, 1 obstaculo, 12.1ms\n",
      "0: 512x864 1 camino, 12.2ms\n",
      "0: 512x864 1 camino, 15.4ms\n",
      "0: 512x864 1 camino, 1 obstaculo, 13.7ms\n",
      "0: 512x864 1 camino, 1 obstaculo, 15.7ms\n",
      "0: 512x864 1 camino, 2 obstaculos, 13.0ms\n",
      "0: 512x864 1 camino, 12.8ms\n",
      "0: 512x864 1 camino, 13.9ms\n",
      "0: 512x864 1 camino, 1 obstaculo, 13.6ms\n",
      "0: 512x864 1 camino, 2 obstaculos, 8.0ms\n",
      "0: 512x864 1 camino, 1 obstaculo, 10.5ms\n",
      "0: 512x864 1 camino, 1 obstaculo, 12.7ms\n",
      "0: 512x864 1 camino, 1 obstaculo, 11.6ms\n",
      "0: 512x864 1 camino, 1 obstaculo, 14.9ms\n",
      "0: 512x864 1 camino, 1 obstaculo, 9.0ms\n",
      "0: 512x864 1 camino, 1 obstaculo, 10.8ms\n",
      "0: 512x864 1 camino, 1 obstaculo, 11.5ms\n",
      "0: 512x864 1 camino, 2 obstaculos, 10.5ms\n",
      "0: 512x864 1 camino, 1 obstaculo, 6.4ms\n",
      "0: 512x864 1 camino, 1 obstaculo, 9.9ms\n",
      "0: 512x864 1 camino, 1 obstaculo, 11.1ms\n",
      "0: 512x864 1 camino, 1 obstaculo, 13.0ms\n",
      "0: 512x864 1 camino, 1 obstaculo, 10.7ms\n",
      "0: 512x864 1 camino, 1 obstaculo, 11.6ms\n",
      "0: 512x864 1 camino, 1 obstaculo, 10.6ms\n",
      "0: 512x864 1 camino, 1 obstaculo, 13.3ms\n",
      "0: 512x864 1 camino, 1 obstaculo, 6.9ms\n",
      "0: 512x864 1 camino, 1 obstaculo, 10.6ms\n",
      "0: 512x864 1 camino, 1 obstaculo, 7.9ms\n",
      "0: 512x864 1 camino, 1 obstaculo, 10.8ms\n",
      "0: 512x864 1 camino, 1 obstaculo, 7.9ms\n",
      "0: 512x864 1 camino, 1 obstaculo, 8.0ms\n",
      "0: 512x864 1 camino, 1 obstaculo, 8.2ms\n",
      "0: 512x864 1 camino, 1 obstaculo, 9.6ms\n",
      "0: 512x864 1 camino, 1 obstaculo, 9.1ms\n",
      "0: 512x864 1 camino, 1 obstaculo, 4.0ms\n",
      "0: 512x864 1 camino, 1 obstaculo, 9.5ms\n",
      "0: 512x864 1 camino, 1 obstaculo, 8.0ms\n",
      "0: 512x864 1 camino, 1 obstaculo, 13.5ms\n",
      "0: 512x864 1 camino, 1 obstaculo, 10.5ms\n",
      "0: 512x864 1 camino, 1 obstaculo, 8.6ms\n",
      "0: 512x864 1 camino, 1 obstaculo, 9.5ms\n",
      "0: 512x864 1 camino, 1 obstaculo, 8.2ms\n",
      "0: 512x864 1 camino, 1 obstaculo, 11.5ms\n",
      "0: 512x864 1 camino, 1 obstaculo, 9.2ms\n",
      "0: 512x864 1 camino, 1 obstaculo, 10.6ms\n",
      "0: 512x864 1 camino, 1 obstaculo, 8.1ms\n",
      "0: 512x864 1 camino, 1 obstaculo, 10.8ms\n",
      "0: 512x864 1 camino, 1 obstaculo, 8.1ms\n",
      "0: 512x864 1 camino, 1 obstaculo, 11.5ms\n",
      "0: 512x864 1 camino, 1 obstaculo, 7.5ms\n",
      "0: 512x864 1 camino, 1 obstaculo, 11.9ms\n",
      "0: 512x864 1 camino, 1 obstaculo, 10.1ms\n",
      "0: 512x864 1 camino, 1 obstaculo, 10.5ms\n",
      "0: 512x864 1 camino, 1 obstaculo, 11.7ms\n",
      "0: 512x864 1 camino, 1 obstaculo, 4.3ms\n",
      "0: 512x864 1 camino, 1 obstaculo, 9.7ms\n",
      "0: 512x864 1 camino, 1 obstaculo, 8.6ms\n",
      "0: 512x864 1 camino, 1 obstaculo, 7.9ms\n",
      "0: 512x864 1 camino, 1 obstaculo, 10.6ms\n",
      "0: 512x864 1 camino, 1 obstaculo, 8.6ms\n",
      "0: 512x864 1 camino, 1 obstaculo, 9.1ms\n",
      "0: 512x864 1 camino, 1 obstaculo, 7.7ms\n",
      "0: 512x864 1 camino, 1 obstaculo, 10.2ms\n",
      "0: 512x864 1 camino, 1 obstaculo, 8.8ms\n",
      "0: 512x864 1 camino, 1 obstaculo, 7.6ms\n",
      "0: 512x864 1 camino, 1 obstaculo, 9.9ms\n",
      "0: 512x864 1 camino, 1 obstaculo, 9.1ms\n",
      "0: 512x864 1 camino, 1 obstaculo, 12.6ms\n",
      "0: 512x864 1 camino, 1 obstaculo, 8.9ms\n",
      "0: 512x864 1 camino, 1 obstaculo, 9.7ms\n",
      "0: 512x864 1 camino, 1 obstaculo, 5.1ms\n",
      "0: 512x864 1 camino, 1 obstaculo, 9.1ms\n",
      "0: 512x864 1 camino, 1 obstaculo, 7.2ms\n",
      "0: 512x864 1 camino, 1 obstaculo, 9.0ms\n",
      "0: 512x864 1 obstaculo, 8.8ms\n",
      "0: 512x864 1 camino, 1 obstaculo, 10.4ms\n",
      "0: 512x864 1 camino, 1 obstaculo, 9.0ms\n",
      "0: 512x864 1 camino, 1 obstaculo, 7.9ms\n",
      "0: 512x864 1 camino, 1 obstaculo, 7.8ms\n",
      "0: 512x864 1 camino, 1 obstaculo, 11.6ms\n",
      "0: 512x864 1 camino, 1 obstaculo, 8.1ms\n",
      "0: 512x864 1 obstaculo, 11.3ms\n",
      "0: 512x864 1 camino, 1 obstaculo, 8.6ms\n",
      "0: 512x864 1 obstaculo, 9.2ms\n",
      "0: 512x864 1 camino, 1 obstaculo, 8.9ms\n",
      "0: 512x864 1 camino, 1 obstaculo, 11.6ms\n",
      "0: 512x864 1 obstaculo, 8.9ms\n",
      "0: 512x864 1 obstaculo, 9.6ms\n",
      "0: 512x864 1 camino, 1 obstaculo, 4.5ms\n",
      "0: 512x864 1 camino, 1 obstaculo, 12.6ms\n",
      "0: 512x864 1 obstaculo, 8.0ms\n",
      "0: 512x864 1 camino, 1 obstaculo, 9.0ms\n",
      "0: 512x864 1 camino, 1 obstaculo, 9.6ms\n",
      "0: 512x864 1 obstaculo, 8.9ms\n",
      "0: 512x864 1 camino, 1 obstaculo, 10.9ms\n",
      "0: 512x864 1 obstaculo, 10.0ms\n",
      "0: 512x864 1 obstaculo, 5.4ms\n",
      "0: 512x864 1 obstaculo, 11.2ms\n",
      "0: 512x864 1 obstaculo, 13.0ms\n",
      "0: 512x864 1 obstaculo, 8.1ms\n",
      "0: 512x864 1 obstaculo, 8.2ms\n",
      "0: 512x864 1 obstaculo, 9.0ms\n",
      "0: 512x864 1 obstaculo, 11.3ms\n",
      "0: 512x864 1 obstaculo, 9.8ms\n",
      "0: 512x864 1 obstaculo, 9.7ms\n",
      "0: 512x864 1 obstaculo, 9.2ms\n",
      "0: 512x864 1 obstaculo, 11.8ms\n",
      "0: 512x864 1 obstaculo, 10.5ms\n",
      "0: 512x864 1 obstaculo, 10.5ms\n",
      "0: 512x864 1 obstaculo, 11.4ms\n",
      "0: 512x864 1 obstaculo, 8.7ms\n",
      "0: 512x864 1 obstaculo, 14.4ms\n",
      "0: 512x864 1 obstaculo, 10.8ms\n",
      "0: 512x864 1 obstaculo, 12.0ms\n",
      "0: 512x864 1 obstaculo, 11.1ms\n",
      "0: 512x864 1 obstaculo, 11.1ms\n",
      "0: 512x864 1 obstaculo, 14.1ms\n",
      "0: 512x864 1 obstaculo, 14.3ms\n",
      "0: 512x864 1 obstaculo, 11.8ms\n",
      "0: 512x864 1 obstaculo, 12.4ms\n",
      "0: 512x864 1 obstaculo, 10.4ms\n",
      "0: 512x864 1 obstaculo, 12.5ms\n",
      "0: 512x864 1 obstaculo, 12.3ms\n",
      "0: 512x864 1 obstaculo, 7.0ms\n",
      "0: 512x864 1 obstaculo, 14.1ms\n",
      "0: 512x864 1 obstaculo, 13.7ms\n",
      "0: 512x864 1 obstaculo, 12.5ms\n",
      "0: 512x864 1 obstaculo, 8.8ms\n",
      "0: 512x864 1 obstaculo, 12.1ms\n",
      "0: 512x864 1 obstaculo, 7.6ms\n",
      "0: 512x864 1 obstaculo, 14.6ms\n",
      "0: 512x864 1 obstaculo, 11.8ms\n",
      "0: 512x864 1 obstaculo, 13.3ms\n",
      "0: 512x864 1 obstaculo, 11.1ms\n",
      "0: 512x864 1 obstaculo, 11.0ms\n",
      "0: 512x864 1 obstaculo, 10.8ms\n",
      "0: 512x864 1 obstaculo, 13.7ms\n",
      "0: 512x864 1 obstaculo, 14.9ms\n",
      "0: 512x864 1 obstaculo, 12.2ms\n",
      "0: 512x864 1 obstaculo, 11.9ms\n",
      "0: 512x864 1 obstaculo, 11.7ms\n",
      "0: 512x864 1 obstaculo, 10.6ms\n",
      "0: 512x864 1 obstaculo, 10.6ms\n",
      "0: 512x864 1 obstaculo, 11.8ms\n",
      "0: 512x864 1 obstaculo, 6.8ms\n",
      "0: 512x864 1 obstaculo, 10.9ms\n",
      "0: 512x864 1 obstaculo, 14.1ms\n",
      "0: 512x864 1 obstaculo, 11.0ms\n",
      "0: 512x864 1 obstaculo, 11.1ms\n",
      "0: 512x864 1 camino, 1 obstaculo, 13.2ms\n",
      "0: 512x864 1 camino, 1 obstaculo, 11.2ms\n",
      "0: 512x864 1 camino, 1 obstaculo, 14.0ms\n",
      "0: 512x864 1 camino, 1 obstaculo, 12.7ms\n",
      "0: 512x864 1 camino, 1 obstaculo, 10.0ms\n",
      "0: 512x864 1 camino, 1 obstaculo, 11.6ms\n",
      "0: 512x864 1 camino, 1 obstaculo, 16.7ms\n",
      "0: 512x864 1 camino, 1 obstaculo, 10.8ms\n",
      "0: 512x864 1 camino, 1 obstaculo, 13.7ms\n",
      "0: 512x864 1 camino, 1 obstaculo, 11.6ms\n",
      "0: 512x864 1 camino, 1 obstaculo, 11.5ms\n",
      "0: 512x864 1 camino, 1 obstaculo, 13.7ms\n",
      "0: 512x864 1 camino, 1 obstaculo, 13.9ms\n",
      "0: 512x864 1 camino, 1 obstaculo, 11.6ms\n",
      "0: 512x864 1 camino, 1 obstaculo, 13.7ms\n",
      "0: 512x864 1 camino, 1 obstaculo, 12.9ms\n",
      "0: 512x864 1 camino, 1 obstaculo, 13.5ms\n",
      "0: 512x864 1 camino, 1 obstaculo, 15.8ms\n",
      "0: 512x864 1 camino, 1 obstaculo, 13.7ms\n",
      "0: 512x864 1 camino, 1 obstaculo, 13.1ms\n",
      "0: 512x864 1 camino, 1 obstaculo, 9.2ms\n",
      "0: 512x864 1 camino, 2 obstaculos, 10.6ms\n",
      "0: 512x864 1 camino, 2 obstaculos, 10.8ms\n",
      "0: 512x864 1 camino, 2 obstaculos, 10.0ms\n",
      "0: 512x864 1 camino, 1 obstaculo, 12.2ms\n",
      "0: 512x864 1 camino, 1 obstaculo, 9.9ms\n",
      "0: 512x864 1 camino, 1 obstaculo, 10.5ms\n",
      "0: 512x864 1 camino, 1 obstaculo, 7.2ms\n",
      "0: 512x864 1 camino, 1 obstaculo, 12.5ms\n",
      "0: 512x864 1 camino, 1 obstaculo, 10.1ms\n",
      "0: 512x864 1 camino, 1 obstaculo, 11.3ms\n",
      "0: 512x864 1 camino, 1 obstaculo, 12.8ms\n",
      "0: 512x864 1 camino, 1 obstaculo, 10.1ms\n",
      "0: 512x864 1 camino, 1 obstaculo, 9.5ms\n",
      "0: 512x864 1 camino, 1 obstaculo, 10.1ms\n",
      "0: 512x864 1 camino, 1 obstaculo, 10.0ms\n",
      "0: 512x864 1 camino, 1 obstaculo, 10.8ms\n",
      "0: 512x864 1 camino, 1 obstaculo, 10.7ms\n",
      "0: 512x864 1 camino, 1 obstaculo, 10.9ms\n",
      "0: 512x864 1 camino, 1 obstaculo, 9.9ms\n",
      "0: 512x864 1 camino, 1 obstaculo, 7.9ms\n",
      "0: 512x864 1 camino, 2 obstaculos, 14.7ms\n",
      "0: 512x864 1 camino, 2 obstaculos, 11.1ms\n",
      "0: 512x864 1 camino, 1 obstaculo, 9.4ms\n",
      "0: 512x864 1 camino, 1 obstaculo, 5.2ms\n",
      "0: 512x864 1 camino, 2 obstaculos, 9.7ms\n",
      "0: 512x864 1 camino, 1 obstaculo, 10.5ms\n",
      "0: 512x864 1 camino, 1 obstaculo, 9.1ms\n",
      "0: 512x864 1 camino, 2 obstaculos, 7.0ms\n",
      "0: 512x864 1 camino, 1 obstaculo, 11.2ms\n",
      "0: 512x864 1 camino, 1 obstaculo, 9.4ms\n",
      "0: 512x864 1 camino, 1 obstaculo, 4.5ms\n",
      "0: 512x864 1 camino, 1 obstaculo, 12.3ms\n",
      "0: 512x864 1 camino, 1 obstaculo, 12.0ms\n",
      "0: 512x864 1 camino, 2 obstaculos, 9.7ms\n",
      "0: 512x864 1 camino, 2 obstaculos, 11.5ms\n",
      "0: 512x864 1 camino, 2 obstaculos, 11.3ms\n",
      "0: 512x864 1 camino, 2 obstaculos, 10.7ms\n",
      "0: 512x864 1 camino, 2 obstaculos, 9.5ms\n",
      "0: 512x864 1 camino, 2 obstaculos, 10.5ms\n",
      "0: 512x864 1 camino, 2 obstaculos, 10.6ms\n",
      "0: 512x864 1 camino, 2 obstaculos, 11.6ms\n",
      "0: 512x864 1 camino, 2 obstaculos, 11.4ms\n",
      "0: 512x864 1 camino, 2 obstaculos, 11.8ms\n",
      "0: 512x864 1 camino, 2 obstaculos, 13.9ms\n",
      "0: 512x864 1 camino, 1 obstaculo, 10.9ms\n",
      "0: 512x864 1 camino, 2 obstaculos, 11.8ms\n",
      "0: 512x864 1 camino, 2 obstaculos, 12.5ms\n",
      "0: 512x864 1 camino, 2 obstaculos, 10.8ms\n",
      "0: 512x864 1 camino, 2 obstaculos, 13.1ms\n",
      "0: 512x864 1 camino, 2 obstaculos, 18.3ms\n",
      "0: 512x864 1 camino, 2 obstaculos, 7.6ms\n",
      "0: 512x864 1 camino, 2 obstaculos, 11.9ms\n",
      "0: 512x864 1 camino, 1 obstaculo, 11.2ms\n",
      "0: 512x864 1 camino, 2 obstaculos, 11.6ms\n",
      "0: 512x864 1 camino, 1 obstaculo, 10.9ms\n",
      "0: 512x864 1 camino, 2 obstaculos, 11.5ms\n",
      "0: 512x864 1 camino, 2 obstaculos, 11.0ms\n",
      "0: 512x864 1 camino, 1 obstaculo, 6.4ms\n",
      "0: 512x864 1 camino, 1 obstaculo, 10.9ms\n",
      "0: 512x864 1 camino, 2 obstaculos, 13.3ms\n",
      "0: 512x864 1 camino, 2 obstaculos, 14.0ms\n",
      "0: 512x864 1 camino, 1 obstaculo, 13.5ms\n",
      "0: 512x864 1 camino, 2 obstaculos, 11.8ms\n",
      "0: 512x864 1 camino, 1 obstaculo, 12.4ms\n",
      "0: 512x864 1 camino, 1 obstaculo, 13.8ms\n",
      "0: 512x864 1 camino, 1 obstaculo, 12.3ms\n",
      "0: 512x864 1 camino, 1 obstaculo, 13.8ms\n",
      "0: 512x864 1 camino, 1 obstaculo, 14.2ms\n",
      "0: 512x864 1 camino, 2 obstaculos, 12.5ms\n",
      "0: 512x864 1 camino, 1 obstaculo, 14.9ms\n",
      "0: 512x864 1 camino, 1 obstaculo, 11.6ms\n",
      "0: 512x864 1 camino, 1 obstaculo, 10.0ms\n",
      "0: 512x864 1 camino, 1 obstaculo, 16.1ms\n",
      "0: 512x864 1 camino, 1 obstaculo, 12.6ms\n",
      "0: 512x864 1 camino, 1 obstaculo, 15.3ms\n",
      "0: 512x864 1 camino, 1 obstaculo, 13.3ms\n",
      "0: 512x864 1 camino, 1 obstaculo, 15.9ms\n",
      "0: 512x864 1 camino, 1 obstaculo, 14.9ms\n",
      "0: 512x864 1 camino, 1 obstaculo, 12.7ms\n",
      "0: 512x864 2 caminos, 1 obstaculo, 15.6ms\n",
      "0: 512x864 1 camino, 1 obstaculo, 19.1ms\n",
      "0: 512x864 1 camino, 1 obstaculo, 15.9ms\n",
      "0: 512x864 1 camino, 1 obstaculo, 10.8ms\n",
      "0: 512x864 1 camino, 1 obstaculo, 12.8ms\n",
      "0: 512x864 1 camino, 1 obstaculo, 12.7ms\n",
      "0: 512x864 1 camino, 1 obstaculo, 15.6ms\n",
      "0: 512x864 1 camino, 1 obstaculo, 8.7ms\n",
      "0: 512x864 1 camino, 1 obstaculo, 7.8ms\n",
      "0: 512x864 1 camino, 1 obstaculo, 13.4ms\n",
      "0: 512x864 1 camino, 1 obstaculo, 13.2ms\n",
      "0: 512x864 2 caminos, 1 obstaculo, 13.0ms\n",
      "0: 512x864 2 caminos, 1 obstaculo, 14.4ms\n",
      "0: 512x864 1 camino, 1 obstaculo, 13.6ms\n",
      "0: 512x864 2 caminos, 1 obstaculo, 12.8ms\n",
      "0: 512x864 2 caminos, 1 obstaculo, 12.0ms\n",
      "0: 512x864 1 camino, 1 obstaculo, 13.5ms\n",
      "0: 512x864 1 camino, 1 obstaculo, 17.3ms\n",
      "0: 512x864 1 camino, 1 obstaculo, 7.5ms\n",
      "0: 512x864 1 camino, 1 obstaculo, 13.2ms\n",
      "0: 512x864 1 camino, 1 obstaculo, 12.2ms\n",
      "0: 512x864 2 caminos, 1 obstaculo, 11.2ms\n",
      "0: 512x864 2 caminos, 1 obstaculo, 13.0ms\n",
      "0: 512x864 2 caminos, 1 obstaculo, 9.7ms\n",
      "0: 512x864 1 camino, 1 obstaculo, 14.1ms\n",
      "0: 512x864 1 camino, 1 obstaculo, 11.6ms\n",
      "0: 512x864 1 camino, 1 obstaculo, 13.6ms\n",
      "0: 512x864 1 camino, 1 obstaculo, 13.2ms\n",
      "0: 512x864 1 camino, 1 obstaculo, 10.8ms\n",
      "0: 512x864 1 camino, 1 obstaculo, 7.5ms\n",
      "0: 512x864 1 camino, 1 obstaculo, 10.8ms\n",
      "0: 512x864 1 camino, 1 obstaculo, 10.5ms\n",
      "0: 512x864 1 camino, 1 obstaculo, 11.4ms\n",
      "0: 512x864 1 camino, 1 obstaculo, 9.9ms\n",
      "0: 512x864 1 camino, 1 obstaculo, 15.8ms\n",
      "0: 512x864 1 camino, 1 obstaculo, 10.1ms\n",
      "0: 512x864 1 camino, 1 obstaculo, 10.9ms\n",
      "0: 512x864 1 camino, 1 obstaculo, 11.3ms\n",
      "0: 512x864 1 camino, 1 obstaculo, 10.9ms\n",
      "0: 512x864 1 camino, 1 obstaculo, 7.6ms\n",
      "0: 512x864 1 camino, 2 obstaculos, 7.2ms\n",
      "0: 512x864 1 camino, 1 obstaculo, 11.5ms\n",
      "0: 512x864 1 camino, 1 obstaculo, 11.8ms\n",
      "0: 512x864 1 camino, 1 obstaculo, 11.7ms\n",
      "0: 512x864 1 camino, 1 obstaculo, 11.8ms\n",
      "0: 512x864 1 camino, 2 obstaculos, 15.7ms\n",
      "0: 512x864 1 camino, 1 obstaculo, 11.8ms\n",
      "0: 512x864 1 camino, 1 obstaculo, 9.9ms\n",
      "0: 512x864 1 camino, 1 obstaculo, 7.0ms\n",
      "0: 512x864 1 camino, 2 obstaculos, 14.8ms\n",
      "0: 512x864 1 camino, 2 obstaculos, 13.2ms\n",
      "0: 512x864 1 camino, 1 obstaculo, 8.8ms\n",
      "0: 512x864 1 camino, 1 obstaculo, 10.3ms\n",
      "0: 512x864 1 camino, 1 obstaculo, 11.0ms\n",
      "0: 512x864 1 camino, 1 obstaculo, 11.3ms\n",
      "0: 512x864 1 camino, 1 obstaculo, 11.6ms\n",
      "0: 512x864 1 camino, 1 obstaculo, 10.8ms\n",
      "0: 512x864 1 camino, 1 obstaculo, 9.7ms\n",
      "0: 512x864 1 camino, 2 obstaculos, 14.1ms\n",
      "0: 512x864 1 camino, 1 obstaculo, 10.7ms\n",
      "0: 512x864 1 camino, 1 obstaculo, 11.0ms\n",
      "0: 512x864 1 camino, 1 obstaculo, 11.9ms\n",
      "0: 512x864 1 camino, 1 obstaculo, 10.9ms\n",
      "0: 512x864 1 camino, 1 obstaculo, 7.9ms\n",
      "0: 512x864 1 camino, 1 obstaculo, 13.6ms\n",
      "0: 512x864 1 obstaculo, 12.8ms\n",
      "0: 512x864 1 camino, 1 obstaculo, 9.5ms\n",
      "0: 512x864 1 camino, 1 obstaculo, 8.6ms\n",
      "0: 512x864 1 camino, 1 obstaculo, 10.4ms\n",
      "0: 512x864 1 camino, 1 obstaculo, 14.5ms\n",
      "0: 512x864 1 camino, 1 obstaculo, 8.7ms\n",
      "0: 512x864 1 obstaculo, 5.0ms\n",
      "0: 512x864 1 obstaculo, 8.1ms\n",
      "0: 512x864 1 obstaculo, 10.6ms\n",
      "0: 512x864 1 camino, 1 obstaculo, 6.5ms\n",
      "0: 512x864 1 camino, 1 obstaculo, 8.6ms\n",
      "0: 512x864 1 camino, 1 obstaculo, 9.9ms\n",
      "0: 512x864 1 camino, 1 obstaculo, 11.0ms\n",
      "0: 512x864 1 obstaculo, 9.0ms\n",
      "0: 512x864 1 obstaculo, 8.9ms\n",
      "0: 512x864 1 obstaculo, 8.0ms\n",
      "0: 512x864 1 camino, 1 obstaculo, 11.5ms\n",
      "0: 512x864 1 obstaculo, 12.2ms\n",
      "0: 512x864 1 camino, 1 obstaculo, 4.8ms\n",
      "0: 512x864 1 camino, 1 obstaculo, 5.2ms\n",
      "0: 512x864 1 camino, 1 obstaculo, 10.2ms\n",
      "0: 512x864 1 camino, 1 obstaculo, 9.5ms\n",
      "0: 512x864 1 camino, 1 obstaculo, 8.5ms\n",
      "0: 512x864 1 camino, 1 obstaculo, 9.4ms\n",
      "0: 512x864 1 camino, 1 obstaculo, 9.5ms\n",
      "0: 512x864 1 camino, 1 obstaculo, 4.5ms\n",
      "0: 512x864 1 obstaculo, 9.9ms\n",
      "0: 512x864 1 camino, 1 obstaculo, 7.9ms\n",
      "0: 512x864 1 camino, 1 obstaculo, 9.5ms\n",
      "0: 512x864 1 camino, 1 obstaculo, 11.2ms\n",
      "0: 512x864 1 camino, 1 obstaculo, 8.0ms\n",
      "0: 512x864 1 camino, 1 obstaculo, 4.2ms\n",
      "0: 512x864 1 camino, 1 obstaculo, 10.5ms\n",
      "0: 512x864 1 camino, 1 obstaculo, 6.9ms\n",
      "0: 512x864 1 camino, 1 obstaculo, 3.7ms\n",
      "0: 512x864 1 camino, 1 obstaculo, 9.7ms\n",
      "0: 512x864 1 camino, 1 obstaculo, 8.6ms\n",
      "0: 512x864 1 camino, 2 obstaculos, 8.5ms\n",
      "0: 512x864 1 camino, 1 obstaculo, 5.0ms\n",
      "0: 512x864 1 camino, 1 obstaculo, 8.3ms\n",
      "0: 512x864 1 camino, 1 obstaculo, 4.6ms\n",
      "0: 512x864 1 camino, 1 obstaculo, 9.5ms\n",
      "0: 512x864 1 camino, 1 obstaculo, 7.8ms\n",
      "0: 512x864 1 camino, 1 obstaculo, 9.5ms\n",
      "0: 512x864 1 camino, 2 obstaculos, 12.0ms\n",
      "0: 512x864 1 camino, 1 obstaculo, 9.9ms\n",
      "0: 512x864 1 camino, 1 obstaculo, 12.6ms\n",
      "0: 512x864 2 caminos, 2 obstaculos, 9.9ms\n",
      "0: 512x864 2 caminos, 1 obstaculo, 7.5ms\n",
      "0: 512x864 1 obstaculo, 7.9ms\n",
      "0: 512x864 2 caminos, 2 obstaculos, 9.5ms\n",
      "0: 512x864 1 obstaculo, 8.1ms\n",
      "0: 512x864 1 obstaculo, 8.5ms\n",
      "0: 512x864 1 obstaculo, 8.0ms\n",
      "0: 512x864 1 obstaculo, 9.6ms\n",
      "0: 512x864 1 obstaculo, 13.1ms\n",
      "0: 512x864 1 obstaculo, 10.6ms\n",
      "0: 512x864 1 obstaculo, 11.3ms\n",
      "0: 512x864 1 obstaculo, 11.8ms\n",
      "0: 512x864 1 obstaculo, 10.2ms\n",
      "0: 512x864 1 obstaculo, 8.7ms\n",
      "0: 512x864 1 obstaculo, 10.1ms\n",
      "0: 512x864 2 caminos, 1 obstaculo, 9.1ms\n",
      "0: 512x864 2 caminos, 1 obstaculo, 9.2ms\n",
      "0: 512x864 2 caminos, 1 obstaculo, 9.0ms\n",
      "0: 512x864 2 caminos, 1 obstaculo, 9.1ms\n",
      "0: 512x864 1 camino, 1 obstaculo, 11.1ms\n",
      "0: 512x864 2 caminos, 1 obstaculo, 10.7ms\n",
      "0: 512x864 2 caminos, 1 obstaculo, 12.1ms\n",
      "0: 512x864 3 caminos, 1 obstaculo, 7.4ms\n",
      "0: 512x864 2 caminos, 1 obstaculo, 14.9ms\n",
      "0: 512x864 2 caminos, 1 obstaculo, 11.2ms\n",
      "0: 512x864 2 caminos, 1 obstaculo, 7.0ms\n",
      "0: 512x864 1 camino, 1 obstaculo, 12.0ms\n",
      "0: 512x864 1 camino, 1 obstaculo, 11.2ms\n",
      "0: 512x864 1 camino, 1 obstaculo, 11.1ms\n",
      "0: 512x864 2 caminos, 1 obstaculo, 11.4ms\n",
      "0: 512x864 2 caminos, 1 obstaculo, 11.5ms\n",
      "0: 512x864 2 caminos, 1 obstaculo, 11.0ms\n",
      "0: 512x864 2 caminos, 1 obstaculo, 17.4ms\n",
      "0: 512x864 2 caminos, 2 obstaculos, 13.7ms\n",
      "0: 512x864 2 caminos, 1 obstaculo, 15.1ms\n",
      "0: 512x864 1 camino, 2 obstaculos, 13.6ms\n",
      "0: 512x864 2 caminos, 2 obstaculos, 12.0ms\n",
      "0: 512x864 2 caminos, 1 obstaculo, 11.9ms\n",
      "0: 512x864 1 camino, 1 obstaculo, 12.2ms\n",
      "0: 512x864 1 camino, 2 obstaculos, 10.5ms\n",
      "0: 512x864 2 caminos, 1 obstaculo, 9.7ms\n",
      "0: 512x864 1 camino, 3 obstaculos, 10.9ms\n",
      "0: 512x864 1 camino, 3 obstaculos, 10.8ms\n",
      "0: 512x864 2 caminos, 2 obstaculos, 8.1ms\n",
      "0: 512x864 2 caminos, 2 obstaculos, 13.7ms\n",
      "0: 512x864 2 caminos, 2 obstaculos, 11.8ms\n",
      "0: 512x864 1 camino, 2 obstaculos, 14.6ms\n",
      "0: 512x864 2 caminos, 2 obstaculos, 12.0ms\n",
      "0: 512x864 2 caminos, 2 obstaculos, 11.6ms\n",
      "0: 512x864 2 caminos, 2 obstaculos, 11.3ms\n",
      "0: 512x864 2 caminos, 2 obstaculos, 10.9ms\n",
      "0: 512x864 2 caminos, 2 obstaculos, 13.6ms\n",
      "0: 512x864 2 caminos, 2 obstaculos, 10.7ms\n",
      "0: 512x864 2 caminos, 2 obstaculos, 17.8ms\n",
      "0: 512x864 2 caminos, 2 obstaculos, 10.7ms\n",
      "0: 512x864 2 caminos, 1 obstaculo, 11.0ms\n",
      "0: 512x864 2 caminos, 1 obstaculo, 11.4ms\n",
      "0: 512x864 2 caminos, 1 obstaculo, 15.2ms\n",
      "0: 512x864 1 camino, 2 obstaculos, 13.0ms\n",
      "0: 512x864 2 caminos, 1 obstaculo, 13.2ms\n",
      "0: 512x864 2 caminos, 2 obstaculos, 13.9ms\n",
      "0: 512x864 2 caminos, 1 obstaculo, 10.2ms\n",
      "0: 512x864 1 camino, 2 obstaculos, 10.7ms\n",
      "0: 512x864 2 caminos, 2 obstaculos, 12.0ms\n",
      "0: 512x864 2 caminos, 2 obstaculos, 10.7ms\n",
      "0: 512x864 2 caminos, 2 obstaculos, 11.4ms\n",
      "0: 512x864 2 caminos, 2 obstaculos, 10.9ms\n",
      "0: 512x864 2 caminos, 2 obstaculos, 13.5ms\n",
      "0: 512x864 2 caminos, 2 obstaculos, 11.5ms\n",
      "0: 512x864 2 caminos, 2 obstaculos, 13.8ms\n",
      "0: 512x864 2 caminos, 2 obstaculos, 12.3ms\n",
      "0: 512x864 1 camino, 2 obstaculos, 10.8ms\n",
      "0: 512x864 2 caminos, 1 obstaculo, 11.7ms\n",
      "0: 512x864 2 caminos, 1 obstaculo, 10.3ms\n",
      "0: 512x864 2 caminos, 1 obstaculo, 10.8ms\n",
      "0: 512x864 1 camino, 1 obstaculo, 16.2ms\n",
      "0: 512x864 2 caminos, 1 obstaculo, 14.2ms\n",
      "0: 512x864 2 caminos, 1 obstaculo, 13.1ms\n",
      "0: 512x864 2 caminos, 1 obstaculo, 14.8ms\n",
      "0: 512x864 1 camino, 1 obstaculo, 13.7ms\n",
      "0: 512x864 1 camino, 1 obstaculo, 12.6ms\n",
      "0: 512x864 2 caminos, 1 obstaculo, 10.7ms\n",
      "0: 512x864 2 caminos, 1 obstaculo, 8.5ms\n",
      "0: 512x864 1 camino, 1 obstaculo, 10.5ms\n",
      "0: 512x864 1 camino, 1 obstaculo, 11.1ms\n",
      "0: 512x864 1 camino, 1 obstaculo, 15.5ms\n",
      "0: 512x864 1 camino, 1 obstaculo, 10.8ms\n",
      "0: 512x864 1 camino, 1 obstaculo, 10.3ms\n",
      "0: 512x864 1 camino, 1 obstaculo, 12.6ms\n",
      "0: 512x864 2 caminos, 1 obstaculo, 10.3ms\n",
      "0: 512x864 2 caminos, 1 obstaculo, 5.2ms\n",
      "0: 512x864 2 caminos, 1 obstaculo, 11.2ms\n",
      "0: 512x864 2 caminos, 1 obstaculo, 11.9ms\n",
      "0: 512x864 2 caminos, 1 obstaculo, 13.7ms\n",
      "0: 512x864 2 caminos, 1 obstaculo, 12.7ms\n",
      "0: 512x864 1 camino, 1 obstaculo, 12.5ms\n",
      "0: 512x864 3 caminos, 1 obstaculo, 11.7ms\n",
      "0: 512x864 1 camino, 1 obstaculo, 11.3ms\n",
      "0: 512x864 2 caminos, 1 obstaculo, 6.8ms\n",
      "0: 512x864 3 caminos, 1 obstaculo, 11.2ms\n",
      "0: 512x864 1 camino, 1 obstaculo, 9.5ms\n",
      "0: 512x864 1 camino, 1 obstaculo, 11.9ms\n",
      "0: 512x864 1 camino, 1 obstaculo, 13.0ms\n",
      "0: 512x864 1 camino, 1 obstaculo, 10.1ms\n",
      "0: 512x864 1 camino, 1 obstaculo, 10.6ms\n",
      "0: 512x864 1 camino, 1 obstaculo, 11.0ms\n",
      "0: 512x864 2 caminos, 1 obstaculo, 12.0ms\n",
      "0: 512x864 3 caminos, 1 obstaculo, 12.1ms\n",
      "0: 512x864 2 caminos, 1 obstaculo, 11.1ms\n",
      "0: 512x864 1 camino, 1 obstaculo, 8.5ms\n",
      "0: 512x864 2 caminos, 1 obstaculo, 10.5ms\n",
      "0: 512x864 2 caminos, 1 obstaculo, 9.0ms\n",
      "0: 512x864 3 caminos, 1 obstaculo, 11.1ms\n",
      "0: 512x864 1 camino, 1 obstaculo, 11.0ms\n",
      "0: 512x864 3 caminos, 1 obstaculo, 12.1ms\n",
      "0: 512x864 2 caminos, 1 obstaculo, 9.0ms\n",
      "0: 512x864 1 camino, 1 obstaculo, 5.5ms\n",
      "0: 512x864 2 caminos, 1 obstaculo, 10.3ms\n",
      "0: 512x864 2 caminos, 1 obstaculo, 10.2ms\n",
      "0: 512x864 2 caminos, 1 obstaculo, 11.9ms\n",
      "0: 512x864 1 camino, 1 obstaculo, 9.9ms\n",
      "0: 512x864 2 caminos, 1 obstaculo, 12.6ms\n",
      "0: 512x864 2 caminos, 1 obstaculo, 10.8ms\n",
      "0: 512x864 1 camino, 1 obstaculo, 11.3ms\n",
      "0: 512x864 1 camino, 1 obstaculo, 10.5ms\n",
      "0: 512x864 1 camino, 1 obstaculo, 10.1ms\n",
      "0: 512x864 2 caminos, 1 obstaculo, 10.1ms\n",
      "0: 512x864 3 caminos, 1 obstaculo, 13.3ms\n",
      "0: 512x864 2 caminos, 1 obstaculo, 14.9ms\n",
      "0: 512x864 2 caminos, 1 obstaculo, 8.9ms\n",
      "0: 512x864 2 caminos, 1 obstaculo, 16.0ms\n",
      "0: 512x864 2 caminos, 1 obstaculo, 10.0ms\n",
      "0: 512x864 1 camino, 1 obstaculo, 10.9ms\n",
      "0: 512x864 1 camino, 1 obstaculo, 9.6ms\n",
      "0: 512x864 2 caminos, 1 obstaculo, 11.1ms\n",
      "0: 512x864 1 camino, 1 obstaculo, 7.1ms\n",
      "0: 512x864 2 caminos, 1 obstaculo, 10.0ms\n",
      "0: 512x864 2 caminos, 1 obstaculo, 13.4ms\n",
      "0: 512x864 2 caminos, 1 obstaculo, 11.8ms\n",
      "0: 512x864 1 camino, 1 obstaculo, 8.3ms\n",
      "0: 512x864 1 camino, 1 obstaculo, 10.3ms\n",
      "0: 512x864 1 camino, 1 obstaculo, 9.3ms\n",
      "0: 512x864 1 camino, 1 obstaculo, 10.1ms\n",
      "0: 512x864 1 camino, 1 obstaculo, 10.9ms\n",
      "0: 512x864 1 camino, 1 obstaculo, 13.3ms\n",
      "0: 512x864 2 caminos, 1 obstaculo, 12.0ms\n",
      "0: 512x864 1 camino, 1 obstaculo, 13.6ms\n",
      "0: 512x864 2 caminos, 1 obstaculo, 17.1ms\n",
      "0: 512x864 1 camino, 1 obstaculo, 14.5ms\n",
      "0: 512x864 1 camino, 1 obstaculo, 13.2ms\n",
      "0: 512x864 2 caminos, 1 obstaculo, 13.6ms\n",
      "0: 512x864 1 camino, 1 obstaculo, 10.9ms\n",
      "0: 512x864 1 camino, 1 obstaculo, 17.4ms\n",
      "0: 512x864 1 camino, 1 obstaculo, 13.7ms\n",
      "0: 512x864 1 camino, 1 obstaculo, 14.9ms\n",
      "0: 512x864 3 caminos, 1 obstaculo, 12.6ms\n",
      "0: 512x864 2 caminos, 1 obstaculo, 16.0ms\n",
      "0: 512x864 1 camino, 1 obstaculo, 8.6ms\n",
      "0: 512x864 1 camino, 1 obstaculo, 13.1ms\n",
      "0: 512x864 1 obstaculo, 14.8ms\n",
      "0: 512x864 1 camino, 1 obstaculo, 15.6ms\n",
      "0: 512x864 1 camino, 14.7ms\n",
      "0: 512x864 1 camino, 1 obstaculo, 13.2ms\n",
      "0: 512x864 1 camino, 1 obstaculo, 12.9ms\n",
      "0: 512x864 1 camino, 1 obstaculo, 38.7ms\n",
      "0: 512x864 1 camino, 1 obstaculo, 11.2ms\n",
      "0: 512x864 1 obstaculo, 12.5ms\n",
      "0: 512x864 1 camino, 1 obstaculo, 12.2ms\n",
      "0: 512x864 1 obstaculo, 10.2ms\n",
      "0: 512x864 1 obstaculo, 13.3ms\n",
      "0: 512x864 1 obstaculo, 12.3ms\n",
      "0: 512x864 1 obstaculo, 10.9ms\n",
      "0: 512x864 1 obstaculo, 9.8ms\n",
      "0: 512x864 1 obstaculo, 12.1ms\n",
      "0: 512x864 1 camino, 1 obstaculo, 9.0ms\n",
      "0: 512x864 1 camino, 2 obstaculos, 14.3ms\n",
      "0: 512x864 1 camino, 1 obstaculo, 10.7ms\n",
      "0: 512x864 1 camino, 2 obstaculos, 12.0ms\n",
      "0: 512x864 1 camino, 1 obstaculo, 12.6ms\n",
      "0: 512x864 1 obstaculo, 12.6ms\n",
      "0: 512x864 1 camino, 2 obstaculos, 7.1ms\n",
      "0: 512x864 1 obstaculo, 11.2ms\n",
      "0: 512x864 1 camino, 1 obstaculo, 11.1ms\n",
      "0: 512x864 1 camino, 2 obstaculos, 13.8ms\n",
      "0: 512x864 1 camino, 1 obstaculo, 13.1ms\n",
      "0: 512x864 1 camino, 1 obstaculo, 10.0ms\n",
      "0: 512x864 1 camino, 1 obstaculo, 11.4ms\n",
      "0: 512x864 1 camino, 1 obstaculo, 12.4ms\n",
      "0: 512x864 1 camino, 1 obstaculo, 11.6ms\n",
      "0: 512x864 1 camino, 7.3ms\n",
      "0: 512x864 1 camino, 8.5ms\n",
      "0: 512x864 1 camino, 11.6ms\n",
      "0: 512x864 1 camino, 12.0ms\n",
      "0: 512x864 1 camino, 11.6ms\n",
      "0: 512x864 1 camino, 1 obstaculo, 15.2ms\n",
      "0: 512x864 1 camino, 11.7ms\n",
      "0: 512x864 1 camino, 1 obstaculo, 13.4ms\n",
      "0: 512x864 1 camino, 12.4ms\n",
      "0: 512x864 1 camino, 11.2ms\n",
      "0: 512x864 1 camino, 10.6ms\n",
      "0: 512x864 1 camino, 13.4ms\n",
      "0: 512x864 1 camino, 1 obstaculo, 11.1ms\n",
      "0: 512x864 1 camino, 1 obstaculo, 11.8ms\n",
      "0: 512x864 1 camino, 1 obstaculo, 13.3ms\n",
      "0: 512x864 1 camino, 1 obstaculo, 13.2ms\n",
      "0: 512x864 1 camino, 1 obstaculo, 12.2ms\n",
      "0: 512x864 1 camino, 2 obstaculos, 13.7ms\n",
      "0: 512x864 1 camino, 1 obstaculo, 15.5ms\n",
      "0: 512x864 1 camino, 1 obstaculo, 8.8ms\n",
      "0: 512x864 1 camino, 1 obstaculo, 69.1ms\n",
      "0: 512x864 1 camino, 1 obstaculo, 14.1ms\n",
      "0: 512x864 1 camino, 1 obstaculo, 12.0ms\n",
      "0: 512x864 1 camino, 1 obstaculo, 15.6ms\n",
      "0: 512x864 1 camino, 2 obstaculos, 9.4ms\n",
      "0: 512x864 1 camino, 2 obstaculos, 13.3ms\n",
      "0: 512x864 1 camino, 1 obstaculo, 13.8ms\n",
      "0: 512x864 1 camino, 1 obstaculo, 11.9ms\n",
      "0: 512x864 1 camino, 1 obstaculo, 10.6ms\n",
      "0: 512x864 1 camino, 10.5ms\n",
      "0: 512x864 1 camino, 9.0ms\n",
      "0: 512x864 1 camino, 1 obstaculo, 11.5ms\n",
      "0: 512x864 1 camino, 10.9ms\n",
      "0: 512x864 1 camino, 12.0ms\n",
      "0: 512x864 1 camino, 11.0ms\n",
      "0: 512x864 1 camino, 12.4ms\n",
      "0: 512x864 1 camino, 1 obstaculo, 12.6ms\n",
      "0: 512x864 1 camino, 1 obstaculo, 9.0ms\n",
      "0: 512x864 1 camino, 2 obstaculos, 11.5ms\n",
      "0: 512x864 1 camino, 1 obstaculo, 11.5ms\n",
      "0: 512x864 1 camino, 1 obstaculo, 10.9ms\n",
      "0: 512x864 1 camino, 1 obstaculo, 15.7ms\n",
      "0: 512x864 1 camino, 1 obstaculo, 11.1ms\n",
      "0: 512x864 1 camino, 1 obstaculo, 13.2ms\n",
      "0: 512x864 1 camino, 1 obstaculo, 14.1ms\n",
      "0: 512x864 1 camino, 1 obstaculo, 11.0ms\n",
      "0: 512x864 1 camino, 1 obstaculo, 10.4ms\n",
      "0: 512x864 1 camino, 1 obstaculo, 10.8ms\n",
      "0: 512x864 1 camino, 1 obstaculo, 14.0ms\n",
      "0: 512x864 1 camino, 15.9ms\n",
      "0: 512x864 1 camino, 10.8ms\n",
      "0: 512x864 1 camino, 13.8ms\n",
      "0: 512x864 1 camino, 1 obstaculo, 13.7ms\n",
      "0: 512x864 1 camino, 1 obstaculo, 14.2ms\n",
      "0: 512x864 1 camino, 1 obstaculo, 12.3ms\n",
      "0: 512x864 1 camino, 1 obstaculo, 11.1ms\n",
      "0: 512x864 1 camino, 1 obstaculo, 8.2ms\n",
      "0: 512x864 1 camino, 1 obstaculo, 11.3ms\n",
      "0: 512x864 1 camino, 1 obstaculo, 5.5ms\n",
      "0: 512x864 1 camino, 1 obstaculo, 11.5ms\n",
      "0: 512x864 1 camino, 1 obstaculo, 12.1ms\n",
      "0: 512x864 1 camino, 1 obstaculo, 59.5ms\n",
      "0: 512x864 1 camino, 1 obstaculo, 12.0ms\n",
      "0: 512x864 1 camino, 1 obstaculo, 10.7ms\n",
      "0: 512x864 1 camino, 1 obstaculo, 10.2ms\n",
      "0: 512x864 1 camino, 1 obstaculo, 13.8ms\n",
      "0: 512x864 1 camino, 1 obstaculo, 12.5ms\n",
      "0: 512x864 1 camino, 1 obstaculo, 13.1ms\n",
      "0: 512x864 1 camino, 1 obstaculo, 12.8ms\n",
      "0: 512x864 1 camino, 1 obstaculo, 13.5ms\n",
      "0: 512x864 1 camino, 14.5ms\n",
      "0: 512x864 1 camino, 1 obstaculo, 15.8ms\n",
      "0: 512x864 1 obstaculo, 14.3ms\n",
      "0: 512x864 1 obstaculo, 14.6ms\n",
      "0: 512x864 1 obstaculo, 14.6ms\n",
      "0: 512x864 1 obstaculo, 12.8ms\n",
      "0: 512x864 1 obstaculo, 15.0ms\n",
      "0: 512x864 1 camino, 1 obstaculo, 13.1ms\n",
      "0: 512x864 1 obstaculo, 14.0ms\n",
      "0: 512x864 1 camino, 1 obstaculo, 13.6ms\n",
      "0: 512x864 1 obstaculo, 14.8ms\n",
      "0: 512x864 1 obstaculo, 13.4ms\n",
      "0: 512x864 1 obstaculo, 13.7ms\n",
      "0: 512x864 1 obstaculo, 12.6ms\n",
      "0: 512x864 1 obstaculo, 13.8ms\n",
      "0: 512x864 1 obstaculo, 16.5ms\n",
      "0: 512x864 1 camino, 1 obstaculo, 13.7ms\n",
      "0: 512x864 1 camino, 12.3ms\n",
      "0: 512x864 1 camino, 15.8ms\n",
      "0: 512x864 1 camino, 15.6ms\n",
      "0: 512x864 1 camino, 1 obstaculo, 17.1ms\n",
      "0: 512x864 1 obstaculo, 15.8ms\n",
      "0: 512x864 1 obstaculo, 13.3ms\n",
      "0: 512x864 1 obstaculo, 15.4ms\n",
      "0: 512x864 1 obstaculo, 13.3ms\n",
      "0: 512x864 1 obstaculo, 12.2ms\n",
      "0: 512x864 1 obstaculo, 14.1ms\n",
      "0: 512x864 1 obstaculo, 12.8ms\n",
      "0: 512x864 1 obstaculo, 10.7ms\n",
      "0: 512x864 1 obstaculo, 12.8ms\n",
      "0: 512x864 1 obstaculo, 12.6ms\n",
      "0: 512x864 1 obstaculo, 14.0ms\n",
      "0: 512x864 1 obstaculo, 12.2ms\n",
      "0: 512x864 1 obstaculo, 8.4ms\n",
      "0: 512x864 1 obstaculo, 7.9ms\n",
      "0: 512x864 1 obstaculo, 8.7ms\n",
      "0: 512x864 1 obstaculo, 11.6ms\n",
      "0: 512x864 1 obstaculo, 5.0ms\n",
      "0: 512x864 1 obstaculo, 9.7ms\n",
      "0: 512x864 1 obstaculo, 11.9ms\n",
      "0: 512x864 1 obstaculo, 8.9ms\n",
      "0: 512x864 1 obstaculo, 10.1ms\n",
      "0: 512x864 1 obstaculo, 8.9ms\n",
      "0: 512x864 1 obstaculo, 10.3ms\n",
      "0: 512x864 1 obstaculo, 8.8ms\n",
      "0: 512x864 1 obstaculo, 8.2ms\n",
      "0: 512x864 1 obstaculo, 9.4ms\n",
      "0: 512x864 1 obstaculo, 8.2ms\n",
      "0: 512x864 1 obstaculo, 9.9ms\n",
      "0: 512x864 1 obstaculo, 9.4ms\n",
      "0: 512x864 1 obstaculo, 16.7ms\n",
      "0: 512x864 1 obstaculo, 9.0ms\n",
      "0: 512x864 1 obstaculo, 11.1ms\n",
      "0: 512x864 1 obstaculo, 9.5ms\n",
      "0: 512x864 1 obstaculo, 8.0ms\n",
      "0: 512x864 1 obstaculo, 9.1ms\n",
      "0: 512x864 1 obstaculo, 8.6ms\n",
      "0: 512x864 1 obstaculo, 9.5ms\n",
      "0: 512x864 1 obstaculo, 8.8ms\n",
      "0: 512x864 1 obstaculo, 9.2ms\n",
      "0: 512x864 1 obstaculo, 9.1ms\n",
      "0: 512x864 1 obstaculo, 9.0ms\n",
      "0: 512x864 1 obstaculo, 9.1ms\n",
      "0: 512x864 1 obstaculo, 9.1ms\n",
      "0: 512x864 1 obstaculo, 6.0ms\n",
      "0: 512x864 1 obstaculo, 9.1ms\n",
      "0: 512x864 1 obstaculo, 7.1ms\n",
      "0: 512x864 1 obstaculo, 8.2ms\n",
      "0: 512x864 1 obstaculo, 12.3ms\n",
      "0: 512x864 1 obstaculo, 10.9ms\n",
      "0: 512x864 1 obstaculo, 10.6ms\n",
      "0: 512x864 1 obstaculo, 7.4ms\n",
      "0: 512x864 1 obstaculo, 8.7ms\n",
      "0: 512x864 1 obstaculo, 6.9ms\n",
      "0: 512x864 1 obstaculo, 7.0ms\n"
     ]
    },
    {
     "ename": "KeyboardInterrupt",
     "evalue": "",
     "output_type": "error",
     "traceback": [
      "\u001b[1;31m---------------------------------------------------------------------------\u001b[0m",
      "\u001b[1;31mKeyboardInterrupt\u001b[0m                         Traceback (most recent call last)",
      "Cell \u001b[1;32mIn[4], line 1\u001b[0m\n\u001b[1;32m----> 1\u001b[0m result \u001b[38;5;241m=\u001b[39m \u001b[43mmodel\u001b[49m\u001b[38;5;241;43m.\u001b[39;49m\u001b[43mpredict\u001b[49m\u001b[43m(\u001b[49m\u001b[43msource\u001b[49m\u001b[38;5;241;43m=\u001b[39;49m\u001b[38;5;124;43m'\u001b[39;49m\u001b[38;5;124;43m0\u001b[39;49m\u001b[38;5;124;43m'\u001b[39;49m\u001b[43m,\u001b[49m\u001b[43m \u001b[49m\u001b[43mshow\u001b[49m\u001b[38;5;241;43m=\u001b[39;49m\u001b[38;5;28;43;01mTrue\u001b[39;49;00m\u001b[43m)\u001b[49m\n",
      "File \u001b[1;32mc:\\Users\\israe\\anaconda3\\envs\\cuda_user\\Lib\\site-packages\\ultralytics\\engine\\model.py:452\u001b[0m, in \u001b[0;36mModel.predict\u001b[1;34m(self, source, stream, predictor, **kwargs)\u001b[0m\n\u001b[0;32m    450\u001b[0m \u001b[38;5;28;01mif\u001b[39;00m prompts \u001b[38;5;129;01mand\u001b[39;00m \u001b[38;5;28mhasattr\u001b[39m(\u001b[38;5;28mself\u001b[39m\u001b[38;5;241m.\u001b[39mpredictor, \u001b[38;5;124m\"\u001b[39m\u001b[38;5;124mset_prompts\u001b[39m\u001b[38;5;124m\"\u001b[39m):  \u001b[38;5;66;03m# for SAM-type models\u001b[39;00m\n\u001b[0;32m    451\u001b[0m     \u001b[38;5;28mself\u001b[39m\u001b[38;5;241m.\u001b[39mpredictor\u001b[38;5;241m.\u001b[39mset_prompts(prompts)\n\u001b[1;32m--> 452\u001b[0m \u001b[38;5;28;01mreturn\u001b[39;00m \u001b[38;5;28mself\u001b[39m\u001b[38;5;241m.\u001b[39mpredictor\u001b[38;5;241m.\u001b[39mpredict_cli(source\u001b[38;5;241m=\u001b[39msource) \u001b[38;5;28;01mif\u001b[39;00m is_cli \u001b[38;5;28;01melse\u001b[39;00m \u001b[38;5;28;43mself\u001b[39;49m\u001b[38;5;241;43m.\u001b[39;49m\u001b[43mpredictor\u001b[49m\u001b[43m(\u001b[49m\u001b[43msource\u001b[49m\u001b[38;5;241;43m=\u001b[39;49m\u001b[43msource\u001b[49m\u001b[43m,\u001b[49m\u001b[43m \u001b[49m\u001b[43mstream\u001b[49m\u001b[38;5;241;43m=\u001b[39;49m\u001b[43mstream\u001b[49m\u001b[43m)\u001b[49m\n",
      "File \u001b[1;32mc:\\Users\\israe\\anaconda3\\envs\\cuda_user\\Lib\\site-packages\\ultralytics\\engine\\predictor.py:168\u001b[0m, in \u001b[0;36mBasePredictor.__call__\u001b[1;34m(self, source, model, stream, *args, **kwargs)\u001b[0m\n\u001b[0;32m    166\u001b[0m     \u001b[38;5;28;01mreturn\u001b[39;00m \u001b[38;5;28mself\u001b[39m\u001b[38;5;241m.\u001b[39mstream_inference(source, model, \u001b[38;5;241m*\u001b[39margs, \u001b[38;5;241m*\u001b[39m\u001b[38;5;241m*\u001b[39mkwargs)\n\u001b[0;32m    167\u001b[0m \u001b[38;5;28;01melse\u001b[39;00m:\n\u001b[1;32m--> 168\u001b[0m     \u001b[38;5;28;01mreturn\u001b[39;00m \u001b[38;5;28;43mlist\u001b[39;49m\u001b[43m(\u001b[49m\u001b[38;5;28;43mself\u001b[39;49m\u001b[38;5;241;43m.\u001b[39;49m\u001b[43mstream_inference\u001b[49m\u001b[43m(\u001b[49m\u001b[43msource\u001b[49m\u001b[43m,\u001b[49m\u001b[43m \u001b[49m\u001b[43mmodel\u001b[49m\u001b[43m,\u001b[49m\u001b[43m \u001b[49m\u001b[38;5;241;43m*\u001b[39;49m\u001b[43margs\u001b[49m\u001b[43m,\u001b[49m\u001b[43m \u001b[49m\u001b[38;5;241;43m*\u001b[39;49m\u001b[38;5;241;43m*\u001b[39;49m\u001b[43mkwargs\u001b[49m\u001b[43m)\u001b[49m\u001b[43m)\u001b[49m\n",
      "File \u001b[1;32mc:\\Users\\israe\\anaconda3\\envs\\cuda_user\\Lib\\site-packages\\torch\\utils\\_contextlib.py:56\u001b[0m, in \u001b[0;36m_wrap_generator.<locals>.generator_context\u001b[1;34m(*args, **kwargs)\u001b[0m\n\u001b[0;32m     53\u001b[0m         \u001b[38;5;28;01melse\u001b[39;00m:\n\u001b[0;32m     54\u001b[0m             \u001b[38;5;66;03m# Pass the last request to the generator and get its response\u001b[39;00m\n\u001b[0;32m     55\u001b[0m             \u001b[38;5;28;01mwith\u001b[39;00m ctx_factory():\n\u001b[1;32m---> 56\u001b[0m                 response \u001b[38;5;241m=\u001b[39m gen\u001b[38;5;241m.\u001b[39msend(request)\n\u001b[0;32m     58\u001b[0m \u001b[38;5;66;03m# We let the exceptions raised above by the generator's `.throw` or\u001b[39;00m\n\u001b[0;32m     59\u001b[0m \u001b[38;5;66;03m# `.send` methods bubble up to our caller, except for StopIteration\u001b[39;00m\n\u001b[0;32m     60\u001b[0m \u001b[38;5;28;01mexcept\u001b[39;00m \u001b[38;5;167;01mStopIteration\u001b[39;00m \u001b[38;5;28;01mas\u001b[39;00m e:\n\u001b[0;32m     61\u001b[0m     \u001b[38;5;66;03m# The generator informed us that it is done: take whatever its\u001b[39;00m\n\u001b[0;32m     62\u001b[0m     \u001b[38;5;66;03m# returned value (if any) was and indicate that we're done too\u001b[39;00m\n\u001b[0;32m     63\u001b[0m     \u001b[38;5;66;03m# by returning it (see docs for python's return-statement).\u001b[39;00m\n",
      "File \u001b[1;32mc:\\Users\\israe\\anaconda3\\envs\\cuda_user\\Lib\\site-packages\\ultralytics\\engine\\predictor.py:268\u001b[0m, in \u001b[0;36mBasePredictor.stream_inference\u001b[1;34m(self, source, model, *args, **kwargs)\u001b[0m\n\u001b[0;32m    262\u001b[0m     \u001b[38;5;28mself\u001b[39m\u001b[38;5;241m.\u001b[39mresults[i]\u001b[38;5;241m.\u001b[39mspeed \u001b[38;5;241m=\u001b[39m {\n\u001b[0;32m    263\u001b[0m         \u001b[38;5;124m\"\u001b[39m\u001b[38;5;124mpreprocess\u001b[39m\u001b[38;5;124m\"\u001b[39m: profilers[\u001b[38;5;241m0\u001b[39m]\u001b[38;5;241m.\u001b[39mdt \u001b[38;5;241m*\u001b[39m \u001b[38;5;241m1e3\u001b[39m \u001b[38;5;241m/\u001b[39m n,\n\u001b[0;32m    264\u001b[0m         \u001b[38;5;124m\"\u001b[39m\u001b[38;5;124minference\u001b[39m\u001b[38;5;124m\"\u001b[39m: profilers[\u001b[38;5;241m1\u001b[39m]\u001b[38;5;241m.\u001b[39mdt \u001b[38;5;241m*\u001b[39m \u001b[38;5;241m1e3\u001b[39m \u001b[38;5;241m/\u001b[39m n,\n\u001b[0;32m    265\u001b[0m         \u001b[38;5;124m\"\u001b[39m\u001b[38;5;124mpostprocess\u001b[39m\u001b[38;5;124m\"\u001b[39m: profilers[\u001b[38;5;241m2\u001b[39m]\u001b[38;5;241m.\u001b[39mdt \u001b[38;5;241m*\u001b[39m \u001b[38;5;241m1e3\u001b[39m \u001b[38;5;241m/\u001b[39m n,\n\u001b[0;32m    266\u001b[0m     }\n\u001b[0;32m    267\u001b[0m     \u001b[38;5;28;01mif\u001b[39;00m \u001b[38;5;28mself\u001b[39m\u001b[38;5;241m.\u001b[39margs\u001b[38;5;241m.\u001b[39mverbose \u001b[38;5;129;01mor\u001b[39;00m \u001b[38;5;28mself\u001b[39m\u001b[38;5;241m.\u001b[39margs\u001b[38;5;241m.\u001b[39msave \u001b[38;5;129;01mor\u001b[39;00m \u001b[38;5;28mself\u001b[39m\u001b[38;5;241m.\u001b[39margs\u001b[38;5;241m.\u001b[39msave_txt \u001b[38;5;129;01mor\u001b[39;00m \u001b[38;5;28mself\u001b[39m\u001b[38;5;241m.\u001b[39margs\u001b[38;5;241m.\u001b[39mshow:\n\u001b[1;32m--> 268\u001b[0m         s[i] \u001b[38;5;241m+\u001b[39m\u001b[38;5;241m=\u001b[39m \u001b[38;5;28;43mself\u001b[39;49m\u001b[38;5;241;43m.\u001b[39;49m\u001b[43mwrite_results\u001b[49m\u001b[43m(\u001b[49m\u001b[43mi\u001b[49m\u001b[43m,\u001b[49m\u001b[43m \u001b[49m\u001b[43mPath\u001b[49m\u001b[43m(\u001b[49m\u001b[43mpaths\u001b[49m\u001b[43m[\u001b[49m\u001b[43mi\u001b[49m\u001b[43m]\u001b[49m\u001b[43m)\u001b[49m\u001b[43m,\u001b[49m\u001b[43m \u001b[49m\u001b[43mim\u001b[49m\u001b[43m,\u001b[49m\u001b[43m \u001b[49m\u001b[43ms\u001b[49m\u001b[43m)\u001b[49m\n\u001b[0;32m    270\u001b[0m \u001b[38;5;66;03m# Print batch results\u001b[39;00m\n\u001b[0;32m    271\u001b[0m \u001b[38;5;28;01mif\u001b[39;00m \u001b[38;5;28mself\u001b[39m\u001b[38;5;241m.\u001b[39margs\u001b[38;5;241m.\u001b[39mverbose:\n",
      "File \u001b[1;32mc:\\Users\\israe\\anaconda3\\envs\\cuda_user\\Lib\\site-packages\\ultralytics\\engine\\predictor.py:346\u001b[0m, in \u001b[0;36mBasePredictor.write_results\u001b[1;34m(self, i, p, im, s)\u001b[0m\n\u001b[0;32m    344\u001b[0m     result\u001b[38;5;241m.\u001b[39msave_crop(save_dir\u001b[38;5;241m=\u001b[39m\u001b[38;5;28mself\u001b[39m\u001b[38;5;241m.\u001b[39msave_dir \u001b[38;5;241m/\u001b[39m \u001b[38;5;124m\"\u001b[39m\u001b[38;5;124mcrops\u001b[39m\u001b[38;5;124m\"\u001b[39m, file_name\u001b[38;5;241m=\u001b[39m\u001b[38;5;28mself\u001b[39m\u001b[38;5;241m.\u001b[39mtxt_path\u001b[38;5;241m.\u001b[39mstem)\n\u001b[0;32m    345\u001b[0m \u001b[38;5;28;01mif\u001b[39;00m \u001b[38;5;28mself\u001b[39m\u001b[38;5;241m.\u001b[39margs\u001b[38;5;241m.\u001b[39mshow:\n\u001b[1;32m--> 346\u001b[0m     \u001b[38;5;28;43mself\u001b[39;49m\u001b[38;5;241;43m.\u001b[39;49m\u001b[43mshow\u001b[49m\u001b[43m(\u001b[49m\u001b[38;5;28;43mstr\u001b[39;49m\u001b[43m(\u001b[49m\u001b[43mp\u001b[49m\u001b[43m)\u001b[49m\u001b[43m)\u001b[49m\n\u001b[0;32m    347\u001b[0m \u001b[38;5;28;01mif\u001b[39;00m \u001b[38;5;28mself\u001b[39m\u001b[38;5;241m.\u001b[39margs\u001b[38;5;241m.\u001b[39msave:\n\u001b[0;32m    348\u001b[0m     \u001b[38;5;28mself\u001b[39m\u001b[38;5;241m.\u001b[39msave_predicted_images(\u001b[38;5;28mstr\u001b[39m(\u001b[38;5;28mself\u001b[39m\u001b[38;5;241m.\u001b[39msave_dir \u001b[38;5;241m/\u001b[39m p\u001b[38;5;241m.\u001b[39mname), frame)\n",
      "File \u001b[1;32mc:\\Users\\israe\\anaconda3\\envs\\cuda_user\\Lib\\site-packages\\ultralytics\\engine\\predictor.py:388\u001b[0m, in \u001b[0;36mBasePredictor.show\u001b[1;34m(self, p)\u001b[0m\n\u001b[0;32m    386\u001b[0m     cv2\u001b[38;5;241m.\u001b[39mresizeWindow(p, im\u001b[38;5;241m.\u001b[39mshape[\u001b[38;5;241m1\u001b[39m], im\u001b[38;5;241m.\u001b[39mshape[\u001b[38;5;241m0\u001b[39m])  \u001b[38;5;66;03m# (width, height)\u001b[39;00m\n\u001b[0;32m    387\u001b[0m cv2\u001b[38;5;241m.\u001b[39mimshow(p, im)\n\u001b[1;32m--> 388\u001b[0m \u001b[43mcv2\u001b[49m\u001b[38;5;241;43m.\u001b[39;49m\u001b[43mwaitKey\u001b[49m\u001b[43m(\u001b[49m\u001b[38;5;241;43m300\u001b[39;49m\u001b[43m \u001b[49m\u001b[38;5;28;43;01mif\u001b[39;49;00m\u001b[43m \u001b[49m\u001b[38;5;28;43mself\u001b[39;49m\u001b[38;5;241;43m.\u001b[39;49m\u001b[43mdataset\u001b[49m\u001b[38;5;241;43m.\u001b[39;49m\u001b[43mmode\u001b[49m\u001b[43m \u001b[49m\u001b[38;5;241;43m==\u001b[39;49m\u001b[43m \u001b[49m\u001b[38;5;124;43m\"\u001b[39;49m\u001b[38;5;124;43mimage\u001b[39;49m\u001b[38;5;124;43m\"\u001b[39;49m\u001b[43m \u001b[49m\u001b[38;5;28;43;01melse\u001b[39;49;00m\u001b[43m \u001b[49m\u001b[38;5;241;43m1\u001b[39;49m\u001b[43m)\u001b[49m\n",
      "\u001b[1;31mKeyboardInterrupt\u001b[0m: "
     ]
    },
    {
     "ename": "",
     "evalue": "",
     "output_type": "error",
     "traceback": [
      "\u001b[1;31mThe Kernel crashed while executing code in the current cell or a previous cell. \n",
      "\u001b[1;31mPlease review the code in the cell(s) to identify a possible cause of the failure. \n",
      "\u001b[1;31mClick <a href='https://aka.ms/vscodeJupyterKernelCrash'>here</a> for more info. \n",
      "\u001b[1;31mView Jupyter <a href='command:jupyter.viewOutput'>log</a> for further details."
     ]
    }
   ],
   "source": [
    "result = model.predict(source='0', show=True)"
   ]
  },
  {
   "cell_type": "code",
   "execution_count": 2,
   "metadata": {},
   "outputs": [
    {
     "name": "stdout",
     "output_type": "stream",
     "text": [
      "Ultralytics YOLOv8.2.8  Python-3.11.9 torch-2.3.0 CPU (12th Gen Intel Core(TM) i5-12400F)\n",
      "YOLOv8s-seg summary (fused): 195 layers, 11780374 parameters, 0 gradients\n",
      "\n",
      "\u001b[34m\u001b[1mPyTorch:\u001b[0m starting from 'runs\\segment\\train5\\weights\\best.pt' with input shape (1, 3, 480, 864) BCHW and output shape(s) ((1, 38, 8505), (1, 32, 120, 216)) (22.8 MB)\n",
      "\n",
      "\u001b[34m\u001b[1mONNX:\u001b[0m starting export with onnx 1.16.0 opset 12...\n",
      "\u001b[34m\u001b[1mONNX:\u001b[0m export success  1.0s, saved as 'runs\\segment\\train5\\weights\\best.onnx' (45.2 MB)\n",
      "\n",
      "Export complete (3.0s)\n",
      "Results saved to \u001b[1mF:\\Proyecto-SIS330\\source\\Yolo\\runs\\segment\\train5\\weights\u001b[0m\n",
      "Predict:         yolo predict task=segment model=runs\\segment\\train5\\weights\\best.onnx imgsz=480,864  \n",
      "Validate:        yolo val task=segment model=runs\\segment\\train5\\weights\\best.onnx imgsz=480,864 data=customdata.yaml  WARNING  non-PyTorch val requires square images, 'imgsz=[480, 864]' will not work. Use export 'imgsz=864' if val is required.\n",
      "Visualize:       https://netron.app\n"
     ]
    },
    {
     "data": {
      "text/plain": [
       "'runs\\\\segment\\\\train5\\\\weights\\\\best.onnx'"
      ]
     },
     "execution_count": 2,
     "metadata": {},
     "output_type": "execute_result"
    }
   ],
   "source": [
    "from ultralytics import YOLO\n",
    "\n",
    "model = YOLO('./runs/segment/train5/weights/best.pt')\n",
    "model.export(format='onnx', imgsz=(480, 864), opset=12)"
   ]
  }
 ],
 "metadata": {
  "kernelspec": {
   "display_name": "cuda_users",
   "language": "python",
   "name": "python3"
  },
  "language_info": {
   "codemirror_mode": {
    "name": "ipython",
    "version": 3
   },
   "file_extension": ".py",
   "mimetype": "text/x-python",
   "name": "python",
   "nbconvert_exporter": "python",
   "pygments_lexer": "ipython3",
   "version": "3.11.9"
  }
 },
 "nbformat": 4,
 "nbformat_minor": 2
}
