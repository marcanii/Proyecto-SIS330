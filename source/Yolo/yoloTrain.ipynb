{
 "cells": [
  {
   "cell_type": "markdown",
   "metadata": {},
   "source": [
    "# Yolov8\n",
    "\n",
    "En este notebook se entrena un modelo Yolov8 para la segmentación de objetos en imágenes soda, cuadernos y ruedas."
   ]
  },
  {
   "cell_type": "code",
   "execution_count": 1,
   "metadata": {},
   "outputs": [],
   "source": [
    "from ultralytics import YOLO\n",
    "import torch\n",
    "\n",
    "# Carga el modelo\n",
    "model = YOLO('runs/segment/train3/weights/best.pt')\n",
    "# Configura el tamaño de las imágenes\n",
    "imgsz = (480, 864)\n",
    "# Configura el tamaño del lote\n",
    "batch = 6\n",
    "# Configura el optimizador\n",
    "optim = torch.optim.AdamW(model.parameters(), lr=0.0001)"
   ]
  },
  {
   "cell_type": "markdown",
   "metadata": {},
   "source": [
    "### Entrenando\n",
    "\n",
    "Para entrenar el modelo se debe ejecutar el siguiente comando:"
   ]
  },
  {
   "cell_type": "code",
   "execution_count": 2,
   "metadata": {},
   "outputs": [
    {
     "name": "stdout",
     "output_type": "stream",
     "text": [
      "New https://pypi.org/project/ultralytics/8.2.18 available  Update with 'pip install -U ultralytics'\n",
      "Ultralytics YOLOv8.2.8  Python-3.11.9 torch-2.3.0 CUDA:0 (NVIDIA GeForce RTX 3060, 12288MiB)\n",
      "\u001b[34m\u001b[1mengine\\trainer: \u001b[0mtask=segment, mode=train, model=runs/segment/train3/weights/best.pt, data=customdata.yaml, epochs=40, time=None, patience=100, batch=6, imgsz=(480, 864), save=True, save_period=-1, cache=False, device=cuda, workers=8, project=None, name=train7, exist_ok=False, pretrained=True, optimizer=auto, verbose=True, seed=0, deterministic=True, single_cls=False, rect=False, cos_lr=False, close_mosaic=10, resume=False, amp=True, fraction=1.0, profile=False, freeze=None, multi_scale=False, overlap_mask=True, mask_ratio=4, dropout=0.0, val=True, split=val, save_json=False, save_hybrid=False, conf=None, iou=0.7, max_det=300, half=False, dnn=False, plots=True, source=None, vid_stride=1, stream_buffer=False, visualize=False, augment=False, agnostic_nms=False, classes=None, retina_masks=False, embed=None, show=False, save_frames=False, save_txt=False, save_conf=False, save_crop=False, show_labels=True, show_conf=True, show_boxes=True, line_width=None, format=torchscript, keras=False, optimize=False, int8=False, dynamic=False, simplify=False, opset=None, workspace=4, nms=False, lr0=0.01, lrf=0.01, momentum=0.937, weight_decay=0.0005, warmup_epochs=3.0, warmup_momentum=0.8, warmup_bias_lr=0.1, box=7.5, cls=0.5, dfl=1.5, pose=12.0, kobj=1.0, label_smoothing=0.0, nbs=64, hsv_h=0.015, hsv_s=0.7, hsv_v=0.4, degrees=0.0, translate=0.1, scale=0.5, shear=0.0, perspective=0.0, flipud=0.0, fliplr=0.5, bgr=0.0, mosaic=1.0, mixup=0.0, copy_paste=0.0, auto_augment=randaugment, erasing=0.4, crop_fraction=1.0, cfg=None, tracker=botsort.yaml, save_dir=runs\\segment\\train7\n",
      "\n",
      "                   from  n    params  module                                       arguments                     \n",
      "  0                  -1  1      2320  ultralytics.nn.modules.conv.Conv             [3, 80, 3, 2]                 \n",
      "  1                  -1  1    115520  ultralytics.nn.modules.conv.Conv             [80, 160, 3, 2]               \n",
      "  2                  -1  3    436800  ultralytics.nn.modules.block.C2f             [160, 160, 3, True]           \n",
      "  3                  -1  1    461440  ultralytics.nn.modules.conv.Conv             [160, 320, 3, 2]              \n",
      "  4                  -1  6   3281920  ultralytics.nn.modules.block.C2f             [320, 320, 6, True]           \n",
      "  5                  -1  1   1844480  ultralytics.nn.modules.conv.Conv             [320, 640, 3, 2]              \n",
      "  6                  -1  6  13117440  ultralytics.nn.modules.block.C2f             [640, 640, 6, True]           \n",
      "  7                  -1  1   3687680  ultralytics.nn.modules.conv.Conv             [640, 640, 3, 2]              \n",
      "  8                  -1  3   6969600  ultralytics.nn.modules.block.C2f             [640, 640, 3, True]           \n",
      "  9                  -1  1   1025920  ultralytics.nn.modules.block.SPPF            [640, 640, 5]                 \n",
      " 10                  -1  1         0  torch.nn.modules.upsampling.Upsample         [None, 2, 'nearest']          \n",
      " 11             [-1, 6]  1         0  ultralytics.nn.modules.conv.Concat           [1]                           \n",
      " 12                  -1  3   7379200  ultralytics.nn.modules.block.C2f             [1280, 640, 3]                \n",
      " 13                  -1  1         0  torch.nn.modules.upsampling.Upsample         [None, 2, 'nearest']          \n",
      " 14             [-1, 4]  1         0  ultralytics.nn.modules.conv.Concat           [1]                           \n",
      " 15                  -1  3   1948800  ultralytics.nn.modules.block.C2f             [960, 320, 3]                 \n",
      " 16                  -1  1    922240  ultralytics.nn.modules.conv.Conv             [320, 320, 3, 2]              \n",
      " 17            [-1, 12]  1         0  ultralytics.nn.modules.conv.Concat           [1]                           \n",
      " 18                  -1  3   7174400  ultralytics.nn.modules.block.C2f             [960, 640, 3]                 \n",
      " 19                  -1  1   3687680  ultralytics.nn.modules.conv.Conv             [640, 640, 3, 2]              \n",
      " 20             [-1, 9]  1         0  ultralytics.nn.modules.conv.Concat           [1]                           \n",
      " 21                  -1  3   7379200  ultralytics.nn.modules.block.C2f             [1280, 640, 3]                \n",
      " 22        [15, 18, 21]  1  12318134  ultralytics.nn.modules.head.Segment          [2, 32, 320, [320, 640, 640]] \n",
      "YOLOv8x-seg summary: 401 layers, 71752774 parameters, 71752758 gradients\n",
      "\n",
      "Transferred 657/657 items from pretrained weights\n",
      "Freezing layer 'model.22.dfl.conv.weight'\n",
      "\u001b[34m\u001b[1mAMP: \u001b[0mrunning Automatic Mixed Precision (AMP) checks with YOLOv8n...\n"
     ]
    },
    {
     "name": "stderr",
     "output_type": "stream",
     "text": [
      "c:\\Users\\israe\\anaconda3\\envs\\cuda_user\\Lib\\site-packages\\torch\\nn\\modules\\conv.py:456: UserWarning: Plan failed with a cudnnException: CUDNN_BACKEND_EXECUTION_PLAN_DESCRIPTOR: cudnnFinalize Descriptor Failed cudnn_status: CUDNN_STATUS_NOT_SUPPORTED (Triggered internally at C:\\cb\\pytorch_1000000000000\\work\\aten\\src\\ATen\\native\\cudnn\\Conv_v8.cpp:919.)\n",
      "  return F.conv2d(input, weight, bias, self.stride,\n"
     ]
    },
    {
     "name": "stdout",
     "output_type": "stream",
     "text": [
      "\u001b[34m\u001b[1mAMP: \u001b[0mchecks passed \n",
      "WARNING  updating to 'imgsz=864'. 'train' and 'val' imgsz must be an integer, while 'predict' and 'export' imgsz may be a [h, w] list or an integer, i.e. 'yolo export imgsz=640,480' or 'yolo export imgsz=640'\n"
     ]
    },
    {
     "name": "stderr",
     "output_type": "stream",
     "text": [
      "\u001b[34m\u001b[1mtrain: \u001b[0mScanning F:\\Proyecto-SIS330\\dataset\\Proyecto-SIS330.v9i.yolov8\\train\\labels.cache... 4559 images, 0 backgrounds, 0 corrupt: 100%|██████████| 4559/4559 [00:00<?, ?it/s]"
     ]
    },
    {
     "name": "stdout",
     "output_type": "stream",
     "text": [
      "\u001b[34m\u001b[1mtrain: \u001b[0mWARNING  F:\\Proyecto-SIS330\\dataset\\Proyecto-SIS330.v9i.yolov8\\train\\images\\image2258_png.rf.8e4e0a3d05046f4e216ee87e0d3ae461.jpg: 1 duplicate labels removed\n",
      "\u001b[34m\u001b[1mtrain: \u001b[0mWARNING  F:\\Proyecto-SIS330\\dataset\\Proyecto-SIS330.v9i.yolov8\\train\\images\\image2258_png.rf.ee4a71b74a4abad814a7eae4aaf9c378.jpg: 1 duplicate labels removed\n",
      "\u001b[34m\u001b[1mtrain: \u001b[0mWARNING  F:\\Proyecto-SIS330\\dataset\\Proyecto-SIS330.v9i.yolov8\\train\\images\\image2258_png.rf.fcc6c37b6c4bf95c3ea6b18ea1b6828b.jpg: 1 duplicate labels removed\n"
     ]
    },
    {
     "name": "stderr",
     "output_type": "stream",
     "text": [
      "\n",
      "\u001b[34m\u001b[1mval: \u001b[0mScanning F:\\Proyecto-SIS330\\dataset\\Proyecto-SIS330.v9i.yolov8\\valid\\labels.cache... 425 images, 0 backgrounds, 0 corrupt: 100%|██████████| 425/425 [00:00<?, ?it/s]\n"
     ]
    },
    {
     "name": "stdout",
     "output_type": "stream",
     "text": [
      "Plotting labels to runs\\segment\\train7\\labels.jpg... \n",
      "\u001b[34m\u001b[1moptimizer:\u001b[0m 'optimizer=auto' found, ignoring 'lr0=0.01' and 'momentum=0.937' and determining best 'optimizer', 'lr0' and 'momentum' automatically... \n",
      "\u001b[34m\u001b[1moptimizer:\u001b[0m AdamW(lr=0.001667, momentum=0.9) with parameter groups 106 weight(decay=0.0), 117 weight(decay=0.000515625), 116 bias(decay=0.0)\n",
      "Image sizes 864 train, 864 val\n",
      "Using 8 dataloader workers\n",
      "Logging results to \u001b[1mruns\\segment\\train7\u001b[0m\n",
      "Starting training for 40 epochs...\n",
      "\n",
      "      Epoch    GPU_mem   box_loss   seg_loss   cls_loss   dfl_loss  Instances       Size\n"
     ]
    },
    {
     "name": "stderr",
     "output_type": "stream",
     "text": [
      "  0%|          | 0/760 [00:00<?, ?it/s]c:\\Users\\israe\\anaconda3\\envs\\cuda_user\\Lib\\site-packages\\torch\\autograd\\graph.py:744: UserWarning: Plan failed with a cudnnException: CUDNN_BACKEND_EXECUTION_PLAN_DESCRIPTOR: cudnnFinalize Descriptor Failed cudnn_status: CUDNN_STATUS_NOT_SUPPORTED (Triggered internally at C:\\cb\\pytorch_1000000000000\\work\\aten\\src\\ATen\\native\\cudnn\\Conv_v8.cpp:919.)\n",
      "  return Variable._execution_engine.run_backward(  # Calls into the C++ engine to run the backward pass\n",
      "       1/40      10.3G     0.3382     0.6455     0.3508     0.9625         38        864: 100%|██████████| 760/760 [12:52<00:00,  1.02s/it]\n",
      "                 Class     Images  Instances      Box(P          R      mAP50  mAP50-95)     Mask(P          R      mAP50  mAP50-95): 100%|██████████| 36/36 [00:14<00:00,  2.52it/s]"
     ]
    },
    {
     "name": "stdout",
     "output_type": "stream",
     "text": [
      "                   all        425       1080      0.971      0.909      0.953      0.913      0.976      0.908      0.945      0.893\n"
     ]
    },
    {
     "name": "stderr",
     "output_type": "stream",
     "text": [
      "\n"
     ]
    },
    {
     "name": "stdout",
     "output_type": "stream",
     "text": [
      "\n",
      "      Epoch    GPU_mem   box_loss   seg_loss   cls_loss   dfl_loss  Instances       Size\n"
     ]
    },
    {
     "name": "stderr",
     "output_type": "stream",
     "text": [
      "       2/40      10.9G     0.3335     0.6048     0.3234     0.9506         35        864: 100%|██████████| 760/760 [12:42<00:00,  1.00s/it]\n",
      "                 Class     Images  Instances      Box(P          R      mAP50  mAP50-95)     Mask(P          R      mAP50  mAP50-95): 100%|██████████| 36/36 [00:14<00:00,  2.46it/s]\n"
     ]
    },
    {
     "name": "stdout",
     "output_type": "stream",
     "text": [
      "                   all        425       1080      0.978        0.9      0.939      0.894      0.978        0.9      0.934      0.874\n",
      "\n",
      "      Epoch    GPU_mem   box_loss   seg_loss   cls_loss   dfl_loss  Instances       Size\n"
     ]
    },
    {
     "name": "stderr",
     "output_type": "stream",
     "text": [
      "       3/40      11.1G     0.3527     0.6209     0.3427     0.9584         54        864: 100%|██████████| 760/760 [13:01<00:00,  1.03s/it]\n",
      "                 Class     Images  Instances      Box(P          R      mAP50  mAP50-95)     Mask(P          R      mAP50  mAP50-95): 100%|██████████| 36/36 [00:14<00:00,  2.47it/s]"
     ]
    },
    {
     "name": "stdout",
     "output_type": "stream",
     "text": [
      "                   all        425       1080      0.968      0.884      0.925      0.883      0.968      0.884      0.921      0.869\n"
     ]
    },
    {
     "name": "stderr",
     "output_type": "stream",
     "text": [
      "\n"
     ]
    },
    {
     "name": "stdout",
     "output_type": "stream",
     "text": [
      "\n",
      "      Epoch    GPU_mem   box_loss   seg_loss   cls_loss   dfl_loss  Instances       Size\n"
     ]
    },
    {
     "name": "stderr",
     "output_type": "stream",
     "text": [
      "       4/40      11.2G     0.3555     0.6317     0.3473     0.9581         31        864: 100%|██████████| 760/760 [12:37<00:00,  1.00it/s]\n",
      "                 Class     Images  Instances      Box(P          R      mAP50  mAP50-95)     Mask(P          R      mAP50  mAP50-95): 100%|██████████| 36/36 [00:14<00:00,  2.47it/s]"
     ]
    },
    {
     "name": "stdout",
     "output_type": "stream",
     "text": [
      "                   all        425       1080      0.967      0.891      0.943      0.894      0.968      0.892      0.938      0.878\n"
     ]
    },
    {
     "name": "stderr",
     "output_type": "stream",
     "text": [
      "\n"
     ]
    },
    {
     "name": "stdout",
     "output_type": "stream",
     "text": [
      "\n",
      "      Epoch    GPU_mem   box_loss   seg_loss   cls_loss   dfl_loss  Instances       Size\n"
     ]
    },
    {
     "name": "stderr",
     "output_type": "stream",
     "text": [
      "       5/40      10.8G     0.3446     0.5922     0.3346     0.9515         23        864: 100%|██████████| 760/760 [12:37<00:00,  1.00it/s]\n",
      "                 Class     Images  Instances      Box(P          R      mAP50  mAP50-95)     Mask(P          R      mAP50  mAP50-95): 100%|██████████| 36/36 [00:14<00:00,  2.53it/s]"
     ]
    },
    {
     "name": "stdout",
     "output_type": "stream",
     "text": [
      "                   all        425       1080      0.985      0.894      0.955      0.903      0.983      0.891      0.941      0.891\n"
     ]
    },
    {
     "name": "stderr",
     "output_type": "stream",
     "text": [
      "\n"
     ]
    },
    {
     "name": "stdout",
     "output_type": "stream",
     "text": [
      "\n",
      "      Epoch    GPU_mem   box_loss   seg_loss   cls_loss   dfl_loss  Instances       Size\n"
     ]
    },
    {
     "name": "stderr",
     "output_type": "stream",
     "text": [
      "       6/40      11.2G     0.3365     0.5731     0.3232     0.9491         40        864: 100%|██████████| 760/760 [12:37<00:00,  1.00it/s]\n",
      "                 Class     Images  Instances      Box(P          R      mAP50  mAP50-95)     Mask(P          R      mAP50  mAP50-95): 100%|██████████| 36/36 [00:15<00:00,  2.39it/s]"
     ]
    },
    {
     "name": "stdout",
     "output_type": "stream",
     "text": [
      "                   all        425       1080      0.972      0.891      0.954      0.899      0.971      0.891      0.942      0.873\n"
     ]
    },
    {
     "name": "stderr",
     "output_type": "stream",
     "text": [
      "\n"
     ]
    },
    {
     "name": "stdout",
     "output_type": "stream",
     "text": [
      "\n",
      "      Epoch    GPU_mem   box_loss   seg_loss   cls_loss   dfl_loss  Instances       Size\n"
     ]
    },
    {
     "name": "stderr",
     "output_type": "stream",
     "text": [
      "       7/40      11.1G      0.339     0.5748     0.3291     0.9463         37        864: 100%|██████████| 760/760 [12:38<00:00,  1.00it/s]\n",
      "                 Class     Images  Instances      Box(P          R      mAP50  mAP50-95)     Mask(P          R      mAP50  mAP50-95): 100%|██████████| 36/36 [00:14<00:00,  2.53it/s]"
     ]
    },
    {
     "name": "stdout",
     "output_type": "stream",
     "text": [
      "                   all        425       1080      0.983      0.881       0.93      0.881      0.984      0.882      0.924      0.863\n"
     ]
    },
    {
     "name": "stderr",
     "output_type": "stream",
     "text": [
      "\n"
     ]
    },
    {
     "name": "stdout",
     "output_type": "stream",
     "text": [
      "\n",
      "      Epoch    GPU_mem   box_loss   seg_loss   cls_loss   dfl_loss  Instances       Size\n"
     ]
    },
    {
     "name": "stderr",
     "output_type": "stream",
     "text": [
      "       8/40      11.1G     0.3365     0.5757      0.319     0.9414         50        864: 100%|██████████| 760/760 [12:38<00:00,  1.00it/s]\n",
      "                 Class     Images  Instances      Box(P          R      mAP50  mAP50-95)     Mask(P          R      mAP50  mAP50-95): 100%|██████████| 36/36 [00:14<00:00,  2.53it/s]"
     ]
    },
    {
     "name": "stdout",
     "output_type": "stream",
     "text": [
      "                   all        425       1080      0.967      0.894      0.951      0.904       0.97      0.891      0.942      0.889\n"
     ]
    },
    {
     "name": "stderr",
     "output_type": "stream",
     "text": [
      "\n"
     ]
    },
    {
     "name": "stdout",
     "output_type": "stream",
     "text": [
      "\n",
      "      Epoch    GPU_mem   box_loss   seg_loss   cls_loss   dfl_loss  Instances       Size\n"
     ]
    },
    {
     "name": "stderr",
     "output_type": "stream",
     "text": [
      "       9/40      11.1G     0.3309     0.5648     0.3118       0.94         31        864: 100%|██████████| 760/760 [12:38<00:00,  1.00it/s]\n",
      "                 Class     Images  Instances      Box(P          R      mAP50  mAP50-95)     Mask(P          R      mAP50  mAP50-95): 100%|██████████| 36/36 [00:14<00:00,  2.53it/s]"
     ]
    },
    {
     "name": "stdout",
     "output_type": "stream",
     "text": [
      "                   all        425       1080      0.969      0.906      0.962      0.911      0.974      0.907      0.956      0.883\n"
     ]
    },
    {
     "name": "stderr",
     "output_type": "stream",
     "text": [
      "\n"
     ]
    },
    {
     "name": "stdout",
     "output_type": "stream",
     "text": [
      "\n",
      "      Epoch    GPU_mem   box_loss   seg_loss   cls_loss   dfl_loss  Instances       Size\n"
     ]
    },
    {
     "name": "stderr",
     "output_type": "stream",
     "text": [
      "      10/40      11.1G     0.3243      0.547     0.3098     0.9351         31        864: 100%|██████████| 760/760 [12:38<00:00,  1.00it/s]\n",
      "                 Class     Images  Instances      Box(P          R      mAP50  mAP50-95)     Mask(P          R      mAP50  mAP50-95): 100%|██████████| 36/36 [00:13<00:00,  2.57it/s]"
     ]
    },
    {
     "name": "stdout",
     "output_type": "stream",
     "text": [
      "                   all        425       1080      0.972      0.871      0.945      0.893      0.981      0.865      0.938      0.868\n"
     ]
    },
    {
     "name": "stderr",
     "output_type": "stream",
     "text": [
      "\n"
     ]
    },
    {
     "name": "stdout",
     "output_type": "stream",
     "text": [
      "\n",
      "      Epoch    GPU_mem   box_loss   seg_loss   cls_loss   dfl_loss  Instances       Size\n"
     ]
    },
    {
     "name": "stderr",
     "output_type": "stream",
     "text": [
      "      11/40      11.1G     0.3177     0.5275     0.2991     0.9347         36        864: 100%|██████████| 760/760 [13:26<00:00,  1.06s/it]\n",
      "                 Class     Images  Instances      Box(P          R      mAP50  mAP50-95)     Mask(P          R      mAP50  mAP50-95): 100%|██████████| 36/36 [00:14<00:00,  2.49it/s]"
     ]
    },
    {
     "name": "stdout",
     "output_type": "stream",
     "text": [
      "                   all        425       1080      0.976       0.89      0.953      0.905      0.971      0.893      0.945      0.892\n"
     ]
    },
    {
     "name": "stderr",
     "output_type": "stream",
     "text": [
      "\n"
     ]
    },
    {
     "name": "stdout",
     "output_type": "stream",
     "text": [
      "\n",
      "      Epoch    GPU_mem   box_loss   seg_loss   cls_loss   dfl_loss  Instances       Size\n"
     ]
    },
    {
     "name": "stderr",
     "output_type": "stream",
     "text": [
      "      12/40      11.1G     0.3163     0.5254     0.2942      0.932         33        864: 100%|██████████| 760/760 [12:51<00:00,  1.01s/it]\n",
      "                 Class     Images  Instances      Box(P          R      mAP50  mAP50-95)     Mask(P          R      mAP50  mAP50-95): 100%|██████████| 36/36 [00:14<00:00,  2.49it/s]"
     ]
    },
    {
     "name": "stdout",
     "output_type": "stream",
     "text": [
      "                   all        425       1080      0.978      0.894      0.961      0.915      0.978      0.894      0.951      0.891\n"
     ]
    },
    {
     "name": "stderr",
     "output_type": "stream",
     "text": [
      "\n"
     ]
    },
    {
     "name": "stdout",
     "output_type": "stream",
     "text": [
      "\n",
      "      Epoch    GPU_mem   box_loss   seg_loss   cls_loss   dfl_loss  Instances       Size\n"
     ]
    },
    {
     "name": "stderr",
     "output_type": "stream",
     "text": [
      "      13/40      11.1G     0.3189     0.5171     0.3022     0.9338         36        864: 100%|██████████| 760/760 [12:50<00:00,  1.01s/it]\n",
      "                 Class     Images  Instances      Box(P          R      mAP50  mAP50-95)     Mask(P          R      mAP50  mAP50-95): 100%|██████████| 36/36 [00:14<00:00,  2.50it/s]"
     ]
    },
    {
     "name": "stdout",
     "output_type": "stream",
     "text": [
      "                   all        425       1080      0.972      0.892      0.955      0.909      0.973      0.893      0.947      0.896\n"
     ]
    },
    {
     "name": "stderr",
     "output_type": "stream",
     "text": [
      "\n"
     ]
    },
    {
     "name": "stdout",
     "output_type": "stream",
     "text": [
      "\n",
      "      Epoch    GPU_mem   box_loss   seg_loss   cls_loss   dfl_loss  Instances       Size\n"
     ]
    },
    {
     "name": "stderr",
     "output_type": "stream",
     "text": [
      "      14/40      11.2G     0.3089     0.5019     0.2862     0.9288         50        864: 100%|██████████| 760/760 [13:09<00:00,  1.04s/it]\n",
      "                 Class     Images  Instances      Box(P          R      mAP50  mAP50-95)     Mask(P          R      mAP50  mAP50-95): 100%|██████████| 36/36 [00:14<00:00,  2.48it/s]"
     ]
    },
    {
     "name": "stdout",
     "output_type": "stream",
     "text": [
      "                   all        425       1080      0.977      0.886      0.932       0.89      0.975      0.886      0.927      0.871\n"
     ]
    },
    {
     "name": "stderr",
     "output_type": "stream",
     "text": [
      "\n"
     ]
    },
    {
     "name": "stdout",
     "output_type": "stream",
     "text": [
      "\n",
      "      Epoch    GPU_mem   box_loss   seg_loss   cls_loss   dfl_loss  Instances       Size\n"
     ]
    },
    {
     "name": "stderr",
     "output_type": "stream",
     "text": [
      "      15/40      11.1G     0.3091     0.5103     0.2852     0.9294         40        864: 100%|██████████| 760/760 [12:48<00:00,  1.01s/it]\n",
      "                 Class     Images  Instances      Box(P          R      mAP50  mAP50-95)     Mask(P          R      mAP50  mAP50-95): 100%|██████████| 36/36 [00:14<00:00,  2.49it/s]\n"
     ]
    },
    {
     "name": "stdout",
     "output_type": "stream",
     "text": [
      "                   all        425       1080      0.976      0.885      0.957      0.909      0.976      0.884      0.952      0.892\n",
      "\n",
      "      Epoch    GPU_mem   box_loss   seg_loss   cls_loss   dfl_loss  Instances       Size\n"
     ]
    },
    {
     "name": "stderr",
     "output_type": "stream",
     "text": [
      "      16/40      10.9G     0.3068     0.4899     0.2807     0.9235         47        864: 100%|██████████| 760/760 [12:50<00:00,  1.01s/it]\n",
      "                 Class     Images  Instances      Box(P          R      mAP50  mAP50-95)     Mask(P          R      mAP50  mAP50-95): 100%|██████████| 36/36 [00:14<00:00,  2.50it/s]"
     ]
    },
    {
     "name": "stdout",
     "output_type": "stream",
     "text": [
      "                   all        425       1080      0.968      0.897      0.956      0.912       0.97      0.897      0.944      0.887\n"
     ]
    },
    {
     "name": "stderr",
     "output_type": "stream",
     "text": [
      "\n"
     ]
    },
    {
     "name": "stdout",
     "output_type": "stream",
     "text": [
      "\n",
      "      Epoch    GPU_mem   box_loss   seg_loss   cls_loss   dfl_loss  Instances       Size\n"
     ]
    },
    {
     "name": "stderr",
     "output_type": "stream",
     "text": [
      "      17/40      11.2G     0.3034     0.4826     0.2744     0.9264         30        864: 100%|██████████| 760/760 [12:50<00:00,  1.01s/it]\n",
      "                 Class     Images  Instances      Box(P          R      mAP50  mAP50-95)     Mask(P          R      mAP50  mAP50-95): 100%|██████████| 36/36 [00:15<00:00,  2.39it/s]"
     ]
    },
    {
     "name": "stdout",
     "output_type": "stream",
     "text": [
      "                   all        425       1080      0.978      0.898      0.965      0.924      0.974      0.904      0.959      0.901\n"
     ]
    },
    {
     "name": "stderr",
     "output_type": "stream",
     "text": [
      "\n"
     ]
    },
    {
     "name": "stdout",
     "output_type": "stream",
     "text": [
      "\n",
      "      Epoch    GPU_mem   box_loss   seg_loss   cls_loss   dfl_loss  Instances       Size\n"
     ]
    },
    {
     "name": "stderr",
     "output_type": "stream",
     "text": [
      "      18/40      11.2G     0.2938     0.4738     0.2674     0.9195         49        864: 100%|██████████| 760/760 [12:49<00:00,  1.01s/it]\n",
      "                 Class     Images  Instances      Box(P          R      mAP50  mAP50-95)     Mask(P          R      mAP50  mAP50-95): 100%|██████████| 36/36 [00:14<00:00,  2.50it/s]"
     ]
    },
    {
     "name": "stdout",
     "output_type": "stream",
     "text": [
      "                   all        425       1080       0.98      0.892      0.961      0.914      0.983      0.889      0.955      0.891\n"
     ]
    },
    {
     "name": "stderr",
     "output_type": "stream",
     "text": [
      "\n"
     ]
    },
    {
     "name": "stdout",
     "output_type": "stream",
     "text": [
      "\n",
      "      Epoch    GPU_mem   box_loss   seg_loss   cls_loss   dfl_loss  Instances       Size\n"
     ]
    },
    {
     "name": "stderr",
     "output_type": "stream",
     "text": [
      "      19/40      11.1G     0.2962     0.4762     0.2689       0.92         33        864: 100%|██████████| 760/760 [12:48<00:00,  1.01s/it]\n",
      "                 Class     Images  Instances      Box(P          R      mAP50  mAP50-95)     Mask(P          R      mAP50  mAP50-95): 100%|██████████| 36/36 [00:14<00:00,  2.50it/s]"
     ]
    },
    {
     "name": "stdout",
     "output_type": "stream",
     "text": [
      "                   all        425       1080      0.984      0.875      0.958      0.916      0.984      0.881      0.953      0.897\n"
     ]
    },
    {
     "name": "stderr",
     "output_type": "stream",
     "text": [
      "\n"
     ]
    },
    {
     "name": "stdout",
     "output_type": "stream",
     "text": [
      "\n",
      "      Epoch    GPU_mem   box_loss   seg_loss   cls_loss   dfl_loss  Instances       Size\n"
     ]
    },
    {
     "name": "stderr",
     "output_type": "stream",
     "text": [
      "      20/40        11G     0.2814     0.4464     0.2508     0.9115         41        864: 100%|██████████| 760/760 [12:48<00:00,  1.01s/it]\n",
      "                 Class     Images  Instances      Box(P          R      mAP50  mAP50-95)     Mask(P          R      mAP50  mAP50-95): 100%|██████████| 36/36 [00:14<00:00,  2.50it/s]"
     ]
    },
    {
     "name": "stdout",
     "output_type": "stream",
     "text": [
      "                   all        425       1080      0.977      0.898      0.959      0.919      0.975      0.895       0.95      0.887\n"
     ]
    },
    {
     "name": "stderr",
     "output_type": "stream",
     "text": [
      "\n"
     ]
    },
    {
     "name": "stdout",
     "output_type": "stream",
     "text": [
      "\n",
      "      Epoch    GPU_mem   box_loss   seg_loss   cls_loss   dfl_loss  Instances       Size\n"
     ]
    },
    {
     "name": "stderr",
     "output_type": "stream",
     "text": [
      "      21/40      11.1G     0.2896     0.4495     0.2594      0.919         26        864: 100%|██████████| 760/760 [12:48<00:00,  1.01s/it]\n",
      "                 Class     Images  Instances      Box(P          R      mAP50  mAP50-95)     Mask(P          R      mAP50  mAP50-95): 100%|██████████| 36/36 [00:15<00:00,  2.38it/s]"
     ]
    },
    {
     "name": "stdout",
     "output_type": "stream",
     "text": [
      "                   all        425       1080      0.973      0.897      0.958      0.918      0.973      0.897      0.955      0.895\n"
     ]
    },
    {
     "name": "stderr",
     "output_type": "stream",
     "text": [
      "\n"
     ]
    },
    {
     "name": "stdout",
     "output_type": "stream",
     "text": [
      "\n",
      "      Epoch    GPU_mem   box_loss   seg_loss   cls_loss   dfl_loss  Instances       Size\n"
     ]
    },
    {
     "name": "stderr",
     "output_type": "stream",
     "text": [
      "      22/40      11.1G     0.2833     0.4384     0.2521     0.9095         39        864: 100%|██████████| 760/760 [12:49<00:00,  1.01s/it]\n",
      "                 Class     Images  Instances      Box(P          R      mAP50  mAP50-95)     Mask(P          R      mAP50  mAP50-95): 100%|██████████| 36/36 [00:14<00:00,  2.40it/s]"
     ]
    },
    {
     "name": "stdout",
     "output_type": "stream",
     "text": [
      "                   all        425       1080      0.978       0.89      0.961       0.92      0.969      0.903      0.956       0.91\n"
     ]
    },
    {
     "name": "stderr",
     "output_type": "stream",
     "text": [
      "\n"
     ]
    },
    {
     "name": "stdout",
     "output_type": "stream",
     "text": [
      "\n",
      "      Epoch    GPU_mem   box_loss   seg_loss   cls_loss   dfl_loss  Instances       Size\n"
     ]
    },
    {
     "name": "stderr",
     "output_type": "stream",
     "text": [
      "      23/40      11.1G     0.2785     0.4274     0.2473     0.9124         38        864: 100%|██████████| 760/760 [12:53<00:00,  1.02s/it]\n",
      "                 Class     Images  Instances      Box(P          R      mAP50  mAP50-95)     Mask(P          R      mAP50  mAP50-95): 100%|██████████| 36/36 [00:14<00:00,  2.48it/s]"
     ]
    },
    {
     "name": "stdout",
     "output_type": "stream",
     "text": [
      "                   all        425       1080      0.966      0.916      0.963      0.918      0.965      0.919      0.958      0.897\n"
     ]
    },
    {
     "name": "stderr",
     "output_type": "stream",
     "text": [
      "\n"
     ]
    },
    {
     "name": "stdout",
     "output_type": "stream",
     "text": [
      "\n",
      "      Epoch    GPU_mem   box_loss   seg_loss   cls_loss   dfl_loss  Instances       Size\n"
     ]
    },
    {
     "name": "stderr",
     "output_type": "stream",
     "text": [
      "      24/40      11.2G     0.2787     0.4287     0.2455     0.9116         36        864: 100%|██████████| 760/760 [12:51<00:00,  1.02s/it]\n",
      "                 Class     Images  Instances      Box(P          R      mAP50  mAP50-95)     Mask(P          R      mAP50  mAP50-95): 100%|██████████| 36/36 [00:14<00:00,  2.48it/s]"
     ]
    },
    {
     "name": "stdout",
     "output_type": "stream",
     "text": [
      "                   all        425       1080      0.966      0.906       0.96      0.921      0.969      0.911      0.958      0.898\n"
     ]
    },
    {
     "name": "stderr",
     "output_type": "stream",
     "text": [
      "\n"
     ]
    },
    {
     "name": "stdout",
     "output_type": "stream",
     "text": [
      "\n",
      "      Epoch    GPU_mem   box_loss   seg_loss   cls_loss   dfl_loss  Instances       Size\n"
     ]
    },
    {
     "name": "stderr",
     "output_type": "stream",
     "text": [
      "      25/40      11.2G      0.273     0.4145     0.2363     0.9057         33        864: 100%|██████████| 760/760 [12:51<00:00,  1.02s/it]\n",
      "                 Class     Images  Instances      Box(P          R      mAP50  mAP50-95)     Mask(P          R      mAP50  mAP50-95): 100%|██████████| 36/36 [00:14<00:00,  2.48it/s]"
     ]
    },
    {
     "name": "stdout",
     "output_type": "stream",
     "text": [
      "                   all        425       1080      0.954      0.921      0.961      0.919      0.952      0.918      0.955      0.899\n"
     ]
    },
    {
     "name": "stderr",
     "output_type": "stream",
     "text": [
      "\n"
     ]
    },
    {
     "name": "stdout",
     "output_type": "stream",
     "text": [
      "\n",
      "      Epoch    GPU_mem   box_loss   seg_loss   cls_loss   dfl_loss  Instances       Size\n"
     ]
    },
    {
     "name": "stderr",
     "output_type": "stream",
     "text": [
      "      26/40      11.1G     0.2729     0.4121     0.2357      0.908         19        864: 100%|██████████| 760/760 [12:51<00:00,  1.02s/it]\n",
      "                 Class     Images  Instances      Box(P          R      mAP50  mAP50-95)     Mask(P          R      mAP50  mAP50-95): 100%|██████████| 36/36 [00:14<00:00,  2.47it/s]"
     ]
    },
    {
     "name": "stdout",
     "output_type": "stream",
     "text": [
      "                   all        425       1080      0.964       0.91      0.964      0.928      0.969      0.907      0.961      0.906\n"
     ]
    },
    {
     "name": "stderr",
     "output_type": "stream",
     "text": [
      "\n"
     ]
    },
    {
     "name": "stdout",
     "output_type": "stream",
     "text": [
      "\n",
      "      Epoch    GPU_mem   box_loss   seg_loss   cls_loss   dfl_loss  Instances       Size\n"
     ]
    },
    {
     "name": "stderr",
     "output_type": "stream",
     "text": [
      "      27/40      10.9G     0.2676      0.397     0.2309     0.9011         40        864: 100%|██████████| 760/760 [12:50<00:00,  1.01s/it]\n",
      "                 Class     Images  Instances      Box(P          R      mAP50  mAP50-95)     Mask(P          R      mAP50  mAP50-95): 100%|██████████| 36/36 [00:14<00:00,  2.47it/s]"
     ]
    },
    {
     "name": "stdout",
     "output_type": "stream",
     "text": [
      "                   all        425       1080      0.966       0.91      0.952      0.913      0.961      0.908      0.949      0.904\n"
     ]
    },
    {
     "name": "stderr",
     "output_type": "stream",
     "text": [
      "\n"
     ]
    },
    {
     "name": "stdout",
     "output_type": "stream",
     "text": [
      "\n",
      "      Epoch    GPU_mem   box_loss   seg_loss   cls_loss   dfl_loss  Instances       Size\n"
     ]
    },
    {
     "name": "stderr",
     "output_type": "stream",
     "text": [
      "      28/40      11.2G     0.2642     0.4023     0.2254      0.901         42        864: 100%|██████████| 760/760 [12:50<00:00,  1.01s/it]\n",
      "                 Class     Images  Instances      Box(P          R      mAP50  mAP50-95)     Mask(P          R      mAP50  mAP50-95): 100%|██████████| 36/36 [00:15<00:00,  2.37it/s]"
     ]
    },
    {
     "name": "stdout",
     "output_type": "stream",
     "text": [
      "                   all        425       1080      0.972      0.902      0.952      0.912      0.969        0.9      0.949      0.891\n"
     ]
    },
    {
     "name": "stderr",
     "output_type": "stream",
     "text": [
      "\n"
     ]
    },
    {
     "name": "stdout",
     "output_type": "stream",
     "text": [
      "\n",
      "      Epoch    GPU_mem   box_loss   seg_loss   cls_loss   dfl_loss  Instances       Size\n"
     ]
    },
    {
     "name": "stderr",
     "output_type": "stream",
     "text": [
      "      29/40      11.1G     0.2652      0.389     0.2218     0.9035         34        864: 100%|██████████| 760/760 [12:50<00:00,  1.01s/it]\n",
      "                 Class     Images  Instances      Box(P          R      mAP50  mAP50-95)     Mask(P          R      mAP50  mAP50-95): 100%|██████████| 36/36 [00:14<00:00,  2.47it/s]"
     ]
    },
    {
     "name": "stdout",
     "output_type": "stream",
     "text": [
      "                   all        425       1080       0.96      0.912      0.958       0.92      0.958      0.911      0.955      0.898\n"
     ]
    },
    {
     "name": "stderr",
     "output_type": "stream",
     "text": [
      "\n"
     ]
    },
    {
     "name": "stdout",
     "output_type": "stream",
     "text": [
      "\n",
      "      Epoch    GPU_mem   box_loss   seg_loss   cls_loss   dfl_loss  Instances       Size\n"
     ]
    },
    {
     "name": "stderr",
     "output_type": "stream",
     "text": [
      "      30/40      11.1G      0.257     0.3772     0.2172     0.8976         34        864: 100%|██████████| 760/760 [12:50<00:00,  1.01s/it]\n",
      "                 Class     Images  Instances      Box(P          R      mAP50  mAP50-95)     Mask(P          R      mAP50  mAP50-95): 100%|██████████| 36/36 [00:15<00:00,  2.37it/s]"
     ]
    },
    {
     "name": "stdout",
     "output_type": "stream",
     "text": [
      "                   all        425       1080      0.965      0.912      0.962      0.923      0.964      0.911      0.959      0.904\n"
     ]
    },
    {
     "name": "stderr",
     "output_type": "stream",
     "text": [
      "\n"
     ]
    },
    {
     "name": "stdout",
     "output_type": "stream",
     "text": [
      "Closing dataloader mosaic\n",
      "\n",
      "      Epoch    GPU_mem   box_loss   seg_loss   cls_loss   dfl_loss  Instances       Size\n"
     ]
    },
    {
     "name": "stderr",
     "output_type": "stream",
     "text": [
      "      31/40        11G     0.1879     0.3151      0.195     0.8917         14        864: 100%|██████████| 760/760 [12:45<00:00,  1.01s/it]\n",
      "                 Class     Images  Instances      Box(P          R      mAP50  mAP50-95)     Mask(P          R      mAP50  mAP50-95): 100%|██████████| 36/36 [00:15<00:00,  2.36it/s]"
     ]
    },
    {
     "name": "stdout",
     "output_type": "stream",
     "text": [
      "                   all        425       1080      0.965      0.909      0.962      0.924      0.975      0.899      0.957      0.904\n"
     ]
    },
    {
     "name": "stderr",
     "output_type": "stream",
     "text": [
      "\n"
     ]
    },
    {
     "name": "stdout",
     "output_type": "stream",
     "text": [
      "\n",
      "      Epoch    GPU_mem   box_loss   seg_loss   cls_loss   dfl_loss  Instances       Size\n"
     ]
    },
    {
     "name": "stderr",
     "output_type": "stream",
     "text": [
      "      32/40        11G     0.1819     0.3018     0.1819     0.8798         10        864: 100%|██████████| 760/760 [12:46<00:00,  1.01s/it]\n",
      "                 Class     Images  Instances      Box(P          R      mAP50  mAP50-95)     Mask(P          R      mAP50  mAP50-95): 100%|██████████| 36/36 [00:14<00:00,  2.47it/s]"
     ]
    },
    {
     "name": "stdout",
     "output_type": "stream",
     "text": [
      "                   all        425       1080      0.966      0.915      0.966      0.926      0.962      0.912      0.958      0.913\n"
     ]
    },
    {
     "name": "stderr",
     "output_type": "stream",
     "text": [
      "\n"
     ]
    },
    {
     "name": "stdout",
     "output_type": "stream",
     "text": [
      "\n",
      "      Epoch    GPU_mem   box_loss   seg_loss   cls_loss   dfl_loss  Instances       Size\n"
     ]
    },
    {
     "name": "stderr",
     "output_type": "stream",
     "text": [
      "      33/40      11.1G     0.1815     0.2931     0.1797       0.88         17        864: 100%|██████████| 760/760 [12:45<00:00,  1.01s/it]\n",
      "                 Class     Images  Instances      Box(P          R      mAP50  mAP50-95)     Mask(P          R      mAP50  mAP50-95): 100%|██████████| 36/36 [00:14<00:00,  2.47it/s]"
     ]
    },
    {
     "name": "stdout",
     "output_type": "stream",
     "text": [
      "                   all        425       1080       0.97      0.907      0.964      0.928      0.976      0.913      0.965      0.917\n"
     ]
    },
    {
     "name": "stderr",
     "output_type": "stream",
     "text": [
      "\n"
     ]
    },
    {
     "name": "stdout",
     "output_type": "stream",
     "text": [
      "\n",
      "      Epoch    GPU_mem   box_loss   seg_loss   cls_loss   dfl_loss  Instances       Size\n"
     ]
    },
    {
     "name": "stderr",
     "output_type": "stream",
     "text": [
      "      34/40      11.1G     0.1715     0.2842     0.1662     0.8721         10        864: 100%|██████████| 760/760 [12:45<00:00,  1.01s/it]\n",
      "                 Class     Images  Instances      Box(P          R      mAP50  mAP50-95)     Mask(P          R      mAP50  mAP50-95): 100%|██████████| 36/36 [00:15<00:00,  2.36it/s]"
     ]
    },
    {
     "name": "stdout",
     "output_type": "stream",
     "text": [
      "                   all        425       1080      0.965       0.91      0.962      0.925      0.964      0.909      0.962      0.912\n"
     ]
    },
    {
     "name": "stderr",
     "output_type": "stream",
     "text": [
      "\n"
     ]
    },
    {
     "name": "stdout",
     "output_type": "stream",
     "text": [
      "\n",
      "      Epoch    GPU_mem   box_loss   seg_loss   cls_loss   dfl_loss  Instances       Size\n"
     ]
    },
    {
     "name": "stderr",
     "output_type": "stream",
     "text": [
      "      35/40      11.1G     0.1654     0.2722     0.1607     0.8727         10        864: 100%|██████████| 760/760 [12:57<00:00,  1.02s/it]\n",
      "                 Class     Images  Instances      Box(P          R      mAP50  mAP50-95)     Mask(P          R      mAP50  mAP50-95): 100%|██████████| 36/36 [00:17<00:00,  2.04it/s]"
     ]
    },
    {
     "name": "stdout",
     "output_type": "stream",
     "text": [
      "                   all        425       1080      0.963      0.915      0.965       0.93      0.958      0.919      0.962      0.914\n"
     ]
    },
    {
     "name": "stderr",
     "output_type": "stream",
     "text": [
      "\n"
     ]
    },
    {
     "name": "stdout",
     "output_type": "stream",
     "text": [
      "\n",
      "      Epoch    GPU_mem   box_loss   seg_loss   cls_loss   dfl_loss  Instances       Size\n"
     ]
    },
    {
     "name": "stderr",
     "output_type": "stream",
     "text": [
      "      36/40      11.1G     0.1596     0.2715      0.153     0.8682         12        864: 100%|██████████| 760/760 [14:17<00:00,  1.13s/it]\n",
      "                 Class     Images  Instances      Box(P          R      mAP50  mAP50-95)     Mask(P          R      mAP50  mAP50-95): 100%|██████████| 36/36 [00:13<00:00,  2.59it/s]"
     ]
    },
    {
     "name": "stdout",
     "output_type": "stream",
     "text": [
      "                   all        425       1080      0.966      0.907      0.963      0.925      0.962      0.902      0.957      0.914\n"
     ]
    },
    {
     "name": "stderr",
     "output_type": "stream",
     "text": [
      "\n"
     ]
    },
    {
     "name": "stdout",
     "output_type": "stream",
     "text": [
      "\n",
      "      Epoch    GPU_mem   box_loss   seg_loss   cls_loss   dfl_loss  Instances       Size\n"
     ]
    },
    {
     "name": "stderr",
     "output_type": "stream",
     "text": [
      "      37/40        11G     0.1559     0.2588     0.1485     0.8695         14        864: 100%|██████████| 760/760 [14:08<00:00,  1.12s/it]\n",
      "                 Class     Images  Instances      Box(P          R      mAP50  mAP50-95)     Mask(P          R      mAP50  mAP50-95): 100%|██████████| 36/36 [00:18<00:00,  2.00it/s]"
     ]
    },
    {
     "name": "stdout",
     "output_type": "stream",
     "text": [
      "                   all        425       1080      0.972      0.907      0.963      0.931      0.973      0.907       0.96      0.918\n"
     ]
    },
    {
     "name": "stderr",
     "output_type": "stream",
     "text": [
      "\n"
     ]
    },
    {
     "name": "stdout",
     "output_type": "stream",
     "text": [
      "\n",
      "      Epoch    GPU_mem   box_loss   seg_loss   cls_loss   dfl_loss  Instances       Size\n"
     ]
    },
    {
     "name": "stderr",
     "output_type": "stream",
     "text": [
      "      38/40      10.8G     0.1516     0.2518     0.1433     0.8621         13        864: 100%|██████████| 760/760 [14:56<00:00,  1.18s/it]\n",
      "                 Class     Images  Instances      Box(P          R      mAP50  mAP50-95)     Mask(P          R      mAP50  mAP50-95): 100%|██████████| 36/36 [00:16<00:00,  2.13it/s]"
     ]
    },
    {
     "name": "stdout",
     "output_type": "stream",
     "text": [
      "                   all        425       1080      0.969      0.905      0.966      0.933      0.968      0.905      0.963      0.916\n"
     ]
    },
    {
     "name": "stderr",
     "output_type": "stream",
     "text": [
      "\n"
     ]
    },
    {
     "name": "stdout",
     "output_type": "stream",
     "text": [
      "\n",
      "      Epoch    GPU_mem   box_loss   seg_loss   cls_loss   dfl_loss  Instances       Size\n"
     ]
    },
    {
     "name": "stderr",
     "output_type": "stream",
     "text": [
      "      39/40      11.2G      0.147     0.2475     0.1387     0.8622         10        864: 100%|██████████| 760/760 [13:48<00:00,  1.09s/it]\n",
      "                 Class     Images  Instances      Box(P          R      mAP50  mAP50-95)     Mask(P          R      mAP50  mAP50-95): 100%|██████████| 36/36 [00:17<00:00,  2.02it/s]"
     ]
    },
    {
     "name": "stdout",
     "output_type": "stream",
     "text": [
      "                   all        425       1080      0.981      0.892      0.965      0.932      0.962      0.912      0.964      0.921\n"
     ]
    },
    {
     "name": "stderr",
     "output_type": "stream",
     "text": [
      "\n"
     ]
    },
    {
     "name": "stdout",
     "output_type": "stream",
     "text": [
      "\n",
      "      Epoch    GPU_mem   box_loss   seg_loss   cls_loss   dfl_loss  Instances       Size\n"
     ]
    },
    {
     "name": "stderr",
     "output_type": "stream",
     "text": [
      "      40/40      11.1G     0.1434     0.2447     0.1335     0.8611         13        864: 100%|██████████| 760/760 [14:17<00:00,  1.13s/it]\n",
      "                 Class     Images  Instances      Box(P          R      mAP50  mAP50-95)     Mask(P          R      mAP50  mAP50-95): 100%|██████████| 36/36 [00:14<00:00,  2.50it/s]\n"
     ]
    },
    {
     "name": "stdout",
     "output_type": "stream",
     "text": [
      "                   all        425       1080      0.962       0.91      0.966      0.933      0.963       0.91      0.965      0.921\n",
      "\n",
      "40 epochs completed in 8.866 hours.\n",
      "Optimizer stripped from runs\\segment\\train7\\weights\\last.pt, 144.0MB\n",
      "Optimizer stripped from runs\\segment\\train7\\weights\\best.pt, 144.0MB\n",
      "\n",
      "Validating runs\\segment\\train7\\weights\\best.pt...\n",
      "Ultralytics YOLOv8.2.8  Python-3.11.9 torch-2.3.0 CUDA:0 (NVIDIA GeForce RTX 3060, 12288MiB)\n",
      "YOLOv8x-seg summary (fused): 295 layers, 71722582 parameters, 0 gradients\n"
     ]
    },
    {
     "name": "stderr",
     "output_type": "stream",
     "text": [
      "                 Class     Images  Instances      Box(P          R      mAP50  mAP50-95)     Mask(P          R      mAP50  mAP50-95): 100%|██████████| 36/36 [00:13<00:00,  2.67it/s]\n"
     ]
    },
    {
     "name": "stdout",
     "output_type": "stream",
     "text": [
      "                   all        425       1080      0.962       0.91      0.966      0.933      0.962       0.91      0.965      0.921\n",
      "                camino        425        477      0.983      0.937      0.979      0.954      0.981      0.935      0.977      0.948\n",
      "             obstaculo        425        603      0.941      0.882      0.952      0.912      0.944      0.886      0.954      0.895\n",
      "Speed: 0.2ms preprocess, 26.0ms inference, 0.0ms loss, 0.8ms postprocess per image\n",
      "Results saved to \u001b[1mruns\\segment\\train7\u001b[0m\n"
     ]
    }
   ],
   "source": [
    "results = model.train(data='customdata.yaml', epochs=40, imgsz=imgsz, batch=batch, device=\"cuda\")"
   ]
  },
  {
   "cell_type": "markdown",
   "metadata": {},
   "source": [
    "### Visualizamos las perdidas\n",
    "\n"
   ]
  },
  {
   "cell_type": "code",
   "execution_count": 4,
   "metadata": {},
   "outputs": [],
   "source": [
    "import pandas as pd\n",
    "import matplotlib.pyplot as plt\n",
    "\n",
    "def plot_losses(csv_file):\n",
    "    df = pd.read_csv(csv_file)\n",
    "    df.columns = df.columns.str.strip()\n",
    "    epochs = df['epoch']\n",
    "    train_box_loss = df['train/box_loss']\n",
    "    train_seg_loss = df['train/seg_loss']\n",
    "    val_box_loss = df['val/box_loss']\n",
    "    val_seg_loss = df['val/seg_loss']\n",
    "\n",
    "    plt.figure(figsize=(10, 6))\n",
    "    plt.plot(epochs, train_box_loss, label='train/box_loss', color='blue')\n",
    "    plt.plot(epochs, train_seg_loss, label='train/seg_loss', color='green')\n",
    "    plt.plot(epochs, val_box_loss, label='val/box_loss', color='red')\n",
    "    plt.plot(epochs, val_seg_loss, label='val/seg_loss', color='orange')\n",
    "\n",
    "    plt.title('Losses vs Epochs')\n",
    "    plt.xlabel('Epochs')\n",
    "    plt.ylabel('Loss')\n",
    "\n",
    "    plt.legend()\n",
    "    plt.grid(True)\n",
    "    plt.savefig(\"F:\\Proyecto-SIS330\\source\\Yolo\")\n",
    "    plt.show()"
   ]
  },
  {
   "cell_type": "code",
   "execution_count": 5,
   "metadata": {},
   "outputs": [
    {
     "data": {
      "text/plain": [
       "<Figure size 1000x600 with 1 Axes>"
      ]
     },
     "metadata": {},
     "output_type": "display_data"
    }
   ],
   "source": [
    "plot_losses(\"final_results.csv\")"
   ]
  },
  {
   "cell_type": "markdown",
   "metadata": {},
   "source": [
    "### Matriz de confusión\n",
    "\n"
   ]
  },
  {
   "cell_type": "code",
   "execution_count": null,
   "metadata": {},
   "outputs": [],
   "source": []
  },
  {
   "cell_type": "markdown",
   "metadata": {},
   "source": [
    "### Labels\n",
    "\n",
    "Las etiquetas de los objetos son:"
   ]
  },
  {
   "cell_type": "code",
   "execution_count": 11,
   "metadata": {},
   "outputs": [
    {
     "data": {
      "text/plain": [
       "<Figure size 1200x1000 with 1 Axes>"
      ]
     },
     "metadata": {},
     "output_type": "display_data"
    }
   ],
   "source": [
    "import matplotlib.image as mpimg\n",
    "ruta_imagen = './runs/segment/train3/labels.jpg'\n",
    "imagen = mpimg.imread(ruta_imagen)\n",
    "plt.figure(figsize=(12, 10))\n",
    "plt.imshow(imagen)\n",
    "plt.axis('off')\n",
    "plt.savefig(\"F:\\Proyecto-SIS330\\source\\Yolo\")\n",
    "plt.show()"
   ]
  },
  {
   "cell_type": "markdown",
   "metadata": {},
   "source": [
    "### Precision\n",
    "\n",
    "La precision del modelo:"
   ]
  },
  {
   "cell_type": "code",
   "execution_count": 12,
   "metadata": {},
   "outputs": [],
   "source": [
    "def modelPrecision(csv_file):\n",
    "    df = pd.read_csv(csv_file)\n",
    "    df.columns = df.columns.str.strip()\n",
    "    epochs = df['epoch']\n",
    "    precision = df['metrics/precision(B)']\n",
    "\n",
    "    plt.figure(figsize=(10, 6))\n",
    "    plt.plot(epochs, precision, label='precisión', color='orange')\n",
    "\n",
    "    plt.title('Precisión vs Epochs')\n",
    "    plt.xlabel('Epochs')\n",
    "    plt.ylabel('Precisión')\n",
    "\n",
    "    plt.legend()\n",
    "    plt.grid(True)\n",
    "    plt.savefig(\"F:\\Proyecto-SIS330\\source\\Yolo\")\n",
    "    plt.show()"
   ]
  },
  {
   "cell_type": "code",
   "execution_count": 13,
   "metadata": {},
   "outputs": [
    {
     "data": {
      "text/plain": [
       "<Figure size 1000x600 with 1 Axes>"
      ]
     },
     "metadata": {},
     "output_type": "display_data"
    }
   ],
   "source": [
    "modelPrecision(\"final_results.csv\")"
   ]
  },
  {
   "cell_type": "markdown",
   "metadata": {},
   "source": [
    "### Predecimos\n",
    "\n",
    "Predecimos con el siguiente comando:"
   ]
  },
  {
   "cell_type": "code",
   "execution_count": 29,
   "metadata": {},
   "outputs": [],
   "source": [
    "from ultralytics import YOLO\n",
    "\n",
    "model = YOLO('./runs/segment/train6/weights/best.pt')\n",
    "#result = model.predict(source='1', show=True) # predict and save\n",
    "#print(result)"
   ]
  },
  {
   "cell_type": "code",
   "execution_count": 30,
   "metadata": {},
   "outputs": [
    {
     "name": "stdout",
     "output_type": "stream",
     "text": [
      "\n",
      "\n",
      "WARNING  inference results will accumulate in RAM unless `stream=True` is passed, causing potential out-of-memory\n",
      "errors for large sources or long-running streams and videos. See https://docs.ultralytics.com/modes/predict/ for help.\n",
      "\n",
      "Example:\n",
      "    results = model(source=..., stream=True)  # generator of Results objects\n",
      "    for r in results:\n",
      "        boxes = r.boxes  # Boxes object for bbox outputs\n",
      "        masks = r.masks  # Masks object for segment masks outputs\n",
      "        probs = r.probs  # Class probabilities for classification outputs\n",
      "\n",
      "video 1/1 (frame 1/714) f:\\Proyecto-SIS330\\source\\Yolo\\Video47.mp4: 480x864 1 camino, 4 obstaculos, 63.1ms\n",
      "video 1/1 (frame 2/714) f:\\Proyecto-SIS330\\source\\Yolo\\Video47.mp4: 480x864 1 camino, 4 obstaculos, 59.6ms\n",
      "video 1/1 (frame 3/714) f:\\Proyecto-SIS330\\source\\Yolo\\Video47.mp4: 480x864 1 camino, 6 obstaculos, 59.3ms\n",
      "video 1/1 (frame 4/714) f:\\Proyecto-SIS330\\source\\Yolo\\Video47.mp4: 480x864 1 camino, 4 obstaculos, 59.2ms\n",
      "video 1/1 (frame 5/714) f:\\Proyecto-SIS330\\source\\Yolo\\Video47.mp4: 480x864 1 camino, 4 obstaculos, 59.3ms\n",
      "video 1/1 (frame 6/714) f:\\Proyecto-SIS330\\source\\Yolo\\Video47.mp4: 480x864 1 camino, 4 obstaculos, 59.5ms\n",
      "video 1/1 (frame 7/714) f:\\Proyecto-SIS330\\source\\Yolo\\Video47.mp4: 480x864 1 camino, 4 obstaculos, 59.2ms\n",
      "video 1/1 (frame 8/714) f:\\Proyecto-SIS330\\source\\Yolo\\Video47.mp4: 480x864 1 camino, 4 obstaculos, 58.8ms\n",
      "video 1/1 (frame 9/714) f:\\Proyecto-SIS330\\source\\Yolo\\Video47.mp4: 480x864 1 camino, 4 obstaculos, 59.2ms\n",
      "video 1/1 (frame 10/714) f:\\Proyecto-SIS330\\source\\Yolo\\Video47.mp4: 480x864 1 camino, 4 obstaculos, 58.8ms\n",
      "video 1/1 (frame 11/714) f:\\Proyecto-SIS330\\source\\Yolo\\Video47.mp4: 480x864 1 camino, 4 obstaculos, 58.0ms\n",
      "video 1/1 (frame 12/714) f:\\Proyecto-SIS330\\source\\Yolo\\Video47.mp4: 480x864 1 camino, 4 obstaculos, 59.2ms\n",
      "video 1/1 (frame 13/714) f:\\Proyecto-SIS330\\source\\Yolo\\Video47.mp4: 480x864 1 camino, 4 obstaculos, 59.5ms\n",
      "video 1/1 (frame 14/714) f:\\Proyecto-SIS330\\source\\Yolo\\Video47.mp4: 480x864 1 camino, 3 obstaculos, 59.2ms\n",
      "video 1/1 (frame 15/714) f:\\Proyecto-SIS330\\source\\Yolo\\Video47.mp4: 480x864 1 camino, 4 obstaculos, 58.3ms\n",
      "video 1/1 (frame 16/714) f:\\Proyecto-SIS330\\source\\Yolo\\Video47.mp4: 480x864 1 camino, 4 obstaculos, 58.7ms\n",
      "video 1/1 (frame 17/714) f:\\Proyecto-SIS330\\source\\Yolo\\Video47.mp4: 480x864 1 camino, 4 obstaculos, 58.2ms\n",
      "video 1/1 (frame 18/714) f:\\Proyecto-SIS330\\source\\Yolo\\Video47.mp4: 480x864 1 camino, 5 obstaculos, 58.8ms\n",
      "video 1/1 (frame 19/714) f:\\Proyecto-SIS330\\source\\Yolo\\Video47.mp4: 480x864 1 camino, 6 obstaculos, 58.5ms\n",
      "video 1/1 (frame 20/714) f:\\Proyecto-SIS330\\source\\Yolo\\Video47.mp4: 480x864 1 camino, 4 obstaculos, 58.5ms\n",
      "video 1/1 (frame 21/714) f:\\Proyecto-SIS330\\source\\Yolo\\Video47.mp4: 480x864 1 camino, 3 obstaculos, 60.1ms\n",
      "video 1/1 (frame 22/714) f:\\Proyecto-SIS330\\source\\Yolo\\Video47.mp4: 480x864 1 camino, 4 obstaculos, 58.7ms\n",
      "video 1/1 (frame 23/714) f:\\Proyecto-SIS330\\source\\Yolo\\Video47.mp4: 480x864 1 camino, 4 obstaculos, 58.5ms\n",
      "video 1/1 (frame 24/714) f:\\Proyecto-SIS330\\source\\Yolo\\Video47.mp4: 480x864 1 camino, 4 obstaculos, 59.0ms\n",
      "video 1/1 (frame 25/714) f:\\Proyecto-SIS330\\source\\Yolo\\Video47.mp4: 480x864 1 camino, 6 obstaculos, 59.0ms\n",
      "video 1/1 (frame 26/714) f:\\Proyecto-SIS330\\source\\Yolo\\Video47.mp4: 480x864 1 camino, 6 obstaculos, 58.0ms\n",
      "video 1/1 (frame 27/714) f:\\Proyecto-SIS330\\source\\Yolo\\Video47.mp4: 480x864 1 camino, 3 obstaculos, 58.5ms\n",
      "video 1/1 (frame 28/714) f:\\Proyecto-SIS330\\source\\Yolo\\Video47.mp4: 480x864 1 camino, 4 obstaculos, 59.0ms\n",
      "video 1/1 (frame 29/714) f:\\Proyecto-SIS330\\source\\Yolo\\Video47.mp4: 480x864 1 camino, 4 obstaculos, 58.5ms\n",
      "video 1/1 (frame 30/714) f:\\Proyecto-SIS330\\source\\Yolo\\Video47.mp4: 480x864 1 camino, 5 obstaculos, 58.6ms\n",
      "video 1/1 (frame 31/714) f:\\Proyecto-SIS330\\source\\Yolo\\Video47.mp4: 480x864 1 camino, 5 obstaculos, 59.2ms\n",
      "video 1/1 (frame 32/714) f:\\Proyecto-SIS330\\source\\Yolo\\Video47.mp4: 480x864 1 camino, 4 obstaculos, 58.5ms\n",
      "video 1/1 (frame 33/714) f:\\Proyecto-SIS330\\source\\Yolo\\Video47.mp4: 480x864 1 camino, 4 obstaculos, 58.5ms\n",
      "video 1/1 (frame 34/714) f:\\Proyecto-SIS330\\source\\Yolo\\Video47.mp4: 480x864 1 camino, 5 obstaculos, 58.7ms\n",
      "video 1/1 (frame 35/714) f:\\Proyecto-SIS330\\source\\Yolo\\Video47.mp4: 480x864 1 camino, 4 obstaculos, 58.1ms\n",
      "video 1/1 (frame 36/714) f:\\Proyecto-SIS330\\source\\Yolo\\Video47.mp4: 480x864 1 camino, 4 obstaculos, 58.4ms\n",
      "video 1/1 (frame 37/714) f:\\Proyecto-SIS330\\source\\Yolo\\Video47.mp4: 480x864 1 camino, 4 obstaculos, 58.5ms\n",
      "video 1/1 (frame 38/714) f:\\Proyecto-SIS330\\source\\Yolo\\Video47.mp4: 480x864 1 camino, 4 obstaculos, 59.2ms\n",
      "video 1/1 (frame 39/714) f:\\Proyecto-SIS330\\source\\Yolo\\Video47.mp4: 480x864 1 camino, 3 obstaculos, 58.2ms\n",
      "video 1/1 (frame 40/714) f:\\Proyecto-SIS330\\source\\Yolo\\Video47.mp4: 480x864 1 camino, 4 obstaculos, 58.5ms\n",
      "video 1/1 (frame 41/714) f:\\Proyecto-SIS330\\source\\Yolo\\Video47.mp4: 480x864 1 camino, 6 obstaculos, 58.5ms\n",
      "video 1/1 (frame 42/714) f:\\Proyecto-SIS330\\source\\Yolo\\Video47.mp4: 480x864 1 camino, 4 obstaculos, 58.0ms\n",
      "video 1/1 (frame 43/714) f:\\Proyecto-SIS330\\source\\Yolo\\Video47.mp4: 480x864 1 camino, 6 obstaculos, 59.5ms\n",
      "video 1/1 (frame 44/714) f:\\Proyecto-SIS330\\source\\Yolo\\Video47.mp4: 480x864 1 camino, 6 obstaculos, 58.3ms\n",
      "video 1/1 (frame 45/714) f:\\Proyecto-SIS330\\source\\Yolo\\Video47.mp4: 480x864 1 camino, 4 obstaculos, 58.1ms\n",
      "video 1/1 (frame 46/714) f:\\Proyecto-SIS330\\source\\Yolo\\Video47.mp4: 480x864 1 camino, 4 obstaculos, 58.6ms\n",
      "video 1/1 (frame 47/714) f:\\Proyecto-SIS330\\source\\Yolo\\Video47.mp4: 480x864 1 camino, 4 obstaculos, 58.1ms\n",
      "video 1/1 (frame 48/714) f:\\Proyecto-SIS330\\source\\Yolo\\Video47.mp4: 480x864 1 camino, 5 obstaculos, 58.9ms\n",
      "video 1/1 (frame 49/714) f:\\Proyecto-SIS330\\source\\Yolo\\Video47.mp4: 480x864 1 camino, 6 obstaculos, 58.7ms\n",
      "video 1/1 (frame 50/714) f:\\Proyecto-SIS330\\source\\Yolo\\Video47.mp4: 480x864 1 camino, 5 obstaculos, 59.1ms\n",
      "video 1/1 (frame 51/714) f:\\Proyecto-SIS330\\source\\Yolo\\Video47.mp4: 480x864 1 camino, 4 obstaculos, 58.8ms\n",
      "video 1/1 (frame 52/714) f:\\Proyecto-SIS330\\source\\Yolo\\Video47.mp4: 480x864 1 camino, 4 obstaculos, 59.1ms\n",
      "video 1/1 (frame 53/714) f:\\Proyecto-SIS330\\source\\Yolo\\Video47.mp4: 480x864 1 camino, 6 obstaculos, 59.7ms\n",
      "video 1/1 (frame 54/714) f:\\Proyecto-SIS330\\source\\Yolo\\Video47.mp4: 480x864 1 camino, 5 obstaculos, 60.4ms\n",
      "video 1/1 (frame 55/714) f:\\Proyecto-SIS330\\source\\Yolo\\Video47.mp4: 480x864 1 camino, 4 obstaculos, 59.6ms\n",
      "video 1/1 (frame 56/714) f:\\Proyecto-SIS330\\source\\Yolo\\Video47.mp4: 480x864 1 camino, 5 obstaculos, 58.8ms\n",
      "video 1/1 (frame 57/714) f:\\Proyecto-SIS330\\source\\Yolo\\Video47.mp4: 480x864 1 camino, 2 obstaculos, 58.3ms\n",
      "video 1/1 (frame 58/714) f:\\Proyecto-SIS330\\source\\Yolo\\Video47.mp4: 480x864 1 camino, 3 obstaculos, 59.5ms\n",
      "video 1/1 (frame 59/714) f:\\Proyecto-SIS330\\source\\Yolo\\Video47.mp4: 480x864 1 camino, 3 obstaculos, 57.8ms\n",
      "video 1/1 (frame 60/714) f:\\Proyecto-SIS330\\source\\Yolo\\Video47.mp4: 480x864 1 camino, 4 obstaculos, 58.7ms\n",
      "video 1/1 (frame 61/714) f:\\Proyecto-SIS330\\source\\Yolo\\Video47.mp4: 480x864 1 camino, 5 obstaculos, 59.1ms\n",
      "video 1/1 (frame 62/714) f:\\Proyecto-SIS330\\source\\Yolo\\Video47.mp4: 480x864 1 camino, 4 obstaculos, 60.3ms\n",
      "video 1/1 (frame 63/714) f:\\Proyecto-SIS330\\source\\Yolo\\Video47.mp4: 480x864 1 camino, 4 obstaculos, 58.6ms\n",
      "video 1/1 (frame 64/714) f:\\Proyecto-SIS330\\source\\Yolo\\Video47.mp4: 480x864 1 camino, 4 obstaculos, 59.1ms\n",
      "video 1/1 (frame 65/714) f:\\Proyecto-SIS330\\source\\Yolo\\Video47.mp4: 480x864 1 camino, 4 obstaculos, 59.2ms\n",
      "video 1/1 (frame 66/714) f:\\Proyecto-SIS330\\source\\Yolo\\Video47.mp4: 480x864 1 camino, 5 obstaculos, 58.6ms\n",
      "video 1/1 (frame 67/714) f:\\Proyecto-SIS330\\source\\Yolo\\Video47.mp4: 480x864 1 camino, 5 obstaculos, 59.0ms\n",
      "video 1/1 (frame 68/714) f:\\Proyecto-SIS330\\source\\Yolo\\Video47.mp4: 480x864 1 camino, 5 obstaculos, 58.5ms\n",
      "video 1/1 (frame 69/714) f:\\Proyecto-SIS330\\source\\Yolo\\Video47.mp4: 480x864 1 camino, 4 obstaculos, 57.9ms\n",
      "video 1/1 (frame 70/714) f:\\Proyecto-SIS330\\source\\Yolo\\Video47.mp4: 480x864 1 camino, 4 obstaculos, 59.4ms\n",
      "video 1/1 (frame 71/714) f:\\Proyecto-SIS330\\source\\Yolo\\Video47.mp4: 480x864 1 camino, 4 obstaculos, 58.4ms\n",
      "video 1/1 (frame 72/714) f:\\Proyecto-SIS330\\source\\Yolo\\Video47.mp4: 480x864 1 camino, 4 obstaculos, 58.8ms\n",
      "video 1/1 (frame 73/714) f:\\Proyecto-SIS330\\source\\Yolo\\Video47.mp4: 480x864 1 camino, 4 obstaculos, 59.5ms\n",
      "video 1/1 (frame 74/714) f:\\Proyecto-SIS330\\source\\Yolo\\Video47.mp4: 480x864 1 camino, 4 obstaculos, 59.9ms\n",
      "video 1/1 (frame 75/714) f:\\Proyecto-SIS330\\source\\Yolo\\Video47.mp4: 480x864 1 camino, 4 obstaculos, 58.4ms\n",
      "video 1/1 (frame 76/714) f:\\Proyecto-SIS330\\source\\Yolo\\Video47.mp4: 480x864 1 camino, 4 obstaculos, 59.0ms\n",
      "video 1/1 (frame 77/714) f:\\Proyecto-SIS330\\source\\Yolo\\Video47.mp4: 480x864 1 camino, 5 obstaculos, 58.7ms\n",
      "video 1/1 (frame 78/714) f:\\Proyecto-SIS330\\source\\Yolo\\Video47.mp4: 480x864 1 camino, 4 obstaculos, 59.3ms\n",
      "video 1/1 (frame 79/714) f:\\Proyecto-SIS330\\source\\Yolo\\Video47.mp4: 480x864 1 camino, 4 obstaculos, 59.3ms\n",
      "video 1/1 (frame 80/714) f:\\Proyecto-SIS330\\source\\Yolo\\Video47.mp4: 480x864 1 camino, 5 obstaculos, 59.4ms\n",
      "video 1/1 (frame 81/714) f:\\Proyecto-SIS330\\source\\Yolo\\Video47.mp4: 480x864 1 camino, 5 obstaculos, 59.2ms\n",
      "video 1/1 (frame 82/714) f:\\Proyecto-SIS330\\source\\Yolo\\Video47.mp4: 480x864 1 camino, 5 obstaculos, 58.6ms\n",
      "video 1/1 (frame 83/714) f:\\Proyecto-SIS330\\source\\Yolo\\Video47.mp4: 480x864 1 camino, 4 obstaculos, 59.5ms\n",
      "video 1/1 (frame 84/714) f:\\Proyecto-SIS330\\source\\Yolo\\Video47.mp4: 480x864 1 camino, 4 obstaculos, 57.2ms\n",
      "video 1/1 (frame 85/714) f:\\Proyecto-SIS330\\source\\Yolo\\Video47.mp4: 480x864 1 camino, 3 obstaculos, 58.7ms\n",
      "video 1/1 (frame 86/714) f:\\Proyecto-SIS330\\source\\Yolo\\Video47.mp4: 480x864 1 camino, 4 obstaculos, 58.6ms\n",
      "video 1/1 (frame 87/714) f:\\Proyecto-SIS330\\source\\Yolo\\Video47.mp4: 480x864 1 camino, 3 obstaculos, 59.2ms\n",
      "video 1/1 (frame 88/714) f:\\Proyecto-SIS330\\source\\Yolo\\Video47.mp4: 480x864 1 camino, 3 obstaculos, 59.1ms\n",
      "video 1/1 (frame 89/714) f:\\Proyecto-SIS330\\source\\Yolo\\Video47.mp4: 480x864 1 camino, 4 obstaculos, 58.1ms\n",
      "video 1/1 (frame 90/714) f:\\Proyecto-SIS330\\source\\Yolo\\Video47.mp4: 480x864 1 camino, 3 obstaculos, 59.0ms\n",
      "video 1/1 (frame 91/714) f:\\Proyecto-SIS330\\source\\Yolo\\Video47.mp4: 480x864 1 camino, 5 obstaculos, 58.7ms\n",
      "video 1/1 (frame 92/714) f:\\Proyecto-SIS330\\source\\Yolo\\Video47.mp4: 480x864 2 caminos, 4 obstaculos, 58.6ms\n",
      "video 1/1 (frame 93/714) f:\\Proyecto-SIS330\\source\\Yolo\\Video47.mp4: 480x864 2 caminos, 5 obstaculos, 58.4ms\n",
      "video 1/1 (frame 94/714) f:\\Proyecto-SIS330\\source\\Yolo\\Video47.mp4: 480x864 2 caminos, 4 obstaculos, 59.1ms\n",
      "video 1/1 (frame 95/714) f:\\Proyecto-SIS330\\source\\Yolo\\Video47.mp4: 480x864 1 camino, 4 obstaculos, 59.0ms\n",
      "video 1/1 (frame 96/714) f:\\Proyecto-SIS330\\source\\Yolo\\Video47.mp4: 480x864 1 camino, 4 obstaculos, 59.3ms\n",
      "video 1/1 (frame 97/714) f:\\Proyecto-SIS330\\source\\Yolo\\Video47.mp4: 480x864 1 camino, 2 obstaculos, 59.3ms\n",
      "video 1/1 (frame 98/714) f:\\Proyecto-SIS330\\source\\Yolo\\Video47.mp4: 480x864 1 camino, 2 obstaculos, 58.9ms\n",
      "video 1/1 (frame 99/714) f:\\Proyecto-SIS330\\source\\Yolo\\Video47.mp4: 480x864 1 camino, 3 obstaculos, 58.6ms\n",
      "video 1/1 (frame 100/714) f:\\Proyecto-SIS330\\source\\Yolo\\Video47.mp4: 480x864 1 camino, 2 obstaculos, 59.1ms\n",
      "video 1/1 (frame 101/714) f:\\Proyecto-SIS330\\source\\Yolo\\Video47.mp4: 480x864 1 camino, 2 obstaculos, 59.2ms\n",
      "video 1/1 (frame 102/714) f:\\Proyecto-SIS330\\source\\Yolo\\Video47.mp4: 480x864 1 camino, 2 obstaculos, 57.6ms\n",
      "video 1/1 (frame 103/714) f:\\Proyecto-SIS330\\source\\Yolo\\Video47.mp4: 480x864 1 camino, 2 obstaculos, 58.5ms\n",
      "video 1/1 (frame 104/714) f:\\Proyecto-SIS330\\source\\Yolo\\Video47.mp4: 480x864 1 camino, 3 obstaculos, 59.1ms\n",
      "video 1/1 (frame 105/714) f:\\Proyecto-SIS330\\source\\Yolo\\Video47.mp4: 480x864 1 camino, 2 obstaculos, 58.6ms\n",
      "video 1/1 (frame 106/714) f:\\Proyecto-SIS330\\source\\Yolo\\Video47.mp4: 480x864 1 camino, 3 obstaculos, 58.9ms\n",
      "video 1/1 (frame 107/714) f:\\Proyecto-SIS330\\source\\Yolo\\Video47.mp4: 480x864 1 camino, 3 obstaculos, 58.7ms\n",
      "video 1/1 (frame 108/714) f:\\Proyecto-SIS330\\source\\Yolo\\Video47.mp4: 480x864 1 camino, 3 obstaculos, 58.4ms\n",
      "video 1/1 (frame 109/714) f:\\Proyecto-SIS330\\source\\Yolo\\Video47.mp4: 480x864 1 camino, 2 obstaculos, 58.2ms\n",
      "video 1/1 (frame 110/714) f:\\Proyecto-SIS330\\source\\Yolo\\Video47.mp4: 480x864 1 camino, 2 obstaculos, 59.7ms\n",
      "video 1/1 (frame 111/714) f:\\Proyecto-SIS330\\source\\Yolo\\Video47.mp4: 480x864 1 camino, 3 obstaculos, 59.3ms\n",
      "video 1/1 (frame 112/714) f:\\Proyecto-SIS330\\source\\Yolo\\Video47.mp4: 480x864 1 camino, 3 obstaculos, 59.6ms\n",
      "video 1/1 (frame 113/714) f:\\Proyecto-SIS330\\source\\Yolo\\Video47.mp4: 480x864 1 camino, 3 obstaculos, 59.1ms\n",
      "video 1/1 (frame 114/714) f:\\Proyecto-SIS330\\source\\Yolo\\Video47.mp4: 480x864 1 camino, 2 obstaculos, 59.2ms\n",
      "video 1/1 (frame 115/714) f:\\Proyecto-SIS330\\source\\Yolo\\Video47.mp4: 480x864 1 camino, 2 obstaculos, 58.6ms\n",
      "video 1/1 (frame 116/714) f:\\Proyecto-SIS330\\source\\Yolo\\Video47.mp4: 480x864 1 camino, 2 obstaculos, 59.7ms\n",
      "video 1/1 (frame 117/714) f:\\Proyecto-SIS330\\source\\Yolo\\Video47.mp4: 480x864 1 camino, 4 obstaculos, 58.7ms\n",
      "video 1/1 (frame 118/714) f:\\Proyecto-SIS330\\source\\Yolo\\Video47.mp4: 480x864 1 camino, 3 obstaculos, 58.0ms\n",
      "video 1/1 (frame 119/714) f:\\Proyecto-SIS330\\source\\Yolo\\Video47.mp4: 480x864 1 camino, 2 obstaculos, 58.1ms\n",
      "video 1/1 (frame 120/714) f:\\Proyecto-SIS330\\source\\Yolo\\Video47.mp4: 480x864 1 camino, 2 obstaculos, 58.7ms\n",
      "video 1/1 (frame 121/714) f:\\Proyecto-SIS330\\source\\Yolo\\Video47.mp4: 480x864 1 camino, 2 obstaculos, 58.7ms\n",
      "video 1/1 (frame 122/714) f:\\Proyecto-SIS330\\source\\Yolo\\Video47.mp4: 480x864 1 camino, 3 obstaculos, 59.9ms\n",
      "video 1/1 (frame 123/714) f:\\Proyecto-SIS330\\source\\Yolo\\Video47.mp4: 480x864 1 camino, 4 obstaculos, 59.0ms\n",
      "video 1/1 (frame 124/714) f:\\Proyecto-SIS330\\source\\Yolo\\Video47.mp4: 480x864 1 camino, 5 obstaculos, 59.4ms\n",
      "video 1/1 (frame 125/714) f:\\Proyecto-SIS330\\source\\Yolo\\Video47.mp4: 480x864 1 camino, 3 obstaculos, 58.7ms\n",
      "video 1/1 (frame 126/714) f:\\Proyecto-SIS330\\source\\Yolo\\Video47.mp4: 480x864 1 camino, 4 obstaculos, 59.1ms\n",
      "video 1/1 (frame 127/714) f:\\Proyecto-SIS330\\source\\Yolo\\Video47.mp4: 480x864 1 camino, 4 obstaculos, 58.6ms\n",
      "video 1/1 (frame 128/714) f:\\Proyecto-SIS330\\source\\Yolo\\Video47.mp4: 480x864 1 camino, 4 obstaculos, 58.7ms\n",
      "video 1/1 (frame 129/714) f:\\Proyecto-SIS330\\source\\Yolo\\Video47.mp4: 480x864 1 camino, 3 obstaculos, 58.3ms\n",
      "video 1/1 (frame 130/714) f:\\Proyecto-SIS330\\source\\Yolo\\Video47.mp4: 480x864 1 camino, 5 obstaculos, 58.8ms\n",
      "video 1/1 (frame 131/714) f:\\Proyecto-SIS330\\source\\Yolo\\Video47.mp4: 480x864 1 camino, 3 obstaculos, 58.4ms\n",
      "video 1/1 (frame 132/714) f:\\Proyecto-SIS330\\source\\Yolo\\Video47.mp4: 480x864 1 camino, 4 obstaculos, 58.7ms\n",
      "video 1/1 (frame 133/714) f:\\Proyecto-SIS330\\source\\Yolo\\Video47.mp4: 480x864 2 caminos, 4 obstaculos, 59.1ms\n",
      "video 1/1 (frame 134/714) f:\\Proyecto-SIS330\\source\\Yolo\\Video47.mp4: 480x864 1 camino, 4 obstaculos, 58.5ms\n",
      "video 1/1 (frame 135/714) f:\\Proyecto-SIS330\\source\\Yolo\\Video47.mp4: 480x864 1 camino, 4 obstaculos, 59.8ms\n",
      "video 1/1 (frame 136/714) f:\\Proyecto-SIS330\\source\\Yolo\\Video47.mp4: 480x864 1 camino, 4 obstaculos, 58.9ms\n",
      "video 1/1 (frame 137/714) f:\\Proyecto-SIS330\\source\\Yolo\\Video47.mp4: 480x864 1 camino, 4 obstaculos, 58.8ms\n",
      "video 1/1 (frame 138/714) f:\\Proyecto-SIS330\\source\\Yolo\\Video47.mp4: 480x864 2 caminos, 4 obstaculos, 58.6ms\n",
      "video 1/1 (frame 139/714) f:\\Proyecto-SIS330\\source\\Yolo\\Video47.mp4: 480x864 1 camino, 4 obstaculos, 58.1ms\n",
      "video 1/1 (frame 140/714) f:\\Proyecto-SIS330\\source\\Yolo\\Video47.mp4: 480x864 1 camino, 4 obstaculos, 59.6ms\n",
      "video 1/1 (frame 141/714) f:\\Proyecto-SIS330\\source\\Yolo\\Video47.mp4: 480x864 1 camino, 4 obstaculos, 59.0ms\n",
      "video 1/1 (frame 142/714) f:\\Proyecto-SIS330\\source\\Yolo\\Video47.mp4: 480x864 1 camino, 4 obstaculos, 58.6ms\n",
      "video 1/1 (frame 143/714) f:\\Proyecto-SIS330\\source\\Yolo\\Video47.mp4: 480x864 1 camino, 3 obstaculos, 58.6ms\n",
      "video 1/1 (frame 144/714) f:\\Proyecto-SIS330\\source\\Yolo\\Video47.mp4: 480x864 1 camino, 3 obstaculos, 58.5ms\n",
      "video 1/1 (frame 145/714) f:\\Proyecto-SIS330\\source\\Yolo\\Video47.mp4: 480x864 1 camino, 3 obstaculos, 58.5ms\n",
      "video 1/1 (frame 146/714) f:\\Proyecto-SIS330\\source\\Yolo\\Video47.mp4: 480x864 1 camino, 3 obstaculos, 58.9ms\n",
      "video 1/1 (frame 147/714) f:\\Proyecto-SIS330\\source\\Yolo\\Video47.mp4: 480x864 1 camino, 4 obstaculos, 58.3ms\n",
      "video 1/1 (frame 148/714) f:\\Proyecto-SIS330\\source\\Yolo\\Video47.mp4: 480x864 1 camino, 3 obstaculos, 58.2ms\n",
      "video 1/1 (frame 149/714) f:\\Proyecto-SIS330\\source\\Yolo\\Video47.mp4: 480x864 1 camino, 3 obstaculos, 59.5ms\n",
      "video 1/1 (frame 150/714) f:\\Proyecto-SIS330\\source\\Yolo\\Video47.mp4: 480x864 1 camino, 5 obstaculos, 59.7ms\n",
      "video 1/1 (frame 151/714) f:\\Proyecto-SIS330\\source\\Yolo\\Video47.mp4: 480x864 1 camino, 4 obstaculos, 58.7ms\n",
      "video 1/1 (frame 152/714) f:\\Proyecto-SIS330\\source\\Yolo\\Video47.mp4: 480x864 1 camino, 5 obstaculos, 58.2ms\n",
      "video 1/1 (frame 153/714) f:\\Proyecto-SIS330\\source\\Yolo\\Video47.mp4: 480x864 1 camino, 3 obstaculos, 57.9ms\n",
      "video 1/1 (frame 154/714) f:\\Proyecto-SIS330\\source\\Yolo\\Video47.mp4: 480x864 1 camino, 5 obstaculos, 58.2ms\n",
      "video 1/1 (frame 155/714) f:\\Proyecto-SIS330\\source\\Yolo\\Video47.mp4: 480x864 1 camino, 5 obstaculos, 58.9ms\n",
      "video 1/1 (frame 156/714) f:\\Proyecto-SIS330\\source\\Yolo\\Video47.mp4: 480x864 1 camino, 5 obstaculos, 57.5ms\n",
      "video 1/1 (frame 157/714) f:\\Proyecto-SIS330\\source\\Yolo\\Video47.mp4: 480x864 1 camino, 5 obstaculos, 58.5ms\n",
      "video 1/1 (frame 158/714) f:\\Proyecto-SIS330\\source\\Yolo\\Video47.mp4: 480x864 1 camino, 5 obstaculos, 57.7ms\n",
      "video 1/1 (frame 159/714) f:\\Proyecto-SIS330\\source\\Yolo\\Video47.mp4: 480x864 1 camino, 5 obstaculos, 58.3ms\n",
      "video 1/1 (frame 160/714) f:\\Proyecto-SIS330\\source\\Yolo\\Video47.mp4: 480x864 1 camino, 5 obstaculos, 58.3ms\n",
      "video 1/1 (frame 161/714) f:\\Proyecto-SIS330\\source\\Yolo\\Video47.mp4: 480x864 1 camino, 4 obstaculos, 58.3ms\n",
      "video 1/1 (frame 162/714) f:\\Proyecto-SIS330\\source\\Yolo\\Video47.mp4: 480x864 1 camino, 5 obstaculos, 58.1ms\n",
      "video 1/1 (frame 163/714) f:\\Proyecto-SIS330\\source\\Yolo\\Video47.mp4: 480x864 1 camino, 4 obstaculos, 58.4ms\n",
      "video 1/1 (frame 164/714) f:\\Proyecto-SIS330\\source\\Yolo\\Video47.mp4: 480x864 1 camino, 5 obstaculos, 58.3ms\n",
      "video 1/1 (frame 165/714) f:\\Proyecto-SIS330\\source\\Yolo\\Video47.mp4: 480x864 1 camino, 4 obstaculos, 58.6ms\n",
      "video 1/1 (frame 166/714) f:\\Proyecto-SIS330\\source\\Yolo\\Video47.mp4: 480x864 1 camino, 5 obstaculos, 58.7ms\n",
      "video 1/1 (frame 167/714) f:\\Proyecto-SIS330\\source\\Yolo\\Video47.mp4: 480x864 1 camino, 3 obstaculos, 58.5ms\n",
      "video 1/1 (frame 168/714) f:\\Proyecto-SIS330\\source\\Yolo\\Video47.mp4: 480x864 1 camino, 5 obstaculos, 58.0ms\n",
      "video 1/1 (frame 169/714) f:\\Proyecto-SIS330\\source\\Yolo\\Video47.mp4: 480x864 1 camino, 4 obstaculos, 58.8ms\n",
      "video 1/1 (frame 170/714) f:\\Proyecto-SIS330\\source\\Yolo\\Video47.mp4: 480x864 1 camino, 4 obstaculos, 58.5ms\n",
      "video 1/1 (frame 171/714) f:\\Proyecto-SIS330\\source\\Yolo\\Video47.mp4: 480x864 1 camino, 3 obstaculos, 59.5ms\n",
      "video 1/1 (frame 172/714) f:\\Proyecto-SIS330\\source\\Yolo\\Video47.mp4: 480x864 1 camino, 4 obstaculos, 59.6ms\n",
      "video 1/1 (frame 173/714) f:\\Proyecto-SIS330\\source\\Yolo\\Video47.mp4: 480x864 1 camino, 4 obstaculos, 59.5ms\n",
      "video 1/1 (frame 174/714) f:\\Proyecto-SIS330\\source\\Yolo\\Video47.mp4: 480x864 1 camino, 4 obstaculos, 58.5ms\n",
      "video 1/1 (frame 175/714) f:\\Proyecto-SIS330\\source\\Yolo\\Video47.mp4: 480x864 1 camino, 4 obstaculos, 58.5ms\n",
      "video 1/1 (frame 176/714) f:\\Proyecto-SIS330\\source\\Yolo\\Video47.mp4: 480x864 1 camino, 4 obstaculos, 59.5ms\n",
      "video 1/1 (frame 177/714) f:\\Proyecto-SIS330\\source\\Yolo\\Video47.mp4: 480x864 1 camino, 4 obstaculos, 58.5ms\n",
      "video 1/1 (frame 178/714) f:\\Proyecto-SIS330\\source\\Yolo\\Video47.mp4: 480x864 1 camino, 6 obstaculos, 58.5ms\n",
      "video 1/1 (frame 179/714) f:\\Proyecto-SIS330\\source\\Yolo\\Video47.mp4: 480x864 1 camino, 4 obstaculos, 58.0ms\n",
      "video 1/1 (frame 180/714) f:\\Proyecto-SIS330\\source\\Yolo\\Video47.mp4: 480x864 1 camino, 3 obstaculos, 58.5ms\n",
      "video 1/1 (frame 181/714) f:\\Proyecto-SIS330\\source\\Yolo\\Video47.mp4: 480x864 1 camino, 3 obstaculos, 57.5ms\n",
      "video 1/1 (frame 182/714) f:\\Proyecto-SIS330\\source\\Yolo\\Video47.mp4: 480x864 1 camino, 3 obstaculos, 58.0ms\n",
      "video 1/1 (frame 183/714) f:\\Proyecto-SIS330\\source\\Yolo\\Video47.mp4: 480x864 1 camino, 3 obstaculos, 59.0ms\n",
      "video 1/1 (frame 184/714) f:\\Proyecto-SIS330\\source\\Yolo\\Video47.mp4: 480x864 1 camino, 5 obstaculos, 58.1ms\n",
      "video 1/1 (frame 185/714) f:\\Proyecto-SIS330\\source\\Yolo\\Video47.mp4: 480x864 1 camino, 4 obstaculos, 58.0ms\n",
      "video 1/1 (frame 186/714) f:\\Proyecto-SIS330\\source\\Yolo\\Video47.mp4: 480x864 1 camino, 3 obstaculos, 58.0ms\n",
      "video 1/1 (frame 187/714) f:\\Proyecto-SIS330\\source\\Yolo\\Video47.mp4: 480x864 1 camino, 4 obstaculos, 58.5ms\n",
      "video 1/1 (frame 188/714) f:\\Proyecto-SIS330\\source\\Yolo\\Video47.mp4: 480x864 1 camino, 5 obstaculos, 58.5ms\n",
      "video 1/1 (frame 189/714) f:\\Proyecto-SIS330\\source\\Yolo\\Video47.mp4: 480x864 1 camino, 6 obstaculos, 59.0ms\n",
      "video 1/1 (frame 190/714) f:\\Proyecto-SIS330\\source\\Yolo\\Video47.mp4: 480x864 1 camino, 5 obstaculos, 58.5ms\n",
      "video 1/1 (frame 191/714) f:\\Proyecto-SIS330\\source\\Yolo\\Video47.mp4: 480x864 1 camino, 4 obstaculos, 58.6ms\n",
      "video 1/1 (frame 192/714) f:\\Proyecto-SIS330\\source\\Yolo\\Video47.mp4: 480x864 1 camino, 4 obstaculos, 58.5ms\n",
      "video 1/1 (frame 193/714) f:\\Proyecto-SIS330\\source\\Yolo\\Video47.mp4: 480x864 1 camino, 4 obstaculos, 59.0ms\n",
      "video 1/1 (frame 194/714) f:\\Proyecto-SIS330\\source\\Yolo\\Video47.mp4: 480x864 1 camino, 4 obstaculos, 57.7ms\n",
      "video 1/1 (frame 195/714) f:\\Proyecto-SIS330\\source\\Yolo\\Video47.mp4: 480x864 1 camino, 6 obstaculos, 57.5ms\n",
      "video 1/1 (frame 196/714) f:\\Proyecto-SIS330\\source\\Yolo\\Video47.mp4: 480x864 1 camino, 3 obstaculos, 57.0ms\n",
      "video 1/1 (frame 197/714) f:\\Proyecto-SIS330\\source\\Yolo\\Video47.mp4: 480x864 1 camino, 3 obstaculos, 57.2ms\n",
      "video 1/1 (frame 198/714) f:\\Proyecto-SIS330\\source\\Yolo\\Video47.mp4: 480x864 1 camino, 4 obstaculos, 57.5ms\n",
      "video 1/1 (frame 199/714) f:\\Proyecto-SIS330\\source\\Yolo\\Video47.mp4: 480x864 1 camino, 6 obstaculos, 57.6ms\n",
      "video 1/1 (frame 200/714) f:\\Proyecto-SIS330\\source\\Yolo\\Video47.mp4: 480x864 1 camino, 3 obstaculos, 57.0ms\n",
      "video 1/1 (frame 201/714) f:\\Proyecto-SIS330\\source\\Yolo\\Video47.mp4: 480x864 1 camino, 4 obstaculos, 56.5ms\n",
      "video 1/1 (frame 202/714) f:\\Proyecto-SIS330\\source\\Yolo\\Video47.mp4: 480x864 1 camino, 3 obstaculos, 57.6ms\n",
      "video 1/1 (frame 203/714) f:\\Proyecto-SIS330\\source\\Yolo\\Video47.mp4: 480x864 1 camino, 3 obstaculos, 57.0ms\n",
      "video 1/1 (frame 204/714) f:\\Proyecto-SIS330\\source\\Yolo\\Video47.mp4: 480x864 1 camino, 4 obstaculos, 56.6ms\n",
      "video 1/1 (frame 205/714) f:\\Proyecto-SIS330\\source\\Yolo\\Video47.mp4: 480x864 1 camino, 3 obstaculos, 58.0ms\n",
      "video 1/1 (frame 206/714) f:\\Proyecto-SIS330\\source\\Yolo\\Video47.mp4: 480x864 1 camino, 4 obstaculos, 58.0ms\n",
      "video 1/1 (frame 207/714) f:\\Proyecto-SIS330\\source\\Yolo\\Video47.mp4: 480x864 2 caminos, 3 obstaculos, 57.5ms\n",
      "video 1/1 (frame 208/714) f:\\Proyecto-SIS330\\source\\Yolo\\Video47.mp4: 480x864 2 caminos, 4 obstaculos, 57.8ms\n",
      "video 1/1 (frame 209/714) f:\\Proyecto-SIS330\\source\\Yolo\\Video47.mp4: 480x864 1 camino, 5 obstaculos, 57.4ms\n",
      "video 1/1 (frame 210/714) f:\\Proyecto-SIS330\\source\\Yolo\\Video47.mp4: 480x864 1 camino, 3 obstaculos, 57.6ms\n",
      "video 1/1 (frame 211/714) f:\\Proyecto-SIS330\\source\\Yolo\\Video47.mp4: 480x864 1 camino, 3 obstaculos, 56.5ms\n",
      "video 1/1 (frame 212/714) f:\\Proyecto-SIS330\\source\\Yolo\\Video47.mp4: 480x864 1 camino, 4 obstaculos, 57.8ms\n",
      "video 1/1 (frame 213/714) f:\\Proyecto-SIS330\\source\\Yolo\\Video47.mp4: 480x864 1 camino, 4 obstaculos, 57.0ms\n",
      "video 1/1 (frame 214/714) f:\\Proyecto-SIS330\\source\\Yolo\\Video47.mp4: 480x864 1 camino, 3 obstaculos, 57.5ms\n",
      "video 1/1 (frame 215/714) f:\\Proyecto-SIS330\\source\\Yolo\\Video47.mp4: 480x864 1 camino, 4 obstaculos, 57.5ms\n",
      "video 1/1 (frame 216/714) f:\\Proyecto-SIS330\\source\\Yolo\\Video47.mp4: 480x864 1 camino, 4 obstaculos, 58.0ms\n",
      "video 1/1 (frame 217/714) f:\\Proyecto-SIS330\\source\\Yolo\\Video47.mp4: 480x864 1 camino, 4 obstaculos, 57.6ms\n",
      "video 1/1 (frame 218/714) f:\\Proyecto-SIS330\\source\\Yolo\\Video47.mp4: 480x864 1 camino, 4 obstaculos, 57.9ms\n",
      "video 1/1 (frame 219/714) f:\\Proyecto-SIS330\\source\\Yolo\\Video47.mp4: 480x864 1 camino, 3 obstaculos, 57.5ms\n",
      "video 1/1 (frame 220/714) f:\\Proyecto-SIS330\\source\\Yolo\\Video47.mp4: 480x864 1 camino, 3 obstaculos, 57.0ms\n",
      "video 1/1 (frame 221/714) f:\\Proyecto-SIS330\\source\\Yolo\\Video47.mp4: 480x864 1 camino, 3 obstaculos, 57.0ms\n",
      "video 1/1 (frame 222/714) f:\\Proyecto-SIS330\\source\\Yolo\\Video47.mp4: 480x864 1 camino, 5 obstaculos, 58.0ms\n",
      "video 1/1 (frame 223/714) f:\\Proyecto-SIS330\\source\\Yolo\\Video47.mp4: 480x864 1 camino, 4 obstaculos, 57.5ms\n",
      "video 1/1 (frame 224/714) f:\\Proyecto-SIS330\\source\\Yolo\\Video47.mp4: 480x864 1 camino, 4 obstaculos, 57.0ms\n",
      "video 1/1 (frame 225/714) f:\\Proyecto-SIS330\\source\\Yolo\\Video47.mp4: 480x864 1 camino, 4 obstaculos, 57.5ms\n",
      "video 1/1 (frame 226/714) f:\\Proyecto-SIS330\\source\\Yolo\\Video47.mp4: 480x864 1 camino, 6 obstaculos, 57.6ms\n",
      "video 1/1 (frame 227/714) f:\\Proyecto-SIS330\\source\\Yolo\\Video47.mp4: 480x864 1 camino, 4 obstaculos, 58.7ms\n",
      "video 1/1 (frame 228/714) f:\\Proyecto-SIS330\\source\\Yolo\\Video47.mp4: 480x864 1 camino, 5 obstaculos, 58.3ms\n",
      "video 1/1 (frame 229/714) f:\\Proyecto-SIS330\\source\\Yolo\\Video47.mp4: 480x864 2 caminos, 4 obstaculos, 58.2ms\n",
      "video 1/1 (frame 230/714) f:\\Proyecto-SIS330\\source\\Yolo\\Video47.mp4: 480x864 1 camino, 3 obstaculos, 57.7ms\n",
      "video 1/1 (frame 231/714) f:\\Proyecto-SIS330\\source\\Yolo\\Video47.mp4: 480x864 1 camino, 3 obstaculos, 56.9ms\n",
      "video 1/1 (frame 232/714) f:\\Proyecto-SIS330\\source\\Yolo\\Video47.mp4: 480x864 1 camino, 4 obstaculos, 57.6ms\n",
      "video 1/1 (frame 233/714) f:\\Proyecto-SIS330\\source\\Yolo\\Video47.mp4: 480x864 1 camino, 3 obstaculos, 57.6ms\n",
      "video 1/1 (frame 234/714) f:\\Proyecto-SIS330\\source\\Yolo\\Video47.mp4: 480x864 1 camino, 4 obstaculos, 57.1ms\n",
      "video 1/1 (frame 235/714) f:\\Proyecto-SIS330\\source\\Yolo\\Video47.mp4: 480x864 2 caminos, 4 obstaculos, 57.1ms\n",
      "video 1/1 (frame 236/714) f:\\Proyecto-SIS330\\source\\Yolo\\Video47.mp4: 480x864 2 caminos, 5 obstaculos, 56.8ms\n",
      "video 1/1 (frame 237/714) f:\\Proyecto-SIS330\\source\\Yolo\\Video47.mp4: 480x864 2 caminos, 3 obstaculos, 57.0ms\n",
      "video 1/1 (frame 238/714) f:\\Proyecto-SIS330\\source\\Yolo\\Video47.mp4: 480x864 2 caminos, 5 obstaculos, 57.6ms\n",
      "video 1/1 (frame 239/714) f:\\Proyecto-SIS330\\source\\Yolo\\Video47.mp4: 480x864 2 caminos, 4 obstaculos, 56.0ms\n",
      "video 1/1 (frame 240/714) f:\\Proyecto-SIS330\\source\\Yolo\\Video47.mp4: 480x864 2 caminos, 4 obstaculos, 58.1ms\n",
      "video 1/1 (frame 241/714) f:\\Proyecto-SIS330\\source\\Yolo\\Video47.mp4: 480x864 1 camino, 4 obstaculos, 56.3ms\n",
      "video 1/1 (frame 242/714) f:\\Proyecto-SIS330\\source\\Yolo\\Video47.mp4: 480x864 2 caminos, 4 obstaculos, 57.6ms\n",
      "video 1/1 (frame 243/714) f:\\Proyecto-SIS330\\source\\Yolo\\Video47.mp4: 480x864 2 caminos, 3 obstaculos, 57.2ms\n",
      "video 1/1 (frame 244/714) f:\\Proyecto-SIS330\\source\\Yolo\\Video47.mp4: 480x864 2 caminos, 4 obstaculos, 58.1ms\n",
      "video 1/1 (frame 245/714) f:\\Proyecto-SIS330\\source\\Yolo\\Video47.mp4: 480x864 2 caminos, 5 obstaculos, 58.1ms\n",
      "video 1/1 (frame 246/714) f:\\Proyecto-SIS330\\source\\Yolo\\Video47.mp4: 480x864 1 camino, 4 obstaculos, 58.1ms\n",
      "video 1/1 (frame 247/714) f:\\Proyecto-SIS330\\source\\Yolo\\Video47.mp4: 480x864 1 camino, 4 obstaculos, 57.7ms\n",
      "video 1/1 (frame 248/714) f:\\Proyecto-SIS330\\source\\Yolo\\Video47.mp4: 480x864 2 caminos, 4 obstaculos, 57.1ms\n",
      "video 1/1 (frame 249/714) f:\\Proyecto-SIS330\\source\\Yolo\\Video47.mp4: 480x864 1 camino, 4 obstaculos, 57.8ms\n",
      "video 1/1 (frame 250/714) f:\\Proyecto-SIS330\\source\\Yolo\\Video47.mp4: 480x864 1 camino, 4 obstaculos, 57.5ms\n",
      "video 1/1 (frame 251/714) f:\\Proyecto-SIS330\\source\\Yolo\\Video47.mp4: 480x864 1 camino, 4 obstaculos, 57.6ms\n",
      "video 1/1 (frame 252/714) f:\\Proyecto-SIS330\\source\\Yolo\\Video47.mp4: 480x864 1 camino, 4 obstaculos, 57.7ms\n",
      "video 1/1 (frame 253/714) f:\\Proyecto-SIS330\\source\\Yolo\\Video47.mp4: 480x864 1 camino, 4 obstaculos, 57.1ms\n",
      "video 1/1 (frame 254/714) f:\\Proyecto-SIS330\\source\\Yolo\\Video47.mp4: 480x864 2 caminos, 4 obstaculos, 57.9ms\n",
      "video 1/1 (frame 255/714) f:\\Proyecto-SIS330\\source\\Yolo\\Video47.mp4: 480x864 1 camino, 4 obstaculos, 56.6ms\n",
      "video 1/1 (frame 256/714) f:\\Proyecto-SIS330\\source\\Yolo\\Video47.mp4: 480x864 1 camino, 4 obstaculos, 58.1ms\n",
      "video 1/1 (frame 257/714) f:\\Proyecto-SIS330\\source\\Yolo\\Video47.mp4: 480x864 2 caminos, 5 obstaculos, 57.1ms\n",
      "video 1/1 (frame 258/714) f:\\Proyecto-SIS330\\source\\Yolo\\Video47.mp4: 480x864 1 camino, 4 obstaculos, 58.0ms\n",
      "video 1/1 (frame 259/714) f:\\Proyecto-SIS330\\source\\Yolo\\Video47.mp4: 480x864 1 camino, 5 obstaculos, 57.2ms\n",
      "video 1/1 (frame 260/714) f:\\Proyecto-SIS330\\source\\Yolo\\Video47.mp4: 480x864 1 camino, 5 obstaculos, 57.0ms\n",
      "video 1/1 (frame 261/714) f:\\Proyecto-SIS330\\source\\Yolo\\Video47.mp4: 480x864 1 camino, 6 obstaculos, 56.5ms\n",
      "video 1/1 (frame 262/714) f:\\Proyecto-SIS330\\source\\Yolo\\Video47.mp4: 480x864 2 caminos, 4 obstaculos, 56.6ms\n",
      "video 1/1 (frame 263/714) f:\\Proyecto-SIS330\\source\\Yolo\\Video47.mp4: 480x864 2 caminos, 4 obstaculos, 56.6ms\n",
      "video 1/1 (frame 264/714) f:\\Proyecto-SIS330\\source\\Yolo\\Video47.mp4: 480x864 2 caminos, 3 obstaculos, 58.2ms\n",
      "video 1/1 (frame 265/714) f:\\Proyecto-SIS330\\source\\Yolo\\Video47.mp4: 480x864 2 caminos, 4 obstaculos, 57.7ms\n",
      "video 1/1 (frame 266/714) f:\\Proyecto-SIS330\\source\\Yolo\\Video47.mp4: 480x864 3 caminos, 4 obstaculos, 58.1ms\n",
      "video 1/1 (frame 267/714) f:\\Proyecto-SIS330\\source\\Yolo\\Video47.mp4: 480x864 2 caminos, 4 obstaculos, 58.1ms\n",
      "video 1/1 (frame 268/714) f:\\Proyecto-SIS330\\source\\Yolo\\Video47.mp4: 480x864 2 caminos, 4 obstaculos, 57.1ms\n",
      "video 1/1 (frame 269/714) f:\\Proyecto-SIS330\\source\\Yolo\\Video47.mp4: 480x864 1 camino, 4 obstaculos, 58.2ms\n",
      "video 1/1 (frame 270/714) f:\\Proyecto-SIS330\\source\\Yolo\\Video47.mp4: 480x864 1 camino, 5 obstaculos, 57.5ms\n",
      "video 1/1 (frame 271/714) f:\\Proyecto-SIS330\\source\\Yolo\\Video47.mp4: 480x864 1 camino, 5 obstaculos, 57.6ms\n",
      "video 1/1 (frame 272/714) f:\\Proyecto-SIS330\\source\\Yolo\\Video47.mp4: 480x864 1 camino, 5 obstaculos, 58.0ms\n",
      "video 1/1 (frame 273/714) f:\\Proyecto-SIS330\\source\\Yolo\\Video47.mp4: 480x864 2 caminos, 5 obstaculos, 56.1ms\n",
      "video 1/1 (frame 274/714) f:\\Proyecto-SIS330\\source\\Yolo\\Video47.mp4: 480x864 1 camino, 3 obstaculos, 58.1ms\n",
      "video 1/1 (frame 275/714) f:\\Proyecto-SIS330\\source\\Yolo\\Video47.mp4: 480x864 2 caminos, 4 obstaculos, 57.4ms\n",
      "video 1/1 (frame 276/714) f:\\Proyecto-SIS330\\source\\Yolo\\Video47.mp4: 480x864 1 camino, 5 obstaculos, 56.8ms\n",
      "video 1/1 (frame 277/714) f:\\Proyecto-SIS330\\source\\Yolo\\Video47.mp4: 480x864 1 camino, 4 obstaculos, 58.0ms\n",
      "video 1/1 (frame 278/714) f:\\Proyecto-SIS330\\source\\Yolo\\Video47.mp4: 480x864 2 caminos, 3 obstaculos, 57.7ms\n",
      "video 1/1 (frame 279/714) f:\\Proyecto-SIS330\\source\\Yolo\\Video47.mp4: 480x864 2 caminos, 3 obstaculos, 56.5ms\n",
      "video 1/1 (frame 280/714) f:\\Proyecto-SIS330\\source\\Yolo\\Video47.mp4: 480x864 1 camino, 5 obstaculos, 57.0ms\n",
      "video 1/1 (frame 281/714) f:\\Proyecto-SIS330\\source\\Yolo\\Video47.mp4: 480x864 1 camino, 4 obstaculos, 57.0ms\n",
      "video 1/1 (frame 282/714) f:\\Proyecto-SIS330\\source\\Yolo\\Video47.mp4: 480x864 1 camino, 5 obstaculos, 56.8ms\n",
      "video 1/1 (frame 283/714) f:\\Proyecto-SIS330\\source\\Yolo\\Video47.mp4: 480x864 2 caminos, 5 obstaculos, 58.1ms\n",
      "video 1/1 (frame 284/714) f:\\Proyecto-SIS330\\source\\Yolo\\Video47.mp4: 480x864 2 caminos, 5 obstaculos, 58.1ms\n",
      "video 1/1 (frame 285/714) f:\\Proyecto-SIS330\\source\\Yolo\\Video47.mp4: 480x864 2 caminos, 4 obstaculos, 57.4ms\n",
      "video 1/1 (frame 286/714) f:\\Proyecto-SIS330\\source\\Yolo\\Video47.mp4: 480x864 2 caminos, 5 obstaculos, 57.2ms\n",
      "video 1/1 (frame 287/714) f:\\Proyecto-SIS330\\source\\Yolo\\Video47.mp4: 480x864 2 caminos, 5 obstaculos, 58.0ms\n",
      "video 1/1 (frame 288/714) f:\\Proyecto-SIS330\\source\\Yolo\\Video47.mp4: 480x864 2 caminos, 4 obstaculos, 57.7ms\n",
      "video 1/1 (frame 289/714) f:\\Proyecto-SIS330\\source\\Yolo\\Video47.mp4: 480x864 1 camino, 4 obstaculos, 57.1ms\n",
      "video 1/1 (frame 290/714) f:\\Proyecto-SIS330\\source\\Yolo\\Video47.mp4: 480x864 3 caminos, 5 obstaculos, 57.0ms\n",
      "video 1/1 (frame 291/714) f:\\Proyecto-SIS330\\source\\Yolo\\Video47.mp4: 480x864 1 camino, 5 obstaculos, 57.0ms\n",
      "video 1/1 (frame 292/714) f:\\Proyecto-SIS330\\source\\Yolo\\Video47.mp4: 480x864 2 caminos, 4 obstaculos, 58.1ms\n",
      "video 1/1 (frame 293/714) f:\\Proyecto-SIS330\\source\\Yolo\\Video47.mp4: 480x864 1 camino, 4 obstaculos, 57.0ms\n",
      "video 1/1 (frame 294/714) f:\\Proyecto-SIS330\\source\\Yolo\\Video47.mp4: 480x864 2 caminos, 5 obstaculos, 58.0ms\n",
      "video 1/1 (frame 295/714) f:\\Proyecto-SIS330\\source\\Yolo\\Video47.mp4: 480x864 2 caminos, 6 obstaculos, 57.5ms\n",
      "video 1/1 (frame 296/714) f:\\Proyecto-SIS330\\source\\Yolo\\Video47.mp4: 480x864 2 caminos, 5 obstaculos, 57.1ms\n",
      "video 1/1 (frame 297/714) f:\\Proyecto-SIS330\\source\\Yolo\\Video47.mp4: 480x864 1 camino, 4 obstaculos, 57.5ms\n",
      "video 1/1 (frame 298/714) f:\\Proyecto-SIS330\\source\\Yolo\\Video47.mp4: 480x864 1 camino, 4 obstaculos, 57.0ms\n",
      "video 1/1 (frame 299/714) f:\\Proyecto-SIS330\\source\\Yolo\\Video47.mp4: 480x864 2 caminos, 3 obstaculos, 58.0ms\n",
      "video 1/1 (frame 300/714) f:\\Proyecto-SIS330\\source\\Yolo\\Video47.mp4: 480x864 2 caminos, 4 obstaculos, 56.6ms\n",
      "video 1/1 (frame 301/714) f:\\Proyecto-SIS330\\source\\Yolo\\Video47.mp4: 480x864 1 camino, 3 obstaculos, 58.0ms\n",
      "video 1/1 (frame 302/714) f:\\Proyecto-SIS330\\source\\Yolo\\Video47.mp4: 480x864 1 camino, 4 obstaculos, 57.0ms\n",
      "video 1/1 (frame 303/714) f:\\Proyecto-SIS330\\source\\Yolo\\Video47.mp4: 480x864 1 camino, 4 obstaculos, 57.5ms\n",
      "video 1/1 (frame 304/714) f:\\Proyecto-SIS330\\source\\Yolo\\Video47.mp4: 480x864 1 camino, 4 obstaculos, 57.5ms\n",
      "video 1/1 (frame 305/714) f:\\Proyecto-SIS330\\source\\Yolo\\Video47.mp4: 480x864 1 camino, 4 obstaculos, 57.0ms\n",
      "video 1/1 (frame 306/714) f:\\Proyecto-SIS330\\source\\Yolo\\Video47.mp4: 480x864 1 camino, 3 obstaculos, 57.7ms\n",
      "video 1/1 (frame 307/714) f:\\Proyecto-SIS330\\source\\Yolo\\Video47.mp4: 480x864 1 camino, 3 obstaculos, 57.0ms\n",
      "video 1/1 (frame 308/714) f:\\Proyecto-SIS330\\source\\Yolo\\Video47.mp4: 480x864 1 camino, 4 obstaculos, 57.6ms\n",
      "video 1/1 (frame 309/714) f:\\Proyecto-SIS330\\source\\Yolo\\Video47.mp4: 480x864 1 camino, 4 obstaculos, 58.0ms\n",
      "video 1/1 (frame 310/714) f:\\Proyecto-SIS330\\source\\Yolo\\Video47.mp4: 480x864 1 camino, 4 obstaculos, 58.0ms\n",
      "video 1/1 (frame 311/714) f:\\Proyecto-SIS330\\source\\Yolo\\Video47.mp4: 480x864 1 camino, 4 obstaculos, 57.6ms\n",
      "video 1/1 (frame 312/714) f:\\Proyecto-SIS330\\source\\Yolo\\Video47.mp4: 480x864 1 camino, 6 obstaculos, 57.0ms\n",
      "video 1/1 (frame 313/714) f:\\Proyecto-SIS330\\source\\Yolo\\Video47.mp4: 480x864 1 camino, 4 obstaculos, 58.1ms\n",
      "video 1/1 (frame 314/714) f:\\Proyecto-SIS330\\source\\Yolo\\Video47.mp4: 480x864 1 camino, 5 obstaculos, 58.2ms\n",
      "video 1/1 (frame 315/714) f:\\Proyecto-SIS330\\source\\Yolo\\Video47.mp4: 480x864 1 camino, 6 obstaculos, 57.0ms\n",
      "video 1/1 (frame 316/714) f:\\Proyecto-SIS330\\source\\Yolo\\Video47.mp4: 480x864 1 camino, 5 obstaculos, 58.0ms\n",
      "video 1/1 (frame 317/714) f:\\Proyecto-SIS330\\source\\Yolo\\Video47.mp4: 480x864 1 camino, 7 obstaculos, 57.0ms\n",
      "video 1/1 (frame 318/714) f:\\Proyecto-SIS330\\source\\Yolo\\Video47.mp4: 480x864 1 camino, 5 obstaculos, 57.5ms\n",
      "video 1/1 (frame 319/714) f:\\Proyecto-SIS330\\source\\Yolo\\Video47.mp4: 480x864 1 camino, 5 obstaculos, 56.5ms\n",
      "video 1/1 (frame 320/714) f:\\Proyecto-SIS330\\source\\Yolo\\Video47.mp4: 480x864 1 camino, 5 obstaculos, 57.6ms\n",
      "video 1/1 (frame 321/714) f:\\Proyecto-SIS330\\source\\Yolo\\Video47.mp4: 480x864 1 camino, 4 obstaculos, 57.5ms\n",
      "video 1/1 (frame 322/714) f:\\Proyecto-SIS330\\source\\Yolo\\Video47.mp4: 480x864 1 camino, 6 obstaculos, 56.5ms\n",
      "video 1/1 (frame 323/714) f:\\Proyecto-SIS330\\source\\Yolo\\Video47.mp4: 480x864 1 camino, 6 obstaculos, 57.0ms\n",
      "video 1/1 (frame 324/714) f:\\Proyecto-SIS330\\source\\Yolo\\Video47.mp4: 480x864 1 camino, 4 obstaculos, 58.4ms\n",
      "video 1/1 (frame 325/714) f:\\Proyecto-SIS330\\source\\Yolo\\Video47.mp4: 480x864 1 camino, 6 obstaculos, 57.4ms\n",
      "video 1/1 (frame 326/714) f:\\Proyecto-SIS330\\source\\Yolo\\Video47.mp4: 480x864 1 camino, 5 obstaculos, 57.1ms\n",
      "video 1/1 (frame 327/714) f:\\Proyecto-SIS330\\source\\Yolo\\Video47.mp4: 480x864 1 camino, 4 obstaculos, 56.7ms\n",
      "video 1/1 (frame 328/714) f:\\Proyecto-SIS330\\source\\Yolo\\Video47.mp4: 480x864 1 camino, 6 obstaculos, 56.6ms\n",
      "video 1/1 (frame 329/714) f:\\Proyecto-SIS330\\source\\Yolo\\Video47.mp4: 480x864 1 camino, 6 obstaculos, 56.5ms\n",
      "video 1/1 (frame 330/714) f:\\Proyecto-SIS330\\source\\Yolo\\Video47.mp4: 480x864 1 camino, 6 obstaculos, 58.0ms\n",
      "video 1/1 (frame 331/714) f:\\Proyecto-SIS330\\source\\Yolo\\Video47.mp4: 480x864 1 camino, 7 obstaculos, 56.5ms\n",
      "video 1/1 (frame 332/714) f:\\Proyecto-SIS330\\source\\Yolo\\Video47.mp4: 480x864 1 camino, 7 obstaculos, 57.0ms\n",
      "video 1/1 (frame 333/714) f:\\Proyecto-SIS330\\source\\Yolo\\Video47.mp4: 480x864 1 camino, 7 obstaculos, 56.6ms\n",
      "video 1/1 (frame 334/714) f:\\Proyecto-SIS330\\source\\Yolo\\Video47.mp4: 480x864 1 camino, 7 obstaculos, 58.2ms\n",
      "video 1/1 (frame 335/714) f:\\Proyecto-SIS330\\source\\Yolo\\Video47.mp4: 480x864 1 camino, 5 obstaculos, 57.5ms\n",
      "video 1/1 (frame 336/714) f:\\Proyecto-SIS330\\source\\Yolo\\Video47.mp4: 480x864 1 camino, 5 obstaculos, 57.4ms\n",
      "video 1/1 (frame 337/714) f:\\Proyecto-SIS330\\source\\Yolo\\Video47.mp4: 480x864 1 camino, 6 obstaculos, 57.0ms\n",
      "video 1/1 (frame 338/714) f:\\Proyecto-SIS330\\source\\Yolo\\Video47.mp4: 480x864 1 camino, 7 obstaculos, 57.5ms\n",
      "video 1/1 (frame 339/714) f:\\Proyecto-SIS330\\source\\Yolo\\Video47.mp4: 480x864 1 camino, 6 obstaculos, 57.5ms\n",
      "video 1/1 (frame 340/714) f:\\Proyecto-SIS330\\source\\Yolo\\Video47.mp4: 480x864 1 camino, 5 obstaculos, 57.0ms\n",
      "video 1/1 (frame 341/714) f:\\Proyecto-SIS330\\source\\Yolo\\Video47.mp4: 480x864 1 camino, 5 obstaculos, 57.5ms\n",
      "video 1/1 (frame 342/714) f:\\Proyecto-SIS330\\source\\Yolo\\Video47.mp4: 480x864 1 camino, 5 obstaculos, 58.1ms\n",
      "video 1/1 (frame 343/714) f:\\Proyecto-SIS330\\source\\Yolo\\Video47.mp4: 480x864 1 camino, 6 obstaculos, 58.0ms\n",
      "video 1/1 (frame 344/714) f:\\Proyecto-SIS330\\source\\Yolo\\Video47.mp4: 480x864 2 caminos, 5 obstaculos, 57.0ms\n",
      "video 1/1 (frame 345/714) f:\\Proyecto-SIS330\\source\\Yolo\\Video47.mp4: 480x864 2 caminos, 5 obstaculos, 57.5ms\n",
      "video 1/1 (frame 346/714) f:\\Proyecto-SIS330\\source\\Yolo\\Video47.mp4: 480x864 1 camino, 6 obstaculos, 57.2ms\n",
      "video 1/1 (frame 347/714) f:\\Proyecto-SIS330\\source\\Yolo\\Video47.mp4: 480x864 1 camino, 6 obstaculos, 58.0ms\n",
      "video 1/1 (frame 348/714) f:\\Proyecto-SIS330\\source\\Yolo\\Video47.mp4: 480x864 1 camino, 7 obstaculos, 57.5ms\n",
      "video 1/1 (frame 349/714) f:\\Proyecto-SIS330\\source\\Yolo\\Video47.mp4: 480x864 2 caminos, 5 obstaculos, 58.5ms\n",
      "video 1/1 (frame 350/714) f:\\Proyecto-SIS330\\source\\Yolo\\Video47.mp4: 480x864 2 caminos, 8 obstaculos, 57.2ms\n",
      "video 1/1 (frame 351/714) f:\\Proyecto-SIS330\\source\\Yolo\\Video47.mp4: 480x864 1 camino, 7 obstaculos, 58.0ms\n",
      "video 1/1 (frame 352/714) f:\\Proyecto-SIS330\\source\\Yolo\\Video47.mp4: 480x864 1 camino, 6 obstaculos, 56.5ms\n",
      "video 1/1 (frame 353/714) f:\\Proyecto-SIS330\\source\\Yolo\\Video47.mp4: 480x864 1 camino, 5 obstaculos, 57.0ms\n",
      "video 1/1 (frame 354/714) f:\\Proyecto-SIS330\\source\\Yolo\\Video47.mp4: 480x864 1 camino, 6 obstaculos, 57.1ms\n",
      "video 1/1 (frame 355/714) f:\\Proyecto-SIS330\\source\\Yolo\\Video47.mp4: 480x864 1 camino, 8 obstaculos, 57.5ms\n",
      "video 1/1 (frame 356/714) f:\\Proyecto-SIS330\\source\\Yolo\\Video47.mp4: 480x864 1 camino, 7 obstaculos, 57.1ms\n",
      "video 1/1 (frame 357/714) f:\\Proyecto-SIS330\\source\\Yolo\\Video47.mp4: 480x864 1 camino, 6 obstaculos, 56.6ms\n",
      "video 1/1 (frame 358/714) f:\\Proyecto-SIS330\\source\\Yolo\\Video47.mp4: 480x864 1 camino, 7 obstaculos, 58.0ms\n",
      "video 1/1 (frame 359/714) f:\\Proyecto-SIS330\\source\\Yolo\\Video47.mp4: 480x864 1 camino, 5 obstaculos, 57.0ms\n",
      "video 1/1 (frame 360/714) f:\\Proyecto-SIS330\\source\\Yolo\\Video47.mp4: 480x864 2 caminos, 6 obstaculos, 56.5ms\n",
      "video 1/1 (frame 361/714) f:\\Proyecto-SIS330\\source\\Yolo\\Video47.mp4: 480x864 2 caminos, 5 obstaculos, 56.5ms\n",
      "video 1/1 (frame 362/714) f:\\Proyecto-SIS330\\source\\Yolo\\Video47.mp4: 480x864 1 camino, 5 obstaculos, 57.5ms\n",
      "video 1/1 (frame 363/714) f:\\Proyecto-SIS330\\source\\Yolo\\Video47.mp4: 480x864 2 caminos, 5 obstaculos, 58.3ms\n",
      "video 1/1 (frame 364/714) f:\\Proyecto-SIS330\\source\\Yolo\\Video47.mp4: 480x864 2 caminos, 7 obstaculos, 57.0ms\n",
      "video 1/1 (frame 365/714) f:\\Proyecto-SIS330\\source\\Yolo\\Video47.mp4: 480x864 2 caminos, 7 obstaculos, 56.7ms\n",
      "video 1/1 (frame 366/714) f:\\Proyecto-SIS330\\source\\Yolo\\Video47.mp4: 480x864 2 caminos, 6 obstaculos, 57.0ms\n",
      "video 1/1 (frame 367/714) f:\\Proyecto-SIS330\\source\\Yolo\\Video47.mp4: 480x864 2 caminos, 6 obstaculos, 58.0ms\n",
      "video 1/1 (frame 368/714) f:\\Proyecto-SIS330\\source\\Yolo\\Video47.mp4: 480x864 2 caminos, 6 obstaculos, 57.7ms\n",
      "video 1/1 (frame 369/714) f:\\Proyecto-SIS330\\source\\Yolo\\Video47.mp4: 480x864 1 camino, 3 obstaculos, 57.6ms\n",
      "video 1/1 (frame 370/714) f:\\Proyecto-SIS330\\source\\Yolo\\Video47.mp4: 480x864 1 camino, 4 obstaculos, 57.6ms\n",
      "video 1/1 (frame 371/714) f:\\Proyecto-SIS330\\source\\Yolo\\Video47.mp4: 480x864 1 camino, 6 obstaculos, 57.0ms\n",
      "video 1/1 (frame 372/714) f:\\Proyecto-SIS330\\source\\Yolo\\Video47.mp4: 480x864 1 camino, 4 obstaculos, 57.6ms\n",
      "video 1/1 (frame 373/714) f:\\Proyecto-SIS330\\source\\Yolo\\Video47.mp4: 480x864 1 camino, 4 obstaculos, 58.1ms\n",
      "video 1/1 (frame 374/714) f:\\Proyecto-SIS330\\source\\Yolo\\Video47.mp4: 480x864 1 camino, 4 obstaculos, 58.0ms\n",
      "video 1/1 (frame 375/714) f:\\Proyecto-SIS330\\source\\Yolo\\Video47.mp4: 480x864 1 camino, 4 obstaculos, 57.5ms\n",
      "video 1/1 (frame 376/714) f:\\Proyecto-SIS330\\source\\Yolo\\Video47.mp4: 480x864 1 camino, 6 obstaculos, 57.5ms\n",
      "video 1/1 (frame 377/714) f:\\Proyecto-SIS330\\source\\Yolo\\Video47.mp4: 480x864 1 camino, 5 obstaculos, 57.0ms\n",
      "video 1/1 (frame 378/714) f:\\Proyecto-SIS330\\source\\Yolo\\Video47.mp4: 480x864 1 camino, 4 obstaculos, 58.1ms\n",
      "video 1/1 (frame 379/714) f:\\Proyecto-SIS330\\source\\Yolo\\Video47.mp4: 480x864 1 camino, 3 obstaculos, 57.5ms\n",
      "video 1/1 (frame 380/714) f:\\Proyecto-SIS330\\source\\Yolo\\Video47.mp4: 480x864 1 camino, 5 obstaculos, 57.5ms\n",
      "video 1/1 (frame 381/714) f:\\Proyecto-SIS330\\source\\Yolo\\Video47.mp4: 480x864 1 camino, 5 obstaculos, 56.5ms\n",
      "video 1/1 (frame 382/714) f:\\Proyecto-SIS330\\source\\Yolo\\Video47.mp4: 480x864 1 camino, 5 obstaculos, 57.0ms\n",
      "video 1/1 (frame 383/714) f:\\Proyecto-SIS330\\source\\Yolo\\Video47.mp4: 480x864 1 camino, 6 obstaculos, 57.0ms\n",
      "video 1/1 (frame 384/714) f:\\Proyecto-SIS330\\source\\Yolo\\Video47.mp4: 480x864 1 camino, 5 obstaculos, 57.0ms\n",
      "video 1/1 (frame 385/714) f:\\Proyecto-SIS330\\source\\Yolo\\Video47.mp4: 480x864 1 camino, 4 obstaculos, 58.1ms\n",
      "video 1/1 (frame 386/714) f:\\Proyecto-SIS330\\source\\Yolo\\Video47.mp4: 480x864 1 camino, 6 obstaculos, 58.5ms\n",
      "video 1/1 (frame 387/714) f:\\Proyecto-SIS330\\source\\Yolo\\Video47.mp4: 480x864 1 camino, 5 obstaculos, 57.6ms\n",
      "video 1/1 (frame 388/714) f:\\Proyecto-SIS330\\source\\Yolo\\Video47.mp4: 480x864 1 camino, 6 obstaculos, 57.5ms\n",
      "video 1/1 (frame 389/714) f:\\Proyecto-SIS330\\source\\Yolo\\Video47.mp4: 480x864 1 camino, 5 obstaculos, 57.8ms\n",
      "video 1/1 (frame 390/714) f:\\Proyecto-SIS330\\source\\Yolo\\Video47.mp4: 480x864 2 caminos, 6 obstaculos, 57.0ms\n",
      "video 1/1 (frame 391/714) f:\\Proyecto-SIS330\\source\\Yolo\\Video47.mp4: 480x864 2 caminos, 5 obstaculos, 58.0ms\n",
      "video 1/1 (frame 392/714) f:\\Proyecto-SIS330\\source\\Yolo\\Video47.mp4: 480x864 2 caminos, 6 obstaculos, 57.5ms\n",
      "video 1/1 (frame 393/714) f:\\Proyecto-SIS330\\source\\Yolo\\Video47.mp4: 480x864 2 caminos, 5 obstaculos, 57.0ms\n",
      "video 1/1 (frame 394/714) f:\\Proyecto-SIS330\\source\\Yolo\\Video47.mp4: 480x864 2 caminos, 5 obstaculos, 58.8ms\n",
      "video 1/1 (frame 395/714) f:\\Proyecto-SIS330\\source\\Yolo\\Video47.mp4: 480x864 2 caminos, 5 obstaculos, 57.5ms\n",
      "video 1/1 (frame 396/714) f:\\Proyecto-SIS330\\source\\Yolo\\Video47.mp4: 480x864 2 caminos, 4 obstaculos, 57.5ms\n",
      "video 1/1 (frame 397/714) f:\\Proyecto-SIS330\\source\\Yolo\\Video47.mp4: 480x864 2 caminos, 4 obstaculos, 58.0ms\n",
      "video 1/1 (frame 398/714) f:\\Proyecto-SIS330\\source\\Yolo\\Video47.mp4: 480x864 2 caminos, 3 obstaculos, 57.5ms\n",
      "video 1/1 (frame 399/714) f:\\Proyecto-SIS330\\source\\Yolo\\Video47.mp4: 480x864 3 caminos, 4 obstaculos, 57.5ms\n",
      "video 1/1 (frame 400/714) f:\\Proyecto-SIS330\\source\\Yolo\\Video47.mp4: 480x864 2 caminos, 5 obstaculos, 56.7ms\n",
      "video 1/1 (frame 401/714) f:\\Proyecto-SIS330\\source\\Yolo\\Video47.mp4: 480x864 2 caminos, 3 obstaculos, 57.5ms\n",
      "video 1/1 (frame 402/714) f:\\Proyecto-SIS330\\source\\Yolo\\Video47.mp4: 480x864 2 caminos, 4 obstaculos, 57.9ms\n",
      "video 1/1 (frame 403/714) f:\\Proyecto-SIS330\\source\\Yolo\\Video47.mp4: 480x864 2 caminos, 4 obstaculos, 57.0ms\n",
      "video 1/1 (frame 404/714) f:\\Proyecto-SIS330\\source\\Yolo\\Video47.mp4: 480x864 3 caminos, 5 obstaculos, 56.6ms\n",
      "video 1/1 (frame 405/714) f:\\Proyecto-SIS330\\source\\Yolo\\Video47.mp4: 480x864 2 caminos, 3 obstaculos, 57.0ms\n",
      "video 1/1 (frame 406/714) f:\\Proyecto-SIS330\\source\\Yolo\\Video47.mp4: 480x864 2 caminos, 3 obstaculos, 57.0ms\n",
      "video 1/1 (frame 407/714) f:\\Proyecto-SIS330\\source\\Yolo\\Video47.mp4: 480x864 1 camino, 4 obstaculos, 57.5ms\n",
      "video 1/1 (frame 408/714) f:\\Proyecto-SIS330\\source\\Yolo\\Video47.mp4: 480x864 3 caminos, 4 obstaculos, 56.8ms\n",
      "video 1/1 (frame 409/714) f:\\Proyecto-SIS330\\source\\Yolo\\Video47.mp4: 480x864 1 camino, 4 obstaculos, 57.8ms\n",
      "video 1/1 (frame 410/714) f:\\Proyecto-SIS330\\source\\Yolo\\Video47.mp4: 480x864 2 caminos, 3 obstaculos, 57.5ms\n",
      "video 1/1 (frame 411/714) f:\\Proyecto-SIS330\\source\\Yolo\\Video47.mp4: 480x864 1 camino, 3 obstaculos, 57.7ms\n",
      "video 1/1 (frame 412/714) f:\\Proyecto-SIS330\\source\\Yolo\\Video47.mp4: 480x864 2 caminos, 4 obstaculos, 57.6ms\n",
      "video 1/1 (frame 413/714) f:\\Proyecto-SIS330\\source\\Yolo\\Video47.mp4: 480x864 4 caminos, 5 obstaculos, 57.5ms\n",
      "video 1/1 (frame 414/714) f:\\Proyecto-SIS330\\source\\Yolo\\Video47.mp4: 480x864 3 caminos, 3 obstaculos, 57.0ms\n",
      "video 1/1 (frame 415/714) f:\\Proyecto-SIS330\\source\\Yolo\\Video47.mp4: 480x864 3 caminos, 3 obstaculos, 57.5ms\n",
      "video 1/1 (frame 416/714) f:\\Proyecto-SIS330\\source\\Yolo\\Video47.mp4: 480x864 2 caminos, 4 obstaculos, 57.5ms\n",
      "video 1/1 (frame 417/714) f:\\Proyecto-SIS330\\source\\Yolo\\Video47.mp4: 480x864 3 caminos, 4 obstaculos, 58.0ms\n",
      "video 1/1 (frame 418/714) f:\\Proyecto-SIS330\\source\\Yolo\\Video47.mp4: 480x864 3 caminos, 4 obstaculos, 57.5ms\n",
      "video 1/1 (frame 419/714) f:\\Proyecto-SIS330\\source\\Yolo\\Video47.mp4: 480x864 3 caminos, 3 obstaculos, 57.2ms\n",
      "video 1/1 (frame 420/714) f:\\Proyecto-SIS330\\source\\Yolo\\Video47.mp4: 480x864 3 caminos, 4 obstaculos, 57.1ms\n",
      "video 1/1 (frame 421/714) f:\\Proyecto-SIS330\\source\\Yolo\\Video47.mp4: 480x864 3 caminos, 5 obstaculos, 57.8ms\n",
      "video 1/1 (frame 422/714) f:\\Proyecto-SIS330\\source\\Yolo\\Video47.mp4: 480x864 3 caminos, 4 obstaculos, 56.5ms\n",
      "video 1/1 (frame 423/714) f:\\Proyecto-SIS330\\source\\Yolo\\Video47.mp4: 480x864 2 caminos, 3 obstaculos, 57.5ms\n",
      "video 1/1 (frame 424/714) f:\\Proyecto-SIS330\\source\\Yolo\\Video47.mp4: 480x864 2 caminos, 4 obstaculos, 58.0ms\n",
      "video 1/1 (frame 425/714) f:\\Proyecto-SIS330\\source\\Yolo\\Video47.mp4: 480x864 2 caminos, 3 obstaculos, 57.6ms\n",
      "video 1/1 (frame 426/714) f:\\Proyecto-SIS330\\source\\Yolo\\Video47.mp4: 480x864 2 caminos, 3 obstaculos, 56.6ms\n",
      "video 1/1 (frame 427/714) f:\\Proyecto-SIS330\\source\\Yolo\\Video47.mp4: 480x864 2 caminos, 3 obstaculos, 58.0ms\n",
      "video 1/1 (frame 428/714) f:\\Proyecto-SIS330\\source\\Yolo\\Video47.mp4: 480x864 1 camino, 4 obstaculos, 57.0ms\n",
      "video 1/1 (frame 429/714) f:\\Proyecto-SIS330\\source\\Yolo\\Video47.mp4: 480x864 2 caminos, 5 obstaculos, 57.0ms\n",
      "video 1/1 (frame 430/714) f:\\Proyecto-SIS330\\source\\Yolo\\Video47.mp4: 480x864 1 camino, 5 obstaculos, 58.1ms\n",
      "video 1/1 (frame 431/714) f:\\Proyecto-SIS330\\source\\Yolo\\Video47.mp4: 480x864 3 caminos, 5 obstaculos, 58.0ms\n",
      "video 1/1 (frame 432/714) f:\\Proyecto-SIS330\\source\\Yolo\\Video47.mp4: 480x864 2 caminos, 3 obstaculos, 57.3ms\n",
      "video 1/1 (frame 433/714) f:\\Proyecto-SIS330\\source\\Yolo\\Video47.mp4: 480x864 2 caminos, 3 obstaculos, 57.2ms\n",
      "video 1/1 (frame 434/714) f:\\Proyecto-SIS330\\source\\Yolo\\Video47.mp4: 480x864 2 caminos, 3 obstaculos, 58.5ms\n",
      "video 1/1 (frame 435/714) f:\\Proyecto-SIS330\\source\\Yolo\\Video47.mp4: 480x864 2 caminos, 3 obstaculos, 57.0ms\n",
      "video 1/1 (frame 436/714) f:\\Proyecto-SIS330\\source\\Yolo\\Video47.mp4: 480x864 2 caminos, 3 obstaculos, 57.8ms\n",
      "video 1/1 (frame 437/714) f:\\Proyecto-SIS330\\source\\Yolo\\Video47.mp4: 480x864 1 camino, 4 obstaculos, 57.0ms\n",
      "video 1/1 (frame 438/714) f:\\Proyecto-SIS330\\source\\Yolo\\Video47.mp4: 480x864 1 camino, 4 obstaculos, 57.8ms\n",
      "video 1/1 (frame 439/714) f:\\Proyecto-SIS330\\source\\Yolo\\Video47.mp4: 480x864 1 camino, 3 obstaculos, 57.5ms\n",
      "video 1/1 (frame 440/714) f:\\Proyecto-SIS330\\source\\Yolo\\Video47.mp4: 480x864 1 camino, 3 obstaculos, 57.4ms\n",
      "video 1/1 (frame 441/714) f:\\Proyecto-SIS330\\source\\Yolo\\Video47.mp4: 480x864 2 caminos, 3 obstaculos, 57.5ms\n",
      "video 1/1 (frame 442/714) f:\\Proyecto-SIS330\\source\\Yolo\\Video47.mp4: 480x864 2 caminos, 3 obstaculos, 57.2ms\n",
      "video 1/1 (frame 443/714) f:\\Proyecto-SIS330\\source\\Yolo\\Video47.mp4: 480x864 1 camino, 3 obstaculos, 56.5ms\n",
      "video 1/1 (frame 444/714) f:\\Proyecto-SIS330\\source\\Yolo\\Video47.mp4: 480x864 2 caminos, 3 obstaculos, 57.7ms\n",
      "video 1/1 (frame 445/714) f:\\Proyecto-SIS330\\source\\Yolo\\Video47.mp4: 480x864 2 caminos, 3 obstaculos, 57.2ms\n",
      "video 1/1 (frame 446/714) f:\\Proyecto-SIS330\\source\\Yolo\\Video47.mp4: 480x864 2 caminos, 3 obstaculos, 57.7ms\n",
      "video 1/1 (frame 447/714) f:\\Proyecto-SIS330\\source\\Yolo\\Video47.mp4: 480x864 2 caminos, 4 obstaculos, 55.9ms\n",
      "video 1/1 (frame 448/714) f:\\Proyecto-SIS330\\source\\Yolo\\Video47.mp4: 480x864 1 camino, 4 obstaculos, 56.7ms\n",
      "video 1/1 (frame 449/714) f:\\Proyecto-SIS330\\source\\Yolo\\Video47.mp4: 480x864 1 camino, 4 obstaculos, 57.9ms\n",
      "video 1/1 (frame 450/714) f:\\Proyecto-SIS330\\source\\Yolo\\Video47.mp4: 480x864 1 camino, 3 obstaculos, 57.8ms\n",
      "video 1/1 (frame 451/714) f:\\Proyecto-SIS330\\source\\Yolo\\Video47.mp4: 480x864 2 caminos, 5 obstaculos, 58.1ms\n",
      "video 1/1 (frame 452/714) f:\\Proyecto-SIS330\\source\\Yolo\\Video47.mp4: 480x864 1 camino, 4 obstaculos, 58.1ms\n",
      "video 1/1 (frame 453/714) f:\\Proyecto-SIS330\\source\\Yolo\\Video47.mp4: 480x864 2 caminos, 5 obstaculos, 58.6ms\n",
      "video 1/1 (frame 454/714) f:\\Proyecto-SIS330\\source\\Yolo\\Video47.mp4: 480x864 2 caminos, 5 obstaculos, 57.3ms\n",
      "video 1/1 (frame 455/714) f:\\Proyecto-SIS330\\source\\Yolo\\Video47.mp4: 480x864 2 caminos, 5 obstaculos, 57.1ms\n",
      "video 1/1 (frame 456/714) f:\\Proyecto-SIS330\\source\\Yolo\\Video47.mp4: 480x864 2 caminos, 5 obstaculos, 58.1ms\n",
      "video 1/1 (frame 457/714) f:\\Proyecto-SIS330\\source\\Yolo\\Video47.mp4: 480x864 2 caminos, 8 obstaculos, 57.1ms\n",
      "video 1/1 (frame 458/714) f:\\Proyecto-SIS330\\source\\Yolo\\Video47.mp4: 480x864 2 caminos, 7 obstaculos, 57.6ms\n",
      "video 1/1 (frame 459/714) f:\\Proyecto-SIS330\\source\\Yolo\\Video47.mp4: 480x864 1 camino, 8 obstaculos, 58.1ms\n",
      "video 1/1 (frame 460/714) f:\\Proyecto-SIS330\\source\\Yolo\\Video47.mp4: 480x864 1 camino, 5 obstaculos, 57.0ms\n",
      "video 1/1 (frame 461/714) f:\\Proyecto-SIS330\\source\\Yolo\\Video47.mp4: 480x864 1 camino, 6 obstaculos, 57.5ms\n",
      "video 1/1 (frame 462/714) f:\\Proyecto-SIS330\\source\\Yolo\\Video47.mp4: 480x864 1 camino, 5 obstaculos, 57.2ms\n",
      "video 1/1 (frame 463/714) f:\\Proyecto-SIS330\\source\\Yolo\\Video47.mp4: 480x864 1 camino, 5 obstaculos, 57.9ms\n",
      "video 1/1 (frame 464/714) f:\\Proyecto-SIS330\\source\\Yolo\\Video47.mp4: 480x864 1 camino, 4 obstaculos, 57.6ms\n",
      "video 1/1 (frame 465/714) f:\\Proyecto-SIS330\\source\\Yolo\\Video47.mp4: 480x864 1 camino, 5 obstaculos, 58.6ms\n",
      "video 1/1 (frame 466/714) f:\\Proyecto-SIS330\\source\\Yolo\\Video47.mp4: 480x864 1 camino, 4 obstaculos, 57.7ms\n",
      "video 1/1 (frame 467/714) f:\\Proyecto-SIS330\\source\\Yolo\\Video47.mp4: 480x864 1 camino, 4 obstaculos, 57.4ms\n",
      "video 1/1 (frame 468/714) f:\\Proyecto-SIS330\\source\\Yolo\\Video47.mp4: 480x864 1 camino, 4 obstaculos, 57.4ms\n",
      "video 1/1 (frame 469/714) f:\\Proyecto-SIS330\\source\\Yolo\\Video47.mp4: 480x864 1 camino, 4 obstaculos, 57.2ms\n",
      "video 1/1 (frame 470/714) f:\\Proyecto-SIS330\\source\\Yolo\\Video47.mp4: 480x864 1 camino, 5 obstaculos, 58.7ms\n",
      "video 1/1 (frame 471/714) f:\\Proyecto-SIS330\\source\\Yolo\\Video47.mp4: 480x864 1 camino, 3 obstaculos, 57.5ms\n",
      "video 1/1 (frame 472/714) f:\\Proyecto-SIS330\\source\\Yolo\\Video47.mp4: 480x864 1 camino, 3 obstaculos, 58.2ms\n",
      "video 1/1 (frame 473/714) f:\\Proyecto-SIS330\\source\\Yolo\\Video47.mp4: 480x864 1 camino, 4 obstaculos, 57.2ms\n",
      "video 1/1 (frame 474/714) f:\\Proyecto-SIS330\\source\\Yolo\\Video47.mp4: 480x864 1 camino, 4 obstaculos, 57.6ms\n",
      "video 1/1 (frame 475/714) f:\\Proyecto-SIS330\\source\\Yolo\\Video47.mp4: 480x864 1 camino, 4 obstaculos, 58.7ms\n",
      "video 1/1 (frame 476/714) f:\\Proyecto-SIS330\\source\\Yolo\\Video47.mp4: 480x864 1 camino, 5 obstaculos, 57.4ms\n",
      "video 1/1 (frame 477/714) f:\\Proyecto-SIS330\\source\\Yolo\\Video47.mp4: 480x864 1 camino, 4 obstaculos, 58.1ms\n",
      "video 1/1 (frame 478/714) f:\\Proyecto-SIS330\\source\\Yolo\\Video47.mp4: 480x864 1 camino, 4 obstaculos, 57.6ms\n",
      "video 1/1 (frame 479/714) f:\\Proyecto-SIS330\\source\\Yolo\\Video47.mp4: 480x864 1 camino, 5 obstaculos, 58.3ms\n",
      "video 1/1 (frame 480/714) f:\\Proyecto-SIS330\\source\\Yolo\\Video47.mp4: 480x864 1 camino, 5 obstaculos, 59.0ms\n",
      "video 1/1 (frame 481/714) f:\\Proyecto-SIS330\\source\\Yolo\\Video47.mp4: 480x864 1 camino, 4 obstaculos, 58.9ms\n",
      "video 1/1 (frame 482/714) f:\\Proyecto-SIS330\\source\\Yolo\\Video47.mp4: 480x864 1 camino, 3 obstaculos, 58.1ms\n",
      "video 1/1 (frame 483/714) f:\\Proyecto-SIS330\\source\\Yolo\\Video47.mp4: 480x864 1 camino, 3 obstaculos, 58.6ms\n",
      "video 1/1 (frame 484/714) f:\\Proyecto-SIS330\\source\\Yolo\\Video47.mp4: 480x864 1 camino, 2 obstaculos, 58.1ms\n",
      "video 1/1 (frame 485/714) f:\\Proyecto-SIS330\\source\\Yolo\\Video47.mp4: 480x864 1 camino, 5 obstaculos, 57.8ms\n",
      "video 1/1 (frame 486/714) f:\\Proyecto-SIS330\\source\\Yolo\\Video47.mp4: 480x864 1 camino, 3 obstaculos, 57.6ms\n",
      "video 1/1 (frame 487/714) f:\\Proyecto-SIS330\\source\\Yolo\\Video47.mp4: 480x864 1 camino, 4 obstaculos, 58.2ms\n",
      "video 1/1 (frame 488/714) f:\\Proyecto-SIS330\\source\\Yolo\\Video47.mp4: 480x864 1 camino, 5 obstaculos, 57.5ms\n",
      "video 1/1 (frame 489/714) f:\\Proyecto-SIS330\\source\\Yolo\\Video47.mp4: 480x864 1 camino, 4 obstaculos, 57.6ms\n",
      "video 1/1 (frame 490/714) f:\\Proyecto-SIS330\\source\\Yolo\\Video47.mp4: 480x864 1 camino, 4 obstaculos, 58.0ms\n",
      "video 1/1 (frame 491/714) f:\\Proyecto-SIS330\\source\\Yolo\\Video47.mp4: 480x864 1 camino, 5 obstaculos, 57.6ms\n",
      "video 1/1 (frame 492/714) f:\\Proyecto-SIS330\\source\\Yolo\\Video47.mp4: 480x864 1 camino, 5 obstaculos, 58.5ms\n",
      "video 1/1 (frame 493/714) f:\\Proyecto-SIS330\\source\\Yolo\\Video47.mp4: 480x864 1 camino, 6 obstaculos, 57.5ms\n",
      "video 1/1 (frame 494/714) f:\\Proyecto-SIS330\\source\\Yolo\\Video47.mp4: 480x864 1 camino, 5 obstaculos, 57.0ms\n",
      "video 1/1 (frame 495/714) f:\\Proyecto-SIS330\\source\\Yolo\\Video47.mp4: 480x864 1 camino, 3 obstaculos, 57.3ms\n",
      "video 1/1 (frame 496/714) f:\\Proyecto-SIS330\\source\\Yolo\\Video47.mp4: 480x864 1 camino, 6 obstaculos, 58.1ms\n",
      "video 1/1 (frame 497/714) f:\\Proyecto-SIS330\\source\\Yolo\\Video47.mp4: 480x864 1 camino, 4 obstaculos, 58.1ms\n",
      "video 1/1 (frame 498/714) f:\\Proyecto-SIS330\\source\\Yolo\\Video47.mp4: 480x864 2 caminos, 6 obstaculos, 58.3ms\n",
      "video 1/1 (frame 499/714) f:\\Proyecto-SIS330\\source\\Yolo\\Video47.mp4: 480x864 2 caminos, 5 obstaculos, 58.1ms\n",
      "video 1/1 (frame 500/714) f:\\Proyecto-SIS330\\source\\Yolo\\Video47.mp4: 480x864 2 caminos, 4 obstaculos, 57.1ms\n",
      "video 1/1 (frame 501/714) f:\\Proyecto-SIS330\\source\\Yolo\\Video47.mp4: 480x864 2 caminos, 4 obstaculos, 57.2ms\n",
      "video 1/1 (frame 502/714) f:\\Proyecto-SIS330\\source\\Yolo\\Video47.mp4: 480x864 2 caminos, 4 obstaculos, 58.1ms\n",
      "video 1/1 (frame 503/714) f:\\Proyecto-SIS330\\source\\Yolo\\Video47.mp4: 480x864 2 caminos, 5 obstaculos, 56.7ms\n",
      "video 1/1 (frame 504/714) f:\\Proyecto-SIS330\\source\\Yolo\\Video47.mp4: 480x864 2 caminos, 7 obstaculos, 58.0ms\n",
      "video 1/1 (frame 505/714) f:\\Proyecto-SIS330\\source\\Yolo\\Video47.mp4: 480x864 2 caminos, 4 obstaculos, 57.6ms\n",
      "video 1/1 (frame 506/714) f:\\Proyecto-SIS330\\source\\Yolo\\Video47.mp4: 480x864 2 caminos, 5 obstaculos, 58.5ms\n",
      "video 1/1 (frame 507/714) f:\\Proyecto-SIS330\\source\\Yolo\\Video47.mp4: 480x864 2 caminos, 4 obstaculos, 57.6ms\n",
      "video 1/1 (frame 508/714) f:\\Proyecto-SIS330\\source\\Yolo\\Video47.mp4: 480x864 2 caminos, 4 obstaculos, 57.7ms\n",
      "video 1/1 (frame 509/714) f:\\Proyecto-SIS330\\source\\Yolo\\Video47.mp4: 480x864 2 caminos, 4 obstaculos, 57.6ms\n",
      "video 1/1 (frame 510/714) f:\\Proyecto-SIS330\\source\\Yolo\\Video47.mp4: 480x864 2 caminos, 5 obstaculos, 58.1ms\n",
      "video 1/1 (frame 511/714) f:\\Proyecto-SIS330\\source\\Yolo\\Video47.mp4: 480x864 2 caminos, 4 obstaculos, 58.6ms\n",
      "video 1/1 (frame 512/714) f:\\Proyecto-SIS330\\source\\Yolo\\Video47.mp4: 480x864 2 caminos, 4 obstaculos, 57.1ms\n",
      "video 1/1 (frame 513/714) f:\\Proyecto-SIS330\\source\\Yolo\\Video47.mp4: 480x864 2 caminos, 6 obstaculos, 58.0ms\n",
      "video 1/1 (frame 514/714) f:\\Proyecto-SIS330\\source\\Yolo\\Video47.mp4: 480x864 2 caminos, 3 obstaculos, 57.5ms\n",
      "video 1/1 (frame 515/714) f:\\Proyecto-SIS330\\source\\Yolo\\Video47.mp4: 480x864 2 caminos, 3 obstaculos, 58.8ms\n",
      "video 1/1 (frame 516/714) f:\\Proyecto-SIS330\\source\\Yolo\\Video47.mp4: 480x864 2 caminos, 6 obstaculos, 58.2ms\n",
      "video 1/1 (frame 517/714) f:\\Proyecto-SIS330\\source\\Yolo\\Video47.mp4: 480x864 2 caminos, 6 obstaculos, 56.7ms\n",
      "video 1/1 (frame 518/714) f:\\Proyecto-SIS330\\source\\Yolo\\Video47.mp4: 480x864 2 caminos, 4 obstaculos, 57.8ms\n",
      "video 1/1 (frame 519/714) f:\\Proyecto-SIS330\\source\\Yolo\\Video47.mp4: 480x864 2 caminos, 4 obstaculos, 57.9ms\n",
      "video 1/1 (frame 520/714) f:\\Proyecto-SIS330\\source\\Yolo\\Video47.mp4: 480x864 2 caminos, 6 obstaculos, 57.0ms\n",
      "video 1/1 (frame 521/714) f:\\Proyecto-SIS330\\source\\Yolo\\Video47.mp4: 480x864 2 caminos, 4 obstaculos, 57.8ms\n",
      "video 1/1 (frame 522/714) f:\\Proyecto-SIS330\\source\\Yolo\\Video47.mp4: 480x864 2 caminos, 5 obstaculos, 57.9ms\n",
      "video 1/1 (frame 523/714) f:\\Proyecto-SIS330\\source\\Yolo\\Video47.mp4: 480x864 2 caminos, 5 obstaculos, 57.9ms\n",
      "video 1/1 (frame 524/714) f:\\Proyecto-SIS330\\source\\Yolo\\Video47.mp4: 480x864 2 caminos, 4 obstaculos, 58.6ms\n",
      "video 1/1 (frame 525/714) f:\\Proyecto-SIS330\\source\\Yolo\\Video47.mp4: 480x864 2 caminos, 5 obstaculos, 58.7ms\n",
      "video 1/1 (frame 526/714) f:\\Proyecto-SIS330\\source\\Yolo\\Video47.mp4: 480x864 2 caminos, 3 obstaculos, 58.0ms\n",
      "video 1/1 (frame 527/714) f:\\Proyecto-SIS330\\source\\Yolo\\Video47.mp4: 480x864 2 caminos, 3 obstaculos, 57.5ms\n",
      "video 1/1 (frame 528/714) f:\\Proyecto-SIS330\\source\\Yolo\\Video47.mp4: 480x864 2 caminos, 3 obstaculos, 57.6ms\n",
      "video 1/1 (frame 529/714) f:\\Proyecto-SIS330\\source\\Yolo\\Video47.mp4: 480x864 3 caminos, 3 obstaculos, 56.9ms\n",
      "video 1/1 (frame 530/714) f:\\Proyecto-SIS330\\source\\Yolo\\Video47.mp4: 480x864 2 caminos, 4 obstaculos, 57.4ms\n",
      "video 1/1 (frame 531/714) f:\\Proyecto-SIS330\\source\\Yolo\\Video47.mp4: 480x864 2 caminos, 3 obstaculos, 57.7ms\n",
      "video 1/1 (frame 532/714) f:\\Proyecto-SIS330\\source\\Yolo\\Video47.mp4: 480x864 2 caminos, 3 obstaculos, 58.8ms\n",
      "video 1/1 (frame 533/714) f:\\Proyecto-SIS330\\source\\Yolo\\Video47.mp4: 480x864 2 caminos, 4 obstaculos, 57.2ms\n",
      "video 1/1 (frame 534/714) f:\\Proyecto-SIS330\\source\\Yolo\\Video47.mp4: 480x864 3 caminos, 4 obstaculos, 57.7ms\n",
      "video 1/1 (frame 535/714) f:\\Proyecto-SIS330\\source\\Yolo\\Video47.mp4: 480x864 3 caminos, 3 obstaculos, 58.5ms\n",
      "video 1/1 (frame 536/714) f:\\Proyecto-SIS330\\source\\Yolo\\Video47.mp4: 480x864 2 caminos, 4 obstaculos, 57.7ms\n",
      "video 1/1 (frame 537/714) f:\\Proyecto-SIS330\\source\\Yolo\\Video47.mp4: 480x864 1 camino, 3 obstaculos, 58.6ms\n",
      "video 1/1 (frame 538/714) f:\\Proyecto-SIS330\\source\\Yolo\\Video47.mp4: 480x864 1 camino, 3 obstaculos, 58.1ms\n",
      "video 1/1 (frame 539/714) f:\\Proyecto-SIS330\\source\\Yolo\\Video47.mp4: 480x864 1 camino, 3 obstaculos, 57.8ms\n",
      "video 1/1 (frame 540/714) f:\\Proyecto-SIS330\\source\\Yolo\\Video47.mp4: 480x864 1 camino, 3 obstaculos, 57.0ms\n",
      "video 1/1 (frame 541/714) f:\\Proyecto-SIS330\\source\\Yolo\\Video47.mp4: 480x864 1 camino, 3 obstaculos, 57.7ms\n",
      "video 1/1 (frame 542/714) f:\\Proyecto-SIS330\\source\\Yolo\\Video47.mp4: 480x864 1 camino, 4 obstaculos, 57.9ms\n",
      "video 1/1 (frame 543/714) f:\\Proyecto-SIS330\\source\\Yolo\\Video47.mp4: 480x864 1 camino, 3 obstaculos, 57.6ms\n",
      "video 1/1 (frame 544/714) f:\\Proyecto-SIS330\\source\\Yolo\\Video47.mp4: 480x864 1 camino, 4 obstaculos, 57.2ms\n",
      "video 1/1 (frame 545/714) f:\\Proyecto-SIS330\\source\\Yolo\\Video47.mp4: 480x864 1 camino, 4 obstaculos, 57.6ms\n",
      "video 1/1 (frame 546/714) f:\\Proyecto-SIS330\\source\\Yolo\\Video47.mp4: 480x864 1 camino, 4 obstaculos, 57.7ms\n",
      "video 1/1 (frame 547/714) f:\\Proyecto-SIS330\\source\\Yolo\\Video47.mp4: 480x864 1 camino, 4 obstaculos, 57.8ms\n",
      "video 1/1 (frame 548/714) f:\\Proyecto-SIS330\\source\\Yolo\\Video47.mp4: 480x864 1 camino, 4 obstaculos, 58.3ms\n",
      "video 1/1 (frame 549/714) f:\\Proyecto-SIS330\\source\\Yolo\\Video47.mp4: 480x864 1 camino, 3 obstaculos, 58.0ms\n",
      "video 1/1 (frame 550/714) f:\\Proyecto-SIS330\\source\\Yolo\\Video47.mp4: 480x864 1 camino, 3 obstaculos, 58.3ms\n",
      "video 1/1 (frame 551/714) f:\\Proyecto-SIS330\\source\\Yolo\\Video47.mp4: 480x864 1 camino, 3 obstaculos, 58.1ms\n",
      "video 1/1 (frame 552/714) f:\\Proyecto-SIS330\\source\\Yolo\\Video47.mp4: 480x864 1 camino, 3 obstaculos, 57.7ms\n",
      "video 1/1 (frame 553/714) f:\\Proyecto-SIS330\\source\\Yolo\\Video47.mp4: 480x864 1 camino, 3 obstaculos, 57.9ms\n",
      "video 1/1 (frame 554/714) f:\\Proyecto-SIS330\\source\\Yolo\\Video47.mp4: 480x864 1 camino, 4 obstaculos, 57.8ms\n",
      "video 1/1 (frame 555/714) f:\\Proyecto-SIS330\\source\\Yolo\\Video47.mp4: 480x864 1 camino, 4 obstaculos, 57.9ms\n",
      "video 1/1 (frame 556/714) f:\\Proyecto-SIS330\\source\\Yolo\\Video47.mp4: 480x864 1 camino, 5 obstaculos, 58.1ms\n",
      "video 1/1 (frame 557/714) f:\\Proyecto-SIS330\\source\\Yolo\\Video47.mp4: 480x864 1 camino, 4 obstaculos, 58.2ms\n",
      "video 1/1 (frame 558/714) f:\\Proyecto-SIS330\\source\\Yolo\\Video47.mp4: 480x864 1 camino, 3 obstaculos, 57.5ms\n",
      "video 1/1 (frame 559/714) f:\\Proyecto-SIS330\\source\\Yolo\\Video47.mp4: 480x864 1 camino, 3 obstaculos, 57.8ms\n",
      "video 1/1 (frame 560/714) f:\\Proyecto-SIS330\\source\\Yolo\\Video47.mp4: 480x864 1 camino, 5 obstaculos, 57.2ms\n",
      "video 1/1 (frame 561/714) f:\\Proyecto-SIS330\\source\\Yolo\\Video47.mp4: 480x864 1 camino, 3 obstaculos, 58.1ms\n",
      "video 1/1 (frame 562/714) f:\\Proyecto-SIS330\\source\\Yolo\\Video47.mp4: 480x864 1 camino, 3 obstaculos, 56.7ms\n",
      "video 1/1 (frame 563/714) f:\\Proyecto-SIS330\\source\\Yolo\\Video47.mp4: 480x864 1 camino, 3 obstaculos, 58.0ms\n",
      "video 1/1 (frame 564/714) f:\\Proyecto-SIS330\\source\\Yolo\\Video47.mp4: 480x864 1 camino, 3 obstaculos, 57.8ms\n",
      "video 1/1 (frame 565/714) f:\\Proyecto-SIS330\\source\\Yolo\\Video47.mp4: 480x864 1 camino, 4 obstaculos, 57.7ms\n",
      "video 1/1 (frame 566/714) f:\\Proyecto-SIS330\\source\\Yolo\\Video47.mp4: 480x864 1 camino, 3 obstaculos, 57.9ms\n",
      "video 1/1 (frame 567/714) f:\\Proyecto-SIS330\\source\\Yolo\\Video47.mp4: 480x864 1 camino, 3 obstaculos, 58.1ms\n",
      "video 1/1 (frame 568/714) f:\\Proyecto-SIS330\\source\\Yolo\\Video47.mp4: 480x864 2 caminos, 5 obstaculos, 57.6ms\n",
      "video 1/1 (frame 569/714) f:\\Proyecto-SIS330\\source\\Yolo\\Video47.mp4: 480x864 2 caminos, 3 obstaculos, 57.1ms\n",
      "video 1/1 (frame 570/714) f:\\Proyecto-SIS330\\source\\Yolo\\Video47.mp4: 480x864 2 caminos, 3 obstaculos, 57.9ms\n",
      "video 1/1 (frame 571/714) f:\\Proyecto-SIS330\\source\\Yolo\\Video47.mp4: 480x864 1 camino, 3 obstaculos, 57.4ms\n",
      "video 1/1 (frame 572/714) f:\\Proyecto-SIS330\\source\\Yolo\\Video47.mp4: 480x864 2 caminos, 5 obstaculos, 57.1ms\n",
      "video 1/1 (frame 573/714) f:\\Proyecto-SIS330\\source\\Yolo\\Video47.mp4: 480x864 2 caminos, 7 obstaculos, 57.9ms\n",
      "video 1/1 (frame 574/714) f:\\Proyecto-SIS330\\source\\Yolo\\Video47.mp4: 480x864 2 caminos, 6 obstaculos, 58.0ms\n",
      "video 1/1 (frame 575/714) f:\\Proyecto-SIS330\\source\\Yolo\\Video47.mp4: 480x864 2 caminos, 5 obstaculos, 56.6ms\n",
      "video 1/1 (frame 576/714) f:\\Proyecto-SIS330\\source\\Yolo\\Video47.mp4: 480x864 1 camino, 3 obstaculos, 57.5ms\n",
      "video 1/1 (frame 577/714) f:\\Proyecto-SIS330\\source\\Yolo\\Video47.mp4: 480x864 1 camino, 3 obstaculos, 57.1ms\n",
      "video 1/1 (frame 578/714) f:\\Proyecto-SIS330\\source\\Yolo\\Video47.mp4: 480x864 1 camino, 4 obstaculos, 57.1ms\n",
      "video 1/1 (frame 579/714) f:\\Proyecto-SIS330\\source\\Yolo\\Video47.mp4: 480x864 1 camino, 4 obstaculos, 57.5ms\n",
      "video 1/1 (frame 580/714) f:\\Proyecto-SIS330\\source\\Yolo\\Video47.mp4: 480x864 1 camino, 4 obstaculos, 58.1ms\n",
      "video 1/1 (frame 581/714) f:\\Proyecto-SIS330\\source\\Yolo\\Video47.mp4: 480x864 1 camino, 3 obstaculos, 57.5ms\n",
      "video 1/1 (frame 582/714) f:\\Proyecto-SIS330\\source\\Yolo\\Video47.mp4: 480x864 1 camino, 5 obstaculos, 57.4ms\n",
      "video 1/1 (frame 583/714) f:\\Proyecto-SIS330\\source\\Yolo\\Video47.mp4: 480x864 1 camino, 3 obstaculos, 57.7ms\n",
      "video 1/1 (frame 584/714) f:\\Proyecto-SIS330\\source\\Yolo\\Video47.mp4: 480x864 1 camino, 3 obstaculos, 58.3ms\n",
      "video 1/1 (frame 585/714) f:\\Proyecto-SIS330\\source\\Yolo\\Video47.mp4: 480x864 1 camino, 4 obstaculos, 57.6ms\n",
      "video 1/1 (frame 586/714) f:\\Proyecto-SIS330\\source\\Yolo\\Video47.mp4: 480x864 1 camino, 3 obstaculos, 57.6ms\n",
      "video 1/1 (frame 587/714) f:\\Proyecto-SIS330\\source\\Yolo\\Video47.mp4: 480x864 1 camino, 3 obstaculos, 57.8ms\n",
      "video 1/1 (frame 588/714) f:\\Proyecto-SIS330\\source\\Yolo\\Video47.mp4: 480x864 1 camino, 4 obstaculos, 57.4ms\n",
      "video 1/1 (frame 589/714) f:\\Proyecto-SIS330\\source\\Yolo\\Video47.mp4: 480x864 1 camino, 4 obstaculos, 57.9ms\n",
      "video 1/1 (frame 590/714) f:\\Proyecto-SIS330\\source\\Yolo\\Video47.mp4: 480x864 1 camino, 3 obstaculos, 57.6ms\n",
      "video 1/1 (frame 591/714) f:\\Proyecto-SIS330\\source\\Yolo\\Video47.mp4: 480x864 1 camino, 4 obstaculos, 57.1ms\n",
      "video 1/1 (frame 592/714) f:\\Proyecto-SIS330\\source\\Yolo\\Video47.mp4: 480x864 1 camino, 3 obstaculos, 57.7ms\n",
      "video 1/1 (frame 593/714) f:\\Proyecto-SIS330\\source\\Yolo\\Video47.mp4: 480x864 1 camino, 4 obstaculos, 57.7ms\n",
      "video 1/1 (frame 594/714) f:\\Proyecto-SIS330\\source\\Yolo\\Video47.mp4: 480x864 1 camino, 4 obstaculos, 56.6ms\n",
      "video 1/1 (frame 595/714) f:\\Proyecto-SIS330\\source\\Yolo\\Video47.mp4: 480x864 1 camino, 5 obstaculos, 58.1ms\n",
      "video 1/1 (frame 596/714) f:\\Proyecto-SIS330\\source\\Yolo\\Video47.mp4: 480x864 1 camino, 5 obstaculos, 57.1ms\n",
      "video 1/1 (frame 597/714) f:\\Proyecto-SIS330\\source\\Yolo\\Video47.mp4: 480x864 1 camino, 3 obstaculos, 57.3ms\n",
      "video 1/1 (frame 598/714) f:\\Proyecto-SIS330\\source\\Yolo\\Video47.mp4: 480x864 1 camino, 4 obstaculos, 57.2ms\n",
      "video 1/1 (frame 599/714) f:\\Proyecto-SIS330\\source\\Yolo\\Video47.mp4: 480x864 1 camino, 4 obstaculos, 58.0ms\n",
      "video 1/1 (frame 600/714) f:\\Proyecto-SIS330\\source\\Yolo\\Video47.mp4: 480x864 1 camino, 5 obstaculos, 58.0ms\n",
      "video 1/1 (frame 601/714) f:\\Proyecto-SIS330\\source\\Yolo\\Video47.mp4: 480x864 1 camino, 6 obstaculos, 57.4ms\n",
      "video 1/1 (frame 602/714) f:\\Proyecto-SIS330\\source\\Yolo\\Video47.mp4: 480x864 1 camino, 5 obstaculos, 57.6ms\n",
      "video 1/1 (frame 603/714) f:\\Proyecto-SIS330\\source\\Yolo\\Video47.mp4: 480x864 1 camino, 4 obstaculos, 57.7ms\n",
      "video 1/1 (frame 604/714) f:\\Proyecto-SIS330\\source\\Yolo\\Video47.mp4: 480x864 1 camino, 4 obstaculos, 57.6ms\n",
      "video 1/1 (frame 605/714) f:\\Proyecto-SIS330\\source\\Yolo\\Video47.mp4: 480x864 1 camino, 4 obstaculos, 58.5ms\n",
      "video 1/1 (frame 606/714) f:\\Proyecto-SIS330\\source\\Yolo\\Video47.mp4: 480x864 1 camino, 3 obstaculos, 57.8ms\n",
      "video 1/1 (frame 607/714) f:\\Proyecto-SIS330\\source\\Yolo\\Video47.mp4: 480x864 1 camino, 4 obstaculos, 58.3ms\n",
      "video 1/1 (frame 608/714) f:\\Proyecto-SIS330\\source\\Yolo\\Video47.mp4: 480x864 1 camino, 4 obstaculos, 57.6ms\n",
      "video 1/1 (frame 609/714) f:\\Proyecto-SIS330\\source\\Yolo\\Video47.mp4: 480x864 1 camino, 4 obstaculos, 58.2ms\n",
      "video 1/1 (frame 610/714) f:\\Proyecto-SIS330\\source\\Yolo\\Video47.mp4: 480x864 1 camino, 4 obstaculos, 57.4ms\n",
      "video 1/1 (frame 611/714) f:\\Proyecto-SIS330\\source\\Yolo\\Video47.mp4: 480x864 1 camino, 5 obstaculos, 57.7ms\n",
      "video 1/1 (frame 612/714) f:\\Proyecto-SIS330\\source\\Yolo\\Video47.mp4: 480x864 1 camino, 3 obstaculos, 57.8ms\n",
      "video 1/1 (frame 613/714) f:\\Proyecto-SIS330\\source\\Yolo\\Video47.mp4: 480x864 1 camino, 5 obstaculos, 57.0ms\n",
      "video 1/1 (frame 614/714) f:\\Proyecto-SIS330\\source\\Yolo\\Video47.mp4: 480x864 1 camino, 5 obstaculos, 57.7ms\n",
      "video 1/1 (frame 615/714) f:\\Proyecto-SIS330\\source\\Yolo\\Video47.mp4: 480x864 1 camino, 4 obstaculos, 57.7ms\n",
      "video 1/1 (frame 616/714) f:\\Proyecto-SIS330\\source\\Yolo\\Video47.mp4: 480x864 1 camino, 4 obstaculos, 57.4ms\n",
      "video 1/1 (frame 617/714) f:\\Proyecto-SIS330\\source\\Yolo\\Video47.mp4: 480x864 1 camino, 4 obstaculos, 58.3ms\n",
      "video 1/1 (frame 618/714) f:\\Proyecto-SIS330\\source\\Yolo\\Video47.mp4: 480x864 1 camino, 4 obstaculos, 56.5ms\n",
      "video 1/1 (frame 619/714) f:\\Proyecto-SIS330\\source\\Yolo\\Video47.mp4: 480x864 1 camino, 5 obstaculos, 58.6ms\n",
      "video 1/1 (frame 620/714) f:\\Proyecto-SIS330\\source\\Yolo\\Video47.mp4: 480x864 1 camino, 4 obstaculos, 58.6ms\n",
      "video 1/1 (frame 621/714) f:\\Proyecto-SIS330\\source\\Yolo\\Video47.mp4: 480x864 1 camino, 4 obstaculos, 57.7ms\n",
      "video 1/1 (frame 622/714) f:\\Proyecto-SIS330\\source\\Yolo\\Video47.mp4: 480x864 1 camino, 4 obstaculos, 56.8ms\n",
      "video 1/1 (frame 623/714) f:\\Proyecto-SIS330\\source\\Yolo\\Video47.mp4: 480x864 1 camino, 3 obstaculos, 57.7ms\n",
      "video 1/1 (frame 624/714) f:\\Proyecto-SIS330\\source\\Yolo\\Video47.mp4: 480x864 1 camino, 4 obstaculos, 57.8ms\n",
      "video 1/1 (frame 625/714) f:\\Proyecto-SIS330\\source\\Yolo\\Video47.mp4: 480x864 1 camino, 3 obstaculos, 58.1ms\n",
      "video 1/1 (frame 626/714) f:\\Proyecto-SIS330\\source\\Yolo\\Video47.mp4: 480x864 1 camino, 4 obstaculos, 57.4ms\n",
      "video 1/1 (frame 627/714) f:\\Proyecto-SIS330\\source\\Yolo\\Video47.mp4: 480x864 1 camino, 3 obstaculos, 57.6ms\n",
      "video 1/1 (frame 628/714) f:\\Proyecto-SIS330\\source\\Yolo\\Video47.mp4: 480x864 1 camino, 3 obstaculos, 57.8ms\n",
      "video 1/1 (frame 629/714) f:\\Proyecto-SIS330\\source\\Yolo\\Video47.mp4: 480x864 1 camino, 3 obstaculos, 58.0ms\n",
      "video 1/1 (frame 630/714) f:\\Proyecto-SIS330\\source\\Yolo\\Video47.mp4: 480x864 1 camino, 3 obstaculos, 57.7ms\n",
      "video 1/1 (frame 631/714) f:\\Proyecto-SIS330\\source\\Yolo\\Video47.mp4: 480x864 1 camino, 3 obstaculos, 57.3ms\n",
      "video 1/1 (frame 632/714) f:\\Proyecto-SIS330\\source\\Yolo\\Video47.mp4: 480x864 1 camino, 3 obstaculos, 58.0ms\n",
      "video 1/1 (frame 633/714) f:\\Proyecto-SIS330\\source\\Yolo\\Video47.mp4: 480x864 1 camino, 3 obstaculos, 57.0ms\n",
      "video 1/1 (frame 634/714) f:\\Proyecto-SIS330\\source\\Yolo\\Video47.mp4: 480x864 1 camino, 3 obstaculos, 58.0ms\n",
      "video 1/1 (frame 635/714) f:\\Proyecto-SIS330\\source\\Yolo\\Video47.mp4: 480x864 1 camino, 3 obstaculos, 58.0ms\n",
      "video 1/1 (frame 636/714) f:\\Proyecto-SIS330\\source\\Yolo\\Video47.mp4: 480x864 1 camino, 3 obstaculos, 56.7ms\n",
      "video 1/1 (frame 637/714) f:\\Proyecto-SIS330\\source\\Yolo\\Video47.mp4: 480x864 1 camino, 3 obstaculos, 57.7ms\n",
      "video 1/1 (frame 638/714) f:\\Proyecto-SIS330\\source\\Yolo\\Video47.mp4: 480x864 1 camino, 3 obstaculos, 58.0ms\n",
      "video 1/1 (frame 639/714) f:\\Proyecto-SIS330\\source\\Yolo\\Video47.mp4: 480x864 1 camino, 3 obstaculos, 57.1ms\n",
      "video 1/1 (frame 640/714) f:\\Proyecto-SIS330\\source\\Yolo\\Video47.mp4: 480x864 1 camino, 3 obstaculos, 57.7ms\n",
      "video 1/1 (frame 641/714) f:\\Proyecto-SIS330\\source\\Yolo\\Video47.mp4: 480x864 1 camino, 3 obstaculos, 57.0ms\n",
      "video 1/1 (frame 642/714) f:\\Proyecto-SIS330\\source\\Yolo\\Video47.mp4: 480x864 1 camino, 3 obstaculos, 58.1ms\n",
      "video 1/1 (frame 643/714) f:\\Proyecto-SIS330\\source\\Yolo\\Video47.mp4: 480x864 1 camino, 3 obstaculos, 58.0ms\n",
      "video 1/1 (frame 644/714) f:\\Proyecto-SIS330\\source\\Yolo\\Video47.mp4: 480x864 1 camino, 3 obstaculos, 57.7ms\n",
      "video 1/1 (frame 645/714) f:\\Proyecto-SIS330\\source\\Yolo\\Video47.mp4: 480x864 1 camino, 3 obstaculos, 57.1ms\n",
      "video 1/1 (frame 646/714) f:\\Proyecto-SIS330\\source\\Yolo\\Video47.mp4: 480x864 1 camino, 3 obstaculos, 57.0ms\n",
      "video 1/1 (frame 647/714) f:\\Proyecto-SIS330\\source\\Yolo\\Video47.mp4: 480x864 1 camino, 3 obstaculos, 57.7ms\n",
      "video 1/1 (frame 648/714) f:\\Proyecto-SIS330\\source\\Yolo\\Video47.mp4: 480x864 1 camino, 3 obstaculos, 58.0ms\n",
      "video 1/1 (frame 649/714) f:\\Proyecto-SIS330\\source\\Yolo\\Video47.mp4: 480x864 1 camino, 3 obstaculos, 57.6ms\n",
      "video 1/1 (frame 650/714) f:\\Proyecto-SIS330\\source\\Yolo\\Video47.mp4: 480x864 1 camino, 3 obstaculos, 57.6ms\n",
      "video 1/1 (frame 651/714) f:\\Proyecto-SIS330\\source\\Yolo\\Video47.mp4: 480x864 1 camino, 3 obstaculos, 57.1ms\n",
      "video 1/1 (frame 652/714) f:\\Proyecto-SIS330\\source\\Yolo\\Video47.mp4: 480x864 1 camino, 3 obstaculos, 58.1ms\n",
      "video 1/1 (frame 653/714) f:\\Proyecto-SIS330\\source\\Yolo\\Video47.mp4: 480x864 1 camino, 3 obstaculos, 57.3ms\n",
      "video 1/1 (frame 654/714) f:\\Proyecto-SIS330\\source\\Yolo\\Video47.mp4: 480x864 1 camino, 3 obstaculos, 57.5ms\n",
      "video 1/1 (frame 655/714) f:\\Proyecto-SIS330\\source\\Yolo\\Video47.mp4: 480x864 1 camino, 3 obstaculos, 57.5ms\n",
      "video 1/1 (frame 656/714) f:\\Proyecto-SIS330\\source\\Yolo\\Video47.mp4: 480x864 1 camino, 3 obstaculos, 58.1ms\n",
      "video 1/1 (frame 657/714) f:\\Proyecto-SIS330\\source\\Yolo\\Video47.mp4: 480x864 1 camino, 3 obstaculos, 58.1ms\n",
      "video 1/1 (frame 658/714) f:\\Proyecto-SIS330\\source\\Yolo\\Video47.mp4: 480x864 1 camino, 3 obstaculos, 58.1ms\n",
      "video 1/1 (frame 659/714) f:\\Proyecto-SIS330\\source\\Yolo\\Video47.mp4: 480x864 1 camino, 3 obstaculos, 57.5ms\n",
      "video 1/1 (frame 660/714) f:\\Proyecto-SIS330\\source\\Yolo\\Video47.mp4: 480x864 2 caminos, 4 obstaculos, 57.7ms\n",
      "video 1/1 (frame 661/714) f:\\Proyecto-SIS330\\source\\Yolo\\Video47.mp4: 480x864 1 camino, 3 obstaculos, 57.0ms\n",
      "video 1/1 (frame 662/714) f:\\Proyecto-SIS330\\source\\Yolo\\Video47.mp4: 480x864 1 camino, 3 obstaculos, 57.5ms\n",
      "video 1/1 (frame 663/714) f:\\Proyecto-SIS330\\source\\Yolo\\Video47.mp4: 480x864 1 camino, 3 obstaculos, 57.9ms\n",
      "video 1/1 (frame 664/714) f:\\Proyecto-SIS330\\source\\Yolo\\Video47.mp4: 480x864 1 camino, 3 obstaculos, 58.0ms\n",
      "video 1/1 (frame 665/714) f:\\Proyecto-SIS330\\source\\Yolo\\Video47.mp4: 480x864 2 caminos, 4 obstaculos, 58.2ms\n",
      "video 1/1 (frame 666/714) f:\\Proyecto-SIS330\\source\\Yolo\\Video47.mp4: 480x864 1 camino, 3 obstaculos, 57.6ms\n",
      "video 1/1 (frame 667/714) f:\\Proyecto-SIS330\\source\\Yolo\\Video47.mp4: 480x864 1 camino, 4 obstaculos, 57.0ms\n",
      "video 1/1 (frame 668/714) f:\\Proyecto-SIS330\\source\\Yolo\\Video47.mp4: 480x864 1 camino, 3 obstaculos, 57.3ms\n",
      "video 1/1 (frame 669/714) f:\\Proyecto-SIS330\\source\\Yolo\\Video47.mp4: 480x864 1 camino, 3 obstaculos, 57.5ms\n",
      "video 1/1 (frame 670/714) f:\\Proyecto-SIS330\\source\\Yolo\\Video47.mp4: 480x864 1 camino, 3 obstaculos, 57.1ms\n",
      "video 1/1 (frame 671/714) f:\\Proyecto-SIS330\\source\\Yolo\\Video47.mp4: 480x864 1 camino, 3 obstaculos, 57.4ms\n",
      "video 1/1 (frame 672/714) f:\\Proyecto-SIS330\\source\\Yolo\\Video47.mp4: 480x864 1 camino, 3 obstaculos, 57.6ms\n",
      "video 1/1 (frame 673/714) f:\\Proyecto-SIS330\\source\\Yolo\\Video47.mp4: 480x864 1 camino, 4 obstaculos, 57.9ms\n",
      "video 1/1 (frame 674/714) f:\\Proyecto-SIS330\\source\\Yolo\\Video47.mp4: 480x864 2 caminos, 3 obstaculos, 58.5ms\n",
      "video 1/1 (frame 675/714) f:\\Proyecto-SIS330\\source\\Yolo\\Video47.mp4: 480x864 1 camino, 3 obstaculos, 57.9ms\n",
      "video 1/1 (frame 676/714) f:\\Proyecto-SIS330\\source\\Yolo\\Video47.mp4: 480x864 1 camino, 3 obstaculos, 58.5ms\n",
      "video 1/1 (frame 677/714) f:\\Proyecto-SIS330\\source\\Yolo\\Video47.mp4: 480x864 1 camino, 3 obstaculos, 58.0ms\n",
      "video 1/1 (frame 678/714) f:\\Proyecto-SIS330\\source\\Yolo\\Video47.mp4: 480x864 1 camino, 3 obstaculos, 58.1ms\n",
      "video 1/1 (frame 679/714) f:\\Proyecto-SIS330\\source\\Yolo\\Video47.mp4: 480x864 1 camino, 4 obstaculos, 57.0ms\n",
      "video 1/1 (frame 680/714) f:\\Proyecto-SIS330\\source\\Yolo\\Video47.mp4: 480x864 1 camino, 3 obstaculos, 58.0ms\n",
      "video 1/1 (frame 681/714) f:\\Proyecto-SIS330\\source\\Yolo\\Video47.mp4: 480x864 1 camino, 3 obstaculos, 57.0ms\n",
      "video 1/1 (frame 682/714) f:\\Proyecto-SIS330\\source\\Yolo\\Video47.mp4: 480x864 1 camino, 3 obstaculos, 58.0ms\n",
      "video 1/1 (frame 683/714) f:\\Proyecto-SIS330\\source\\Yolo\\Video47.mp4: 480x864 1 camino, 4 obstaculos, 57.5ms\n",
      "video 1/1 (frame 684/714) f:\\Proyecto-SIS330\\source\\Yolo\\Video47.mp4: 480x864 1 camino, 3 obstaculos, 57.0ms\n",
      "video 1/1 (frame 685/714) f:\\Proyecto-SIS330\\source\\Yolo\\Video47.mp4: 480x864 1 camino, 3 obstaculos, 58.0ms\n",
      "video 1/1 (frame 686/714) f:\\Proyecto-SIS330\\source\\Yolo\\Video47.mp4: 480x864 1 camino, 5 obstaculos, 57.5ms\n",
      "video 1/1 (frame 687/714) f:\\Proyecto-SIS330\\source\\Yolo\\Video47.mp4: 480x864 1 camino, 3 obstaculos, 58.2ms\n",
      "video 1/1 (frame 688/714) f:\\Proyecto-SIS330\\source\\Yolo\\Video47.mp4: 480x864 1 camino, 4 obstaculos, 58.0ms\n",
      "video 1/1 (frame 689/714) f:\\Proyecto-SIS330\\source\\Yolo\\Video47.mp4: 480x864 1 camino, 3 obstaculos, 57.0ms\n",
      "video 1/1 (frame 690/714) f:\\Proyecto-SIS330\\source\\Yolo\\Video47.mp4: 480x864 1 camino, 3 obstaculos, 59.1ms\n",
      "video 1/1 (frame 691/714) f:\\Proyecto-SIS330\\source\\Yolo\\Video47.mp4: 480x864 1 camino, 3 obstaculos, 57.5ms\n",
      "video 1/1 (frame 692/714) f:\\Proyecto-SIS330\\source\\Yolo\\Video47.mp4: 480x864 1 camino, 4 obstaculos, 57.4ms\n",
      "video 1/1 (frame 693/714) f:\\Proyecto-SIS330\\source\\Yolo\\Video47.mp4: 480x864 1 camino, 3 obstaculos, 58.3ms\n",
      "video 1/1 (frame 694/714) f:\\Proyecto-SIS330\\source\\Yolo\\Video47.mp4: 480x864 1 camino, 3 obstaculos, 57.4ms\n",
      "video 1/1 (frame 695/714) f:\\Proyecto-SIS330\\source\\Yolo\\Video47.mp4: 480x864 1 camino, 3 obstaculos, 57.0ms\n",
      "video 1/1 (frame 696/714) f:\\Proyecto-SIS330\\source\\Yolo\\Video47.mp4: 480x864 1 camino, 4 obstaculos, 57.6ms\n",
      "video 1/1 (frame 697/714) f:\\Proyecto-SIS330\\source\\Yolo\\Video47.mp4: 480x864 1 camino, 3 obstaculos, 58.2ms\n",
      "video 1/1 (frame 698/714) f:\\Proyecto-SIS330\\source\\Yolo\\Video47.mp4: 480x864 1 camino, 3 obstaculos, 58.0ms\n",
      "video 1/1 (frame 699/714) f:\\Proyecto-SIS330\\source\\Yolo\\Video47.mp4: 480x864 1 camino, 3 obstaculos, 57.0ms\n",
      "video 1/1 (frame 700/714) f:\\Proyecto-SIS330\\source\\Yolo\\Video47.mp4: 480x864 1 camino, 4 obstaculos, 57.4ms\n",
      "video 1/1 (frame 701/714) f:\\Proyecto-SIS330\\source\\Yolo\\Video47.mp4: 480x864 1 camino, 3 obstaculos, 57.2ms\n",
      "video 1/1 (frame 702/714) f:\\Proyecto-SIS330\\source\\Yolo\\Video47.mp4: 480x864 1 camino, 3 obstaculos, 57.0ms\n",
      "video 1/1 (frame 703/714) f:\\Proyecto-SIS330\\source\\Yolo\\Video47.mp4: 480x864 1 camino, 3 obstaculos, 57.4ms\n",
      "video 1/1 (frame 704/714) f:\\Proyecto-SIS330\\source\\Yolo\\Video47.mp4: 480x864 1 camino, 4 obstaculos, 56.7ms\n",
      "video 1/1 (frame 705/714) f:\\Proyecto-SIS330\\source\\Yolo\\Video47.mp4: 480x864 1 camino, 3 obstaculos, 58.1ms\n",
      "video 1/1 (frame 706/714) f:\\Proyecto-SIS330\\source\\Yolo\\Video47.mp4: 480x864 1 camino, 3 obstaculos, 58.1ms\n",
      "video 1/1 (frame 707/714) f:\\Proyecto-SIS330\\source\\Yolo\\Video47.mp4: 480x864 1 camino, 3 obstaculos, 58.1ms\n",
      "video 1/1 (frame 708/714) f:\\Proyecto-SIS330\\source\\Yolo\\Video47.mp4: 480x864 1 camino, 3 obstaculos, 57.5ms\n",
      "video 1/1 (frame 709/714) f:\\Proyecto-SIS330\\source\\Yolo\\Video47.mp4: 480x864 1 camino, 3 obstaculos, 58.2ms\n",
      "video 1/1 (frame 710/714) f:\\Proyecto-SIS330\\source\\Yolo\\Video47.mp4: 480x864 1 camino, 3 obstaculos, 58.3ms\n",
      "video 1/1 (frame 711/714) f:\\Proyecto-SIS330\\source\\Yolo\\Video47.mp4: 480x864 1 camino, 3 obstaculos, 57.6ms\n",
      "video 1/1 (frame 712/714) f:\\Proyecto-SIS330\\source\\Yolo\\Video47.mp4: 480x864 1 camino, 3 obstaculos, 57.0ms\n",
      "video 1/1 (frame 713/714) f:\\Proyecto-SIS330\\source\\Yolo\\Video47.mp4: 480x864 1 camino, 3 obstaculos, 58.6ms\n",
      "video 1/1 (frame 714/714) f:\\Proyecto-SIS330\\source\\Yolo\\Video47.mp4: 480x864 1 camino, 3 obstaculos, 56.9ms\n",
      "Speed: 1.9ms preprocess, 57.9ms inference, 1.9ms postprocess per image at shape (1, 3, 480, 864)\n",
      "Results saved to \u001b[1mruns\\segment\\predict\u001b[0m\n"
     ]
    }
   ],
   "source": [
    "result = model.predict(source='Video47.mp4', save=True)"
   ]
  },
  {
   "cell_type": "code",
   "execution_count": 6,
   "metadata": {},
   "outputs": [
    {
     "name": "stdout",
     "output_type": "stream",
     "text": [
      "Ultralytics YOLOv8.2.8  Python-3.11.9 torch-2.3.0 CPU (12th Gen Intel Core(TM) i5-12400F)\n",
      "YOLOv8s-seg summary (fused): 195 layers, 11780374 parameters, 0 gradients\n",
      "\n",
      "\u001b[34m\u001b[1mPyTorch:\u001b[0m starting from 'runs\\segment\\train4\\weights\\best.pt' with input shape (1, 3, 480, 864) BCHW and output shape(s) ((1, 38, 8505), (1, 32, 120, 216)) (22.7 MB)\n",
      "\n",
      "\u001b[34m\u001b[1mONNX:\u001b[0m starting export with onnx 1.16.0 opset 12...\n",
      "\u001b[34m\u001b[1mONNX:\u001b[0m export success  1.5s, saved as 'runs\\segment\\train4\\weights\\best.onnx' (45.2 MB)\n",
      "\n",
      "Export complete (4.4s)\n",
      "Results saved to \u001b[1mF:\\Proyecto-SIS330\\source\\Yolo\\runs\\segment\\train4\\weights\u001b[0m\n",
      "Predict:         yolo predict task=segment model=runs\\segment\\train4\\weights\\best.onnx imgsz=480,864  \n",
      "Validate:        yolo val task=segment model=runs\\segment\\train4\\weights\\best.onnx imgsz=480,864 data=customdata.yaml  WARNING  non-PyTorch val requires square images, 'imgsz=[480, 864]' will not work. Use export 'imgsz=864' if val is required.\n",
      "Visualize:       https://netron.app\n"
     ]
    },
    {
     "data": {
      "text/plain": [
       "'runs\\\\segment\\\\train4\\\\weights\\\\best.onnx'"
      ]
     },
     "execution_count": 6,
     "metadata": {},
     "output_type": "execute_result"
    }
   ],
   "source": [
    "from ultralytics import YOLO\n",
    "\n",
    "model = YOLO('runs/segment/train6/weights/best.pt')\n",
    "model.export(format='onnx', imgsz=(480, 864), opset=12)"
   ]
  }
 ],
 "metadata": {
  "kernelspec": {
   "display_name": "cuda_users",
   "language": "python",
   "name": "python3"
  },
  "language_info": {
   "codemirror_mode": {
    "name": "ipython",
    "version": 3
   },
   "file_extension": ".py",
   "mimetype": "text/x-python",
   "name": "python",
   "nbconvert_exporter": "python",
   "pygments_lexer": "ipython3",
   "version": "3.11.9"
  }
 },
 "nbformat": 4,
 "nbformat_minor": 2
}
